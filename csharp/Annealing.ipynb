{
 "cells": [
  {
   "cell_type": "code",
   "execution_count": 1,
   "metadata": {},
   "outputs": [
    {
     "data": {
      "text/html": [
       "Installed package Microsoft.ML version 1.4.0"
      ]
     },
     "metadata": {},
     "output_type": "display_data"
    }
   ],
   "source": [
    "#r \"nuget: Microsoft.ML\"\n",
    "using Microsoft.ML;\n",
    "using Microsoft.ML.Data;\n",
    "using Microsoft.ML.Transforms;\n",
    "using System;\n",
    "using System.IO;\n",
    "using System.Linq;\n",
    "using System.Net;"
   ]
  },
  {
   "cell_type": "markdown",
   "metadata": {},
   "source": [
    "Download data from [UCI Machine Learning Repository](https://archive.ics.uci.edu/ml/machine-learning-databases/annealing):"
   ]
  },
  {
   "cell_type": "code",
   "execution_count": 2,
   "metadata": {},
   "outputs": [
    {
     "name": "stdout",
     "output_type": "stream",
     "text": [
      "Train data file has 798 lines\n"
     ]
    },
    {
     "data": {
      "text/html": [
       "<table><thead><tr><th><i>index</i></th><th>value</th></tr></thead><tbody><tr><td>0</td><td>?,C,A,08,00,?,S,?,000,?,?,G,?,?,?,?,?,?,?,?,?,?,?,?,?,?,?,?,?,?,?,COIL,0.700,0610.0,0000,?,0000,?,3</td></tr><tr><td>1</td><td>?,C,R,00,00,?,S,2,000,?,?,E,?,?,?,?,?,?,?,?,?,?,?,?,?,?,?,Y,?,?,?,COIL,3.200,0610.0,0000,?,0000,?,3</td></tr><tr><td>2</td><td>?,C,R,00,00,?,S,2,000,?,?,E,?,?,Y,?,B,?,?,?,?,?,?,?,?,?,?,?,?,?,?,SHEET,0.700,1300.0,0762,?,0000,?,3</td></tr><tr><td>3</td><td>?,C,A,00,60,T,?,?,000,?,?,G,?,?,?,?,M,?,?,?,?,?,?,?,?,?,?,?,?,?,?,COIL,2.801,0385.1,0000,?,0000,?,3</td></tr><tr><td>4</td><td>?,C,A,00,60,T,?,?,000,?,?,G,?,?,?,?,B,Y,?,?,?,Y,?,?,?,?,?,?,?,?,?,SHEET,0.801,0255.0,0269,?,0000,?,3</td></tr></tbody></table>"
      ]
     },
     "execution_count": 2,
     "metadata": {},
     "output_type": "execute_result"
    }
   ],
   "source": [
    "if (!File.Exists(\"anneal.data\"))\n",
    "{\n",
    "    using var client = new WebClient();\n",
    "    client.DownloadFile(\"https://archive.ics.uci.edu/ml/machine-learning-databases/annealing/anneal.data\", \"anneal.data\");\n",
    "}\n",
    "\n",
    "Console.WriteLine($\"Train data file has {File.ReadLines(\"anneal.data\").Count():n0} lines\");\n",
    "File.ReadLines(\"anneal.data\").Take(5)"
   ]
  },
  {
   "cell_type": "markdown",
   "metadata": {},
   "source": [
    "Some datasets from the UCI Machine Learning Repository have two files, one for training data and one for test data. Notice how the .test dataset has a line of descriptive text at the start of the file. We don't want to load this line--you will see how to deal with that below."
   ]
  },
  {
   "cell_type": "code",
   "execution_count": 3,
   "metadata": {},
   "outputs": [
    {
     "name": "stdout",
     "output_type": "stream",
     "text": [
      "Test data file has 100 lines\n"
     ]
    },
    {
     "data": {
      "text/html": [
       "<table><thead><tr><th><i>index</i></th><th>value</th></tr></thead><tbody><tr><td>0</td><td>?,C,A,00,45,?,S,?,000,?,?,D,?,?,?,?,?,?,?,?,?,?,?,?,?,?,?,?,?,?,?,COIL,1.600,0610.0,0000,?,0000,?,3</td></tr><tr><td>1</td><td>?,C,A,00,00,?,S,3,000,N,?,E,?,?,?,?,?,?,?,?,?,?,?,?,?,?,?,Y,?,?,?,COIL,0.699,0609.9,0000,?,0000,?,3</td></tr><tr><td>2</td><td>ZS,C,A,00,85,T,?,?,000,?,?,E,?,?,?,Y,?,?,?,?,?,?,?,?,?,?,?,?,?,?,?,SHEET,0.400,0610.0,0762,?,0000,?,U</td></tr><tr><td>3</td><td>ZS,C,A,00,50,T,?,?,000,?,?,E,?,?,?,?,?,?,?,?,?,?,?,?,?,?,?,?,?,?,?,COIL,0.400,0610.0,0000,?,0000,?,3</td></tr><tr><td>4</td><td>?,C,A,00,00,?,S,2,000,?,?,E,?,?,Y,?,?,?,?,?,?,?,?,?,?,?,?,?,?,?,?,COIL,0.699,1320.0,0000,?,0000,?,3</td></tr></tbody></table>"
      ]
     },
     "execution_count": 3,
     "metadata": {},
     "output_type": "execute_result"
    }
   ],
   "source": [
    "if (!File.Exists(\"anneal.test\"))\n",
    "{\n",
    "    using var client = new WebClient();\n",
    "    client.DownloadFile(\"https://archive.ics.uci.edu/ml/machine-learning-databases/annealing/anneal.test\", \"anneal.test\");\n",
    "}\n",
    "\n",
    "Console.WriteLine($\"Test data file has {File.ReadLines(\"anneal.test\").Count():n0} lines\");\n",
    "File.ReadLines(\"anneal.test\").Take(5)"
   ]
  },
  {
   "cell_type": "markdown",
   "metadata": {},
   "source": [
    "Notice all of the `?` values--these stand for \"missing\" data and we will take care of them in our pipeline below. Next, we need to declare a type that defines the shape of our data. It's rather long so be patient:"
   ]
  },
  {
   "cell_type": "code",
   "execution_count": 4,
   "metadata": {},
   "outputs": [],
   "source": [
    "class AnnealData\n",
    "{\n",
    "    [LoadColumn(0)]\n",
    "    public string Family { get; set; }\n",
    "\n",
    "    [LoadColumn(1)]\n",
    "    public string ProductType { get; set; }\n",
    "\n",
    "    [LoadColumn(2)]\n",
    "    public string Steel { get; set; }\n",
    "\n",
    "    [LoadColumn(3)]\n",
    "    public float Carbon { get; set; }\n",
    "\n",
    "    [LoadColumn(4)]\n",
    "    public float Hardness { get; set; }\n",
    "\n",
    "    [LoadColumn(5)]\n",
    "    public string TemperRolling { get; set; }\n",
    "\n",
    "    [LoadColumn(6)]\n",
    "    public string Condition { get; set; }\n",
    "\n",
    "    [LoadColumn(7)]\n",
    "    public string Formability { get; set; }\n",
    "\n",
    "    [LoadColumn(8)]\n",
    "    public float Strength { get; set; }\n",
    "\n",
    "    [LoadColumn(9)]\n",
    "    public string NonAgeing { get; set; }\n",
    "\n",
    "    [LoadColumn(10)]\n",
    "    public string SurfaceFinish { get; set; }\n",
    "\n",
    "    [LoadColumn(11)]\n",
    "    public string SurfaceQuality { get; set; }\n",
    "\n",
    "    [LoadColumn(12)]\n",
    "    public string Enamelability { get; set; }\n",
    "\n",
    "    [LoadColumn(13)]\n",
    "    public string Bc { get; set; }\n",
    "\n",
    "    [LoadColumn(14)]\n",
    "    public string Bf { get; set; }\n",
    "\n",
    "    [LoadColumn(15)]\n",
    "    public string Bt { get; set; }\n",
    "\n",
    "    [LoadColumn(16)]\n",
    "    public string BwMe { get; set; }\n",
    "\n",
    "    [LoadColumn(17)]\n",
    "    public string Bl { get; set; }\n",
    "\n",
    "    [LoadColumn(18)]\n",
    "    public string M { get; set; }\n",
    "\n",
    "    [LoadColumn(19)]\n",
    "    public string Chrom { get; set; }\n",
    "\n",
    "    [LoadColumn(20)]\n",
    "    public string Phos { get; set; }\n",
    "\n",
    "    [LoadColumn(21)]\n",
    "    public string Cbond { get; set; }\n",
    "\n",
    "    [LoadColumn(22)]\n",
    "    public string Marvi { get; set; }\n",
    "\n",
    "    [LoadColumn(23)]\n",
    "    public string Exptl { get; set; }\n",
    "\n",
    "    [LoadColumn(24)]\n",
    "    public string Ferro { get; set; }\n",
    "\n",
    "    [LoadColumn(25)]\n",
    "    public string Corr { get; set; }\n",
    "\n",
    "    [LoadColumn(26)]\n",
    "    public string BlueBrightVarnClean { get; set; }\n",
    "\n",
    "    [LoadColumn(27)]\n",
    "    public string Lustre { get; set; }\n",
    "\n",
    "    [LoadColumn(28)]\n",
    "    public string Jurofm { get; set; }\n",
    "\n",
    "    [LoadColumn(29)]\n",
    "    public string S { get; set; }\n",
    "\n",
    "    [LoadColumn(30)]\n",
    "    public string P { get; set; }\n",
    "\n",
    "    [LoadColumn(31)]\n",
    "    public string Shape { get; set; }\n",
    "\n",
    "    [LoadColumn(32)]\n",
    "    public float Thick { get; set; }\n",
    "\n",
    "    [LoadColumn(33)]\n",
    "    public float Width { get; set; }\n",
    "\n",
    "    [LoadColumn(34)]\n",
    "    public float Len { get; set; }\n",
    "\n",
    "    [LoadColumn(35)]\n",
    "    public string Oil { get; set; }\n",
    "\n",
    "    [LoadColumn(36)]\n",
    "    public string Bore { get; set; }\n",
    "\n",
    "    [LoadColumn(37)]\n",
    "    public string Packing { get; set; }\n",
    "\n",
    "    [LoadColumn(38)]\n",
    "    [ColumnName(\"Label\")]\n",
    "    public string Classes { get; set; }\n",
    "}"
   ]
  },
  {
   "cell_type": "markdown",
   "metadata": {},
   "source": [
    "Create a new MLContext:"
   ]
  },
  {
   "cell_type": "code",
   "execution_count": 5,
   "metadata": {},
   "outputs": [],
   "source": [
    "var context = new MLContext();"
   ]
  },
  {
   "cell_type": "markdown",
   "metadata": {},
   "source": [
    "Now that we have an `MLContext` and a class to represent our data, we can load the file into a `DataView`. It is a good practice to shuffle the data after loading. Many datasets come ordered by some columns of values or even worse by the label. For training a model we want our data to be in a random order:"
   ]
  },
  {
   "cell_type": "code",
   "execution_count": 6,
   "metadata": {},
   "outputs": [],
   "source": [
    "var trainData = context.Data.LoadFromTextFile<AnnealData>(\"anneal.data\", hasHeader: false, separatorChar: ',');\n",
    "trainData = context.Data.ShuffleRows(trainData);"
   ]
  },
  {
   "cell_type": "markdown",
   "metadata": {},
   "source": [
    "Next we will load the test data."
   ]
  },
  {
   "cell_type": "code",
   "execution_count": 7,
   "metadata": {},
   "outputs": [],
   "source": [
    "var testData = context.Data.LoadFromTextFile<AnnealData>(\"anneal.test\", hasHeader: false, separatorChar: ',');\n",
    "testData = context.Data.ShuffleRows(testData);"
   ]
  },
  {
   "cell_type": "markdown",
   "metadata": {},
   "source": [
    "Now we declare the features of the dataset that we will train our model on:"
   ]
  },
  {
   "cell_type": "code",
   "execution_count": 8,
   "metadata": {},
   "outputs": [],
   "source": [
    "var featureColumns = new[]\n",
    "{\n",
    "    nameof(AnnealData.Family), nameof(AnnealData.ProductType), nameof(AnnealData.Steel), nameof(AnnealData.Carbon), nameof(AnnealData.Hardness),\n",
    "    nameof(AnnealData.TemperRolling), nameof(AnnealData.Condition), nameof(AnnealData.Formability), nameof(AnnealData.Strength), nameof(AnnealData.NonAgeing),\n",
    "    nameof(AnnealData.SurfaceFinish), nameof(AnnealData.SurfaceQuality), nameof(AnnealData.Enamelability), nameof(AnnealData.Bc), nameof(AnnealData.Bf),\n",
    "    nameof(AnnealData.Bt), nameof(AnnealData.BwMe), nameof(AnnealData.Bl), nameof(AnnealData.M), nameof(AnnealData.Chrom), nameof(AnnealData.Phos),\n",
    "    nameof(AnnealData.Cbond), nameof(AnnealData.Marvi), nameof(AnnealData.Exptl), nameof(AnnealData.Ferro), nameof(AnnealData.Corr),\n",
    "    nameof(AnnealData.BlueBrightVarnClean), nameof(AnnealData.Lustre), nameof(AnnealData.Jurofm), nameof(AnnealData.S), nameof(AnnealData.P), nameof(AnnealData.Shape),\n",
    "    nameof(AnnealData.Thick), nameof(AnnealData.Width), nameof(AnnealData.Len), nameof(AnnealData.Oil), nameof(AnnealData.Bore), nameof(AnnealData.Packing)\n",
    "};"
   ]
  },
  {
   "cell_type": "markdown",
   "metadata": {},
   "source": [
    "There are a number of categorical columns (string values that reprsent discrete values) in the data. We will need to encode those columns so we declare which columns are categorical here:"
   ]
  },
  {
   "cell_type": "code",
   "execution_count": 9,
   "metadata": {},
   "outputs": [],
   "source": [
    "var categoricalColumns = new[]\n",
    "{\n",
    "    nameof(AnnealData.Family), nameof(AnnealData.ProductType), nameof(AnnealData.Steel), nameof(AnnealData.TemperRolling), nameof(AnnealData.Condition),\n",
    "    nameof(AnnealData.Formability), nameof(AnnealData.NonAgeing), nameof(AnnealData.SurfaceFinish), nameof(AnnealData.SurfaceQuality), nameof(AnnealData.Enamelability),\n",
    "    nameof(AnnealData.Bc), nameof(AnnealData.Bf), nameof(AnnealData.Bt), nameof(AnnealData.BwMe), nameof(AnnealData.Bl), nameof(AnnealData.M), nameof(AnnealData.Chrom),\n",
    "    nameof(AnnealData.Phos), nameof(AnnealData.Cbond), nameof(AnnealData.Marvi), nameof(AnnealData.Exptl), nameof(AnnealData.Ferro), nameof(AnnealData.Corr),\n",
    "    nameof(AnnealData.BlueBrightVarnClean), nameof(AnnealData.Lustre), nameof(AnnealData.Jurofm), nameof(AnnealData.S), nameof(AnnealData.P), nameof(AnnealData.Shape),\n",
    "    nameof(AnnealData.Oil), nameof(AnnealData.Bore), nameof(AnnealData.Packing)\n",
    "};"
   ]
  },
  {
   "cell_type": "markdown",
   "metadata": {},
   "source": [
    "What are we trying to predict with this data? The column called `Classes` which we have identified as the `Label` in our type is the value that we will try to predict. In order to determine whether this is a regression or a classification problem, we need to look at the values that Classes can take on--are they continuous or are they categorical?"
   ]
  },
  {
   "cell_type": "code",
   "execution_count": 10,
   "metadata": {},
   "outputs": [
    {
     "data": {
      "text/html": [
       "<table><thead><tr><th><i>index</i></th><th>value</th></tr></thead><tbody><tr><td>0</td><td>3</td></tr><tr><td>1</td><td>U</td></tr><tr><td>2</td><td>5</td></tr><tr><td>3</td><td>1</td></tr><tr><td>4</td><td>2</td></tr></tbody></table>"
      ]
     },
     "execution_count": 10,
     "metadata": {},
     "output_type": "execute_result"
    }
   ],
   "source": [
    "trainData.GetColumn<string>(\"Label\").Distinct()"
   ]
  },
  {
   "cell_type": "markdown",
   "metadata": {},
   "source": [
    "So all but one of `Classes` are numeric. Because of this, we will treat this as a classification problem which means that we need to treat `Classes` as a categorical variable. In our pipeline, we will map the value of our `Label` (i.e., `Classes`) column to a Key (see below). The first step in the pipeline will one-hot encode all of the categorical columns. We will also concatenate all of the feature columns into a single new column, `Features`. Finally, we map the original `Label` column to a new column, `LabelValue`, just for purposes of displaying later on."
   ]
  },
  {
   "cell_type": "code",
   "execution_count": 11,
   "metadata": {},
   "outputs": [],
   "source": [
    "var chain = new EstimatorChain<OneHotEncodingTransformer>();\n",
    "var pipeline = categoricalColumns\n",
    "    .Aggregate(chain, (pl, col) => pl.Append(context.Transforms.Categorical.OneHotEncoding(col)))\n",
    "    .Append(context.Transforms.Conversion.MapValueToKey(\"Label\", \"Label\"))\n",
    "    .Append(context.Transforms.Conversion.MapKeyToValue(\"LabelValue\", \"Label\"))\n",
    "    .Append(context.Transforms.Concatenate(\"Features\", featureColumns));"
   ]
  },
  {
   "cell_type": "markdown",
   "metadata": {},
   "source": [
    "Fit the pipeline to our training data:"
   ]
  },
  {
   "cell_type": "code",
   "execution_count": 12,
   "metadata": {},
   "outputs": [],
   "source": [
    "var transformer = pipeline.Fit(trainData);"
   ]
  },
  {
   "cell_type": "markdown",
   "metadata": {},
   "source": [
    "Let's first view the data as it was loaded from the downloaded file:"
   ]
  },
  {
   "cell_type": "code",
   "execution_count": 13,
   "metadata": {},
   "outputs": [
    {
     "data": {
      "text/html": [
       "<table><thead><tr><th><i>index</i></th><th>Family</th><th>ProductType</th><th>Steel</th><th>Carbon</th><th>Hardness</th><th>TemperRolling</th><th>Condition</th><th>Formability</th><th>Strength</th><th>NonAgeing</th><th>SurfaceFinish</th><th>SurfaceQuality</th><th>Enamelability</th><th>Bc</th><th>Bf</th><th>Bt</th><th>BwMe</th><th>Bl</th><th>M</th><th>Chrom</th><th>Phos</th><th>Cbond</th><th>Marvi</th><th>Exptl</th><th>Ferro</th><th>Corr</th><th>BlueBrightVarnClean</th><th>Lustre</th><th>Jurofm</th><th>S</th><th>P</th><th>Shape</th><th>Thick</th><th>Width</th><th>Len</th><th>Oil</th><th>Bore</th><th>Packing</th><th>Classes</th></tr></thead><tbody><tr><td>0</td><td>?</td><td>C</td><td>R</td><td>6</td><td>0</td><td>T</td><td>?</td><td>?</td><td>0</td><td>?</td><td>?</td><td>?</td><td>?</td><td>?</td><td>Y</td><td>?</td><td>?</td><td>?</td><td>?</td><td>?</td><td>?</td><td>?</td><td>?</td><td>?</td><td>?</td><td>?</td><td>?</td><td>?</td><td>?</td><td>?</td><td>?</td><td>SHEET</td><td>0.6</td><td>1320</td><td>4880</td><td>?</td><td>0000</td><td>?</td><td>3</td></tr><tr><td>1</td><td>?</td><td>C</td><td>R</td><td>0</td><td>0</td><td>?</td><td>S</td><td>2</td><td>0</td><td>?</td><td>?</td><td>E</td><td>?</td><td>?</td><td>?</td><td>?</td><td>?</td><td>?</td><td>?</td><td>?</td><td>?</td><td>?</td><td>?</td><td>?</td><td>?</td><td>?</td><td>?</td><td>?</td><td>?</td><td>?</td><td>?</td><td>SHEET</td><td>3.2</td><td>1320</td><td>4880</td><td>?</td><td>0000</td><td>?</td><td>3</td></tr><tr><td>2</td><td>?</td><td>C</td><td>R</td><td>0</td><td>0</td><td>?</td><td>S</td><td>2</td><td>0</td><td>?</td><td>?</td><td>E</td><td>?</td><td>?</td><td>Y</td><td>?</td><td>?</td><td>?</td><td>?</td><td>?</td><td>?</td><td>?</td><td>?</td><td>?</td><td>?</td><td>?</td><td>?</td><td>?</td><td>?</td><td>?</td><td>?</td><td>SHEET</td><td>1.601</td><td>1320</td><td>4880</td><td>?</td><td>0000</td><td>?</td><td>3</td></tr><tr><td>3</td><td>?</td><td>C</td><td>A</td><td>0</td><td>0</td><td>?</td><td>S</td><td>2</td><td>0</td><td>?</td><td>?</td><td>F</td><td>?</td><td>?</td><td>?</td><td>?</td><td>?</td><td>?</td><td>?</td><td>?</td><td>?</td><td>?</td><td>?</td><td>?</td><td>?</td><td>?</td><td>?</td><td>?</td><td>?</td><td>?</td><td>?</td><td>SHEET</td><td>0.7</td><td>1220</td><td>762</td><td>?</td><td>0000</td><td>?</td><td>3</td></tr><tr><td>4</td><td>?</td><td>C</td><td>A</td><td>0</td><td>60</td><td>T</td><td>?</td><td>?</td><td>0</td><td>?</td><td>?</td><td>G</td><td>?</td><td>?</td><td>?</td><td>?</td><td>B</td><td>Y</td><td>?</td><td>?</td><td>?</td><td>Y</td><td>?</td><td>?</td><td>?</td><td>?</td><td>?</td><td>?</td><td>?</td><td>?</td><td>?</td><td>SHEET</td><td>0.8</td><td>356.1</td><td>4880</td><td>?</td><td>0000</td><td>?</td><td>3</td></tr></tbody></table>"
      ]
     },
     "execution_count": 13,
     "metadata": {},
     "output_type": "execute_result"
    }
   ],
   "source": [
    "context.Data.CreateEnumerable<AnnealData>(trainData, reuseRowObject: false).Take(5)"
   ]
  },
  {
   "cell_type": "markdown",
   "metadata": {},
   "source": [
    "Now let's see what the data looks like after it has been transformed by our pipeline:"
   ]
  },
  {
   "cell_type": "code",
   "execution_count": 14,
   "metadata": {},
   "outputs": [
    {
     "data": {
      "text/html": [
       "<table><thead><tr><th><i>index</i></th><th>Classes</th><th>Features</th></tr></thead><tbody><tr><td>0</td><td>3</td><td>[ 1, 0, 0, 1, 1, 0, 0, 0, 0, 0 ... (74 more) ]</td></tr><tr><td>1</td><td>3</td><td>[ 1, 0, 0, 1, 1, 0, 0, 0, 0, 0 ... (74 more) ]</td></tr><tr><td>2</td><td>3</td><td>[ 1, 0, 0, 1, 1, 0, 0, 0, 0, 0 ... (74 more) ]</td></tr></tbody></table>"
      ]
     },
     "execution_count": 14,
     "metadata": {},
     "output_type": "execute_result"
    }
   ],
   "source": [
    "class AnnealDataTransformed\n",
    "{\n",
    "    [ColumnName(\"LabelValue\")]\n",
    "    public string Classes { get; set; }\n",
    "\n",
    "    [VectorType(84)]\n",
    "    public float[] Features { get; set; }\n",
    "}\n",
    "\n",
    "var transformedData = transformer.Transform(trainData);\n",
    "context.Data\n",
    "    .CreateEnumerable<AnnealDataTransformed>(transformedData, reuseRowObject: false)\n",
    "    .Take(3)"
   ]
  },
  {
   "cell_type": "markdown",
   "metadata": {},
   "source": [
    "Woah! Notice how there are 80+ columns after running the data through the pipeline! This is due to one-hot encoding which creates a new column for each discrete value in our categorical columns. Don't worry though, this is no problem for ML.NET which can deal with hundreds, even thousands of features in a dataset."
   ]
  },
  {
   "cell_type": "markdown",
   "metadata": {},
   "source": [
    "Now we will create a multiclass classification estimator. You can try different estimators to see how their accuracy differs."
   ]
  },
  {
   "cell_type": "code",
   "execution_count": 15,
   "metadata": {},
   "outputs": [],
   "source": [
    "var estimator = context.MulticlassClassification.Trainers.LbfgsMaximumEntropy(featureColumnName: \"Features\");"
   ]
  },
  {
   "cell_type": "markdown",
   "metadata": {},
   "source": [
    "Use cross-validation to select the best performing model."
   ]
  },
  {
   "cell_type": "code",
   "execution_count": 16,
   "metadata": {},
   "outputs": [],
   "source": [
    "var transformedTrainData = transformer.Transform(trainData);\n",
    "var cvResults = context.MulticlassClassification.CrossValidate(transformedTrainData, estimator, numberOfFolds: 3);\n",
    "var cvResult = cvResults\n",
    "    .OrderByDescending(x => x.Metrics.MacroAccuracy)\n",
    "    .First();"
   ]
  },
  {
   "cell_type": "markdown",
   "metadata": {},
   "source": [
    "And here are the metrics for the model we selected:"
   ]
  },
  {
   "cell_type": "code",
   "execution_count": 17,
   "metadata": {},
   "outputs": [
    {
     "data": {
      "text/plain": [
       "\r\n",
       "Confusion table\r\n",
       "          ||========================================\r\n",
       "PREDICTED ||     3 |     U |     5 |     1 |     2 | Recall\r\n",
       "TRUTH     ||========================================\r\n",
       "        3 ||   195 |     0 |     0 |     0 |     5 | 0.9750\r\n",
       "        U ||     1 |    11 |     0 |     0 |     0 | 0.9167\r\n",
       "        5 ||     0 |     0 |    21 |     0 |     0 | 1.0000\r\n",
       "        1 ||     0 |     0 |     0 |     2 |     0 | 1.0000\r\n",
       "        2 ||     1 |     0 |     0 |     0 |    31 | 0.9688\r\n",
       "          ||========================================\r\n",
       "Precision ||0.9898 |1.0000 |1.0000 |1.0000 |0.8611 |\r\n"
      ]
     },
     "execution_count": 17,
     "metadata": {},
     "output_type": "execute_result"
    }
   ],
   "source": [
    "cvResult.Metrics.ConfusionMatrix.GetFormattedConfusionTable()"
   ]
  },
  {
   "cell_type": "code",
   "execution_count": 18,
   "metadata": {},
   "outputs": [
    {
     "data": {
      "text/html": [
       "<table><thead><tr><th>LogLoss</th><th>LogLossReduction</th><th>MacroAccuracy</th><th>MicroAccuracy</th><th>TopKAccuracy</th><th>TopKPredictionCount</th><th>PerClassLogLoss</th><th>ConfusionMatrix</th></tr></thead><tbody><tr><td>0.16349809107558902</td><td>0.8069161254931962</td><td>0.9720833333333333</td><td>0.9737827715355806</td><td>0</td><td>0</td><td>[ 0.09889670814034776, 1.0952370782134104, 0.12432197586785135, 0.285133862784716, 0.23596170411742123 ]</td><td>{ Microsoft.ML.Data.ConfusionMatrix: PerClassPrecision: [ 0.9898477157360406, 1, 1, 1, 0.8611111111111112 ], PerClassRecall: [ 0.975, 0.9166666666666666, 1, 1, 0.96875 ], Counts: [ [ 195, 0, 0, 0, 5 ], [ 1, 11, 0, 0, 0 ], [ 0, 0, 21, 0, 0 ], [ 0, 0, 0, 2, 0 ], [ 1, 0, 0, 0, 31 ] ], NumberOfClasses: 5 }</td></tr></tbody></table>"
      ]
     },
     "execution_count": 18,
     "metadata": {},
     "output_type": "execute_result"
    }
   ],
   "source": [
    "cvResult.Metrics"
   ]
  },
  {
   "cell_type": "markdown",
   "metadata": {},
   "source": [
    "OK, now we can use our best model on the test data."
   ]
  },
  {
   "cell_type": "code",
   "execution_count": 19,
   "metadata": {},
   "outputs": [
    {
     "data": {
      "text/plain": [
       "\r\n",
       "Confusion table\r\n",
       "          ||========================================\r\n",
       "PREDICTED ||     3 |     U |     5 |     1 |     2 | Recall\r\n",
       "TRUTH     ||========================================\r\n",
       "        3 ||    74 |     0 |     0 |     0 |     2 | 0.9737\r\n",
       "        U ||     0 |     6 |     0 |     0 |     0 | 1.0000\r\n",
       "        5 ||     0 |     0 |     7 |     0 |     0 | 1.0000\r\n",
       "        1 ||     0 |     0 |     0 |     0 |     0 | 0.0000\r\n",
       "        2 ||     0 |     0 |     0 |     0 |    11 | 1.0000\r\n",
       "          ||========================================\r\n",
       "Precision ||1.0000 |1.0000 |1.0000 |0.0000 |0.8462 |\r\n"
      ]
     },
     "execution_count": 19,
     "metadata": {},
     "output_type": "execute_result"
    }
   ],
   "source": [
    "var transformedTestData = transformer.Transform(testData);\n",
    "var predictions = cvResult.Model.Transform(transformedTestData);\n",
    "var metrics = context.MulticlassClassification.Evaluate(predictions);\n",
    "metrics.ConfusionMatrix.GetFormattedConfusionTable()"
   ]
  },
  {
   "cell_type": "code",
   "execution_count": 20,
   "metadata": {},
   "outputs": [
    {
     "data": {
      "text/html": [
       "<table><thead><tr><th>LogLoss</th><th>LogLossReduction</th><th>MacroAccuracy</th><th>MicroAccuracy</th><th>TopKAccuracy</th><th>TopKPredictionCount</th><th>PerClassLogLoss</th><th>ConfusionMatrix</th></tr></thead><tbody><tr><td>0.13388844177662557</td><td>0.833952280983819</td><td>0.993421052631579</td><td>0.98</td><td>0</td><td>0</td><td>[ 0.11400612109017827, 0.27224985752083025, 0.13824694614355384, 0, 0.19301374606174077 ]</td><td>{ Microsoft.ML.Data.ConfusionMatrix: PerClassPrecision: [ 1, 1, 1, 0, 0.8461538461538461 ], PerClassRecall: [ 0.9736842105263158, 1, 1, 0, 1 ], Counts: [ [ 74, 0, 0, 0, 2 ], [ 0, 6, 0, 0, 0 ], [ 0, 0, 7, 0, 0 ], [ 0, 0, 0, 0, 0 ], [ 0, 0, 0, 0, 11 ] ], NumberOfClasses: 5 }</td></tr></tbody></table>"
      ]
     },
     "execution_count": 20,
     "metadata": {},
     "output_type": "execute_result"
    }
   ],
   "source": [
    "metrics"
   ]
  },
  {
   "cell_type": "markdown",
   "metadata": {},
   "source": [
    "Now let's pretend we have new data (for convenience we are just randomly re-sampling the test data) to see what predictions our model makes. You will see three properties to each prediction:\n",
    "- `LabelValue`: this is the actual `Label` value we are trying to predict. Our model doesn't know what the actual value is--it is shown here for comparison. Since our `Label` column is mapped to a key value, we need to map it to another column in order to actually see the human-readable key.\n",
    "- `Score`: an array of probabilties per class.\n",
    "- `PredictedLabelValue`: this is the actual prediction made by the model. Again, since our `PredictedLabel` is a Key value, we need to map it to a new, human-readable column in order to view it.\n",
    "\n",
    "You can run this cell multiple times to get new random samples and their predictions!"
   ]
  },
  {
   "cell_type": "code",
   "execution_count": 21,
   "metadata": {},
   "outputs": [
    {
     "data": {
      "text/html": [
       "<table><thead><tr><th><i>index</i></th><th>LabelValue</th><th>Score</th><th>PredictedLabelValue</th></tr></thead><tbody><tr><td>0</td><td>U</td><td>[ 0.17150913, 0.8284901, 7.490555E-12, 8.5478234E-13, 1.716214E-12 ]</td><td>U</td></tr><tr><td>1</td><td>3</td><td>[ 0.9837427, 0.00029367872, 0.0038972432, 0.002158442, 0.009907948 ]</td><td>3</td></tr><tr><td>2</td><td>5</td><td>[ 0.040364657, 0.0018266856, 0.8743242, 7.40062E-08, 0.083482675 ]</td><td>5</td></tr><tr><td>3</td><td>3</td><td>[ 0.97258323, 0.00026706772, 0.0063666697, 1.05375584E-07, 0.020782344 ]</td><td>3</td></tr><tr><td>4</td><td>2</td><td>[ 0.24653675, 0.0012577792, 0.029561225, 0.020644246, 0.7020001 ]</td><td>2</td></tr></tbody></table>"
      ]
     },
     "execution_count": 21,
     "metadata": {},
     "output_type": "execute_result"
    }
   ],
   "source": [
    "class MulticlassClassificationPrediction\n",
    "{\n",
    "    public string LabelValue { get; set; }\n",
    "\n",
    "    public float[] Score { get; set; }\n",
    "\n",
    "    public string PredictedLabelValue { get; set; }\n",
    "}\n",
    "\n",
    "var sampleData = context.Data.ShuffleRows(testData);\n",
    "var transformedSampleData = transformer.Transform(sampleData);\n",
    "\n",
    "var samplePredictions = cvResult.Model.Transform(transformedSampleData);\n",
    "var mapValues = context.Transforms.Conversion\n",
    "    .MapKeyToValue(\"PredictedLabelValue\", \"PredictedLabel\")\n",
    "    .Append(context.Transforms.Conversion.MapKeyToValue(\"LabelValue\", \"Label\"))\n",
    "    .Fit(samplePredictions);\n",
    "samplePredictions = mapValues.Transform(samplePredictions);\n",
    "var samplePredictionItems = context.Data.CreateEnumerable<MulticlassClassificationPrediction>(samplePredictions, reuseRowObject: false);\n",
    "\n",
    "samplePredictionItems.Take(5)"
   ]
  },
  {
   "cell_type": "code",
   "execution_count": null,
   "metadata": {},
   "outputs": [],
   "source": []
  }
 ],
 "metadata": {
  "kernelspec": {
   "display_name": ".NET (C#)",
   "language": "C#",
   "name": ".net-csharp"
  },
  "language_info": {
   "file_extension": ".cs",
   "mimetype": "text/x-csharp",
   "name": "C#",
   "pygments_lexer": "csharp",
   "version": "8.0"
  }
 },
 "nbformat": 4,
 "nbformat_minor": 4
}
