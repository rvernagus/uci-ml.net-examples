{
 "cells": [
  {
   "cell_type": "code",
   "execution_count": 1,
   "metadata": {},
   "outputs": [
    {
     "data": {
      "text/html": [
       "Installed package Microsoft.ML.LightGbm version 1.5.5"
      ]
     },
     "metadata": {},
     "output_type": "display_data"
    },
    {
     "data": {
      "text/html": [
       "Installed package Microsoft.ML version 1.5.5"
      ]
     },
     "metadata": {},
     "output_type": "display_data"
    }
   ],
   "source": [
    "#r \"nuget: Microsoft.ML\"\n",
    "#r \"nuget: Microsoft.ML.LightGbm\"\n",
    "using System;\n",
    "using System.IO;\n",
    "using System.Linq;\n",
    "using System.Net;\n",
    "using Microsoft.ML;\n",
    "using Microsoft.ML.Data;\n",
    "using Microsoft.ML.Transforms;"
   ]
  },
  {
   "cell_type": "code",
   "execution_count": 2,
   "metadata": {},
   "outputs": [
    {
     "name": "stdout",
     "output_type": "stream",
     "text": [
      "Data file has 286 lines\n"
     ]
    },
    {
     "data": {
      "text/html": [
       "<table><thead><tr><th><i>index</i></th><th>value</th></tr></thead><tbody><tr><td>0</td><td>no-recurrence-events,30-39,premeno,30-34,0-2,no,3,left,left_low,no</td></tr><tr><td>1</td><td>no-recurrence-events,40-49,premeno,20-24,0-2,no,2,right,right_up,no</td></tr><tr><td>2</td><td>no-recurrence-events,40-49,premeno,20-24,0-2,no,2,left,left_low,no</td></tr><tr><td>3</td><td>no-recurrence-events,60-69,ge40,15-19,0-2,no,2,right,left_up,no</td></tr><tr><td>4</td><td>no-recurrence-events,40-49,premeno,0-4,0-2,no,2,right,right_low,no</td></tr></tbody></table>"
      ]
     },
     "execution_count": 2,
     "metadata": {},
     "output_type": "execute_result"
    }
   ],
   "source": [
    "if (!File.Exists(\"breast-cancer.data\"))\n",
    "{\n",
    "    using var client = new WebClient();\n",
    "    client.DownloadFile(\"https://archive.ics.uci.edu/ml/machine-learning-databases/breast-cancer/breast-cancer.data\", \"breast-cancer.data\");\n",
    "}\n",
    "\n",
    "Console.WriteLine($\"Data file has {File.ReadLines(\"breast-cancer.data\").Count():n0} lines\");\n",
    "File.ReadLines(\"breast-cancer.data\").Take(5)"
   ]
  },
  {
   "cell_type": "code",
   "execution_count": 3,
   "metadata": {},
   "outputs": [],
   "source": [
    "var context = new MLContext();"
   ]
  },
  {
   "cell_type": "code",
   "execution_count": 69,
   "metadata": {},
   "outputs": [],
   "source": [
    "class BreastCancerData\n",
    "{\n",
    "    [LoadColumn(0)]\n",
    "    public string Class { get; set; }\n",
    "\n",
    "    [LoadColumn(1)]\n",
    "    public string Age { get; set; }\n",
    "\n",
    "    [LoadColumn(2)]\n",
    "    public string Menopause { get; set; }\n",
    "\n",
    "    [LoadColumn(3)]\n",
    "    public string TumorSize { get; set; }\n",
    "\n",
    "    [LoadColumn(4)]\n",
    "    public string InvNodes { get; set; }\n",
    "\n",
    "    [LoadColumn(5)]\n",
    "    public string NodeCaps { get; set; }\n",
    "\n",
    "    [LoadColumn(6)]\n",
    "    public int DegMalig { get; set; }\n",
    "\n",
    "    [LoadColumn(7)]\n",
    "    public string Breast { get; set; }\n",
    "    \n",
    "    [LoadColumn(8)]\n",
    "    public string BreastQuad { get; set; }\n",
    "    \n",
    "    [LoadColumn(9)]\n",
    "    public string Irradiat { get; set; }\n",
    "}\n",
    "\n",
    "class BreastCancerTrainData : BreastCancerData\n",
    "{\n",
    "    public bool Label { get; set; }\n",
    "    \n",
    "    public uint AgeEncoded { get; set; }\n",
    "    \n",
    "    public uint MenopauseEncoded { get; set; }\n",
    "    \n",
    "    public uint TumorSizeEncoded { get; set; }\n",
    "    \n",
    "    public uint InvNodesEncoded { get; set; }\n",
    "    \n",
    "    public uint NodeCapsEncoded { get; set; }\n",
    "    \n",
    "    public uint BreastEncoded { get; set; }\n",
    "    \n",
    "    public uint BreastQuadEncoded { get; set; }\n",
    "    \n",
    "    public uint IrradiatEncoded { get; set; }\n",
    "}"
   ]
  },
  {
   "cell_type": "code",
   "execution_count": 5,
   "metadata": {},
   "outputs": [
    {
     "data": {
      "text/html": [
       "<table><thead><tr><th><i>index</i></th><th>Class</th><th>Age</th><th>Menopause</th><th>TumorSize</th><th>InvNodes</th><th>NodeCaps</th><th>DegMalig</th><th>Breast</th><th>BreastQuad</th><th>Irradiat</th></tr></thead><tbody><tr><td>0</td><td>no-recurrence-events</td><td>40-49</td><td>premeno</td><td>35-39</td><td>0-2</td><td>no</td><td>1</td><td>left</td><td>left_low</td><td>no</td></tr><tr><td>1</td><td>no-recurrence-events</td><td>40-49</td><td>premeno</td><td>15-19</td><td>12-14</td><td>no</td><td>3</td><td>right</td><td>right_low</td><td>yes</td></tr><tr><td>2</td><td>no-recurrence-events</td><td>40-49</td><td>premeno</td><td>25-29</td><td>0-2</td><td>no</td><td>2</td><td>right</td><td>left_low</td><td>no</td></tr><tr><td>3</td><td>no-recurrence-events</td><td>50-59</td><td>lt40</td><td>15-19</td><td>0-2</td><td>no</td><td>2</td><td>left</td><td>left_low</td><td>no</td></tr><tr><td>4</td><td>no-recurrence-events</td><td>40-49</td><td>premeno</td><td>40-44</td><td>0-2</td><td>no</td><td>2</td><td>right</td><td>left_low</td><td>no</td></tr></tbody></table>"
      ]
     },
     "execution_count": 5,
     "metadata": {},
     "output_type": "execute_result"
    }
   ],
   "source": [
    "var allData = context.Data.LoadFromTextFile<BreastCancerData>(\"breast-cancer.data\", hasHeader: false, separatorChar: ',');\n",
    "allData = context.Data.ShuffleRows(allData);\n",
    "context.Data.CreateEnumerable<BreastCancerData>(allData, reuseRowObject: false).Take(5)"
   ]
  },
  {
   "cell_type": "code",
   "execution_count": 6,
   "metadata": {},
   "outputs": [
    {
     "data": {
      "text/html": [
       "<table><thead><tr><th><i>index</i></th><th>value</th></tr></thead><tbody><tr><td>0</td><td>no-recurrence-events</td></tr><tr><td>1</td><td>recurrence-events</td></tr></tbody></table>"
      ]
     },
     "execution_count": 6,
     "metadata": {},
     "output_type": "execute_result"
    }
   ],
   "source": [
    "context.Data.CreateEnumerable<BreastCancerData>(allData, reuseRowObject: false)\n",
    "    .Select(x => x.Class)\n",
    "    .Distinct()"
   ]
  },
  {
   "cell_type": "code",
   "execution_count": 7,
   "metadata": {},
   "outputs": [
    {
     "data": {
      "text/html": [
       "<table><thead><tr><th><i>index</i></th><th>Label</th><th>AgeEncoded</th><th>MenopauseEncoded</th><th>Class</th><th>Age</th><th>Menopause</th><th>TumorSize</th><th>InvNodes</th><th>NodeCaps</th><th>DegMalig</th><th>Breast</th><th>BreastQuad</th><th>Irradiat</th></tr></thead><tbody><tr><td>0</td><td>False</td><td>&lt;null&gt;</td><td>&lt;null&gt;</td><td>no-recurrence-events</td><td>40-49</td><td>premeno</td><td>35-39</td><td>0-2</td><td>no</td><td>1</td><td>left</td><td>left_low</td><td>no</td></tr><tr><td>1</td><td>False</td><td>&lt;null&gt;</td><td>&lt;null&gt;</td><td>no-recurrence-events</td><td>40-49</td><td>premeno</td><td>15-19</td><td>12-14</td><td>no</td><td>3</td><td>right</td><td>right_low</td><td>yes</td></tr><tr><td>2</td><td>False</td><td>&lt;null&gt;</td><td>&lt;null&gt;</td><td>no-recurrence-events</td><td>40-49</td><td>premeno</td><td>25-29</td><td>0-2</td><td>no</td><td>2</td><td>right</td><td>left_low</td><td>no</td></tr><tr><td>3</td><td>False</td><td>&lt;null&gt;</td><td>&lt;null&gt;</td><td>no-recurrence-events</td><td>50-59</td><td>lt40</td><td>15-19</td><td>0-2</td><td>no</td><td>2</td><td>left</td><td>left_low</td><td>no</td></tr><tr><td>4</td><td>False</td><td>&lt;null&gt;</td><td>&lt;null&gt;</td><td>no-recurrence-events</td><td>40-49</td><td>premeno</td><td>40-44</td><td>0-2</td><td>no</td><td>2</td><td>right</td><td>left_low</td><td>no</td></tr><tr><td>5</td><td>False</td><td>&lt;null&gt;</td><td>&lt;null&gt;</td><td>no-recurrence-events</td><td>40-49</td><td>premeno</td><td>10-14</td><td>0-2</td><td>no</td><td>1</td><td>right</td><td>left_up</td><td>no</td></tr><tr><td>6</td><td>False</td><td>&lt;null&gt;</td><td>&lt;null&gt;</td><td>no-recurrence-events</td><td>50-59</td><td>ge40</td><td>10-14</td><td>0-2</td><td>no</td><td>1</td><td>left</td><td>left_low</td><td>no</td></tr><tr><td>7</td><td>False</td><td>&lt;null&gt;</td><td>&lt;null&gt;</td><td>no-recurrence-events</td><td>40-49</td><td>premeno</td><td>45-49</td><td>0-2</td><td>no</td><td>2</td><td>left</td><td>left_low</td><td>yes</td></tr><tr><td>8</td><td>False</td><td>&lt;null&gt;</td><td>&lt;null&gt;</td><td>no-recurrence-events</td><td>40-49</td><td>premeno</td><td>10-14</td><td>0-2</td><td>no</td><td>1</td><td>right</td><td>left_up</td><td>no</td></tr><tr><td>9</td><td>False</td><td>&lt;null&gt;</td><td>&lt;null&gt;</td><td>no-recurrence-events</td><td>60-69</td><td>ge40</td><td>25-29</td><td>0-2</td><td>no</td><td>2</td><td>left</td><td>left_low</td><td>no</td></tr><tr><td>10</td><td>False</td><td>&lt;null&gt;</td><td>&lt;null&gt;</td><td>no-recurrence-events</td><td>30-39</td><td>premeno</td><td>0-4</td><td>0-2</td><td>no</td><td>2</td><td>right</td><td>central</td><td>no</td></tr><tr><td>11</td><td>False</td><td>&lt;null&gt;</td><td>&lt;null&gt;</td><td>no-recurrence-events</td><td>30-39</td><td>premeno</td><td>30-34</td><td>0-2</td><td>no</td><td>3</td><td>left</td><td>left_low</td><td>no</td></tr><tr><td>12</td><td>False</td><td>&lt;null&gt;</td><td>&lt;null&gt;</td><td>no-recurrence-events</td><td>30-39</td><td>premeno</td><td>40-44</td><td>3-5</td><td>no</td><td>3</td><td>right</td><td>right_up</td><td>yes</td></tr><tr><td>13</td><td>True</td><td>&lt;null&gt;</td><td>&lt;null&gt;</td><td>recurrence-events</td><td>40-49</td><td>premeno</td><td>20-24</td><td>3-5</td><td>yes</td><td>2</td><td>left</td><td>left_low</td><td>yes</td></tr><tr><td>14</td><td>True</td><td>&lt;null&gt;</td><td>&lt;null&gt;</td><td>recurrence-events</td><td>50-59</td><td>premeno</td><td>35-39</td><td>15-17</td><td>yes</td><td>3</td><td>right</td><td>right_up</td><td>no</td></tr></tbody></table>"
      ]
     },
     "execution_count": 7,
     "metadata": {},
     "output_type": "execute_result"
    }
   ],
   "source": [
    "Action<BreastCancerData, BreastCancerTrainData> mapping = (input, output) =>\n",
    "{\n",
    "    output.Class = input.Class;\n",
    "    output.Age = input.Age;\n",
    "    output.Menopause = input.Menopause;\n",
    "    output.TumorSize = input.TumorSize;\n",
    "    output.InvNodes = input.InvNodes;\n",
    "    output.NodeCaps = input.NodeCaps;\n",
    "    output.DegMalig = input.DegMalig;\n",
    "    output.Breast = input.Breast;\n",
    "    output.BreastQuad = input.BreastQuad;\n",
    "    output.Irradiat = input.Irradiat;\n",
    "    output.Label = \n",
    "        input.Class switch\n",
    "        {\n",
    "            \"no-recurrence-events\" => false,\n",
    "            \"recurrence-events\" => true\n",
    "        };\n",
    "};\n",
    "var mapLabel = context.Transforms.CustomMapping(mapping, contractName: null);\n",
    "var transformedData = mapLabel.Fit(allData).Transform(allData);\n",
    "context.Data.CreateEnumerable<BreastCancerTrainData>(transformedData, reuseRowObject: false).Take(5)"
   ]
  },
  {
   "cell_type": "code",
   "execution_count": 58,
   "metadata": {},
   "outputs": [
    {
     "data": {
      "text/html": [
       "<table><thead><tr><th><i>index</i></th><th>value</th></tr></thead><tbody><tr><td>0</td><td>40-49</td></tr><tr><td>1</td><td>50-59</td></tr><tr><td>2</td><td>60-69</td></tr><tr><td>3</td><td>30-39</td></tr><tr><td>4</td><td>70-79</td></tr><tr><td>5</td><td>20-29</td></tr></tbody></table>"
      ]
     },
     "execution_count": 58,
     "metadata": {},
     "output_type": "execute_result"
    }
   ],
   "source": [
    "context.Data.CreateEnumerable<BreastCancerData>(allData, reuseRowObject: false)\n",
    "    .Select(x => x.Age)\n",
    "    .Distinct()"
   ]
  },
  {
   "cell_type": "code",
   "execution_count": 10,
   "metadata": {},
   "outputs": [
    {
     "data": {
      "text/html": [
       "<table><thead><tr><th><i>index</i></th><th>value</th></tr></thead><tbody><tr><td>0</td><td>premeno</td></tr><tr><td>1</td><td>lt40</td></tr><tr><td>2</td><td>ge40</td></tr></tbody></table>"
      ]
     },
     "execution_count": 10,
     "metadata": {},
     "output_type": "execute_result"
    }
   ],
   "source": [
    "context.Data.CreateEnumerable<BreastCancerData>(allData, reuseRowObject: false)\n",
    "    .Select(x => x.Menopause)\n",
    "    .Distinct()"
   ]
  },
  {
   "cell_type": "code",
   "execution_count": 13,
   "metadata": {},
   "outputs": [
    {
     "data": {
      "text/html": [
       "<table><thead><tr><th><i>index</i></th><th>value</th></tr></thead><tbody><tr><td>0</td><td>35-39</td></tr><tr><td>1</td><td>15-19</td></tr><tr><td>2</td><td>25-29</td></tr><tr><td>3</td><td>40-44</td></tr><tr><td>4</td><td>10-14</td></tr><tr><td>5</td><td>45-49</td></tr><tr><td>6</td><td>0-4</td></tr><tr><td>7</td><td>30-34</td></tr><tr><td>8</td><td>20-24</td></tr><tr><td>9</td><td>5-9</td></tr><tr><td>10</td><td>50-54</td></tr></tbody></table>"
      ]
     },
     "execution_count": 13,
     "metadata": {},
     "output_type": "execute_result"
    }
   ],
   "source": [
    "context.Data.CreateEnumerable<BreastCancerData>(allData, reuseRowObject: false)\n",
    "    .Select(x => x.TumorSize)\n",
    "    .Distinct()"
   ]
  },
  {
   "cell_type": "code",
   "execution_count": 66,
   "metadata": {},
   "outputs": [
    {
     "data": {
      "text/html": [
       "<table><thead><tr><th><i>index</i></th><th>value</th></tr></thead><tbody><tr><td>0</td><td>0-2</td></tr><tr><td>1</td><td>12-14</td></tr><tr><td>2</td><td>3-5</td></tr><tr><td>3</td><td>15-17</td></tr><tr><td>4</td><td>9-11</td></tr><tr><td>5</td><td>6-8</td></tr><tr><td>6</td><td>24-26</td></tr></tbody></table>"
      ]
     },
     "execution_count": 66,
     "metadata": {},
     "output_type": "execute_result"
    }
   ],
   "source": [
    "context.Data.CreateEnumerable<BreastCancerData>(allData, reuseRowObject: false)\n",
    "    .Select(x => x.InvNodes)\n",
    "    .Distinct()"
   ]
  },
  {
   "cell_type": "code",
   "execution_count": 70,
   "metadata": {},
   "outputs": [
    {
     "data": {
      "text/html": [
       "<table><thead><tr><th><i>index</i></th><th>value</th></tr></thead><tbody><tr><td>0</td><td>no</td></tr><tr><td>1</td><td>yes</td></tr><tr><td>2</td><td>?</td></tr></tbody></table>"
      ]
     },
     "execution_count": 70,
     "metadata": {},
     "output_type": "execute_result"
    }
   ],
   "source": [
    "context.Data.CreateEnumerable<BreastCancerData>(allData, reuseRowObject: false)\n",
    "    .Select(x => x.NodeCaps)\n",
    "    .Distinct()"
   ]
  },
  {
   "cell_type": "code",
   "execution_count": 72,
   "metadata": {},
   "outputs": [
    {
     "data": {
      "text/html": [
       "<table><thead><tr><th><i>index</i></th><th>value</th></tr></thead><tbody><tr><td>0</td><td>left</td></tr><tr><td>1</td><td>right</td></tr></tbody></table>"
      ]
     },
     "execution_count": 72,
     "metadata": {},
     "output_type": "execute_result"
    }
   ],
   "source": [
    "context.Data.CreateEnumerable<BreastCancerData>(allData, reuseRowObject: false)\n",
    "    .Select(x => x.Breast)\n",
    "    .Distinct()"
   ]
  },
  {
   "cell_type": "code",
   "execution_count": 74,
   "metadata": {},
   "outputs": [
    {
     "data": {
      "text/html": [
       "<table><thead><tr><th><i>index</i></th><th>value</th></tr></thead><tbody><tr><td>0</td><td>left_low</td></tr><tr><td>1</td><td>right_low</td></tr><tr><td>2</td><td>left_up</td></tr><tr><td>3</td><td>central</td></tr><tr><td>4</td><td>right_up</td></tr><tr><td>5</td><td>?</td></tr></tbody></table>"
      ]
     },
     "execution_count": 74,
     "metadata": {},
     "output_type": "execute_result"
    }
   ],
   "source": [
    "context.Data.CreateEnumerable<BreastCancerData>(allData, reuseRowObject: false)\n",
    "    .Select(x => x.BreastQuad)\n",
    "    .Distinct()"
   ]
  },
  {
   "cell_type": "code",
   "execution_count": 77,
   "metadata": {},
   "outputs": [
    {
     "data": {
      "text/html": [
       "<table><thead><tr><th><i>index</i></th><th>value</th></tr></thead><tbody><tr><td>0</td><td>no</td></tr><tr><td>1</td><td>yes</td></tr></tbody></table>"
      ]
     },
     "execution_count": 77,
     "metadata": {},
     "output_type": "execute_result"
    }
   ],
   "source": [
    "context.Data.CreateEnumerable<BreastCancerData>(allData, reuseRowObject: false)\n",
    "    .Select(x => x.Irradiat)\n",
    "    .Distinct()"
   ]
  },
  {
   "cell_type": "code",
   "execution_count": 78,
   "metadata": {},
   "outputs": [
    {
     "data": {
      "text/html": [
       "<table><thead><tr><th><i>index</i></th><th>Label</th><th>AgeEncoded</th><th>MenopauseEncoded</th><th>TumorSizeEncoded</th><th>InvNodesEncoded</th><th>NodeCapsEncoded</th><th>BreastEncoded</th><th>BreastQuadEncoded</th><th>IrradiatEncoded</th><th>Class</th><th>Age</th><th>Menopause</th><th>TumorSize</th><th>InvNodes</th><th>NodeCaps</th><th>DegMalig</th><th>Breast</th><th>BreastQuad</th><th>Irradiat</th></tr></thead><tbody><tr><td>0</td><td>False</td><td>3</td><td>3</td><td>7</td><td>1</td><td>2</td><td>1</td><td>3</td><td>1</td><td>no-recurrence-events</td><td>40-49</td><td>premeno</td><td>35-39</td><td>0-2</td><td>no</td><td>1</td><td>left</td><td>left_low</td><td>no</td></tr><tr><td>1</td><td>False</td><td>3</td><td>3</td><td>3</td><td>2</td><td>2</td><td>2</td><td>5</td><td>2</td><td>no-recurrence-events</td><td>40-49</td><td>premeno</td><td>15-19</td><td>12-14</td><td>no</td><td>3</td><td>right</td><td>right_low</td><td>yes</td></tr><tr><td>2</td><td>False</td><td>3</td><td>3</td><td>5</td><td>1</td><td>2</td><td>2</td><td>3</td><td>1</td><td>no-recurrence-events</td><td>40-49</td><td>premeno</td><td>25-29</td><td>0-2</td><td>no</td><td>2</td><td>right</td><td>left_low</td><td>no</td></tr><tr><td>3</td><td>False</td><td>4</td><td>2</td><td>3</td><td>1</td><td>2</td><td>1</td><td>3</td><td>1</td><td>no-recurrence-events</td><td>50-59</td><td>lt40</td><td>15-19</td><td>0-2</td><td>no</td><td>2</td><td>left</td><td>left_low</td><td>no</td></tr><tr><td>4</td><td>False</td><td>3</td><td>3</td><td>8</td><td>1</td><td>2</td><td>2</td><td>3</td><td>1</td><td>no-recurrence-events</td><td>40-49</td><td>premeno</td><td>40-44</td><td>0-2</td><td>no</td><td>2</td><td>right</td><td>left_low</td><td>no</td></tr><tr><td>5</td><td>False</td><td>3</td><td>3</td><td>2</td><td>1</td><td>2</td><td>2</td><td>4</td><td>1</td><td>no-recurrence-events</td><td>40-49</td><td>premeno</td><td>10-14</td><td>0-2</td><td>no</td><td>1</td><td>right</td><td>left_up</td><td>no</td></tr><tr><td>6</td><td>False</td><td>4</td><td>1</td><td>2</td><td>1</td><td>2</td><td>1</td><td>3</td><td>1</td><td>no-recurrence-events</td><td>50-59</td><td>ge40</td><td>10-14</td><td>0-2</td><td>no</td><td>1</td><td>left</td><td>left_low</td><td>no</td></tr><tr><td>7</td><td>False</td><td>3</td><td>3</td><td>9</td><td>1</td><td>2</td><td>1</td><td>3</td><td>2</td><td>no-recurrence-events</td><td>40-49</td><td>premeno</td><td>45-49</td><td>0-2</td><td>no</td><td>2</td><td>left</td><td>left_low</td><td>yes</td></tr><tr><td>8</td><td>False</td><td>3</td><td>3</td><td>2</td><td>1</td><td>2</td><td>2</td><td>4</td><td>1</td><td>no-recurrence-events</td><td>40-49</td><td>premeno</td><td>10-14</td><td>0-2</td><td>no</td><td>1</td><td>right</td><td>left_up</td><td>no</td></tr><tr><td>9</td><td>False</td><td>5</td><td>1</td><td>5</td><td>1</td><td>2</td><td>1</td><td>3</td><td>1</td><td>no-recurrence-events</td><td>60-69</td><td>ge40</td><td>25-29</td><td>0-2</td><td>no</td><td>2</td><td>left</td><td>left_low</td><td>no</td></tr><tr><td>10</td><td>False</td><td>2</td><td>3</td><td>1</td><td>1</td><td>2</td><td>2</td><td>2</td><td>1</td><td>no-recurrence-events</td><td>30-39</td><td>premeno</td><td>0-4</td><td>0-2</td><td>no</td><td>2</td><td>right</td><td>central</td><td>no</td></tr><tr><td>11</td><td>False</td><td>2</td><td>3</td><td>6</td><td>1</td><td>2</td><td>1</td><td>3</td><td>1</td><td>no-recurrence-events</td><td>30-39</td><td>premeno</td><td>30-34</td><td>0-2</td><td>no</td><td>3</td><td>left</td><td>left_low</td><td>no</td></tr><tr><td>12</td><td>False</td><td>2</td><td>3</td><td>8</td><td>5</td><td>2</td><td>2</td><td>6</td><td>2</td><td>no-recurrence-events</td><td>30-39</td><td>premeno</td><td>40-44</td><td>3-5</td><td>no</td><td>3</td><td>right</td><td>right_up</td><td>yes</td></tr><tr><td>13</td><td>False</td><td>3</td><td>3</td><td>4</td><td>5</td><td>3</td><td>1</td><td>3</td><td>2</td><td>recurrence-events</td><td>40-49</td><td>premeno</td><td>20-24</td><td>3-5</td><td>yes</td><td>2</td><td>left</td><td>left_low</td><td>yes</td></tr><tr><td>14</td><td>False</td><td>4</td><td>3</td><td>7</td><td>3</td><td>3</td><td>2</td><td>6</td><td>1</td><td>recurrence-events</td><td>50-59</td><td>premeno</td><td>35-39</td><td>15-17</td><td>yes</td><td>3</td><td>right</td><td>right_up</td><td>no</td></tr></tbody></table>"
      ]
     },
     "execution_count": 78,
     "metadata": {},
     "output_type": "execute_result"
    }
   ],
   "source": [
    "var encodeCategorical = context.Transforms.Conversion.MapValueToKey(\n",
    "    new[] {\n",
    "        new  InputOutputColumnPair(\"AgeEncoded\", \"Age\"),\n",
    "        new  InputOutputColumnPair(\"MenopauseEncoded\", \"Menopause\"),\n",
    "        new  InputOutputColumnPair(\"TumorSizeEncoded\", \"TumorSize\"),\n",
    "        new  InputOutputColumnPair(\"InvNodesEncoded\", \"InvNodes\"),\n",
    "        new  InputOutputColumnPair(\"NodeCapsEncoded\", \"NodeCaps\"),\n",
    "        new  InputOutputColumnPair(\"BreastEncoded\", \"Breast\"),\n",
    "        new  InputOutputColumnPair(\"BreastQuadEncoded\", \"BreastQuad\"),\n",
    "        new  InputOutputColumnPair(\"IrradiatEncoded\", \"Irradiat\"),\n",
    "    },\n",
    "    keyOrdinality: ValueToKeyMappingEstimator.KeyOrdinality.ByValue,\n",
    "    addKeyValueAnnotationsAsText: true\n",
    ");\n",
    "\n",
    "var transformedData = encodeCategorical.Fit(allData).Transform(allData);\n",
    "context.Data.CreateEnumerable<BreastCancerTrainData>(transformedData, reuseRowObject: false, ignoreMissingColumns: true).Take(15)"
   ]
  },
  {
   "cell_type": "code",
   "execution_count": 83,
   "metadata": {},
   "outputs": [
    {
     "ename": "Unhandled exception",
     "evalue": "System.InvalidOperationException: Column 'AgeEncoded' is key. Concatenation of keys is unsupported.\r\n   at Microsoft.ML.Transforms.ColumnConcatenatingEstimator.CheckInputsAndMakeColumn(SchemaShape inputSchema, String name, String[] sources)\r\n   at Microsoft.ML.Transforms.ColumnConcatenatingEstimator.GetOutputSchema(SchemaShape inputSchema)\r\n   at Microsoft.ML.Data.EstimatorChain`1.GetOutputSchema(SchemaShape inputSchema)\r\n   at Microsoft.ML.Data.EstimatorChain`1.Fit(IDataView input)\r\n   at Submission#86.<<Initialize>>d__0.MoveNext()\r\n--- End of stack trace from previous location where exception was thrown ---\r\n   at Microsoft.CodeAnalysis.Scripting.ScriptExecutionState.RunSubmissionsAsync[TResult](ImmutableArray`1 precedingExecutors, Func`2 currentExecutor, StrongBox`1 exceptionHolderOpt, Func`2 catchExceptionOpt, CancellationToken cancellationToken)",
     "output_type": "error",
     "traceback": [
      "System.InvalidOperationException: Column 'AgeEncoded' is key. Concatenation of keys is unsupported.\r\n   at Microsoft.ML.Transforms.ColumnConcatenatingEstimator.CheckInputsAndMakeColumn(SchemaShape inputSchema, String name, String[] sources)\r\n   at Microsoft.ML.Transforms.ColumnConcatenatingEstimator.GetOutputSchema(SchemaShape inputSchema)\r\n   at Microsoft.ML.Data.EstimatorChain`1.GetOutputSchema(SchemaShape inputSchema)\r\n   at Microsoft.ML.Data.EstimatorChain`1.Fit(IDataView input)\r\n   at Submission#86.<<Initialize>>d__0.MoveNext()\r\n--- End of stack trace from previous location where exception was thrown ---\r\n   at Microsoft.CodeAnalysis.Scripting.ScriptExecutionState.RunSubmissionsAsync[TResult](ImmutableArray`1 precedingExecutors, Func`2 currentExecutor, StrongBox`1 exceptionHolderOpt, Func`2 catchExceptionOpt, CancellationToken cancellationToken)",
      "   at Microsoft.ML.Transforms.ColumnConcatenatingEstimator.CheckInputsAndMakeColumn(SchemaShape inputSchema, String name, String[] sources)",
      "   at Microsoft.ML.Transforms.ColumnConcatenatingEstimator.GetOutputSchema(SchemaShape inputSchema)",
      "   at Microsoft.ML.Data.EstimatorChain`1.GetOutputSchema(SchemaShape inputSchema)",
      "   at Microsoft.ML.Data.EstimatorChain`1.Fit(IDataView input)",
      "   at Submission#86.<<Initialize>>d__0.MoveNext()",
      "--- End of stack trace from previous location where exception was thrown ---",
      "   at Microsoft.CodeAnalysis.Scripting.ScriptExecutionState.RunSubmissionsAsync[TResult](ImmutableArray`1 precedingExecutors, Func`2 currentExecutor, StrongBox`1 exceptionHolderOpt, Func`2 catchExceptionOpt, CancellationToken cancellationToken)"
     ]
    }
   ],
   "source": [
    "var featureColumns = new[]\n",
    "{\n",
    "    \"AgeEncoded\", \"MenopauseEncoded\", \"TumorSizeEncoded\", \"InvNodesEncoded\", \"NodeCapsEncoded\", \"BreastEncoded\", \"BreastQuadEncoded\",\n",
    "    \"IrradiatEncoded\", \"DegMalig\"\n",
    "};\n",
    "var pipeline = mapLabel.Append(encodeCategorical).Append(context.Transforms.Concatenate(\"Features\", featureColumns));\n",
    "var transformedData = pipeline.Fit(allData).Transform(allData);\n",
    "context.Data.CreateEnumerable<BreastCancerTrainData>(transformedData, reuseRowObject: false, ignoreMissingColumns: true).Take(15)"
   ]
  },
  {
   "cell_type": "code",
   "execution_count": 79,
   "metadata": {},
   "outputs": [],
   "source": [
    "var splitData = context.Data.TrainTestSplit(allData, testFraction: 0.2);\n",
    "var (trainData, testData) = (splitData.TrainSet, splitData.TestSet);"
   ]
  },
  {
   "cell_type": "code",
   "execution_count": 80,
   "metadata": {},
   "outputs": [],
   "source": [
    "var transformer = pipeline.Fit(trainData);"
   ]
  },
  {
   "cell_type": "code",
   "execution_count": 81,
   "metadata": {},
   "outputs": [],
   "source": [
    "var estimator = context.BinaryClassification.Trainers.SdcaLogisticRegression(featureColumnName: \"Features\");"
   ]
  },
  {
   "cell_type": "code",
   "execution_count": null,
   "metadata": {},
   "outputs": [],
   "source": [
    "var transformedTrainData = transformer.Transform(trainData);\n",
    "var cvResults = context.BinaryClassification.CrossValidate(transformedTrainData, estimator, numberOfFolds: 3);\n",
    "var cvResult = cvResults\n",
    "    .OrderByDescending(x => x.Metrics.Accuracy)\n",
    "    .First();"
   ]
  }
 ],
 "metadata": {
  "kernelspec": {
   "display_name": ".NET (C#)",
   "language": "C#",
   "name": ".net-csharp"
  },
  "language_info": {
   "file_extension": ".cs",
   "mimetype": "text/x-csharp",
   "name": "C#",
   "pygments_lexer": "csharp",
   "version": "8.0"
  }
 },
 "nbformat": 4,
 "nbformat_minor": 4
}
