{
 "cells": [
  {
   "cell_type": "code",
   "execution_count": 1,
   "metadata": {},
   "outputs": [
    {
     "data": {
      "text/html": [
       "Installed package Microsoft.ML.LightGbm version 1.5.5"
      ]
     },
     "metadata": {},
     "output_type": "display_data"
    },
    {
     "data": {
      "text/html": [
       "Installed package Microsoft.ML version 1.5.5"
      ]
     },
     "metadata": {},
     "output_type": "display_data"
    }
   ],
   "source": [
    "#r \"nuget: Microsoft.ML\"\n",
    "#r \"nuget: Microsoft.ML.LightGbm\"\n",
    "using System;\n",
    "using System.IO;\n",
    "using System.Linq;\n",
    "using System.Net;\n",
    "using Microsoft.ML;\n",
    "using Microsoft.ML.Data;\n",
    "using Microsoft.ML.Transforms;"
   ]
  },
  {
   "cell_type": "code",
   "execution_count": 2,
   "metadata": {},
   "outputs": [
    {
     "name": "stdout",
     "output_type": "stream",
     "text": [
      "Data file has 286 lines\n"
     ]
    },
    {
     "data": {
      "text/html": [
       "<table><thead><tr><th><i>index</i></th><th>value</th></tr></thead><tbody><tr><td>0</td><td>no-recurrence-events,30-39,premeno,30-34,0-2,no,3,left,left_low,no</td></tr><tr><td>1</td><td>no-recurrence-events,40-49,premeno,20-24,0-2,no,2,right,right_up,no</td></tr><tr><td>2</td><td>no-recurrence-events,40-49,premeno,20-24,0-2,no,2,left,left_low,no</td></tr><tr><td>3</td><td>no-recurrence-events,60-69,ge40,15-19,0-2,no,2,right,left_up,no</td></tr><tr><td>4</td><td>no-recurrence-events,40-49,premeno,0-4,0-2,no,2,right,right_low,no</td></tr></tbody></table>"
      ]
     },
     "execution_count": 2,
     "metadata": {},
     "output_type": "execute_result"
    }
   ],
   "source": [
    "if (!File.Exists(\"breast-cancer.data\"))\n",
    "{\n",
    "    using var client = new WebClient();\n",
    "    client.DownloadFile(\"https://archive.ics.uci.edu/ml/machine-learning-databases/breast-cancer/breast-cancer.data\", \"breast-cancer.data\");\n",
    "}\n",
    "\n",
    "Console.WriteLine($\"Data file has {File.ReadLines(\"breast-cancer.data\").Count():n0} lines\");\n",
    "File.ReadLines(\"breast-cancer.data\").Take(5)"
   ]
  },
  {
   "cell_type": "code",
   "execution_count": 3,
   "metadata": {},
   "outputs": [],
   "source": [
    "var context = new MLContext();"
   ]
  },
  {
   "cell_type": "code",
   "execution_count": 36,
   "metadata": {},
   "outputs": [],
   "source": [
    "class BreastCancerData\n",
    "{\n",
    "    [LoadColumn(0)]\n",
    "    public string Class { get; set; }\n",
    "\n",
    "    [LoadColumn(1)]\n",
    "    public string Age { get; set; }\n",
    "\n",
    "    [LoadColumn(2)]\n",
    "    public string Menopause { get; set; }\n",
    "\n",
    "    [LoadColumn(3)]\n",
    "    public string TumorSize { get; set; }\n",
    "\n",
    "    [LoadColumn(4)]\n",
    "    public string InvNodes { get; set; }\n",
    "\n",
    "    [LoadColumn(5)]\n",
    "    public string NodeCaps { get; set; }\n",
    "\n",
    "    [LoadColumn(6)]\n",
    "    public int DegMalig { get; set; }\n",
    "\n",
    "    [LoadColumn(7)]\n",
    "    public string Breast { get; set; }\n",
    "    \n",
    "    [LoadColumn(8)]\n",
    "    public string BreastQuad { get; set; }\n",
    "    \n",
    "    [LoadColumn(9)]\n",
    "    public string Irradiat { get; set; }\n",
    "}\n",
    "\n",
    "class BreastCancerTrainData : BreastCancerData\n",
    "{\n",
    "    public bool Label { get; set; }\n",
    "    \n",
    "    public uint AgeEncoded { get; set; }\n",
    "    \n",
    "    public uint MenopauseEncoded { get; set; }\n",
    "    \n",
    "    public uint TumorSizeEncoded { get; set; }\n",
    "    \n",
    "    public uint InvNodesEncoded { get; set; }\n",
    "    \n",
    "    public uint NodeCapsEncoded { get; set; }\n",
    "    \n",
    "    public uint BreastEncoded { get; set; }\n",
    "    \n",
    "    public uint BreastQuadEncoded { get; set; }\n",
    "    \n",
    "    public uint IrradiatEncoded { get; set; }\n",
    "    \n",
    "    public uint[] Features { get; set; }\n",
    "}"
   ]
  },
  {
   "cell_type": "code",
   "execution_count": 28,
   "metadata": {},
   "outputs": [
    {
     "data": {
      "text/html": [
       "<table><thead><tr><th><i>index</i></th><th>Class</th><th>Age</th><th>Menopause</th><th>TumorSize</th><th>InvNodes</th><th>NodeCaps</th><th>DegMalig</th><th>Breast</th><th>BreastQuad</th><th>Irradiat</th></tr></thead><tbody><tr><td>0</td><td>recurrence-events</td><td>30-39</td><td>premeno</td><td>0-4</td><td>0-2</td><td>no</td><td>2</td><td>right</td><td>central</td><td>no</td></tr><tr><td>1</td><td>no-recurrence-events</td><td>30-39</td><td>premeno</td><td>30-34</td><td>6-8</td><td>yes</td><td>2</td><td>right</td><td>right_up</td><td>no</td></tr><tr><td>2</td><td>no-recurrence-events</td><td>30-39</td><td>premeno</td><td>40-44</td><td>0-2</td><td>no</td><td>2</td><td>right</td><td>right_up</td><td>no</td></tr><tr><td>3</td><td>recurrence-events</td><td>40-49</td><td>premeno</td><td>30-34</td><td>0-2</td><td>yes</td><td>3</td><td>right</td><td>right_up</td><td>no</td></tr><tr><td>4</td><td>no-recurrence-events</td><td>30-39</td><td>premeno</td><td>15-19</td><td>0-2</td><td>no</td><td>1</td><td>left</td><td>left_low</td><td>no</td></tr></tbody></table>"
      ]
     },
     "execution_count": 28,
     "metadata": {},
     "output_type": "execute_result"
    }
   ],
   "source": [
    "var allData = context.Data.LoadFromTextFile<BreastCancerData>(\"breast-cancer.data\", hasHeader: false, separatorChar: ',');\n",
    "allData = context.Data.ShuffleRows(allData);\n",
    "context.Data.CreateEnumerable<BreastCancerData>(allData, reuseRowObject: false).Take(5)"
   ]
  },
  {
   "cell_type": "code",
   "execution_count": 29,
   "metadata": {},
   "outputs": [
    {
     "data": {
      "text/html": [
       "<table><thead><tr><th><i>index</i></th><th>value</th></tr></thead><tbody><tr><td>0</td><td>recurrence-events</td></tr><tr><td>1</td><td>no-recurrence-events</td></tr></tbody></table>"
      ]
     },
     "execution_count": 29,
     "metadata": {},
     "output_type": "execute_result"
    }
   ],
   "source": [
    "context.Data.CreateEnumerable<BreastCancerData>(allData, reuseRowObject: false)\n",
    "    .Select(x => x.Class)\n",
    "    .Distinct()"
   ]
  },
  {
   "cell_type": "code",
   "execution_count": 30,
   "metadata": {},
   "outputs": [
    {
     "data": {
      "text/html": [
       "<table><thead><tr><th><i>index</i></th><th>Class</th><th>Label</th></tr></thead><tbody><tr><td>0</td><td>recurrence-events</td><td>True</td></tr><tr><td>1</td><td>no-recurrence-events</td><td>False</td></tr><tr><td>2</td><td>no-recurrence-events</td><td>False</td></tr><tr><td>3</td><td>recurrence-events</td><td>True</td></tr><tr><td>4</td><td>no-recurrence-events</td><td>False</td></tr></tbody></table>"
      ]
     },
     "execution_count": 30,
     "metadata": {},
     "output_type": "execute_result"
    }
   ],
   "source": [
    "Action<BreastCancerData, BreastCancerTrainData> mapping = (input, output) =>\n",
    "{\n",
    "    output.Class = input.Class;\n",
    "    output.Age = input.Age;\n",
    "    output.Menopause = input.Menopause;\n",
    "    output.TumorSize = input.TumorSize;\n",
    "    output.InvNodes = input.InvNodes;\n",
    "    output.NodeCaps = input.NodeCaps;\n",
    "    output.DegMalig = input.DegMalig;\n",
    "    output.Breast = input.Breast;\n",
    "    output.BreastQuad = input.BreastQuad;\n",
    "    output.Irradiat = input.Irradiat;\n",
    "    output.Label = \n",
    "        input.Class switch\n",
    "        {\n",
    "            \"no-recurrence-events\" => false,\n",
    "            \"recurrence-events\" => true\n",
    "        };\n",
    "};\n",
    "var mapLabel = context.Transforms.CustomMapping(mapping, contractName: null);\n",
    "var transformedData = mapLabel.Fit(allData).Transform(allData);\n",
    "context.Data.CreateEnumerable<BreastCancerTrainData>(transformedData, reuseRowObject: false)\n",
    "    .Select(x => new { Class=x.Class, Label=x.Label })\n",
    "    .Take(5)"
   ]
  },
  {
   "cell_type": "code",
   "execution_count": 41,
   "metadata": {},
   "outputs": [],
   "source": [
    "var rand = new Random();"
   ]
  },
  {
   "cell_type": "code",
   "execution_count": 31,
   "metadata": {},
   "outputs": [
    {
     "data": {
      "text/html": [
       "<table><thead><tr><th><i>index</i></th><th>value</th></tr></thead><tbody><tr><td>0</td><td>30-39</td></tr><tr><td>1</td><td>40-49</td></tr><tr><td>2</td><td>50-59</td></tr><tr><td>3</td><td>60-69</td></tr><tr><td>4</td><td>70-79</td></tr><tr><td>5</td><td>20-29</td></tr></tbody></table>"
      ]
     },
     "execution_count": 31,
     "metadata": {},
     "output_type": "execute_result"
    }
   ],
   "source": [
    "context.Data.CreateEnumerable<BreastCancerData>(allData, reuseRowObject: false)\n",
    "    .Select(x => x.Age)\n",
    "    .Distinct()"
   ]
  },
  {
   "cell_type": "code",
   "execution_count": 45,
   "metadata": {},
   "outputs": [
    {
     "data": {
      "text/html": [
       "<table><thead><tr><th><i>index</i></th><th>Age</th><th>AgeEncoded</th></tr></thead><tbody><tr><td>0</td><td>30-39</td><td>2</td></tr><tr><td>1</td><td>40-49</td><td>3</td></tr><tr><td>2</td><td>50-59</td><td>4</td></tr><tr><td>3</td><td>60-69</td><td>5</td></tr><tr><td>4</td><td>70-79</td><td>6</td></tr><tr><td>5</td><td>20-29</td><td>1</td></tr></tbody></table>"
      ]
     },
     "execution_count": 45,
     "metadata": {},
     "output_type": "execute_result"
    }
   ],
   "source": [
    "var ageLookup = new Dictionary<string, uint>\n",
    "{\n",
    "    [\"20-29\"] = 1U,\n",
    "    [\"30-39\"] = 2U,\n",
    "    [\"40-49\"] = 3U,\n",
    "    [\"50-59\"] = 4U,\n",
    "    [\"60-69\"] = 5U,\n",
    "    [\"70-79\"] = 6U,\n",
    "};\n",
    "var encodeAge = context.Transforms.Conversion.MapValue(inputColumnName: \"Age\", outputColumnName: \"AgeEncoded\", keyValuePairs: ageLookup);\n",
    "var transformedData = encodeAge.Fit(allData).Transform(allData);\n",
    "context.Data.CreateEnumerable<BreastCancerTrainData>(transformedData, reuseRowObject: false, ignoreMissingColumns: true)\n",
    "    .Select(x => new { x.Age, x.AgeEncoded })\n",
    "    .Distinct()"
   ]
  },
  {
   "cell_type": "code",
   "execution_count": 9,
   "metadata": {},
   "outputs": [
    {
     "data": {
      "text/html": [
       "<table><thead><tr><th><i>index</i></th><th>value</th></tr></thead><tbody><tr><td>0</td><td>ge40</td></tr><tr><td>1</td><td>premeno</td></tr><tr><td>2</td><td>lt40</td></tr></tbody></table>"
      ]
     },
     "execution_count": 9,
     "metadata": {},
     "output_type": "execute_result"
    }
   ],
   "source": [
    "context.Data.CreateEnumerable<BreastCancerData>(allData, reuseRowObject: false)\n",
    "    .Select(x => x.Menopause)\n",
    "    .Distinct()"
   ]
  },
  {
   "cell_type": "code",
   "execution_count": 44,
   "metadata": {},
   "outputs": [
    {
     "data": {
      "text/html": [
       "<table><thead><tr><th><i>index</i></th><th>Menopause</th><th>MenopauseEncoded</th></tr></thead><tbody><tr><td>0</td><td>premeno</td><td>3</td></tr><tr><td>1</td><td>ge40</td><td>2</td></tr><tr><td>2</td><td>lt40</td><td>1</td></tr></tbody></table>"
      ]
     },
     "execution_count": 44,
     "metadata": {},
     "output_type": "execute_result"
    }
   ],
   "source": [
    "var menopauseLookup = new Dictionary<string, uint>\n",
    "{\n",
    "    [\"lt40\"] = 1U,\n",
    "    [\"ge40\"] = 2U,\n",
    "    [\"premeno\"] = 3U,\n",
    "};\n",
    "\n",
    "var encodeMenopause = context.Transforms.Conversion.MapValue(inputColumnName: \"Menopause\", outputColumnName: \"MenopauseEncoded\", keyValuePairs: menopauseLookup);\n",
    "var transformedData = encodeMenopause.Fit(allData).Transform(allData);\n",
    "context.Data.CreateEnumerable<BreastCancerTrainData>(transformedData, reuseRowObject: false, ignoreMissingColumns: true)\n",
    "    .Select(x => new { x.Menopause, x.MenopauseEncoded })\n",
    "    .Distinct()"
   ]
  },
  {
   "cell_type": "code",
   "execution_count": 10,
   "metadata": {},
   "outputs": [
    {
     "data": {
      "text/html": [
       "<table><thead><tr><th><i>index</i></th><th>value</th></tr></thead><tbody><tr><td>0</td><td>30-34</td></tr><tr><td>1</td><td>15-19</td></tr><tr><td>2</td><td>25-29</td></tr><tr><td>3</td><td>20-24</td></tr><tr><td>4</td><td>5-9</td></tr><tr><td>5</td><td>35-39</td></tr><tr><td>6</td><td>40-44</td></tr><tr><td>7</td><td>10-14</td></tr><tr><td>8</td><td>0-4</td></tr><tr><td>9</td><td>50-54</td></tr><tr><td>10</td><td>45-49</td></tr></tbody></table>"
      ]
     },
     "execution_count": 10,
     "metadata": {},
     "output_type": "execute_result"
    }
   ],
   "source": [
    "context.Data.CreateEnumerable<BreastCancerData>(allData, reuseRowObject: false)\n",
    "    .Select(x => x.TumorSize)\n",
    "    .Distinct()"
   ]
  },
  {
   "cell_type": "code",
   "execution_count": 48,
   "metadata": {},
   "outputs": [
    {
     "data": {
      "text/html": [
       "<table><thead><tr><th><i>index</i></th><th>TumorSize</th><th>TumorSizeEncoded</th></tr></thead><tbody><tr><td>0</td><td>0-4</td><td>1</td></tr><tr><td>1</td><td>30-34</td><td>7</td></tr><tr><td>2</td><td>40-44</td><td>9</td></tr><tr><td>3</td><td>15-19</td><td>4</td></tr><tr><td>4</td><td>10-14</td><td>3</td></tr><tr><td>5</td><td>20-24</td><td>5</td></tr><tr><td>6</td><td>25-29</td><td>6</td></tr><tr><td>7</td><td>35-39</td><td>8</td></tr><tr><td>8</td><td>50-54</td><td>11</td></tr><tr><td>9</td><td>45-49</td><td>10</td></tr><tr><td>10</td><td>5-9</td><td>2</td></tr></tbody></table>"
      ]
     },
     "execution_count": 48,
     "metadata": {},
     "output_type": "execute_result"
    }
   ],
   "source": [
    "var tumorSizeLookup = new Dictionary<string, uint>\n",
    "{\n",
    "    [\"0-4\"] = 1U,\n",
    "    [\"5-9\"] = 2U,\n",
    "    [\"10-14\"] = 3U,\n",
    "    [\"15-19\"] = 4U,\n",
    "    [\"20-24\"] = 5U,\n",
    "    [\"25-29\"] = 6U,\n",
    "    [\"30-34\"] = 7U,\n",
    "    [\"35-39\"] = 8U,\n",
    "    [\"40-44\"] = 9U,\n",
    "    [\"45-49\"] = 10U,\n",
    "    [\"50-54\"] = 11U,\n",
    "};\n",
    "\n",
    "var encodeTumorSize = context.Transforms.Conversion.MapValue(inputColumnName: \"TumorSize\", outputColumnName: \"TumorSizeEncoded\", keyValuePairs: tumorSizeLookup);\n",
    "var transformedData = encodeTumorSize.Fit(allData).Transform(allData);\n",
    "context.Data.CreateEnumerable<BreastCancerTrainData>(transformedData, reuseRowObject: false, ignoreMissingColumns: true)\n",
    "    .Select(x => new { x.TumorSize, x.TumorSizeEncoded })\n",
    "    .Distinct()"
   ]
  },
  {
   "cell_type": "code",
   "execution_count": 11,
   "metadata": {},
   "outputs": [
    {
     "data": {
      "text/html": [
       "<table><thead><tr><th><i>index</i></th><th>value</th></tr></thead><tbody><tr><td>0</td><td>9-11</td></tr><tr><td>1</td><td>0-2</td></tr><tr><td>2</td><td>6-8</td></tr><tr><td>3</td><td>15-17</td></tr><tr><td>4</td><td>12-14</td></tr><tr><td>5</td><td>3-5</td></tr><tr><td>6</td><td>24-26</td></tr></tbody></table>"
      ]
     },
     "execution_count": 11,
     "metadata": {},
     "output_type": "execute_result"
    }
   ],
   "source": [
    "context.Data.CreateEnumerable<BreastCancerData>(allData, reuseRowObject: false)\n",
    "    .Select(x => x.InvNodes)\n",
    "    .Distinct()"
   ]
  },
  {
   "cell_type": "code",
   "execution_count": 12,
   "metadata": {},
   "outputs": [
    {
     "data": {
      "text/html": [
       "<table><thead><tr><th><i>index</i></th><th>value</th></tr></thead><tbody><tr><td>0</td><td>?</td></tr><tr><td>1</td><td>no</td></tr><tr><td>2</td><td>yes</td></tr></tbody></table>"
      ]
     },
     "execution_count": 12,
     "metadata": {},
     "output_type": "execute_result"
    }
   ],
   "source": [
    "context.Data.CreateEnumerable<BreastCancerData>(allData, reuseRowObject: false)\n",
    "    .Select(x => x.NodeCaps)\n",
    "    .Distinct()"
   ]
  },
  {
   "cell_type": "code",
   "execution_count": 13,
   "metadata": {},
   "outputs": [
    {
     "data": {
      "text/html": [
       "<table><thead><tr><th><i>index</i></th><th>value</th></tr></thead><tbody><tr><td>0</td><td>left</td></tr><tr><td>1</td><td>right</td></tr></tbody></table>"
      ]
     },
     "execution_count": 13,
     "metadata": {},
     "output_type": "execute_result"
    }
   ],
   "source": [
    "context.Data.CreateEnumerable<BreastCancerData>(allData, reuseRowObject: false)\n",
    "    .Select(x => x.Breast)\n",
    "    .Distinct()"
   ]
  },
  {
   "cell_type": "code",
   "execution_count": 14,
   "metadata": {},
   "outputs": [
    {
     "data": {
      "text/html": [
       "<table><thead><tr><th><i>index</i></th><th>value</th></tr></thead><tbody><tr><td>0</td><td>left_up</td></tr><tr><td>1</td><td>?</td></tr><tr><td>2</td><td>left_low</td></tr><tr><td>3</td><td>right_up</td></tr><tr><td>4</td><td>central</td></tr><tr><td>5</td><td>right_low</td></tr></tbody></table>"
      ]
     },
     "execution_count": 14,
     "metadata": {},
     "output_type": "execute_result"
    }
   ],
   "source": [
    "context.Data.CreateEnumerable<BreastCancerData>(allData, reuseRowObject: false)\n",
    "    .Select(x => x.BreastQuad)\n",
    "    .Distinct()"
   ]
  },
  {
   "cell_type": "code",
   "execution_count": 15,
   "metadata": {},
   "outputs": [
    {
     "data": {
      "text/html": [
       "<table><thead><tr><th><i>index</i></th><th>value</th></tr></thead><tbody><tr><td>0</td><td>yes</td></tr><tr><td>1</td><td>no</td></tr></tbody></table>"
      ]
     },
     "execution_count": 15,
     "metadata": {},
     "output_type": "execute_result"
    }
   ],
   "source": [
    "context.Data.CreateEnumerable<BreastCancerData>(allData, reuseRowObject: false)\n",
    "    .Select(x => x.Irradiat)\n",
    "    .Distinct()"
   ]
  },
  {
   "cell_type": "code",
   "execution_count": 47,
   "metadata": {},
   "outputs": [
    {
     "data": {
      "text/html": [
       "<table><thead><tr><th><i>index</i></th><th>Label</th><th>AgeEncoded</th><th>MenopauseEncoded</th><th>TumorSizeEncoded</th><th>InvNodesEncoded</th><th>NodeCapsEncoded</th><th>BreastEncoded</th><th>BreastQuadEncoded</th><th>IrradiatEncoded</th><th>Features</th><th>Class</th><th>Age</th><th>Menopause</th><th>TumorSize</th><th>InvNodes</th><th>NodeCaps</th><th>DegMalig</th><th>Breast</th><th>BreastQuad</th><th>Irradiat</th></tr></thead><tbody><tr><td>0</td><td>False</td><td>0</td><td>3</td><td>1</td><td>1</td><td>2</td><td>2</td><td>2</td><td>1</td><td>&lt;null&gt;</td><td>recurrence-events</td><td>30-39</td><td>premeno</td><td>0-4</td><td>0-2</td><td>no</td><td>2</td><td>right</td><td>central</td><td>no</td></tr><tr><td>1</td><td>False</td><td>0</td><td>3</td><td>6</td><td>6</td><td>3</td><td>2</td><td>6</td><td>1</td><td>&lt;null&gt;</td><td>no-recurrence-events</td><td>30-39</td><td>premeno</td><td>30-34</td><td>6-8</td><td>yes</td><td>2</td><td>right</td><td>right_up</td><td>no</td></tr><tr><td>2</td><td>False</td><td>0</td><td>3</td><td>8</td><td>1</td><td>2</td><td>2</td><td>6</td><td>1</td><td>&lt;null&gt;</td><td>no-recurrence-events</td><td>30-39</td><td>premeno</td><td>40-44</td><td>0-2</td><td>no</td><td>2</td><td>right</td><td>right_up</td><td>no</td></tr><tr><td>3</td><td>False</td><td>0</td><td>3</td><td>6</td><td>1</td><td>3</td><td>2</td><td>6</td><td>1</td><td>&lt;null&gt;</td><td>recurrence-events</td><td>40-49</td><td>premeno</td><td>30-34</td><td>0-2</td><td>yes</td><td>3</td><td>right</td><td>right_up</td><td>no</td></tr><tr><td>4</td><td>False</td><td>0</td><td>3</td><td>3</td><td>1</td><td>2</td><td>1</td><td>3</td><td>1</td><td>&lt;null&gt;</td><td>no-recurrence-events</td><td>30-39</td><td>premeno</td><td>15-19</td><td>0-2</td><td>no</td><td>1</td><td>left</td><td>left_low</td><td>no</td></tr></tbody></table>"
      ]
     },
     "execution_count": 47,
     "metadata": {},
     "output_type": "execute_result"
    }
   ],
   "source": [
    "var encodeCategorical = context.Transforms.Conversion.MapValueToKey(\n",
    "    new[] {\n",
    "//         new  InputOutputColumnPair(\"AgeEncoded\", \"Age\"),\n",
    "        new  InputOutputColumnPair(\"MenopauseEncoded\", \"Menopause\"),\n",
    "        new  InputOutputColumnPair(\"TumorSizeEncoded\", \"TumorSize\"),\n",
    "        new  InputOutputColumnPair(\"InvNodesEncoded\", \"InvNodes\"),\n",
    "        new  InputOutputColumnPair(\"NodeCapsEncoded\", \"NodeCaps\"),\n",
    "        new  InputOutputColumnPair(\"BreastEncoded\", \"Breast\"),\n",
    "        new  InputOutputColumnPair(\"BreastQuadEncoded\", \"BreastQuad\"),\n",
    "        new  InputOutputColumnPair(\"IrradiatEncoded\", \"Irradiat\"),\n",
    "    },\n",
    "    keyOrdinality: ValueToKeyMappingEstimator.KeyOrdinality.ByValue,\n",
    "    addKeyValueAnnotationsAsText: true\n",
    ");\n",
    "\n",
    "var transformedData = encodeCategorical.Fit(allData).Transform(allData);\n",
    "context.Data.CreateEnumerable<BreastCancerTrainData>(transformedData, reuseRowObject: false, ignoreMissingColumns: true).Take(5)"
   ]
  },
  {
   "cell_type": "code",
   "execution_count": 50,
   "metadata": {},
   "outputs": [
    {
     "data": {
      "text/html": [
       "<table><thead><tr><th><i>index</i></th><th>Label</th><th>AgeEncoded</th><th>MenopauseEncoded</th><th>TumorSizeEncoded</th><th>InvNodesEncoded</th><th>NodeCapsEncoded</th><th>BreastEncoded</th><th>BreastQuadEncoded</th><th>IrradiatEncoded</th><th>Features</th><th>Class</th><th>Age</th><th>Menopause</th><th>TumorSize</th><th>InvNodes</th><th>NodeCaps</th><th>DegMalig</th><th>Breast</th><th>BreastQuad</th><th>Irradiat</th></tr></thead><tbody><tr><td>0</td><td>True</td><td>2</td><td>3</td><td>1</td><td>0</td><td>0</td><td>0</td><td>0</td><td>0</td><td>[ 2, 3, 1 ]</td><td>recurrence-events</td><td>30-39</td><td>premeno</td><td>0-4</td><td>0-2</td><td>no</td><td>2</td><td>right</td><td>central</td><td>no</td></tr><tr><td>1</td><td>False</td><td>2</td><td>3</td><td>7</td><td>0</td><td>0</td><td>0</td><td>0</td><td>0</td><td>[ 2, 3, 7 ]</td><td>no-recurrence-events</td><td>30-39</td><td>premeno</td><td>30-34</td><td>6-8</td><td>yes</td><td>2</td><td>right</td><td>right_up</td><td>no</td></tr><tr><td>2</td><td>False</td><td>2</td><td>3</td><td>9</td><td>0</td><td>0</td><td>0</td><td>0</td><td>0</td><td>[ 2, 3, 9 ]</td><td>no-recurrence-events</td><td>30-39</td><td>premeno</td><td>40-44</td><td>0-2</td><td>no</td><td>2</td><td>right</td><td>right_up</td><td>no</td></tr><tr><td>3</td><td>True</td><td>3</td><td>3</td><td>7</td><td>0</td><td>0</td><td>0</td><td>0</td><td>0</td><td>[ 3, 3, 7 ]</td><td>recurrence-events</td><td>40-49</td><td>premeno</td><td>30-34</td><td>0-2</td><td>yes</td><td>3</td><td>right</td><td>right_up</td><td>no</td></tr><tr><td>4</td><td>False</td><td>2</td><td>3</td><td>4</td><td>0</td><td>0</td><td>0</td><td>0</td><td>0</td><td>[ 2, 3, 4 ]</td><td>no-recurrence-events</td><td>30-39</td><td>premeno</td><td>15-19</td><td>0-2</td><td>no</td><td>1</td><td>left</td><td>left_low</td><td>no</td></tr><tr><td>5</td><td>False</td><td>4</td><td>2</td><td>1</td><td>0</td><td>0</td><td>0</td><td>0</td><td>0</td><td>[ 4, 2, 1 ]</td><td>no-recurrence-events</td><td>50-59</td><td>ge40</td><td>0-4</td><td>0-2</td><td>no</td><td>1</td><td>right</td><td>central</td><td>no</td></tr><tr><td>6</td><td>False</td><td>3</td><td>3</td><td>3</td><td>0</td><td>0</td><td>0</td><td>0</td><td>0</td><td>[ 3, 3, 3 ]</td><td>no-recurrence-events</td><td>40-49</td><td>premeno</td><td>10-14</td><td>0-2</td><td>no</td><td>1</td><td>right</td><td>right_low</td><td>no</td></tr><tr><td>7</td><td>False</td><td>3</td><td>3</td><td>5</td><td>0</td><td>0</td><td>0</td><td>0</td><td>0</td><td>[ 3, 3, 5 ]</td><td>no-recurrence-events</td><td>40-49</td><td>premeno</td><td>20-24</td><td>0-2</td><td>no</td><td>3</td><td>right</td><td>left_low</td><td>yes</td></tr><tr><td>8</td><td>False</td><td>4</td><td>3</td><td>4</td><td>0</td><td>0</td><td>0</td><td>0</td><td>0</td><td>[ 4, 3, 4 ]</td><td>no-recurrence-events</td><td>50-59</td><td>premeno</td><td>15-19</td><td>0-2</td><td>no</td><td>2</td><td>right</td><td>left_low</td><td>no</td></tr><tr><td>9</td><td>False</td><td>5</td><td>2</td><td>4</td><td>0</td><td>0</td><td>0</td><td>0</td><td>0</td><td>[ 5, 2, 4 ]</td><td>no-recurrence-events</td><td>60-69</td><td>ge40</td><td>15-19</td><td>0-2</td><td>no</td><td>2</td><td>right</td><td>left_low</td><td>no</td></tr><tr><td>10</td><td>False</td><td>3</td><td>3</td><td>5</td><td>0</td><td>0</td><td>0</td><td>0</td><td>0</td><td>[ 3, 3, 5 ]</td><td>no-recurrence-events</td><td>40-49</td><td>premeno</td><td>20-24</td><td>0-2</td><td>no</td><td>2</td><td>right</td><td>left_up</td><td>no</td></tr><tr><td>11</td><td>False</td><td>2</td><td>3</td><td>7</td><td>0</td><td>0</td><td>0</td><td>0</td><td>0</td><td>[ 2, 3, 7 ]</td><td>no-recurrence-events</td><td>30-39</td><td>premeno</td><td>30-34</td><td>0-2</td><td>no</td><td>3</td><td>left</td><td>left_low</td><td>no</td></tr><tr><td>12</td><td>False</td><td>3</td><td>3</td><td>5</td><td>0</td><td>0</td><td>0</td><td>0</td><td>0</td><td>[ 3, 3, 5 ]</td><td>no-recurrence-events</td><td>40-49</td><td>premeno</td><td>20-24</td><td>0-2</td><td>no</td><td>2</td><td>left</td><td>left_up</td><td>no</td></tr><tr><td>13</td><td>False</td><td>5</td><td>2</td><td>6</td><td>0</td><td>0</td><td>0</td><td>0</td><td>0</td><td>[ 5, 2, 6 ]</td><td>no-recurrence-events</td><td>60-69</td><td>ge40</td><td>25-29</td><td>0-2</td><td>no</td><td>3</td><td>right</td><td>left_up</td><td>no</td></tr><tr><td>14</td><td>True</td><td>3</td><td>3</td><td>7</td><td>0</td><td>0</td><td>0</td><td>0</td><td>0</td><td>[ 3, 3, 7 ]</td><td>recurrence-events</td><td>40-49</td><td>premeno</td><td>30-34</td><td>12-14</td><td>yes</td><td>3</td><td>left</td><td>left_up</td><td>yes</td></tr></tbody></table>"
      ]
     },
     "execution_count": 50,
     "metadata": {},
     "output_type": "execute_result"
    }
   ],
   "source": [
    "var featureColumns = new[]\n",
    "{\n",
    "    \"AgeEncoded\", \"MenopauseEncoded\", \"TumorSizeEncoded\"\n",
    "};\n",
    "var pipeline = mapLabel\n",
    "    .Append(encodeAge)\n",
    "    .Append(encodeMenopause)\n",
    "    .Append(encodeTumorSize)\n",
    "    .Append(context.Transforms.Concatenate(\"Features\", featureColumns));\n",
    "var transformedData = pipeline.Fit(allData).Transform(allData);\n",
    "context.Data.CreateEnumerable<BreastCancerTrainData>(transformedData, reuseRowObject: false, ignoreMissingColumns: true).Take(15)"
   ]
  },
  {
   "cell_type": "code",
   "execution_count": 79,
   "metadata": {},
   "outputs": [],
   "source": [
    "var splitData = context.Data.TrainTestSplit(allData, testFraction: 0.2);\n",
    "var (trainData, testData) = (splitData.TrainSet, splitData.TestSet);"
   ]
  },
  {
   "cell_type": "code",
   "execution_count": 80,
   "metadata": {},
   "outputs": [],
   "source": [
    "var transformer = pipeline.Fit(trainData);"
   ]
  },
  {
   "cell_type": "code",
   "execution_count": 81,
   "metadata": {},
   "outputs": [],
   "source": [
    "var estimator = context.BinaryClassification.Trainers.SdcaLogisticRegression(featureColumnName: \"Features\");"
   ]
  },
  {
   "cell_type": "code",
   "execution_count": null,
   "metadata": {},
   "outputs": [],
   "source": [
    "var transformedTrainData = transformer.Transform(trainData);\n",
    "var cvResults = context.BinaryClassification.CrossValidate(transformedTrainData, estimator, numberOfFolds: 3);\n",
    "var cvResult = cvResults\n",
    "    .OrderByDescending(x => x.Metrics.Accuracy)\n",
    "    .First();"
   ]
  }
 ],
 "metadata": {
  "kernelspec": {
   "display_name": ".NET (C#)",
   "language": "C#",
   "name": ".net-csharp"
  },
  "language_info": {
   "file_extension": ".cs",
   "mimetype": "text/x-csharp",
   "name": "C#",
   "pygments_lexer": "csharp",
   "version": "8.0"
  }
 },
 "nbformat": 4,
 "nbformat_minor": 4
}
