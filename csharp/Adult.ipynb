{
 "cells": [
  {
   "cell_type": "code",
   "execution_count": 1,
   "metadata": {},
   "outputs": [
    {
     "data": {
      "text/html": [
       "Installed package Microsoft.ML version 1.4.0"
      ]
     },
     "metadata": {},
     "output_type": "display_data"
    }
   ],
   "source": [
    "#r \"nuget: Microsoft.ML\"\n",
    "using System;\n",
    "using System.IO;\n",
    "using System.Linq;\n",
    "using System.Net;\n",
    "using Microsoft.ML;\n",
    "using Microsoft.ML.Data;\n",
    "using Microsoft.ML.Transforms;"
   ]
  },
  {
   "cell_type": "markdown",
   "metadata": {},
   "source": [
    "Download data from [UCI Machine Learning Repository](https://archive.ics.uci.edu/ml/machine-learning-databases/adult):"
   ]
  },
  {
   "cell_type": "code",
   "execution_count": 2,
   "metadata": {},
   "outputs": [
    {
     "name": "stdout",
     "output_type": "stream",
     "text": [
      "Train data file has 32,562 lines\n"
     ]
    },
    {
     "data": {
      "text/html": [
       "<table><thead><tr><th><i>index</i></th><th>value</th></tr></thead><tbody><tr><td>0</td><td>39, State-gov, 77516, Bachelors, 13, Never-married, Adm-clerical, Not-in-family, White, Male, 2174, 0, 40, United-States, &lt;=50K</td></tr><tr><td>1</td><td>50, Self-emp-not-inc, 83311, Bachelors, 13, Married-civ-spouse, Exec-managerial, Husband, White, Male, 0, 0, 13, United-States, &lt;=50K</td></tr><tr><td>2</td><td>38, Private, 215646, HS-grad, 9, Divorced, Handlers-cleaners, Not-in-family, White, Male, 0, 0, 40, United-States, &lt;=50K</td></tr><tr><td>3</td><td>53, Private, 234721, 11th, 7, Married-civ-spouse, Handlers-cleaners, Husband, Black, Male, 0, 0, 40, United-States, &lt;=50K</td></tr><tr><td>4</td><td>28, Private, 338409, Bachelors, 13, Married-civ-spouse, Prof-specialty, Wife, Black, Female, 0, 0, 40, Cuba, &lt;=50K</td></tr></tbody></table>"
      ]
     },
     "execution_count": 2,
     "metadata": {},
     "output_type": "execute_result"
    }
   ],
   "source": [
    "if (!File.Exists(\"adult.data\"))\n",
    "{\n",
    "    using var client = new WebClient();\n",
    "    client.DownloadFile(\"https://archive.ics.uci.edu/ml/machine-learning-databases/adult/adult.data\", \"adult.data\");\n",
    "}\n",
    "\n",
    "Console.WriteLine($\"Train data file has {File.ReadLines(\"adult.data\").Count():n0} lines\");\n",
    "File.ReadLines(\"adult.data\").Take(5)"
   ]
  },
  {
   "cell_type": "markdown",
   "metadata": {},
   "source": [
    "Some datasets from the UCI Machine Learning Repository have two files, one for training data and one for test data. Notice how the .test dataset has a line of descriptive text at the start of the file. We don't want to load this line--you will see how to deal with that below."
   ]
  },
  {
   "cell_type": "code",
   "execution_count": 3,
   "metadata": {},
   "outputs": [
    {
     "name": "stdout",
     "output_type": "stream",
     "text": [
      "Test data file has 16,283 lines\n"
     ]
    },
    {
     "data": {
      "text/html": [
       "<table><thead><tr><th><i>index</i></th><th>value</th></tr></thead><tbody><tr><td>0</td><td>|1x3 Cross validator</td></tr><tr><td>1</td><td>25, Private, 226802, 11th, 7, Never-married, Machine-op-inspct, Own-child, Black, Male, 0, 0, 40, United-States, &lt;=50K.</td></tr><tr><td>2</td><td>38, Private, 89814, HS-grad, 9, Married-civ-spouse, Farming-fishing, Husband, White, Male, 0, 0, 50, United-States, &lt;=50K.</td></tr><tr><td>3</td><td>28, Local-gov, 336951, Assoc-acdm, 12, Married-civ-spouse, Protective-serv, Husband, White, Male, 0, 0, 40, United-States, &gt;50K.</td></tr><tr><td>4</td><td>44, Private, 160323, Some-college, 10, Married-civ-spouse, Machine-op-inspct, Husband, Black, Male, 7688, 0, 40, United-States, &gt;50K.</td></tr></tbody></table>"
      ]
     },
     "execution_count": 3,
     "metadata": {},
     "output_type": "execute_result"
    }
   ],
   "source": [
    "if (!File.Exists(\"adult.test\"))\n",
    "{\n",
    "    using var client = new WebClient();\n",
    "    client.DownloadFile(\"https://archive.ics.uci.edu/ml/machine-learning-databases/adult/adult.test\", \"adult.test\");\n",
    "}\n",
    "\n",
    "Console.WriteLine($\"Test data file has {File.ReadLines(\"adult.test\").Count():n0} lines\");\n",
    "File.ReadLines(\"adult.test\").Take(5)"
   ]
  },
  {
   "cell_type": "markdown",
   "metadata": {},
   "source": [
    "Create a new `MLContext`. `MLContext` is the workhorse of machine learning in .NET."
   ]
  },
  {
   "cell_type": "code",
   "execution_count": 4,
   "metadata": {},
   "outputs": [],
   "source": [
    "var context = new MLContext();"
   ]
  },
  {
   "cell_type": "markdown",
   "metadata": {},
   "source": [
    "Create a class to represent the data in our file:"
   ]
  },
  {
   "cell_type": "code",
   "execution_count": 5,
   "metadata": {},
   "outputs": [],
   "source": [
    "class AdultData\n",
    "{\n",
    "    [LoadColumn(0)]\n",
    "    public float Age { get; set; }\n",
    "\n",
    "    [LoadColumn(1)]\n",
    "    public string WorkClass { get; set; }\n",
    "\n",
    "    [LoadColumn(2)]\n",
    "    public float Fnlwgt { get; set; }\n",
    "\n",
    "    [LoadColumn(3)]\n",
    "    public string Education { get; set; }\n",
    "\n",
    "    [LoadColumn(4)]\n",
    "    public float EducationNum { get; set; }\n",
    "\n",
    "    [LoadColumn(5)]\n",
    "    public float MaritalStatus { get; set; }\n",
    "\n",
    "    [LoadColumn(6)]\n",
    "    public float Occupation { get; set; }\n",
    "\n",
    "    [LoadColumn(7)]\n",
    "    public float Relationship { get; set; }\n",
    "\n",
    "    [LoadColumn(8)]\n",
    "    public string Race { get; set; }\n",
    "\n",
    "    [LoadColumn(9)]\n",
    "    public string Sex { get; set; }\n",
    "\n",
    "    [LoadColumn(10)]\n",
    "    public float CapitalGain { get; set; }\n",
    "\n",
    "    [LoadColumn(11)]\n",
    "    public float CapitalLoss { get; set; }\n",
    "\n",
    "    [LoadColumn(12)]\n",
    "    public float HoursPerWeek { get; set; }\n",
    "\n",
    "    [LoadColumn(13)]\n",
    "    public string NativeCountry { get; set; }\n",
    "\n",
    "    [LoadColumn(14)]\n",
    "    [ColumnName(\"Label\")]\n",
    "    public string Target { get; set; }\n",
    "}"
   ]
  },
  {
   "cell_type": "markdown",
   "metadata": {},
   "source": [
    "Now that we have an `MLContext` and a class to represent our data, we can load the file into a `DataView`. It is a good practice to shuffle the data after loading. Many datasets come ordered by some columns of values or even worse by the label. For training a model we want our data to be in a random order:"
   ]
  },
  {
   "cell_type": "code",
   "execution_count": 6,
   "metadata": {},
   "outputs": [],
   "source": [
    "var trainData = context.Data.LoadFromTextFile<AdultData>(\"adult.data\", hasHeader: false, separatorChar: ',');\n",
    "trainData = context.Data.ShuffleRows(trainData);"
   ]
  },
  {
   "cell_type": "markdown",
   "metadata": {},
   "source": [
    "Remember that we noted earlier that our file of test data has \"garbage\" text on the first line? The `LoadFromTextFile` method does not have a way to skip lines in a file so we will use the `hasHeader` parameter to serve that purpose. We are lucky here that there is only one line that we need to skip, otherwise, we would need to find another way to deal with \"garbage\" lines."
   ]
  },
  {
   "cell_type": "code",
   "execution_count": 7,
   "metadata": {},
   "outputs": [],
   "source": [
    "var testData = context.Data.LoadFromTextFile<AdultData>(\"adult.test\", hasHeader: true, separatorChar: ',');\n",
    "testData = context.Data.ShuffleRows(testData);"
   ]
  },
  {
   "cell_type": "markdown",
   "metadata": {},
   "source": [
    "Now we declare the features of the dataset that we will train our model on:"
   ]
  },
  {
   "cell_type": "code",
   "execution_count": 8,
   "metadata": {},
   "outputs": [],
   "source": [
    "var featureColumns = new[]\n",
    "{\n",
    "    nameof(AdultData.Age), nameof(AdultData.WorkClass), nameof(AdultData.Fnlwgt), nameof(AdultData.Education),\n",
    "    nameof(AdultData.EducationNum), nameof(AdultData.MaritalStatus), nameof(AdultData.Occupation), nameof(AdultData.Relationship),\n",
    "    nameof(AdultData.Race), nameof(AdultData.Sex), nameof(AdultData.CapitalGain), nameof(AdultData.CapitalLoss),\n",
    "    nameof(AdultData.HoursPerWeek), nameof(AdultData.NativeCountry)\n",
    "};"
   ]
  },
  {
   "cell_type": "markdown",
   "metadata": {},
   "source": [
    "There are a number of categorical columns (string values that reprsent discrete values) in the data. We will need to encode those columns so we declare which columns are categorical here:"
   ]
  },
  {
   "cell_type": "code",
   "execution_count": 9,
   "metadata": {},
   "outputs": [],
   "source": [
    "var categoricalColumns = new[]\n",
    "{\n",
    "    nameof(AdultData.WorkClass), nameof(AdultData.Education), nameof(AdultData.MaritalStatus), nameof(AdultData.Occupation),\n",
    "    nameof(AdultData.Relationship), nameof(AdultData.Race), nameof(AdultData.Sex), nameof(AdultData.NativeCountry)\n",
    "};"
   ]
  },
  {
   "cell_type": "markdown",
   "metadata": {},
   "source": [
    "The \"target\" or \"label\" for this example can take on two values. Thus, we will be creating a binary classification model. You may have noticed above that the labels in the test file differ from the labels in the training file--they have periods only in the test file! No problem, we can create a mapping such that label `<=50K` is treated the same as the label `<=50K.`. Simply create a `Dictionary` that maps the string value to our binary label of `true` or `false`:"
   ]
  },
  {
   "cell_type": "code",
   "execution_count": 10,
   "metadata": {},
   "outputs": [],
   "source": [
    "var labelLookup = new Dictionary<string, bool>\n",
    "{\n",
    "    [\"<=50K\"] = false,\n",
    "    [\"<=50K.\"] = false,\n",
    "    [\">50K\"] = true,\n",
    "    [\">50K.\"] = true\n",
    "};"
   ]
  },
  {
   "cell_type": "markdown",
   "metadata": {},
   "source": [
    "Create a pipeline with the following transforms:\n",
    "- One-hot encode each of the categorical columns.\n",
    "- Map our label column to `true` or `false`.\n",
    "- Concatenate all of the feature columns into a single new column.\n",
    "- Normalize the feature values."
   ]
  },
  {
   "cell_type": "code",
   "execution_count": 11,
   "metadata": {},
   "outputs": [],
   "source": [
    "var chain = new EstimatorChain<OneHotEncodingTransformer>();\n",
    "var pipeline = categoricalColumns\n",
    "    .Aggregate(chain, (pl, col) => pl.Append(context.Transforms.Categorical.OneHotEncoding(col)))\n",
    "    .Append(context.Transforms.Conversion.MapValue(\"Label\", labelLookup, \"Label\"))\n",
    "    .Append(context.Transforms.Concatenate(\"Features\", featureColumns))\n",
    "    .Append(context.Transforms.NormalizeBinning(\"FeaturesNorm\", \"Features\"));"
   ]
  },
  {
   "cell_type": "markdown",
   "metadata": {},
   "source": [
    "Fit the pipeline to our training data:"
   ]
  },
  {
   "cell_type": "code",
   "execution_count": 12,
   "metadata": {},
   "outputs": [],
   "source": [
    "var transformer = pipeline.Fit(trainData);"
   ]
  },
  {
   "cell_type": "markdown",
   "metadata": {},
   "source": [
    "Let's first view the data as it was loaded from the downloaded file:"
   ]
  },
  {
   "cell_type": "code",
   "execution_count": 13,
   "metadata": {},
   "outputs": [
    {
     "data": {
      "text/html": [
       "<table><thead><tr><th><i>index</i></th><th>Age</th><th>WorkClass</th><th>Fnlwgt</th><th>Education</th><th>EducationNum</th><th>MaritalStatus</th><th>Occupation</th><th>Relationship</th><th>Race</th><th>Sex</th><th>CapitalGain</th><th>CapitalLoss</th><th>HoursPerWeek</th><th>NativeCountry</th><th>Target</th></tr></thead><tbody><tr><td>0</td><td>55</td><td>Private</td><td>247552</td><td>Some-college</td><td>10</td><td>NaN</td><td>NaN</td><td>NaN</td><td>White</td><td>Male</td><td>0</td><td>0</td><td>56</td><td>United-States</td><td>&lt;=50K</td></tr><tr><td>1</td><td>32</td><td>Private</td><td>132601</td><td>Bachelors</td><td>13</td><td>NaN</td><td>NaN</td><td>NaN</td><td>White</td><td>Male</td><td>0</td><td>0</td><td>50</td><td>United-States</td><td>&lt;=50K</td></tr><tr><td>2</td><td>20</td><td>Private</td><td>298227</td><td>Some-college</td><td>10</td><td>NaN</td><td>NaN</td><td>NaN</td><td>White</td><td>Male</td><td>0</td><td>0</td><td>35</td><td>United-States</td><td>&lt;=50K</td></tr><tr><td>3</td><td>20</td><td>Private</td><td>81145</td><td>Some-college</td><td>10</td><td>NaN</td><td>NaN</td><td>NaN</td><td>White</td><td>Female</td><td>0</td><td>0</td><td>25</td><td>United-States</td><td>&lt;=50K</td></tr><tr><td>4</td><td>48</td><td>Private</td><td>102102</td><td>Assoc-voc</td><td>11</td><td>NaN</td><td>NaN</td><td>NaN</td><td>White</td><td>Male</td><td>0</td><td>0</td><td>50</td><td>United-States</td><td>&gt;50K</td></tr></tbody></table>"
      ]
     },
     "execution_count": 13,
     "metadata": {},
     "output_type": "execute_result"
    }
   ],
   "source": [
    "context.Data\n",
    "    .CreateEnumerable<AdultData>(trainData, reuseRowObject: false)\n",
    "    .Take(5)"
   ]
  },
  {
   "cell_type": "markdown",
   "metadata": {},
   "source": [
    "Now let's see what the data looks like after it has been transformed by our pipeline:"
   ]
  },
  {
   "cell_type": "code",
   "execution_count": 14,
   "metadata": {},
   "outputs": [
    {
     "data": {
      "text/html": [
       "<table><thead><tr><th><i>index</i></th><th>Target</th><th>Features</th><th>FeaturesNorm</th></tr></thead><tbody><tr><td>0</td><td>False</td><td>[ 55, 1, 0, 0, 0, 0, 0, 0, 0, 0 ... (73 more) ]</td><td>[ 0.5277778, 1, 0, 0, 0, 0, 0, 0, 0, 0 ... (73 more) ]</td></tr><tr><td>1</td><td>False</td><td>[ 32, 1, 0, 0, 0, 0, 0, 0, 0, 0 ... (73 more) ]</td><td>[ 0.20833333, 1, 0, 0, 0, 0, 0, 0, 0, 0 ... (73 more) ]</td></tr><tr><td>2</td><td>False</td><td>[ 20, 1, 0, 0, 0, 0, 0, 0, 0, 0 ... (73 more) ]</td><td>[ 0.041666668, 1, 0, 0, 0, 0, 0, 0, 0, 0 ... (73 more) ]</td></tr><tr><td>3</td><td>False</td><td>[ 20, 1, 0, 0, 0, 0, 0, 0, 0, 0 ... (73 more) ]</td><td>[ 0.041666668, 1, 0, 0, 0, 0, 0, 0, 0, 0 ... (73 more) ]</td></tr><tr><td>4</td><td>True</td><td>[ 48, 1, 0, 0, 0, 0, 0, 0, 0, 0 ... (73 more) ]</td><td>[ 0.43055555, 1, 0, 0, 0, 0, 0, 0, 0, 0 ... (73 more) ]</td></tr></tbody></table>"
      ]
     },
     "execution_count": 14,
     "metadata": {},
     "output_type": "execute_result"
    }
   ],
   "source": [
    "class AdultDataTransformed\n",
    "{\n",
    "    [ColumnName(\"Label\")]\n",
    "    public bool Target { get; set; }\n",
    "\n",
    "    [VectorType(83)]\n",
    "    public float[] Features { get; set; }\n",
    "\n",
    "    [VectorType(83)]\n",
    "    public float[] FeaturesNorm { get; set; }\n",
    "}\n",
    "\n",
    "var transformedData = transformer.Transform(trainData);\n",
    "context.Data\n",
    "    .CreateEnumerable<AdultDataTransformed>(transformedData, reuseRowObject: false)\n",
    "    .Take(5)"
   ]
  },
  {
   "cell_type": "markdown",
   "metadata": {},
   "source": [
    "Woah! Notice how there are 80+ columns after running the data through the pipeline! This is due to one-hot encoding which creates a new column for each discrete value in our categorical columns. Don't worry though, this is no problem for ML.NET which can deal with hundreds, even thousands of features in a dataset."
   ]
  },
  {
   "cell_type": "markdown",
   "metadata": {},
   "source": [
    "Now we will create a binary classigication estimator. You can try different estimators to see how their accuracy differs."
   ]
  },
  {
   "cell_type": "code",
   "execution_count": 15,
   "metadata": {},
   "outputs": [],
   "source": [
    "var estimator = context.BinaryClassification.Trainers.SdcaLogisticRegression(featureColumnName: \"FeaturesNorm\");"
   ]
  },
  {
   "cell_type": "markdown",
   "metadata": {},
   "source": [
    "Use cross-validation to select the best performing model:"
   ]
  },
  {
   "cell_type": "code",
   "execution_count": 16,
   "metadata": {},
   "outputs": [],
   "source": [
    "var transformedTrainData = transformer.Transform(trainData);\n",
    "var cvResults = context.BinaryClassification.CrossValidate(transformedTrainData, estimator, numberOfFolds: 3);\n",
    "var cvResult = cvResults\n",
    "    .OrderByDescending(x => x.Metrics.Accuracy)\n",
    "    .First();"
   ]
  },
  {
   "cell_type": "markdown",
   "metadata": {},
   "source": [
    "Here are the metrics for our model. Since `cvResults` contains the model from each cross-validation, we will average across them all the get a measure of performance:"
   ]
  },
  {
   "cell_type": "code",
   "execution_count": 17,
   "metadata": {},
   "outputs": [
    {
     "data": {
      "text/html": [
       "<table><thead><tr><th><i>key</i></th><th>value</th></tr></thead><tbody><tr><td>Accuracy</td><td>0.8227696846019305</td></tr><tr><td>Area Under Roc Curve</td><td>0.8474232098160762</td></tr><tr><td>F1 Score</td><td>0.5517198394398587</td></tr></tbody></table>"
      ]
     },
     "execution_count": 17,
     "metadata": {},
     "output_type": "execute_result"
    }
   ],
   "source": [
    "new Dictionary<string, double>\n",
    "{\n",
    "    [\"Accuracy\"] = cvResults.Average(x => x.Metrics.Accuracy),\n",
    "    [\"Area Under Roc Curve\"] = cvResults.Average(x => x.Metrics.AreaUnderRocCurve),\n",
    "    [\"F1 Score\"] = cvResults.Average(x => x.Metrics.F1Score),\n",
    "}"
   ]
  },
  {
   "cell_type": "markdown",
   "metadata": {},
   "source": [
    "OK, now we can use our best model on the test data."
   ]
  },
  {
   "cell_type": "code",
   "execution_count": 18,
   "metadata": {},
   "outputs": [
    {
     "data": {
      "text/html": [
       "<table><thead><tr><th>LogLoss</th><th>LogLossReduction</th><th>Entropy</th><th>AreaUnderRocCurve</th><th>Accuracy</th><th>PositivePrecision</th><th>PositiveRecall</th><th>NegativePrecision</th><th>NegativeRecall</th><th>F1Score</th><th>AreaUnderPrecisionRecallCurve</th><th>ConfusionMatrix</th></tr></thead><tbody><tr><td>0.5649796455271927</td><td>0.28366453362764904</td><td>0.7887081849909641</td><td>0.8443358088163494</td><td>0.8221853694490511</td><td>0.6868369351669941</td><td>0.4544981799271971</td><td>0.8472626674432149</td><td>0.9359067149175714</td><td>0.5470192458144265</td><td>0.6602950675767943</td><td>{ Microsoft.ML.Data.ConfusionMatrix: PerClassPrecision: [ 0.6868369351669941, 0.8472626674432149 ], PerClassRecall: [ 0.4544981799271971, 0.9359067149175714 ], Counts: [ [ 1748, 2098 ], [ 797, 11638 ] ], NumberOfClasses: 2 }</td></tr></tbody></table>"
      ]
     },
     "execution_count": 18,
     "metadata": {},
     "output_type": "execute_result"
    }
   ],
   "source": [
    "var transformedTestData = transformer.Transform(testData);\n",
    "var predictions = cvResult.Model.Transform(transformedTestData);\n",
    "context.BinaryClassification.Evaluate(predictions)"
   ]
  },
  {
   "cell_type": "markdown",
   "metadata": {},
   "source": [
    "Now let's pretend we have new data (for convenience we are just randomly re-sampling the test data) to see what predictions our model makes. You will see two values:\n",
    "- `Label`: the actual label (<=50K, >50K) from the example being predicted. Our model never sees this value but we show it below so that you can see how close the predicted number of rings are to the actual.\n",
    "- `Probability`: the probability that the model assigns to the predicted label. 0 would be the most probable `false` label while 1 would be the most probable `true` label.\n",
    "- `PredictedLabel`: this is the actual prediction made by the model.\n",
    "\n",
    "You can run this cell multiple times to get new random samples and their predictions!"
   ]
  },
  {
   "cell_type": "code",
   "execution_count": 23,
   "metadata": {},
   "outputs": [
    {
     "data": {
      "text/html": [
       "<table><thead><tr><th><i>index</i></th><th>Label</th><th>Probability</th><th>PredictedLabel</th></tr></thead><tbody><tr><td>0</td><td>False</td><td>0.4270283</td><td>False</td></tr><tr><td>1</td><td>True</td><td>0.58039045</td><td>True</td></tr><tr><td>2</td><td>False</td><td>0.27477393</td><td>False</td></tr><tr><td>3</td><td>True</td><td>0.38614753</td><td>False</td></tr><tr><td>4</td><td>False</td><td>0.20412506</td><td>False</td></tr></tbody></table>"
      ]
     },
     "execution_count": 23,
     "metadata": {},
     "output_type": "execute_result"
    }
   ],
   "source": [
    "class BinaryClassificationPrediction\n",
    "{\n",
    "    public bool Label { get; set; }\n",
    "\n",
    "    public float Probability { get; set; }\n",
    "\n",
    "    public bool PredictedLabel { get; set; }\n",
    "}\n",
    "\n",
    "var sampleData = context.Data.ShuffleRows(testData);\n",
    "var transformedSampleData = transformer.Transform(sampleData);\n",
    "\n",
    "var predictionEngine = context.Model.CreatePredictionEngine<AdultDataTransformed, BinaryClassificationPrediction>(cvResult.Model);\n",
    "\n",
    "context.Data.CreateEnumerable<AdultDataTransformed>(transformedSampleData, reuseRowObject: false)\n",
    "    .Take(5)\n",
    "    .Select(predictionEngine.Predict)"
   ]
  },
  {
   "cell_type": "code",
   "execution_count": null,
   "metadata": {},
   "outputs": [],
   "source": []
  }
 ],
 "metadata": {
  "kernelspec": {
   "display_name": ".NET (C#)",
   "language": "C#",
   "name": ".net-csharp"
  },
  "language_info": {
   "file_extension": ".cs",
   "mimetype": "text/x-csharp",
   "name": "C#",
   "pygments_lexer": "csharp",
   "version": "8.0"
  }
 },
 "nbformat": 4,
 "nbformat_minor": 4
}
