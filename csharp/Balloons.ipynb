{
 "cells": [
  {
   "cell_type": "code",
   "execution_count": 1,
   "metadata": {},
   "outputs": [
    {
     "data": {
      "text/html": [
       "Installed package Microsoft.ML.LightGbm version 1.4.0"
      ]
     },
     "metadata": {},
     "output_type": "display_data"
    },
    {
     "data": {
      "text/html": [
       "Installed package Microsoft.ML version 1.4.0"
      ]
     },
     "metadata": {},
     "output_type": "display_data"
    }
   ],
   "source": [
    "#r \"nuget: Microsoft.ML\"\n",
    "#r \"nuget: Microsoft.ML.LightGbm\"\n",
    "using System;\n",
    "using System.IO;\n",
    "using System.Linq;\n",
    "using System.Net;\n",
    "using Microsoft.ML;\n",
    "using Microsoft.ML.Data;\n",
    "using Microsoft.ML.Transforms;"
   ]
  },
  {
   "cell_type": "code",
   "execution_count": 2,
   "metadata": {},
   "outputs": [
    {
     "name": "stdout",
     "output_type": "stream",
     "text": [
      "adult+stretch.data has 20 lines\n",
      "adult-stretch.data has 20 lines\n",
      "yellow-small+adult-stretch.data has 16 lines\n",
      "yellow-small.data has 20 lines\n"
     ]
    },
    {
     "data": {
      "text/html": [
       "<table><thead><tr><th><i>index</i></th><th>value</th></tr></thead><tbody><tr><td>0</td><td>YELLOW,SMALL,STRETCH,ADULT,T</td></tr><tr><td>1</td><td>YELLOW,SMALL,STRETCH,ADULT,T</td></tr><tr><td>2</td><td>YELLOW,SMALL,STRETCH,CHILD,F</td></tr><tr><td>3</td><td>YELLOW,SMALL,DIP,ADULT,F</td></tr><tr><td>4</td><td>YELLOW,SMALL,DIP,CHILD,F</td></tr></tbody></table>"
      ]
     },
     "execution_count": 2,
     "metadata": {},
     "output_type": "execute_result"
    }
   ],
   "source": [
    "var files = new[] { \"adult+stretch.data\", \"adult-stretch.data\", \"yellow-small+adult-stretch.data\", \"yellow-small.data\" };\n",
    "\n",
    "Directory.CreateDirectory(\"balloons\");\n",
    "foreach (var file in files)\n",
    "{\n",
    "    var saveFile = $\"balloons/{file}\";\n",
    "    if (!File.Exists(saveFile))\n",
    "    {\n",
    "        using var client = new WebClient();\n",
    "        client.DownloadFile($\"https://archive.ics.uci.edu/ml/machine-learning-databases/balloons/{file}\", saveFile);\n",
    "    }\n",
    "\n",
    "    Console.WriteLine($\"{file} has {File.ReadLines(saveFile).Count():n0} lines\");\n",
    "}\n",
    "File.ReadLines($\"balloons/{files[0]}\").Take(5)"
   ]
  },
  {
   "cell_type": "markdown",
   "metadata": {},
   "source": [
    "># Data Set Information:\n",
    ">\n",
    ">There are four data sets representing different conditions of an experiment. All have the same attributes.\n",
    ">\n",
    "> a. adult-stretch.data Inflated is true if age=adult or act=stretch\n",
    ">\n",
    "> b. adult+stretch.data Inflated is true if age=adult and act=stretch\n",
    ">\n",
    "> c. small-yellow.data Inflated is true if (color=yellow and size = small) or\n",
    ">\n",
    "> d. small-yellow+adult-stretch.data Inflated is true if (color=yellow and size = small) or (age=adult and act=stretch)"
   ]
  },
  {
   "cell_type": "code",
   "execution_count": 3,
   "metadata": {},
   "outputs": [],
   "source": [
    "var context = new MLContext();"
   ]
  },
  {
   "cell_type": "code",
   "execution_count": 4,
   "metadata": {},
   "outputs": [],
   "source": [
    "class BalloonsData\n",
    "{\n",
    "    [LoadColumn(0)]\n",
    "    public string Color { get; set; }\n",
    "    \n",
    "    [LoadColumn(1)]\n",
    "    public string Size { get; set; }\n",
    "    \n",
    "    [LoadColumn(2)]\n",
    "    public string Act { get; set; }\n",
    "    \n",
    "    [LoadColumn(3)]\n",
    "    public string Age { get; set; }\n",
    "    \n",
    "    [ColumnName(\"Label\")]\n",
    "    [LoadColumn(4)]\n",
    "    public string Inflated { get; set; }\n",
    "}"
   ]
  },
  {
   "cell_type": "code",
   "execution_count": 5,
   "metadata": {},
   "outputs": [],
   "source": [
    "var allData = context.Data.LoadFromTextFile<BalloonsData>(\"balloons/*.data\", hasHeader: false, separatorChar: ',');\n",
    "allData = context.Data.ShuffleRows(allData);"
   ]
  },
  {
   "cell_type": "code",
   "execution_count": 6,
   "metadata": {},
   "outputs": [],
   "source": [
    "var splitData = context.Data.TrainTestSplit(allData, testFraction: 0.2);\n",
    "var (trainData, testData) = (splitData.TrainSet, splitData.TestSet);"
   ]
  },
  {
   "cell_type": "code",
   "execution_count": 7,
   "metadata": {},
   "outputs": [],
   "source": [
    "var featureColumns = new[]\n",
    "{\n",
    "    nameof(BalloonsData.Color), nameof(BalloonsData.Size), nameof(BalloonsData.Act), nameof(BalloonsData.Age)\n",
    "};"
   ]
  },
  {
   "cell_type": "code",
   "execution_count": 8,
   "metadata": {},
   "outputs": [
    {
     "data": {
      "text/html": [
       "<table><thead><tr><th><i>index</i></th><th>Key</th><th>Count</th></tr></thead><tbody><tr><td>0</td><td>F</td><td>41</td></tr><tr><td>1</td><td>T</td><td>35</td></tr></tbody></table>"
      ]
     },
     "execution_count": 8,
     "metadata": {},
     "output_type": "execute_result"
    }
   ],
   "source": [
    "class BalloonsLabel\n",
    "{\n",
    "    public string Label { get; set; }\n",
    "}\n",
    "\n",
    "context.Data.CreateEnumerable<BalloonsLabel>(allData, reuseRowObject: false)\n",
    "    .GroupBy(x => x.Label)\n",
    "    .Select(x => new { Key = x.Key, Count = x.Count() })\n",
    "    .OrderBy(x => x.Key)"
   ]
  },
  {
   "cell_type": "code",
   "execution_count": 10,
   "metadata": {},
   "outputs": [],
   "source": [
    "var labelLookup = new Dictionary<string, bool>\n",
    "{\n",
    "    [\"F\"] = false,\n",
    "    [\"T\"] = true,\n",
    "};"
   ]
  },
  {
   "cell_type": "code",
   "execution_count": 11,
   "metadata": {},
   "outputs": [],
   "source": [
    "var chain = new EstimatorChain<OneHotEncodingTransformer>();\n",
    "var pipeline = featureColumns\n",
    "    .Aggregate(chain, (pl, col) => pl.Append(context.Transforms.Categorical.OneHotEncoding(col)))\n",
    "    .Append(context.Transforms.Conversion.MapValue(\"Label\", labelLookup, \"Label\"))\n",
    "    .Append(context.Transforms.Concatenate(\"Features\", featureColumns));"
   ]
  },
  {
   "cell_type": "code",
   "execution_count": 12,
   "metadata": {},
   "outputs": [],
   "source": [
    "var transformer = pipeline.Fit(trainData);"
   ]
  },
  {
   "cell_type": "code",
   "execution_count": 13,
   "metadata": {},
   "outputs": [
    {
     "data": {
      "text/html": [
       "<table><thead><tr><th><i>index</i></th><th>Color</th><th>Size</th><th>Act</th><th>Age</th><th>Inflated</th></tr></thead><tbody><tr><td>0</td><td>YELLOW</td><td>SMALL</td><td>DIP</td><td>CHILD</td><td>F</td></tr><tr><td>1</td><td>PURPLE</td><td>LARGE</td><td>DIP</td><td>CHILD</td><td>F</td></tr><tr><td>2</td><td>YELLOW</td><td>LARGE</td><td>DIP</td><td>CHILD</td><td>F</td></tr><tr><td>3</td><td>PURPLE</td><td>SMALL</td><td>STRETCH</td><td>ADULT</td><td>T</td></tr><tr><td>4</td><td>YELLOW</td><td>SMALL</td><td>DIP</td><td>CHILD</td><td>T</td></tr></tbody></table>"
      ]
     },
     "execution_count": 13,
     "metadata": {},
     "output_type": "execute_result"
    }
   ],
   "source": [
    "context.Data\n",
    "    .CreateEnumerable<BalloonsData>(trainData, reuseRowObject: false)\n",
    "    .Take(5)"
   ]
  },
  {
   "cell_type": "code",
   "execution_count": 14,
   "metadata": {},
   "outputs": [
    {
     "data": {
      "text/html": [
       "<table><thead><tr><th><i>index</i></th><th>Values</th></tr></thead><tbody><tr><td>0</td><td>[ Color: YELLOW, Size: SMALL, Act: DIP, Age: CHILD, Label: F, SamplingKeyColumn: 0.5956414 ]</td></tr><tr><td>1</td><td>[ Color: PURPLE, Size: LARGE, Act: DIP, Age: CHILD, Label: F, SamplingKeyColumn: 0.58837676 ]</td></tr><tr><td>2</td><td>[ Color: YELLOW, Size: LARGE, Act: DIP, Age: CHILD, Label: F, SamplingKeyColumn: 0.7536782 ]</td></tr><tr><td>3</td><td>[ Color: PURPLE, Size: SMALL, Act: STRETCH, Age: ADULT, Label: T, SamplingKeyColumn: 0.96748567 ]</td></tr><tr><td>4</td><td>[ Color: YELLOW, Size: SMALL, Act: DIP, Age: CHILD, Label: T, SamplingKeyColumn: 0.9295975 ]</td></tr></tbody></table>"
      ]
     },
     "execution_count": 14,
     "metadata": {},
     "output_type": "execute_result"
    }
   ],
   "source": [
    "trainData.Preview().RowView.Take(5)"
   ]
  },
  {
   "cell_type": "code",
   "execution_count": 22,
   "metadata": {},
   "outputs": [
    {
     "data": {
      "text/html": [
       "<table><thead><tr><th><i>index</i></th><th>Inflated</th><th>Features</th></tr></thead><tbody><tr><td>0</td><td>False</td><td>[ 1, 0, 1, 0, 1, 0, 1, 0 ]</td></tr><tr><td>1</td><td>False</td><td>[ 0, 1, 0, 1, 1, 0, 1, 0 ]</td></tr><tr><td>2</td><td>False</td><td>[ 1, 0, 0, 1, 1, 0, 1, 0 ]</td></tr><tr><td>3</td><td>True</td><td>[ 0, 1, 1, 0, 0, 1, 0, 1 ]</td></tr><tr><td>4</td><td>True</td><td>[ 1, 0, 1, 0, 1, 0, 1, 0 ]</td></tr></tbody></table>"
      ]
     },
     "execution_count": 22,
     "metadata": {},
     "output_type": "execute_result"
    }
   ],
   "source": [
    "class BalloonsDataTransformed\n",
    "{\n",
    "    [ColumnName(\"Label\")]\n",
    "    public bool Inflated { get; set; }\n",
    "\n",
    "    [VectorType(8)]\n",
    "    public float[] Features { get; set; }\n",
    "}\n",
    "\n",
    "var transformedData = transformer.Transform(trainData);\n",
    "context.Data\n",
    "    .CreateEnumerable<BalloonsDataTransformed>(transformedData, reuseRowObject: false)\n",
    "    .Take(5)"
   ]
  },
  {
   "cell_type": "code",
   "execution_count": 16,
   "metadata": {},
   "outputs": [
    {
     "data": {
      "text/html": [
       "<table><thead><tr><th><i>index</i></th><th>Key</th><th>Count</th></tr></thead><tbody><tr><td>0</td><td>False</td><td>37</td></tr><tr><td>1</td><td>True</td><td>28</td></tr></tbody></table>"
      ]
     },
     "execution_count": 16,
     "metadata": {},
     "output_type": "execute_result"
    }
   ],
   "source": [
    "class BalloonsLabel\n",
    "{\n",
    "    public bool Label { get; set; }\n",
    "}\n",
    "\n",
    "context.Data.CreateEnumerable<BalloonsLabel>(transformedData, reuseRowObject: false)\n",
    "    .GroupBy(x => x.Label)\n",
    "    .Select(x => new { Key = x.Key, Count = x.Count() })\n",
    "    .OrderBy(x => x.Key)"
   ]
  },
  {
   "cell_type": "code",
   "execution_count": 27,
   "metadata": {},
   "outputs": [],
   "source": [
    "var estimator = context.BinaryClassification.Trainers.LightGbm(featureColumnName: \"Features\");"
   ]
  },
  {
   "cell_type": "code",
   "execution_count": 28,
   "metadata": {},
   "outputs": [],
   "source": [
    "var cvResults = context.BinaryClassification.CrossValidate(transformedData, estimator, numberOfFolds: 3);\n",
    "var cvResult = cvResults\n",
    "    .OrderByDescending(x => x.Metrics.Accuracy)\n",
    "    .First();"
   ]
  },
  {
   "cell_type": "code",
   "execution_count": 29,
   "metadata": {},
   "outputs": [
    {
     "data": {
      "text/html": [
       "<table><thead><tr><th><i>key</i></th><th>value</th></tr></thead><tbody><tr><td>Accuracy</td><td>0.6970426065162907</td></tr><tr><td>Area Under Roc Curve</td><td>0.8005266955266955</td></tr><tr><td>F1 Score</td><td>0.6591036414565825</td></tr></tbody></table>"
      ]
     },
     "execution_count": 29,
     "metadata": {},
     "output_type": "execute_result"
    }
   ],
   "source": [
    "new Dictionary<string, double>\n",
    "{\n",
    "    [\"Accuracy\"] = cvResults.Average(x => x.Metrics.Accuracy),\n",
    "    [\"Area Under Roc Curve\"] = cvResults.Average(x => x.Metrics.AreaUnderRocCurve),\n",
    "    [\"F1 Score\"] = cvResults.Average(x => x.Metrics.F1Score),\n",
    "}"
   ]
  },
  {
   "cell_type": "code",
   "execution_count": 30,
   "metadata": {},
   "outputs": [
    {
     "data": {
      "text/html": [
       "<table><thead><tr><th>LogLoss</th><th>LogLossReduction</th><th>Entropy</th><th>AreaUnderRocCurve</th><th>Accuracy</th><th>PositivePrecision</th><th>PositiveRecall</th><th>NegativePrecision</th><th>NegativeRecall</th><th>F1Score</th><th>AreaUnderPrecisionRecallCurve</th><th>ConfusionMatrix</th></tr></thead><tbody><tr><td>0.7167580733327071</td><td>0.2420554507303765</td><td>0.9456603046006402</td><td>0.8571428571428571</td><td>0.7272727272727273</td><td>0.8333333333333334</td><td>0.7142857142857143</td><td>0.6</td><td>0.75</td><td>0.7692307692307692</td><td>0.9179705215419501</td><td>{ Microsoft.ML.Data.ConfusionMatrix: PerClassPrecision: [ 0.8333333333333334, 0.6 ], PerClassRecall: [ 0.7142857142857143, 0.75 ], Counts: [ [ 5, 2 ], [ 1, 3 ] ], NumberOfClasses: 2 }</td></tr></tbody></table>"
      ]
     },
     "execution_count": 30,
     "metadata": {},
     "output_type": "execute_result"
    }
   ],
   "source": [
    "var transformedTestData = transformer.Transform(testData);\n",
    "var predictions = cvResult.Model.Transform(transformedTestData);\n",
    "context.BinaryClassification.Evaluate(predictions)"
   ]
  },
  {
   "cell_type": "code",
   "execution_count": 35,
   "metadata": {},
   "outputs": [
    {
     "data": {
      "text/html": [
       "<table><thead><tr><th><i>index</i></th><th>Label</th><th>Probability</th><th>PredictedLabel</th></tr></thead><tbody><tr><td>0</td><td>True</td><td>0.6067279</td><td>True</td></tr><tr><td>1</td><td>True</td><td>0.8487241</td><td>True</td></tr><tr><td>2</td><td>True</td><td>0.68853253</td><td>True</td></tr><tr><td>3</td><td>False</td><td>0.30738977</td><td>False</td></tr><tr><td>4</td><td>True</td><td>0.8487241</td><td>True</td></tr></tbody></table>"
      ]
     },
     "execution_count": 35,
     "metadata": {},
     "output_type": "execute_result"
    }
   ],
   "source": [
    "class BinaryClassificationPrediction\n",
    "{\n",
    "    public bool Label { get; set; }\n",
    "\n",
    "    public float Probability { get; set; }\n",
    "\n",
    "    public bool PredictedLabel { get; set; }\n",
    "}\n",
    "\n",
    "var sampleData = context.Data.ShuffleRows(testData);\n",
    "var transformedSampleData = transformer.Transform(sampleData);\n",
    "\n",
    "var predictionEngine = context.Model.CreatePredictionEngine<BalloonsDataTransformed, BinaryClassificationPrediction>(cvResult.Model);\n",
    "\n",
    "context.Data.CreateEnumerable<BalloonsDataTransformed>(transformedSampleData, reuseRowObject: false)\n",
    "    .Take(5)\n",
    "    .Select(predictionEngine.Predict)"
   ]
  },
  {
   "cell_type": "code",
   "execution_count": null,
   "metadata": {},
   "outputs": [],
   "source": []
  }
 ],
 "metadata": {
  "kernelspec": {
   "display_name": ".NET (C#)",
   "language": "C#",
   "name": ".net-csharp"
  },
  "language_info": {
   "file_extension": ".cs",
   "mimetype": "text/x-csharp",
   "name": "C#",
   "pygments_lexer": "csharp",
   "version": "8.0"
  }
 },
 "nbformat": 4,
 "nbformat_minor": 4
}
