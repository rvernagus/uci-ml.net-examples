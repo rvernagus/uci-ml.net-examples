{
 "cells": [
  {
   "cell_type": "code",
   "execution_count": 75,
   "metadata": {},
   "outputs": [
    {
     "data": {
      "text/html": [
       "Installed package Microsoft.ML.LightGbm version 1.4.0"
      ]
     },
     "metadata": {},
     "output_type": "display_data"
    },
    {
     "data": {
      "text/html": [
       "Installed package Microsoft.ML version 1.4.0"
      ]
     },
     "metadata": {},
     "output_type": "display_data"
    },
    {
     "data": {
      "text/html": [
       "Installed package Microsoft.Data.Analysis version 0.2.0"
      ]
     },
     "metadata": {},
     "output_type": "display_data"
    }
   ],
   "source": [
    "#r \"nuget: Microsoft.Data.Analysis\"\n",
    "#r \"nuget: Microsoft.ML\"\n",
    "#r \"nuget: Microsoft.ML.LightGbm\"\n",
    "using System;\n",
    "using System.IO;\n",
    "using System.Linq;\n",
    "using System.Net;\n",
    "using Microsoft.Data.Analysis;\n",
    "using Microsoft.ML;\n",
    "using Microsoft.ML.Data;\n",
    "using Microsoft.ML.Transforms;"
   ]
  },
  {
   "cell_type": "code",
   "execution_count": 76,
   "metadata": {},
   "outputs": [
    {
     "name": "stdout",
     "output_type": "stream",
     "text": [
      "Data file has 625 lines\n"
     ]
    },
    {
     "data": {
      "text/html": [
       "<table><thead><tr><th><i>index</i></th><th>value</th></tr></thead><tbody><tr><td>0</td><td>B,1,1,1,1</td></tr><tr><td>1</td><td>R,1,1,1,2</td></tr><tr><td>2</td><td>R,1,1,1,3</td></tr><tr><td>3</td><td>R,1,1,1,4</td></tr><tr><td>4</td><td>R,1,1,1,5</td></tr></tbody></table>"
      ]
     },
     "execution_count": 76,
     "metadata": {},
     "output_type": "execute_result"
    }
   ],
   "source": [
    "if (!File.Exists(\"balance-scale.data\"))\n",
    "{\n",
    "    using var client = new WebClient();\n",
    "    client.DownloadFile(\"https://archive.ics.uci.edu/ml/machine-learning-databases/balance-scale/balance-scale.data\", \"balance-scale.data\");\n",
    "}\n",
    "\n",
    "Console.WriteLine($\"Data file has {File.ReadLines(\"balance-scale.data\").Count():n0} lines\");\n",
    "File.ReadLines(\"balance-scale.data\").Take(5)"
   ]
  },
  {
   "cell_type": "markdown",
   "metadata": {},
   "source": [
    "> # Data Set Information:\n",
    "\n",
    "> This data set was generated to model psychological experimental results. Each example is classified as having the balance scale tip to the right, tip to the left, or be balanced. The attributes are the left weight, the left distance, the right weight, and the right distance. The correct way to find the class is the greater of (left-distance * left-weight) and (right-distance * right-weight). If they are equal, it is balanced."
   ]
  },
  {
   "cell_type": "code",
   "execution_count": 81,
   "metadata": {},
   "outputs": [],
   "source": [
    "var columns = new[] { \"ClassName\", \"LeftWeight\", \"LeftDistance\", \"RightWeight\",\"RightDistance\" };\n",
    "\n",
    "var df = DataFrame.LoadCsv(\"balance-scale.data\", header: false, guessRows: 100, columnNames: columns);"
   ]
  },
  {
   "cell_type": "code",
   "execution_count": 82,
   "metadata": {},
   "outputs": [
    {
     "name": "stdout",
     "output_type": "stream",
     "text": [
      "Column: ClassName, Type: System.String\n",
      "Column: LeftWeight, Type: System.Single\n",
      "Column: LeftDistance, Type: System.Single\n",
      "Column: RightWeight, Type: System.Single\n",
      "Column: RightDistance, Type: System.Single\n"
     ]
    }
   ],
   "source": [
    "df.Columns\n",
    "    .Select(column => (name: column.Name, type: column.DataType))\n",
    "    .ToList()\n",
    "    .ForEach(ctype => Console.WriteLine($\"Column: {ctype.name}, Type: {ctype.type}\"));"
   ]
  },
  {
   "cell_type": "code",
   "execution_count": 84,
   "metadata": {},
   "outputs": [
    {
     "name": "stdout",
     "output_type": "stream",
     "text": [
      "     B n=49\n",
      "     R n=288\n",
      "     L n=288\n"
     ]
    }
   ],
   "source": [
    "df[\"ClassName\"]\n",
    "    .GroupColumnValues<string>()\n",
    "    .Select((kv, _) => $\"{kv.Key,6} n={kv.Value.Count}\")\n",
    "    .ToList()\n",
    "    .ForEach(s => Console.WriteLine(s));"
   ]
  },
  {
   "cell_type": "code",
   "execution_count": 85,
   "metadata": {},
   "outputs": [],
   "source": [
    "class BalanceScaleData\n",
    "{\n",
    "    public float LeftWeight { get; set; }\n",
    " \n",
    "    public float LeftDistance { get; set; }\n",
    "    \n",
    "    public float RightWeight { get; set; }\n",
    "    \n",
    "    public float RightDistance { get; set; }\n",
    "    \n",
    "    public string ClassName { get; set; }\n",
    "    \n",
    "    public float LeftFactor { get; set; }\n",
    "    \n",
    "    public float RightFactor { get; set; }\n",
    "}"
   ]
  },
  {
   "cell_type": "code",
   "execution_count": 88,
   "metadata": {},
   "outputs": [
    {
     "ename": "Unhandled exception",
     "evalue": "(4,21): error CS0266: Cannot implicitly convert type 'object' to 'float'. An explicit conversion exists (are you missing a cast?)\r\n(5,23): error CS0266: Cannot implicitly convert type 'object' to 'float'. An explicit conversion exists (are you missing a cast?)\r\n(6,22): error CS0266: Cannot implicitly convert type 'object' to 'float'. An explicit conversion exists (are you missing a cast?)\r\n(7,24): error CS0266: Cannot implicitly convert type 'object' to 'float'. An explicit conversion exists (are you missing a cast?)\r\n(8,21): error CS0019: Operator '*' cannot be applied to operands of type 'object' and 'object'\r\n(9,20): error CS0266: Cannot implicitly convert type 'object' to 'string'. An explicit conversion exists (are you missing a cast?)",
     "output_type": "error",
     "traceback": [
      "(4,21): error CS0266: Cannot implicitly convert type 'object' to 'float'. An explicit conversion exists (are you missing a cast?)\r\n(5,23): error CS0266: Cannot implicitly convert type 'object' to 'float'. An explicit conversion exists (are you missing a cast?)\r\n(6,22): error CS0266: Cannot implicitly convert type 'object' to 'float'. An explicit conversion exists (are you missing a cast?)\r\n(7,24): error CS0266: Cannot implicitly convert type 'object' to 'float'. An explicit conversion exists (are you missing a cast?)\r\n(8,21): error CS0019: Operator '*' cannot be applied to operands of type 'object' and 'object'\r\n(9,20): error CS0266: Cannot implicitly convert type 'object' to 'string'. An explicit conversion exists (are you missing a cast?)"
     ]
    }
   ],
   "source": [
    "df.Rows.Select(row =>\n",
    "   new BalanceScaleData\n",
    "   {\n",
    "       LeftWeight = row[1],\n",
    "       LeftDistance = row[2],\n",
    "       RightWeight = row[3],\n",
    "       RightDistance = row[4],\n",
    "       LeftFactor = row[1] * row[2],\n",
    "       ClassName = row[0]\n",
    "   }\n",
    ")"
   ]
  },
  {
   "cell_type": "code",
   "execution_count": null,
   "metadata": {},
   "outputs": [],
   "source": []
  },
  {
   "cell_type": "code",
   "execution_count": null,
   "metadata": {},
   "outputs": [],
   "source": []
  },
  {
   "cell_type": "code",
   "execution_count": null,
   "metadata": {},
   "outputs": [],
   "source": []
  },
  {
   "cell_type": "code",
   "execution_count": null,
   "metadata": {},
   "outputs": [],
   "source": []
  },
  {
   "cell_type": "code",
   "execution_count": null,
   "metadata": {},
   "outputs": [],
   "source": []
  },
  {
   "cell_type": "code",
   "execution_count": null,
   "metadata": {},
   "outputs": [],
   "source": []
  },
  {
   "cell_type": "code",
   "execution_count": 7,
   "metadata": {},
   "outputs": [],
   "source": [
    "var context = new MLContext();"
   ]
  },
  {
   "cell_type": "code",
   "execution_count": 57,
   "metadata": {},
   "outputs": [],
   "source": [
    "class BalanceScaleData\n",
    "{\n",
    "    [ColumnName(\"Label\")]\n",
    "    [LoadColumn(0)]\n",
    "    public string ClassName { get; set; }\n",
    "    \n",
    "    [LoadColumn(1)]\n",
    "    public float LeftWeight { get; set; }\n",
    "    \n",
    "    [LoadColumn(2)]\n",
    "    public float LeftDistance { get; set; }\n",
    "    \n",
    "    [LoadColumn(3)]\n",
    "    public float RightWeight { get; set; }\n",
    "    \n",
    "    [LoadColumn(4)]\n",
    "    public float RightDistance { get; set; }\n",
    "}"
   ]
  },
  {
   "cell_type": "code",
   "execution_count": 59,
   "metadata": {},
   "outputs": [],
   "source": [
    "var allData = context.Data.LoadFromTextFile<BalanceScaleData>(\"balance-scale.data\", hasHeader: false, separatorChar: ',');\n",
    "allData = context.Data.ShuffleRows(allData);\n",
    "\n",
    "\n",
    "\n",
    "\n",
    "\n",
    "// var allData = context.Data.CreateEnumerable<BalanceScaleData>(allRows, reuseRowObject: false);\n",
    "// var allDataView = context.Data.LoadFromEnumerable(allData);\n"
   ]
  },
  {
   "cell_type": "code",
   "execution_count": 60,
   "metadata": {},
   "outputs": [],
   "source": [
    "var splitData = context.Data.TrainTestSplit(allDataView, testFraction: 0.2);\n",
    "var (trainData, testData) = (splitData.TrainSet, splitData.TestSet);"
   ]
  },
  {
   "cell_type": "code",
   "execution_count": 61,
   "metadata": {},
   "outputs": [],
   "source": [
    "var featureColumns = new[]\n",
    "{\n",
    "    nameof(BalanceScaleData.LeftWeight), nameof(BalanceScaleData.LeftDistance), nameof(BalanceScaleData.RightWeight), nameof(BalanceScaleData.RightDistance)\n",
    "};"
   ]
  },
  {
   "cell_type": "code",
   "execution_count": 62,
   "metadata": {},
   "outputs": [
    {
     "data": {
      "text/html": [
       "<table><thead><tr><th><i>index</i></th><th>value</th></tr></thead><tbody><tr><td>0</td><td>R</td></tr><tr><td>1</td><td>L</td></tr><tr><td>2</td><td>B</td></tr></tbody></table>"
      ]
     },
     "execution_count": 62,
     "metadata": {},
     "output_type": "execute_result"
    }
   ],
   "source": [
    "trainData.GetColumn<string>(\"Label\").Distinct()"
   ]
  },
  {
   "cell_type": "code",
   "execution_count": 67,
   "metadata": {},
   "outputs": [],
   "source": [
    "var pipeline = \n",
    "    context.Transforms.Conversion.MapValueToKey(\"Label\")\n",
    "//     .Append(context.Transforms.Conversion.MapValueToKey(\"Label\"))\n",
    "    .Append(context.Transforms.Conversion.MapKeyToValue(\"LabelValue\", \"Label\"))\n",
    "//     .Append(mapping)\n",
    "//     mapping\n",
    "    .Append(context.Transforms.Concatenate(\"Features\", featureColumns));"
   ]
  },
  {
   "cell_type": "code",
   "execution_count": 68,
   "metadata": {},
   "outputs": [],
   "source": [
    "var transformer = pipeline.Fit(trainData);"
   ]
  },
  {
   "cell_type": "code",
   "execution_count": 69,
   "metadata": {},
   "outputs": [
    {
     "data": {
      "text/html": [
       "<table><thead><tr><th><i>index</i></th><th>ClassName</th><th>LeftWeight</th><th>LeftDistance</th><th>RightWeight</th><th>RightDistance</th></tr></thead><tbody><tr><td>0</td><td>R</td><td>3</td><td>3</td><td>5</td><td>2</td></tr><tr><td>1</td><td>R</td><td>1</td><td>2</td><td>2</td><td>3</td></tr><tr><td>2</td><td>L</td><td>3</td><td>2</td><td>2</td><td>1</td></tr><tr><td>3</td><td>R</td><td>3</td><td>1</td><td>3</td><td>4</td></tr><tr><td>4</td><td>R</td><td>4</td><td>4</td><td>4</td><td>5</td></tr></tbody></table>"
      ]
     },
     "execution_count": 69,
     "metadata": {},
     "output_type": "execute_result"
    }
   ],
   "source": [
    "context.Data.CreateEnumerable<BalanceScaleData>(trainData, reuseRowObject: false).Take(5)"
   ]
  },
  {
   "cell_type": "code",
   "execution_count": 70,
   "metadata": {},
   "outputs": [
    {
     "data": {
      "text/html": [
       "<table><thead><tr><th><i>index</i></th><th>Class</th><th>Features</th></tr></thead><tbody><tr><td>0</td><td>R</td><td>[ 3, 3, 5, 2 ]</td></tr><tr><td>1</td><td>R</td><td>[ 1, 2, 2, 3 ]</td></tr><tr><td>2</td><td>L</td><td>[ 3, 2, 2, 1 ]</td></tr></tbody></table>"
      ]
     },
     "execution_count": 70,
     "metadata": {},
     "output_type": "execute_result"
    }
   ],
   "source": [
    "class BalanceScaleDataTransformed\n",
    "{\n",
    "    [ColumnName(\"LabelValue\")]\n",
    "    public string Class { get; set; }\n",
    "\n",
    "    [VectorType(84)]\n",
    "    public float[] Features { get; set; }\n",
    "}\n",
    "\n",
    "var transformedData = transformer.Transform(trainData);\n",
    "context.Data\n",
    "    .CreateEnumerable<BalanceScaleDataTransformed>(transformedData, reuseRowObject: false)\n",
    "    .Take(3)"
   ]
  },
  {
   "cell_type": "code",
   "execution_count": 72,
   "metadata": {},
   "outputs": [],
   "source": [
    "var estimator = context.MulticlassClassification.Trainers.LightGbm(featureColumnName: \"Features\");"
   ]
  },
  {
   "cell_type": "code",
   "execution_count": 73,
   "metadata": {},
   "outputs": [],
   "source": [
    "var transformedTrainData = transformer.Transform(trainData);\n",
    "var cvResults = context.MulticlassClassification.CrossValidate(transformedTrainData, estimator, numberOfFolds: 3);\n",
    "var cvResult = cvResults\n",
    "    .OrderByDescending(x => x.Metrics.MacroAccuracy)\n",
    "    .First();"
   ]
  },
  {
   "cell_type": "code",
   "execution_count": 74,
   "metadata": {},
   "outputs": [
    {
     "data": {
      "text/plain": [
       "\r\n",
       "Confusion table\r\n",
       "          ||========================\r\n",
       "PREDICTED ||     R |     L |     B | Recall\r\n",
       "TRUTH     ||========================\r\n",
       "        R ||    76 |     2 |     1 | 0.9620\r\n",
       "        L ||     3 |    69 |     4 | 0.9079\r\n",
       "        B ||     6 |     9 |     0 | 0.0000\r\n",
       "          ||========================\r\n",
       "Precision ||0.8941 |0.8625 |0.0000 |\r\n"
      ]
     },
     "execution_count": 74,
     "metadata": {},
     "output_type": "execute_result"
    }
   ],
   "source": [
    "cvResult.Metrics.ConfusionMatrix.GetFormattedConfusionTable()"
   ]
  },
  {
   "cell_type": "code",
   "execution_count": 50,
   "metadata": {},
   "outputs": [
    {
     "data": {
      "text/html": [
       "<table><thead><tr><th>LogLoss</th><th>LogLossReduction</th><th>MacroAccuracy</th><th>MicroAccuracy</th><th>TopKAccuracy</th><th>TopKPredictionCount</th><th>PerClassLogLoss</th><th>ConfusionMatrix</th></tr></thead><tbody><tr><td>0.42228252765488444</td><td>0.5272953082704148</td><td>0.712987012987013</td><td>0.8941176470588236</td><td>0</td><td>0</td><td>[ 0.16864074439802684, 0.14071722378574295, 3.924786544108495 ]</td><td>{ Microsoft.ML.Data.ConfusionMatrix: PerClassPrecision: [ 0.9111111111111111, 0.9436619718309859, 0.3333333333333333 ], PerClassRecall: [ 0.9318181818181818, 0.9571428571428572, 0.25 ], Counts: [ [ 82, 2, 4 ], [ 1, 67, 2 ], [ 7, 2, 3 ] ], NumberOfClasses: 3 }</td></tr></tbody></table>"
      ]
     },
     "execution_count": 50,
     "metadata": {},
     "output_type": "execute_result"
    }
   ],
   "source": [
    "cvResult.Metrics"
   ]
  },
  {
   "cell_type": "code",
   "execution_count": 51,
   "metadata": {},
   "outputs": [
    {
     "data": {
      "text/plain": [
       "\r\n",
       "Confusion table\r\n",
       "          ||========================\r\n",
       "PREDICTED ||     L |     R |     B | Recall\r\n",
       "TRUTH     ||========================\r\n",
       "        L ||    46 |     1 |     3 | 0.9200\r\n",
       "        R ||     2 |    51 |     7 | 0.8500\r\n",
       "        B ||     3 |     5 |     1 | 0.1111\r\n",
       "          ||========================\r\n",
       "Precision ||0.9020 |0.8947 |0.0909 |\r\n"
      ]
     },
     "execution_count": 51,
     "metadata": {},
     "output_type": "execute_result"
    }
   ],
   "source": [
    "var transformedTestData = transformer.Transform(testData);\n",
    "var predictions = cvResult.Model.Transform(transformedTestData);\n",
    "var metrics = context.MulticlassClassification.Evaluate(predictions);\n",
    "metrics.ConfusionMatrix.GetFormattedConfusionTable()"
   ]
  },
  {
   "cell_type": "code",
   "execution_count": 52,
   "metadata": {},
   "outputs": [
    {
     "data": {
      "text/html": [
       "<table><thead><tr><th>LogLoss</th><th>LogLossReduction</th><th>MacroAccuracy</th><th>MicroAccuracy</th><th>TopKAccuracy</th><th>TopKPredictionCount</th><th>PerClassLogLoss</th><th>ConfusionMatrix</th></tr></thead><tbody><tr><td>0.6037802377794739</td><td>0.33273945648753206</td><td>0.6270370370370371</td><td>0.8235294117647058</td><td>0</td><td>0</td><td>[ 0.1537755646537661, 0.30461909427366946, 5.098213822960988 ]</td><td>{ Microsoft.ML.Data.ConfusionMatrix: PerClassPrecision: [ 0.9019607843137255, 0.8947368421052632, 0.09090909090909091 ], PerClassRecall: [ 0.92, 0.85, 0.1111111111111111 ], Counts: [ [ 46, 1, 3 ], [ 2, 51, 7 ], [ 3, 5, 1 ] ], NumberOfClasses: 3 }</td></tr></tbody></table>"
      ]
     },
     "execution_count": 52,
     "metadata": {},
     "output_type": "execute_result"
    }
   ],
   "source": [
    "metrics"
   ]
  },
  {
   "cell_type": "code",
   "execution_count": 57,
   "metadata": {},
   "outputs": [
    {
     "data": {
      "text/html": [
       "<table><thead><tr><th><i>index</i></th><th>LabelValue</th><th>Score</th><th>PredictedLabelValue</th></tr></thead><tbody><tr><td>0</td><td>R</td><td>[ 7.887615E-05, 0.9788222, 0.021098927 ]</td><td>R</td></tr><tr><td>1</td><td>L</td><td>[ 0.14832187, 0.83522844, 0.016449716 ]</td><td>R</td></tr><tr><td>2</td><td>B</td><td>[ 0.17685778, 0.8230193, 0.00012290898 ]</td><td>R</td></tr><tr><td>3</td><td>R</td><td>[ 0.00012063386, 0.99503136, 0.0048480364 ]</td><td>R</td></tr><tr><td>4</td><td>L</td><td>[ 0.99997574, 1.8110366E-05, 6.158091E-06 ]</td><td>L</td></tr></tbody></table>"
      ]
     },
     "execution_count": 57,
     "metadata": {},
     "output_type": "execute_result"
    }
   ],
   "source": [
    "class MulticlassClassificationPrediction\n",
    "{\n",
    "    public string LabelValue { get; set; }\n",
    "\n",
    "    public float[] Score { get; set; }\n",
    "\n",
    "    public string PredictedLabelValue { get; set; }\n",
    "}\n",
    "\n",
    "var sampleData = context.Data.ShuffleRows(testData);\n",
    "var transformedSampleData = transformer.Transform(sampleData);\n",
    "\n",
    "var samplePredictions = cvResult.Model.Transform(transformedSampleData);\n",
    "var mapValues = context.Transforms.Conversion\n",
    "    .MapKeyToValue(\"PredictedLabelValue\", \"PredictedLabel\")\n",
    "    .Append(context.Transforms.Conversion.MapKeyToValue(\"LabelValue\", \"Label\"))\n",
    "    .Fit(samplePredictions);\n",
    "samplePredictions = mapValues.Transform(samplePredictions);\n",
    "var samplePredictionItems = context.Data.CreateEnumerable<MulticlassClassificationPrediction>(samplePredictions, reuseRowObject: false);\n",
    "\n",
    "samplePredictionItems.Take(5)"
   ]
  },
  {
   "cell_type": "code",
   "execution_count": null,
   "metadata": {},
   "outputs": [],
   "source": []
  }
 ],
 "metadata": {
  "kernelspec": {
   "display_name": ".NET (C#)",
   "language": "C#",
   "name": ".net-csharp"
  },
  "language_info": {
   "file_extension": ".cs",
   "mimetype": "text/x-csharp",
   "name": "C#",
   "pygments_lexer": "csharp",
   "version": "8.0"
  }
 },
 "nbformat": 4,
 "nbformat_minor": 4
}
