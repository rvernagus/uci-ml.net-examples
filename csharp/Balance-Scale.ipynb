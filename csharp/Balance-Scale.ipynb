{
 "cells": [
  {
   "cell_type": "code",
   "execution_count": 1,
   "metadata": {},
   "outputs": [
    {
     "data": {
      "text/html": [
       "Installed package Microsoft.ML.LightGbm version 1.4.0"
      ]
     },
     "metadata": {},
     "output_type": "display_data"
    },
    {
     "data": {
      "text/html": [
       "Installed package Microsoft.ML version 1.4.0"
      ]
     },
     "metadata": {},
     "output_type": "display_data"
    }
   ],
   "source": [
    "#r \"nuget: Microsoft.ML\"\n",
    "#r \"nuget: Microsoft.ML.LightGbm\"\n",
    "using System;\n",
    "using System.IO;\n",
    "using System.Linq;\n",
    "using System.Net;\n",
    "using Microsoft.ML;\n",
    "using Microsoft.ML.Data;\n",
    "using Microsoft.ML.Transforms;"
   ]
  },
  {
   "cell_type": "code",
   "execution_count": 2,
   "metadata": {},
   "outputs": [
    {
     "name": "stdout",
     "output_type": "stream",
     "text": [
      "Data file has 625 lines\n"
     ]
    },
    {
     "data": {
      "text/html": [
       "<table><thead><tr><th><i>index</i></th><th>value</th></tr></thead><tbody><tr><td>0</td><td>B,1,1,1,1</td></tr><tr><td>1</td><td>R,1,1,1,2</td></tr><tr><td>2</td><td>R,1,1,1,3</td></tr><tr><td>3</td><td>R,1,1,1,4</td></tr><tr><td>4</td><td>R,1,1,1,5</td></tr></tbody></table>"
      ]
     },
     "execution_count": 2,
     "metadata": {},
     "output_type": "execute_result"
    }
   ],
   "source": [
    "if (!File.Exists(\"balance-scale.data\"))\n",
    "{\n",
    "    using var client = new WebClient();\n",
    "    client.DownloadFile(\"https://archive.ics.uci.edu/ml/machine-learning-databases/balance-scale/balance-scale.data\", \"balance-scale.data\");\n",
    "}\n",
    "\n",
    "Console.WriteLine($\"Data file has {File.ReadLines(\"balance-scale.data\").Count():n0} lines\");\n",
    "File.ReadLines(\"balance-scale.data\").Take(5)"
   ]
  },
  {
   "cell_type": "markdown",
   "metadata": {},
   "source": [
    "> # Data Set Information:\n",
    "\n",
    "> This data set was generated to model psychological experimental results. Each example is classified as having the balance scale tip to the right, tip to the left, or be balanced. The attributes are the left weight, the left distance, the right weight, and the right distance. The correct way to find the class is the greater of (left-distance * left-weight) and (right-distance * right-weight). If they are equal, it is balanced."
   ]
  },
  {
   "cell_type": "code",
   "execution_count": 3,
   "metadata": {},
   "outputs": [],
   "source": [
    "var context = new MLContext();"
   ]
  },
  {
   "cell_type": "code",
   "execution_count": 4,
   "metadata": {},
   "outputs": [],
   "source": [
    "class BalanceScaleRow\n",
    "{\n",
    "    [ColumnName(\"Label\")]\n",
    "    [LoadColumn(0)]\n",
    "    public string ClassName { get; set; }\n",
    "    \n",
    "    [LoadColumn(1)]\n",
    "    public float LeftWeight { get; set; }\n",
    "    \n",
    "    [LoadColumn(2)]\n",
    "    public float LeftDistance { get; set; }\n",
    "    \n",
    "    [LoadColumn(3)]\n",
    "    public float RightWeight { get; set; }\n",
    "    \n",
    "    [LoadColumn(4)]\n",
    "    public float RightDistance { get; set; }\n",
    "}\n",
    "\n",
    "class BalanceScaleData : BalanceScaleRow\n",
    "{\n",
    "    public float LeftFactor { get; set; }\n",
    "    public float RightFactor { get; set; }\n",
    "}"
   ]
  },
  {
   "cell_type": "code",
   "execution_count": 5,
   "metadata": {},
   "outputs": [
    {
     "data": {
      "text/html": [
       "<table><thead><tr><th><i>index</i></th><th>LeftFactor</th><th>RightFactor</th><th>ClassName</th><th>LeftWeight</th><th>LeftDistance</th><th>RightWeight</th><th>RightDistance</th></tr></thead><tbody><tr><td>0</td><td>1</td><td>1</td><td>B</td><td>1</td><td>1</td><td>1</td><td>1</td></tr><tr><td>1</td><td>1</td><td>2</td><td>R</td><td>1</td><td>1</td><td>1</td><td>2</td></tr><tr><td>2</td><td>1</td><td>3</td><td>R</td><td>1</td><td>1</td><td>1</td><td>3</td></tr><tr><td>3</td><td>1</td><td>4</td><td>R</td><td>1</td><td>1</td><td>1</td><td>4</td></tr><tr><td>4</td><td>1</td><td>5</td><td>R</td><td>1</td><td>1</td><td>1</td><td>5</td></tr></tbody></table>"
      ]
     },
     "execution_count": 5,
     "metadata": {},
     "output_type": "execute_result"
    }
   ],
   "source": [
    "var allRows = context.Data.LoadFromTextFile<BalanceScaleRow>(\"balance-scale.data\", hasHeader: false, separatorChar: ',');\n",
    "\n",
    "var rowsEnum = context.Data.CreateEnumerable<BalanceScaleRow>(allRows, reuseRowObject: false);\n",
    "var allData = rowsEnum.Select(d => new BalanceScaleData\n",
    "{\n",
    "    ClassName = d.ClassName,\n",
    "    LeftWeight = d.LeftWeight,\n",
    "    LeftDistance = d.LeftDistance,\n",
    "    RightWeight = d.RightWeight,\n",
    "    RightDistance = d.RightDistance,\n",
    "    LeftFactor = d.LeftWeight * d.LeftDistance,\n",
    "    RightFactor = d.RightWeight * d.RightDistance,\n",
    "});\n",
    "\n",
    "allData.Take(5)"
   ]
  },
  {
   "cell_type": "code",
   "execution_count": 6,
   "metadata": {},
   "outputs": [],
   "source": [
    "var allDataView = context.Data.LoadFromEnumerable(allData);\n",
    "allDataView = context.Data.ShuffleRows(allDataView);"
   ]
  },
  {
   "cell_type": "code",
   "execution_count": 7,
   "metadata": {},
   "outputs": [],
   "source": [
    "var splitData = context.Data.TrainTestSplit(allDataView, testFraction: 0.2);\n",
    "var (trainData, testData) = (splitData.TrainSet, splitData.TestSet);"
   ]
  },
  {
   "cell_type": "code",
   "execution_count": 8,
   "metadata": {},
   "outputs": [],
   "source": [
    "var featureColumns = new[]\n",
    "{\n",
    "    nameof(BalanceScaleData.LeftWeight), nameof(BalanceScaleData.LeftDistance), nameof(BalanceScaleData.RightWeight), nameof(BalanceScaleData.RightDistance),\n",
    "    nameof(BalanceScaleData.LeftFactor), nameof(BalanceScaleData.RightFactor)\n",
    "};"
   ]
  },
  {
   "cell_type": "code",
   "execution_count": 9,
   "metadata": {},
   "outputs": [
    {
     "data": {
      "text/html": [
       "<table><thead><tr><th><i>index</i></th><th>value</th></tr></thead><tbody><tr><td>0</td><td>R</td></tr><tr><td>1</td><td>B</td></tr><tr><td>2</td><td>L</td></tr></tbody></table>"
      ]
     },
     "execution_count": 9,
     "metadata": {},
     "output_type": "execute_result"
    }
   ],
   "source": [
    "trainData.GetColumn<string>(\"Label\").Distinct()"
   ]
  },
  {
   "cell_type": "code",
   "execution_count": 10,
   "metadata": {},
   "outputs": [],
   "source": [
    "var pipeline = \n",
    "    context.Transforms.Conversion.MapValueToKey(\"Label\")\n",
    "    .Append(context.Transforms.Conversion.MapKeyToValue(\"LabelValue\", \"Label\"))\n",
    "    .Append(context.Transforms.Concatenate(\"Features\", featureColumns));"
   ]
  },
  {
   "cell_type": "code",
   "execution_count": 11,
   "metadata": {},
   "outputs": [],
   "source": [
    "var transformer = pipeline.Fit(trainData);"
   ]
  },
  {
   "cell_type": "code",
   "execution_count": 12,
   "metadata": {},
   "outputs": [
    {
     "data": {
      "text/html": [
       "<table><thead><tr><th><i>index</i></th><th>Class</th><th>Features</th></tr></thead><tbody><tr><td>0</td><td>R</td><td>[ 2, 3, 5, 4, 6, 20 ]</td></tr><tr><td>1</td><td>B</td><td>[ 3, 2, 2, 3, 6, 6 ]</td></tr><tr><td>2</td><td>R</td><td>[ 3, 4, 3, 5, 12, 15 ]</td></tr></tbody></table>"
      ]
     },
     "execution_count": 12,
     "metadata": {},
     "output_type": "execute_result"
    }
   ],
   "source": [
    "class BalanceScaleDataTransformed\n",
    "{\n",
    "    [ColumnName(\"LabelValue\")]\n",
    "    public string Class { get; set; }\n",
    "\n",
    "    [VectorType(84)]\n",
    "    public float[] Features { get; set; }\n",
    "}\n",
    "\n",
    "var transformedData = transformer.Transform(trainData);\n",
    "context.Data\n",
    "    .CreateEnumerable<BalanceScaleDataTransformed>(transformedData, reuseRowObject: false)\n",
    "    .Take(3)"
   ]
  },
  {
   "cell_type": "code",
   "execution_count": 13,
   "metadata": {},
   "outputs": [],
   "source": [
    "var estimator = context.MulticlassClassification.Trainers.LightGbm(featureColumnName: \"Features\");"
   ]
  },
  {
   "cell_type": "code",
   "execution_count": 14,
   "metadata": {},
   "outputs": [],
   "source": [
    "var transformedTrainData = transformer.Transform(trainData);\n",
    "var cvResults = context.MulticlassClassification.CrossValidate(transformedTrainData, estimator, numberOfFolds: 3);\n",
    "var cvResult = cvResults\n",
    "    .OrderByDescending(x => x.Metrics.MicroAccuracy)\n",
    "    .First();"
   ]
  },
  {
   "cell_type": "code",
   "execution_count": 15,
   "metadata": {},
   "outputs": [
    {
     "data": {
      "text/plain": [
       "\r\n",
       "Confusion table\r\n",
       "          ||========================\r\n",
       "PREDICTED ||     R |     B |     L | Recall\r\n",
       "TRUTH     ||========================\r\n",
       "        R ||    68 |     2 |     0 | 0.9714\r\n",
       "        B ||     4 |     2 |     5 | 0.1818\r\n",
       "        L ||     0 |     1 |    90 | 0.9890\r\n",
       "          ||========================\r\n",
       "Precision ||0.9444 |0.4000 |0.9474 |\r\n"
      ]
     },
     "execution_count": 15,
     "metadata": {},
     "output_type": "execute_result"
    }
   ],
   "source": [
    "cvResult.Metrics.ConfusionMatrix.GetFormattedConfusionTable()"
   ]
  },
  {
   "cell_type": "code",
   "execution_count": 16,
   "metadata": {},
   "outputs": [
    {
     "data": {
      "text/html": [
       "<table><thead><tr><th>LogLoss</th><th>LogLossReduction</th><th>MacroAccuracy</th><th>MicroAccuracy</th><th>TopKAccuracy</th><th>TopKPredictionCount</th><th>PerClassLogLoss</th><th>ConfusionMatrix</th></tr></thead><tbody><tr><td>0.22993543082235743</td><td>0.7382762750300119</td><td>0.714085914085914</td><td>0.9302325581395349</td><td>0</td><td>0</td><td>[ 0.05347525221009736, 2.7459424058073902, 0.06154131849293823 ]</td><td>{ Microsoft.ML.Data.ConfusionMatrix: PerClassPrecision: [ 0.9444444444444444, 0.4, 0.9473684210526315 ], PerClassRecall: [ 0.9714285714285714, 0.18181818181818182, 0.989010989010989 ], Counts: [ [ 68, 2, 0 ], [ 4, 2, 5 ], [ 0, 1, 90 ] ], NumberOfClasses: 3 }</td></tr></tbody></table>"
      ]
     },
     "execution_count": 16,
     "metadata": {},
     "output_type": "execute_result"
    }
   ],
   "source": [
    "cvResult.Metrics"
   ]
  },
  {
   "cell_type": "code",
   "execution_count": 17,
   "metadata": {},
   "outputs": [
    {
     "data": {
      "text/plain": [
       "\r\n",
       "Confusion table\r\n",
       "          ||========================\r\n",
       "PREDICTED ||     R |     B |     L | Recall\r\n",
       "TRUTH     ||========================\r\n",
       "        R ||    54 |     0 |     0 | 1.0000\r\n",
       "        B ||     4 |     1 |     3 | 0.1250\r\n",
       "        L ||     0 |     1 |    56 | 0.9825\r\n",
       "          ||========================\r\n",
       "Precision ||0.9310 |0.5000 |0.9492 |\r\n"
      ]
     },
     "execution_count": 17,
     "metadata": {},
     "output_type": "execute_result"
    }
   ],
   "source": [
    "var transformedTestData = transformer.Transform(testData);\n",
    "var predictions = cvResult.Model.Transform(transformedTestData);\n",
    "var metrics = context.MulticlassClassification.Evaluate(predictions);\n",
    "metrics.ConfusionMatrix.GetFormattedConfusionTable()"
   ]
  },
  {
   "cell_type": "code",
   "execution_count": 18,
   "metadata": {},
   "outputs": [
    {
     "data": {
      "text/html": [
       "<table><thead><tr><th>LogLoss</th><th>LogLossReduction</th><th>MacroAccuracy</th><th>MicroAccuracy</th><th>TopKAccuracy</th><th>TopKPredictionCount</th><th>PerClassLogLoss</th><th>ConfusionMatrix</th></tr></thead><tbody><tr><td>0.2429515112392795</td><td>0.7278202811012369</td><td>0.702485380116959</td><td>0.9327731092436975</td><td>0</td><td>0</td><td>[ 0.030658050283661992, 2.8834298966337197, 0.0734781745453816 ]</td><td>{ Microsoft.ML.Data.ConfusionMatrix: PerClassPrecision: [ 0.9310344827586207, 0.5, 0.9491525423728814 ], PerClassRecall: [ 1, 0.125, 0.9824561403508771 ], Counts: [ [ 54, 0, 0 ], [ 4, 1, 3 ], [ 0, 1, 56 ] ], NumberOfClasses: 3 }</td></tr></tbody></table>"
      ]
     },
     "execution_count": 18,
     "metadata": {},
     "output_type": "execute_result"
    }
   ],
   "source": [
    "metrics"
   ]
  },
  {
   "cell_type": "code",
   "execution_count": 33,
   "metadata": {},
   "outputs": [
    {
     "data": {
      "text/html": [
       "<table><thead><tr><th><i>index</i></th><th>LabelValue</th><th>Score</th><th>PredictedLabelValue</th></tr></thead><tbody><tr><td>0</td><td>L</td><td>[ 4.5974608E-05, 0.0025561184, 0.9973979 ]</td><td>L</td></tr><tr><td>1</td><td>L</td><td>[ 4.3653403E-05, 2.3581317E-05, 0.99993277 ]</td><td>L</td></tr><tr><td>2</td><td>R</td><td>[ 0.9983034, 0.0016201615, 7.644612E-05 ]</td><td>R</td></tr><tr><td>3</td><td>L</td><td>[ 5.472069E-05, 0.004246467, 0.9956988 ]</td><td>L</td></tr><tr><td>4</td><td>B</td><td>[ 0.28320578, 0.5134264, 0.20336781 ]</td><td>B</td></tr></tbody></table>"
      ]
     },
     "execution_count": 33,
     "metadata": {},
     "output_type": "execute_result"
    }
   ],
   "source": [
    "class MulticlassClassificationPrediction\n",
    "{\n",
    "    public string LabelValue { get; set; }\n",
    "\n",
    "    public float[] Score { get; set; }\n",
    "\n",
    "    public string PredictedLabelValue { get; set; }\n",
    "}\n",
    "\n",
    "var sampleData = context.Data.ShuffleRows(testData);\n",
    "var transformedSampleData = transformer.Transform(sampleData);\n",
    "\n",
    "var samplePredictions = cvResult.Model.Transform(transformedSampleData);\n",
    "var mapValues = context.Transforms.Conversion\n",
    "    .MapKeyToValue(\"PredictedLabelValue\", \"PredictedLabel\")\n",
    "    .Append(context.Transforms.Conversion.MapKeyToValue(\"LabelValue\", \"Label\"))\n",
    "    .Fit(samplePredictions);\n",
    "samplePredictions = mapValues.Transform(samplePredictions);\n",
    "var samplePredictionItems = context.Data.CreateEnumerable<MulticlassClassificationPrediction>(samplePredictions, reuseRowObject: false);\n",
    "\n",
    "samplePredictionItems.Take(5)"
   ]
  },
  {
   "cell_type": "code",
   "execution_count": null,
   "metadata": {},
   "outputs": [],
   "source": []
  }
 ],
 "metadata": {
  "kernelspec": {
   "display_name": ".NET (C#)",
   "language": "C#",
   "name": ".net-csharp"
  },
  "language_info": {
   "file_extension": ".cs",
   "mimetype": "text/x-csharp",
   "name": "C#",
   "pygments_lexer": "csharp",
   "version": "8.0"
  }
 },
 "nbformat": 4,
 "nbformat_minor": 4
}
