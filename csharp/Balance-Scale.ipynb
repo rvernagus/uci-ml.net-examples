{
 "cells": [
  {
   "cell_type": "code",
   "execution_count": 1,
   "metadata": {},
   "outputs": [
    {
     "data": {
      "text/html": [
       "Installed package Microsoft.ML.LightGbm version 1.4.0"
      ]
     },
     "metadata": {},
     "output_type": "display_data"
    },
    {
     "data": {
      "text/html": [
       "Installed package Microsoft.ML version 1.4.0"
      ]
     },
     "metadata": {},
     "output_type": "display_data"
    }
   ],
   "source": [
    "#r \"nuget: Microsoft.ML\"\n",
    "#r \"nuget: Microsoft.ML.LightGbm\"\n",
    "using System;\n",
    "using System.IO;\n",
    "using System.Linq;\n",
    "using System.Net;\n",
    "using Microsoft.ML;\n",
    "using Microsoft.ML.Data;\n",
    "using Microsoft.ML.Transforms;"
   ]
  },
  {
   "cell_type": "code",
   "execution_count": 2,
   "metadata": {},
   "outputs": [
    {
     "name": "stdout",
     "output_type": "stream",
     "text": [
      "Data file has 625 lines\n"
     ]
    },
    {
     "data": {
      "text/html": [
       "<table><thead><tr><th><i>index</i></th><th>value</th></tr></thead><tbody><tr><td>0</td><td>B,1,1,1,1</td></tr><tr><td>1</td><td>R,1,1,1,2</td></tr><tr><td>2</td><td>R,1,1,1,3</td></tr><tr><td>3</td><td>R,1,1,1,4</td></tr><tr><td>4</td><td>R,1,1,1,5</td></tr></tbody></table>"
      ]
     },
     "execution_count": 2,
     "metadata": {},
     "output_type": "execute_result"
    }
   ],
   "source": [
    "if (!File.Exists(\"balance-scale.data\"))\n",
    "{\n",
    "    using var client = new WebClient();\n",
    "    client.DownloadFile(\"https://archive.ics.uci.edu/ml/machine-learning-databases/balance-scale/balance-scale.data\", \"balance-scale.data\");\n",
    "}\n",
    "\n",
    "Console.WriteLine($\"Data file has {File.ReadLines(\"balance-scale.data\").Count():n0} lines\");\n",
    "File.ReadLines(\"balance-scale.data\").Take(5)"
   ]
  },
  {
   "cell_type": "markdown",
   "metadata": {},
   "source": [
    "> # Data Set Information:\n",
    "\n",
    "> This data set was generated to model psychological experimental results. Each example is classified as having the balance scale tip to the right, tip to the left, or be balanced. The attributes are the left weight, the left distance, the right weight, and the right distance. The correct way to find the class is the greater of (left-distance * left-weight) and (right-distance * right-weight). If they are equal, it is balanced."
   ]
  },
  {
   "cell_type": "code",
   "execution_count": 3,
   "metadata": {},
   "outputs": [],
   "source": [
    "var context = new MLContext();"
   ]
  },
  {
   "cell_type": "code",
   "execution_count": 4,
   "metadata": {},
   "outputs": [],
   "source": [
    "class BalanceScaleRow\n",
    "{\n",
    "    [ColumnName(\"Label\")]\n",
    "    [LoadColumn(0)]\n",
    "    public string ClassName { get; set; }\n",
    "    \n",
    "    [LoadColumn(1)]\n",
    "    public float LeftWeight { get; set; }\n",
    "    \n",
    "    [LoadColumn(2)]\n",
    "    public float LeftDistance { get; set; }\n",
    "    \n",
    "    [LoadColumn(3)]\n",
    "    public float RightWeight { get; set; }\n",
    "    \n",
    "    [LoadColumn(4)]\n",
    "    public float RightDistance { get; set; }\n",
    "}\n",
    "\n",
    "class BalanceScaleData : BalanceScaleRow\n",
    "{\n",
    "    public float LeftFactor { get; set; }\n",
    "    public float RightFactor { get; set; }\n",
    "}"
   ]
  },
  {
   "cell_type": "code",
   "execution_count": 10,
   "metadata": {},
   "outputs": [
    {
     "data": {
      "text/html": [
       "<table><thead><tr><th><i>index</i></th><th>LeftFactor</th><th>RightFactor</th><th>ClassName</th><th>LeftWeight</th><th>LeftDistance</th><th>RightWeight</th><th>RightDistance</th></tr></thead><tbody><tr><td>0</td><td>1</td><td>1</td><td>B</td><td>1</td><td>1</td><td>1</td><td>1</td></tr><tr><td>1</td><td>1</td><td>2</td><td>R</td><td>1</td><td>1</td><td>1</td><td>2</td></tr><tr><td>2</td><td>1</td><td>3</td><td>R</td><td>1</td><td>1</td><td>1</td><td>3</td></tr><tr><td>3</td><td>1</td><td>4</td><td>R</td><td>1</td><td>1</td><td>1</td><td>4</td></tr><tr><td>4</td><td>1</td><td>5</td><td>R</td><td>1</td><td>1</td><td>1</td><td>5</td></tr></tbody></table>"
      ]
     },
     "execution_count": 10,
     "metadata": {},
     "output_type": "execute_result"
    }
   ],
   "source": [
    "var allRows = context.Data.LoadFromTextFile<BalanceScaleRow>(\"balance-scale.data\", hasHeader: false, separatorChar: ',');\n",
    "\n",
    "var rowsEnum = context.Data.CreateEnumerable<BalanceScaleRow>(allRows, reuseRowObject: false);\n",
    "var allData = rowsEnum.Select(d => new BalanceScaleData\n",
    "{\n",
    "    ClassName = d.ClassName,\n",
    "    LeftWeight = d.LeftWeight,\n",
    "    LeftDistance = d.LeftDistance,\n",
    "    RightWeight = d.RightWeight,\n",
    "    RightDistance = d.RightDistance,\n",
    "    LeftFactor = d.LeftWeight * d.LeftDistance,\n",
    "    RightFactor = d.RightWeight * d.RightDistance,\n",
    "});\n",
    "\n",
    "allData.Take(5)"
   ]
  },
  {
   "cell_type": "code",
   "execution_count": 11,
   "metadata": {},
   "outputs": [],
   "source": [
    "var allDataView = context.Data.LoadFromEnumerable(allData);\n",
    "allDataView = context.Data.ShuffleRows(allDataView);"
   ]
  },
  {
   "cell_type": "code",
   "execution_count": 12,
   "metadata": {},
   "outputs": [],
   "source": [
    "var splitData = context.Data.TrainTestSplit(allDataView, testFraction: 0.2);\n",
    "var (trainData, testData) = (splitData.TrainSet, splitData.TestSet);"
   ]
  },
  {
   "cell_type": "code",
   "execution_count": 16,
   "metadata": {},
   "outputs": [],
   "source": [
    "var featureColumns = new[]\n",
    "{\n",
    "    nameof(BalanceScaleData.LeftWeight), nameof(BalanceScaleData.LeftDistance), nameof(BalanceScaleData.RightWeight), nameof(BalanceScaleData.RightDistance),\n",
    "    nameof(BalanceScaleData.LeftFactor), nameof(BalanceScaleData.RightFactor)\n",
    "};"
   ]
  },
  {
   "cell_type": "code",
   "execution_count": 17,
   "metadata": {},
   "outputs": [
    {
     "data": {
      "text/html": [
       "<table><thead><tr><th><i>index</i></th><th>value</th></tr></thead><tbody><tr><td>0</td><td>R</td></tr><tr><td>1</td><td>B</td></tr><tr><td>2</td><td>L</td></tr></tbody></table>"
      ]
     },
     "execution_count": 17,
     "metadata": {},
     "output_type": "execute_result"
    }
   ],
   "source": [
    "trainData.GetColumn<string>(\"Label\").Distinct()"
   ]
  },
  {
   "cell_type": "code",
   "execution_count": 18,
   "metadata": {},
   "outputs": [],
   "source": [
    "var pipeline = \n",
    "    context.Transforms.Conversion.MapValueToKey(\"Label\")\n",
    "    .Append(context.Transforms.Conversion.MapKeyToValue(\"LabelValue\", \"Label\"))\n",
    "    .Append(context.Transforms.Concatenate(\"Features\", featureColumns));"
   ]
  },
  {
   "cell_type": "code",
   "execution_count": 19,
   "metadata": {},
   "outputs": [],
   "source": [
    "var transformer = pipeline.Fit(trainData);"
   ]
  },
  {
   "cell_type": "code",
   "execution_count": 21,
   "metadata": {},
   "outputs": [
    {
     "data": {
      "text/html": [
       "<table><thead><tr><th><i>index</i></th><th>Class</th><th>Features</th></tr></thead><tbody><tr><td>0</td><td>R</td><td>[ 1, 1, 2, 3, 1, 6 ]</td></tr><tr><td>1</td><td>B</td><td>[ 1, 3, 1, 3, 3, 3 ]</td></tr><tr><td>2</td><td>R</td><td>[ 5, 3, 5, 4, 15, 20 ]</td></tr></tbody></table>"
      ]
     },
     "execution_count": 21,
     "metadata": {},
     "output_type": "execute_result"
    }
   ],
   "source": [
    "class BalanceScaleDataTransformed\n",
    "{\n",
    "    [ColumnName(\"LabelValue\")]\n",
    "    public string Class { get; set; }\n",
    "\n",
    "    [VectorType(84)]\n",
    "    public float[] Features { get; set; }\n",
    "}\n",
    "\n",
    "var transformedData = transformer.Transform(trainData);\n",
    "context.Data\n",
    "    .CreateEnumerable<BalanceScaleDataTransformed>(transformedData, reuseRowObject: false)\n",
    "    .Take(3)"
   ]
  },
  {
   "cell_type": "code",
   "execution_count": 22,
   "metadata": {},
   "outputs": [],
   "source": [
    "var estimator = context.MulticlassClassification.Trainers.LightGbm(featureColumnName: \"Features\");"
   ]
  },
  {
   "cell_type": "code",
   "execution_count": 23,
   "metadata": {},
   "outputs": [],
   "source": [
    "var transformedTrainData = transformer.Transform(trainData);\n",
    "var cvResults = context.MulticlassClassification.CrossValidate(transformedTrainData, estimator, numberOfFolds: 3);\n",
    "var cvResult = cvResults\n",
    "    .OrderByDescending(x => x.Metrics.MacroAccuracy)\n",
    "    .First();"
   ]
  },
  {
   "cell_type": "code",
   "execution_count": 24,
   "metadata": {},
   "outputs": [
    {
     "data": {
      "text/plain": [
       "\r\n",
       "Confusion table\r\n",
       "          ||========================\r\n",
       "PREDICTED ||     R |     B |     L | Recall\r\n",
       "TRUTH     ||========================\r\n",
       "        R ||    69 |     5 |     0 | 0.9324\r\n",
       "        B ||     4 |     6 |     4 | 0.4286\r\n",
       "        L ||     0 |     4 |    72 | 0.9474\r\n",
       "          ||========================\r\n",
       "Precision ||0.9452 |0.4000 |0.9474 |\r\n"
      ]
     },
     "execution_count": 24,
     "metadata": {},
     "output_type": "execute_result"
    }
   ],
   "source": [
    "cvResult.Metrics.ConfusionMatrix.GetFormattedConfusionTable()"
   ]
  },
  {
   "cell_type": "code",
   "execution_count": 25,
   "metadata": {},
   "outputs": [
    {
     "data": {
      "text/html": [
       "<table><thead><tr><th>LogLoss</th><th>LogLossReduction</th><th>MacroAccuracy</th><th>MicroAccuracy</th><th>TopKAccuracy</th><th>TopKPredictionCount</th><th>PerClassLogLoss</th><th>ConfusionMatrix</th></tr></thead><tbody><tr><td>0.2972664631089637</td><td>0.6788314292297085</td><td>0.7694574273521643</td><td>0.8963414634146342</td><td>0</td><td>0</td><td>[ 0.19312904676728335, 1.8183831710018639, 0.11845771177717082 ]</td><td>{ Microsoft.ML.Data.ConfusionMatrix: PerClassPrecision: [ 0.9452054794520548, 0.4, 0.9473684210526315 ], PerClassRecall: [ 0.9324324324324325, 0.42857142857142855, 0.9473684210526315 ], Counts: [ [ 69, 5, 0 ], [ 4, 6, 4 ], [ 0, 4, 72 ] ], NumberOfClasses: 3 }</td></tr></tbody></table>"
      ]
     },
     "execution_count": 25,
     "metadata": {},
     "output_type": "execute_result"
    }
   ],
   "source": [
    "cvResult.Metrics"
   ]
  },
  {
   "cell_type": "code",
   "execution_count": 26,
   "metadata": {},
   "outputs": [
    {
     "data": {
      "text/plain": [
       "\r\n",
       "Confusion table\r\n",
       "          ||========================\r\n",
       "PREDICTED ||     R |     B |     L | Recall\r\n",
       "TRUTH     ||========================\r\n",
       "        R ||    55 |     4 |     0 | 0.9322\r\n",
       "        B ||     2 |     1 |     3 | 0.1667\r\n",
       "        L ||     0 |     2 |    52 | 0.9630\r\n",
       "          ||========================\r\n",
       "Precision ||0.9649 |0.1429 |0.9455 |\r\n"
      ]
     },
     "execution_count": 26,
     "metadata": {},
     "output_type": "execute_result"
    }
   ],
   "source": [
    "var transformedTestData = transformer.Transform(testData);\n",
    "var predictions = cvResult.Model.Transform(transformedTestData);\n",
    "var metrics = context.MulticlassClassification.Evaluate(predictions);\n",
    "metrics.ConfusionMatrix.GetFormattedConfusionTable()"
   ]
  },
  {
   "cell_type": "code",
   "execution_count": 27,
   "metadata": {},
   "outputs": [
    {
     "data": {
      "text/html": [
       "<table><thead><tr><th>LogLoss</th><th>LogLossReduction</th><th>MacroAccuracy</th><th>MicroAccuracy</th><th>TopKAccuracy</th><th>TopKPredictionCount</th><th>PerClassLogLoss</th><th>ConfusionMatrix</th></tr></thead><tbody><tr><td>0.24925543418599327</td><td>0.7091600530747111</td><td>0.6872776731533793</td><td>0.907563025210084</td><td>0</td><td>0</td><td>[ 0.14410143518141205, 2.434462829728304, 0.12134509285296427 ]</td><td>{ Microsoft.ML.Data.ConfusionMatrix: PerClassPrecision: [ 0.9649122807017544, 0.14285714285714285, 0.9454545454545454 ], PerClassRecall: [ 0.9322033898305084, 0.16666666666666666, 0.9629629629629629 ], Counts: [ [ 55, 4, 0 ], [ 2, 1, 3 ], [ 0, 2, 52 ] ], NumberOfClasses: 3 }</td></tr></tbody></table>"
      ]
     },
     "execution_count": 27,
     "metadata": {},
     "output_type": "execute_result"
    }
   ],
   "source": [
    "metrics"
   ]
  },
  {
   "cell_type": "code",
   "execution_count": 32,
   "metadata": {},
   "outputs": [
    {
     "data": {
      "text/html": [
       "<table><thead><tr><th><i>index</i></th><th>LabelValue</th><th>Score</th><th>PredictedLabelValue</th></tr></thead><tbody><tr><td>0</td><td>R</td><td>[ 0.9916059, 0.00834077, 5.3353237E-05 ]</td><td>R</td></tr><tr><td>1</td><td>R</td><td>[ 0.998851, 0.0010052732, 0.00014369821 ]</td><td>R</td></tr><tr><td>2</td><td>L</td><td>[ 0.00012103434, 0.00055790815, 0.99932104 ]</td><td>L</td></tr><tr><td>3</td><td>R</td><td>[ 0.9977286, 0.0022037618, 6.766315E-05 ]</td><td>R</td></tr><tr><td>4</td><td>B</td><td>[ 0.33228013, 0.23664351, 0.43107638 ]</td><td>L</td></tr></tbody></table>"
      ]
     },
     "execution_count": 32,
     "metadata": {},
     "output_type": "execute_result"
    }
   ],
   "source": [
    "class MulticlassClassificationPrediction\n",
    "{\n",
    "    public string LabelValue { get; set; }\n",
    "\n",
    "    public float[] Score { get; set; }\n",
    "\n",
    "    public string PredictedLabelValue { get; set; }\n",
    "}\n",
    "\n",
    "var sampleData = context.Data.ShuffleRows(testData);\n",
    "var transformedSampleData = transformer.Transform(sampleData);\n",
    "\n",
    "var samplePredictions = cvResult.Model.Transform(transformedSampleData);\n",
    "var mapValues = context.Transforms.Conversion\n",
    "    .MapKeyToValue(\"PredictedLabelValue\", \"PredictedLabel\")\n",
    "    .Append(context.Transforms.Conversion.MapKeyToValue(\"LabelValue\", \"Label\"))\n",
    "    .Fit(samplePredictions);\n",
    "samplePredictions = mapValues.Transform(samplePredictions);\n",
    "var samplePredictionItems = context.Data.CreateEnumerable<MulticlassClassificationPrediction>(samplePredictions, reuseRowObject: false);\n",
    "\n",
    "samplePredictionItems.Take(5)"
   ]
  },
  {
   "cell_type": "code",
   "execution_count": null,
   "metadata": {},
   "outputs": [],
   "source": []
  }
 ],
 "metadata": {
  "kernelspec": {
   "display_name": ".NET (C#)",
   "language": "C#",
   "name": ".net-csharp"
  },
  "language_info": {
   "file_extension": ".cs",
   "mimetype": "text/x-csharp",
   "name": "C#",
   "pygments_lexer": "csharp",
   "version": "8.0"
  }
 },
 "nbformat": 4,
 "nbformat_minor": 4
}
