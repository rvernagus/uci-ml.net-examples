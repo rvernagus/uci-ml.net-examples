{
 "cells": [
  {
   "cell_type": "code",
   "execution_count": 16,
   "metadata": {},
   "outputs": [
    {
     "data": {
      "text/html": [
       "Installing package Microsoft.ML......."
      ]
     },
     "metadata": {},
     "output_type": "display_data"
    }
   ],
   "source": [
    "#r \"nuget: Microsoft.ML\"\n",
    "using System;\n",
    "using System.IO;\n",
    "using System.Linq;\n",
    "using System.Net;\n",
    "using Microsoft.ML;\n",
    "using Microsoft.ML.Data;\n",
    "using Microsoft.ML.Transforms;"
   ]
  },
  {
   "cell_type": "code",
   "execution_count": 2,
   "metadata": {},
   "outputs": [
    {
     "data": {
      "text/html": [
       "<table><thead><tr><th><i>index</i></th><th>value</th></tr></thead><tbody><tr><td>0</td><td>3,?,alfa-romero,gas,std,two,convertible,rwd,front,88.60,168.80,64.10,48.80,2548,dohc,four,130,mpfi,3.47,2.68,9.00,111,5000,21,27,13495</td></tr><tr><td>1</td><td>3,?,alfa-romero,gas,std,two,convertible,rwd,front,88.60,168.80,64.10,48.80,2548,dohc,four,130,mpfi,3.47,2.68,9.00,111,5000,21,27,16500</td></tr><tr><td>2</td><td>1,?,alfa-romero,gas,std,two,hatchback,rwd,front,94.50,171.20,65.50,52.40,2823,ohcv,six,152,mpfi,2.68,3.47,9.00,154,5000,19,26,16500</td></tr><tr><td>3</td><td>2,164,audi,gas,std,four,sedan,fwd,front,99.80,176.60,66.20,54.30,2337,ohc,four,109,mpfi,3.19,3.40,10.00,102,5500,24,30,13950</td></tr><tr><td>4</td><td>2,164,audi,gas,std,four,sedan,4wd,front,99.40,176.60,66.40,54.30,2824,ohc,five,136,mpfi,3.19,3.40,8.00,115,5500,18,22,17450</td></tr></tbody></table>"
      ]
     },
     "execution_count": 2,
     "metadata": {},
     "output_type": "execute_result"
    }
   ],
   "source": [
    "if (!File.Exists(\"imports-85.data\"))\n",
    "{\n",
    "    using var client = new WebClient();\n",
    "    client.DownloadFile(\"https://archive.ics.uci.edu/ml/machine-learning-databases/autos/imports-85.data\", \"imports-85.data\");\n",
    "}\n",
    "\n",
    "File.ReadLines(\"imports-85.data\").Take(5)"
   ]
  },
  {
   "cell_type": "code",
   "execution_count": 3,
   "metadata": {},
   "outputs": [],
   "source": [
    "var context = new MLContext();"
   ]
  },
  {
   "cell_type": "code",
   "execution_count": 9,
   "metadata": {},
   "outputs": [],
   "source": [
    "class AutosData\n",
    "{\n",
    "    [LoadColumn(0)]\n",
    "    public string Symboling { get; set; }\n",
    "    \n",
    "    [LoadColumn(1)]\n",
    "    public float  NormLosses { get; set; }\n",
    "    \n",
    "    [LoadColumn(2)]\n",
    "    public string Make { get; set; }\n",
    "    \n",
    "    [LoadColumn(3)]\n",
    "    public string FuelType { get; set; }\n",
    "    \n",
    "    [LoadColumn(4)]\n",
    "    public string Aspiration { get; set; }\n",
    "    \n",
    "    [LoadColumn(5)]\n",
    "    public string NumDoors { get; set; }\n",
    "    \n",
    "    [LoadColumn(6)]\n",
    "    public string BodyStyle { get; set; }\n",
    "    \n",
    "    [LoadColumn(7)]\n",
    "    public string DriveWheels { get; set; }\n",
    "    \n",
    "    [LoadColumn(8)]\n",
    "    public string EngineLoc { get; set; }\n",
    "    \n",
    "    [LoadColumn(9)]\n",
    "    public float WheelBase { get; set; }\n",
    "    \n",
    "    [LoadColumn(10)]\n",
    "    public float Length { get; set; }\n",
    "    \n",
    "    [LoadColumn(11)]\n",
    "    public float Width { get; set; }\n",
    "    \n",
    "    [LoadColumn(12)]\n",
    "    public float Height { get; set; }\n",
    "    \n",
    "    [LoadColumn(13)]\n",
    "    public float CurbWeight { get; set; }\n",
    "    \n",
    "    [LoadColumn(14)]\n",
    "    public string EngineType { get; set; }\n",
    "    \n",
    "    [LoadColumn(15)]\n",
    "    public string NumCylinders { get; set; }\n",
    "    \n",
    "    [LoadColumn(16)]\n",
    "    public float EngineSize { get; set; }\n",
    "    \n",
    "    [LoadColumn(17)]\n",
    "    public string FuelSystem { get; set; }\n",
    "    \n",
    "    [LoadColumn(18)]\n",
    "    public float Bore { get; set; }\n",
    "    \n",
    "    [LoadColumn(19)]\n",
    "    public float Stroke { get; set; }\n",
    "    \n",
    "    [LoadColumn(20)]\n",
    "    public float CompressionRatio { get; set; }\n",
    "    \n",
    "    [LoadColumn(21)]\n",
    "    public float Horsepower { get; set; }\n",
    "    \n",
    "    [LoadColumn(22)]\n",
    "    public float PeakRpm { get; set; }\n",
    "    \n",
    "    [LoadColumn(23)]\n",
    "    public float CityMpg { get; set; }\n",
    "    \n",
    "    [LoadColumn(24)]\n",
    "    public float HighwayMpg { get; set; }\n",
    "    \n",
    "    [LoadColumn(25)]\n",
    "    [ColumnName(\"Label\")]\n",
    "    public float Price { get; set; }\n",
    "}"
   ]
  },
  {
   "cell_type": "code",
   "execution_count": 10,
   "metadata": {},
   "outputs": [],
   "source": [
    "var allData = context.Data.LoadFromTextFile<AutosData>(\"imports-85.data\", hasHeader: false, separatorChar: ',');\n",
    "allData = context.Data.ShuffleRows(allData);"
   ]
  },
  {
   "cell_type": "code",
   "execution_count": 11,
   "metadata": {},
   "outputs": [],
   "source": [
    "var splitData = context.Data.TrainTestSplit(allData, testFraction: 0.2);\n",
    "var (trainData, testData) = (splitData.TrainSet, splitData.TestSet);"
   ]
  },
  {
   "cell_type": "code",
   "execution_count": 13,
   "metadata": {},
   "outputs": [],
   "source": [
    "var featureColumns = new[]\n",
    "{\n",
    "    nameof(AutosData.Symboling), nameof(AutosData.NormLosses), nameof(AutosData.Make), nameof(AutosData.FuelType), nameof(AutosData.Aspiration),\n",
    "    nameof(AutosData.NumDoors), nameof(AutosData.BodyStyle), nameof(AutosData.DriveWheels), nameof(AutosData.EngineLoc),\n",
    "    nameof(AutosData.WheelBase), nameof(AutosData.Length), nameof(AutosData.Width), nameof(AutosData.Height), nameof(AutosData.CurbWeight),\n",
    "    nameof(AutosData.EngineType), nameof(AutosData.NumCylinders), nameof(AutosData.EngineSize), nameof(AutosData.FuelSystem), nameof(AutosData.Bore),\n",
    "    nameof(AutosData.Stroke), nameof(AutosData.CompressionRatio), nameof(AutosData.Horsepower), nameof(AutosData.PeakRpm), nameof(AutosData.CityMpg),\n",
    "    nameof(AutosData.HighwayMpg)\n",
    "};"
   ]
  },
  {
   "cell_type": "code",
   "execution_count": 14,
   "metadata": {},
   "outputs": [],
   "source": [
    "var categoricalColumns = new[]\n",
    "{\n",
    "    nameof(AutosData.Symboling), nameof(AutosData.Make), nameof(AutosData.FuelType), nameof(AutosData.Aspiration), nameof(AutosData.NumDoors),\n",
    "    nameof(AutosData.BodyStyle), nameof(AutosData.DriveWheels), nameof(AutosData.EngineLoc), nameof(AutosData.EngineType),\n",
    "    nameof(AutosData.NumCylinders), nameof(AutosData.FuelSystem)\n",
    "};"
   ]
  },
  {
   "cell_type": "code",
   "execution_count": 17,
   "metadata": {},
   "outputs": [],
   "source": [
    "var chain = new EstimatorChain<OneHotEncodingTransformer>();\n",
    "var pipeline = categoricalColumns\n",
    "    .Aggregate(chain, (pl, col) => pl.Append(context.Transforms.Categorical.OneHotEncoding(col)))\n",
    "    .Append(context.Transforms.Concatenate(\"Features\", featureColumns))\n",
    "    .Append(context.Transforms.ReplaceMissingValues(\"Features\", replacementMode: MissingValueReplacingEstimator.ReplacementMode.DefaultValue))\n",
    "    .Append(context.Transforms.NormalizeMinMax(\"FeaturesNorm\", \"Features\"));"
   ]
  },
  {
   "cell_type": "code",
   "execution_count": 18,
   "metadata": {},
   "outputs": [],
   "source": [
    "var transformer = pipeline.Fit(trainData);"
   ]
  },
  {
   "cell_type": "code",
   "execution_count": 19,
   "metadata": {},
   "outputs": [
    {
     "data": {
      "text/html": [
       "<table><thead><tr><th><i>index</i></th><th>Symboling</th><th>NormLosses</th><th>Make</th><th>FuelType</th><th>Aspiration</th><th>NumDoors</th><th>BodyStyle</th><th>DriveWheels</th><th>EngineLoc</th><th>WheelBase</th><th>Length</th><th>Width</th><th>Height</th><th>CurbWeight</th><th>EngineType</th><th>NumCylinders</th><th>EngineSize</th><th>FuelSystem</th><th>Bore</th><th>Stroke</th><th>CompressionRatio</th><th>Horsepower</th><th>PeakRpm</th><th>CityMpg</th><th>HighwayMpg</th><th>Price</th></tr></thead><tbody><tr><td>0</td><td>-2</td><td>103</td><td>volvo</td><td>gas</td><td>turbo</td><td>four</td><td>sedan</td><td>rwd</td><td>front</td><td>104.3</td><td>188.8</td><td>67.2</td><td>56.2</td><td>3045</td><td>ohc</td><td>four</td><td>130</td><td>mpfi</td><td>3.62</td><td>3.15</td><td>7.5</td><td>162</td><td>5100</td><td>17</td><td>22</td><td>18420</td></tr><tr><td>1</td><td>1</td><td>113</td><td>mazda</td><td>gas</td><td>std</td><td>four</td><td>sedan</td><td>fwd</td><td>front</td><td>93.1</td><td>166.8</td><td>64.2</td><td>54.1</td><td>1945</td><td>ohc</td><td>four</td><td>91</td><td>2bbl</td><td>3.03</td><td>3.15</td><td>9</td><td>68</td><td>5000</td><td>31</td><td>38</td><td>6695</td></tr><tr><td>2</td><td>-1</td><td>95</td><td>volvo</td><td>gas</td><td>turbo</td><td>four</td><td>sedan</td><td>rwd</td><td>front</td><td>109.1</td><td>188.8</td><td>68.9</td><td>55.5</td><td>3062</td><td>ohc</td><td>four</td><td>141</td><td>mpfi</td><td>3.78</td><td>3.15</td><td>9.5</td><td>114</td><td>5400</td><td>19</td><td>25</td><td>22625</td></tr><tr><td>3</td><td>0</td><td>91</td><td>toyota</td><td>gas</td><td>std</td><td>four</td><td>hatchback</td><td>fwd</td><td>front</td><td>95.7</td><td>166.3</td><td>64.4</td><td>52.8</td><td>2109</td><td>ohc</td><td>four</td><td>98</td><td>2bbl</td><td>3.19</td><td>3.03</td><td>9</td><td>70</td><td>4800</td><td>30</td><td>37</td><td>7198</td></tr><tr><td>4</td><td>1</td><td>161</td><td>mitsubishi</td><td>gas</td><td>turbo</td><td>two</td><td>hatchback</td><td>fwd</td><td>front</td><td>93</td><td>157.3</td><td>63.8</td><td>50.8</td><td>2145</td><td>ohc</td><td>four</td><td>98</td><td>spdi</td><td>3.03</td><td>3.39</td><td>7.6</td><td>102</td><td>5500</td><td>24</td><td>30</td><td>7689</td></tr></tbody></table>"
      ]
     },
     "execution_count": 19,
     "metadata": {},
     "output_type": "execute_result"
    }
   ],
   "source": [
    "var sourceItems = context.Data\n",
    "    .CreateEnumerable<AutosData>(trainData, reuseRowObject: false)\n",
    "    .Take(5);\n",
    "sourceItems"
   ]
  },
  {
   "cell_type": "code",
   "execution_count": 21,
   "metadata": {},
   "outputs": [
    {
     "data": {
      "text/html": [
       "<table><thead><tr><th><i>index</i></th><th>Price</th><th>Features</th><th>FeaturesNorm</th></tr></thead><tbody><tr><td>0</td><td>18420</td><td>[ 1, 0, 0, 0, 0, 0, 103, 1, 0, 0 ... (71 more) ]</td><td>[ 1, 0, 0, 0, 0, 0, 0.40234375, 1, 0, 0 ... (71 more) ]</td></tr><tr><td>1</td><td>6695</td><td>[ 0, 1, 0, 0, 0, 0, 113, 0, 1, 0 ... (71 more) ]</td><td>[ 0, 1, 0, 0, 0, 0, 0.44140625, 0, 1, 0 ... (71 more) ]</td></tr><tr><td>2</td><td>22625</td><td>[ 0, 0, 1, 0, 0, 0, 95, 1, 0, 0 ... (71 more) ]</td><td>[ 0, 0, 1, 0, 0, 0, 0.37109375, 1, 0, 0 ... (71 more) ]</td></tr></tbody></table>"
      ]
     },
     "execution_count": 21,
     "metadata": {},
     "output_type": "execute_result"
    }
   ],
   "source": [
    "class AutosDataTransformed\n",
    "{\n",
    "    [ColumnName(\"Label\")]\n",
    "    public float Price { get; set; }\n",
    "\n",
    "    [VectorType(81)]\n",
    "    public float[] Features { get; set; }\n",
    "\n",
    "    [VectorType(81)]\n",
    "    public float[] FeaturesNorm { get; set; }\n",
    "}\n",
    "\n",
    "var transformedData = transformer.Transform(trainData);\n",
    "context.Data\n",
    "    .CreateEnumerable<AutosDataTransformed>(transformedData, reuseRowObject: false)\n",
    "    .Take(3)"
   ]
  },
  {
   "cell_type": "code",
   "execution_count": 22,
   "metadata": {},
   "outputs": [],
   "source": [
    "var estimator = context.Regression.Trainers.Sdca(featureColumnName: \"FeaturesNorm\");"
   ]
  },
  {
   "cell_type": "code",
   "execution_count": 23,
   "metadata": {},
   "outputs": [],
   "source": [
    "var transformedTrainData = transformer.Transform(trainData);\n",
    "var cvResults = context.Regression.CrossValidate(transformedTrainData, estimator, numberOfFolds: 3);\n",
    "var cvResult = cvResults\n",
    "    .OrderByDescending(x => x.Metrics.RSquared)\n",
    "    .First();"
   ]
  },
  {
   "cell_type": "code",
   "execution_count": 24,
   "metadata": {},
   "outputs": [
    {
     "data": {
      "text/html": [
       "<table><thead><tr><th><i>key</i></th><th>value</th></tr></thead><tbody><tr><td>Mean Absolute Error</td><td>1899.6594520291699</td></tr><tr><td>Mean Squared Error</td><td>7400438.0411851285</td></tr><tr><td>Root Mean Squared Error</td><td>2719.9523289832127</td></tr><tr><td>R-squared</td><td>0.8791974315030332</td></tr></tbody></table>"
      ]
     },
     "execution_count": 24,
     "metadata": {},
     "output_type": "execute_result"
    }
   ],
   "source": [
    "new Dictionary<string, double>\n",
    "{\n",
    "    [\"Mean Absolute Error\"] = cvResults.Average(x => x.Metrics.MeanAbsoluteError),\n",
    "    [\"Mean Squared Error\"] = cvResults.Average(x => x.Metrics.MeanSquaredError),\n",
    "    [\"Root Mean Squared Error\"] = cvResults.Average(x => x.Metrics.RootMeanSquaredError),\n",
    "    [\"R-squared\"] = cvResults.Average(x => x.Metrics.RSquared),\n",
    "}"
   ]
  },
  {
   "cell_type": "code",
   "execution_count": 25,
   "metadata": {},
   "outputs": [],
   "source": [
    "var transformedTestData = transformer.Transform(testData);\n",
    "var predictions = cvResult.Model.Transform(transformedTestData);\n",
    "var metrics = context.Regression.Evaluate(predictions);"
   ]
  },
  {
   "cell_type": "code",
   "execution_count": 26,
   "metadata": {},
   "outputs": [
    {
     "data": {
      "text/html": [
       "<table><thead><tr><th>MeanAbsoluteError</th><th>MeanSquaredError</th><th>RootMeanSquaredError</th><th>LossFunction</th><th>RSquared</th></tr></thead><tbody><tr><td>2067.1882161458334</td><td>10703392.731119331</td><td>3271.603999740698</td><td>10703392.534375</td><td>0.8171304713913203</td></tr></tbody></table>"
      ]
     },
     "execution_count": 26,
     "metadata": {},
     "output_type": "execute_result"
    }
   ],
   "source": [
    "metrics"
   ]
  },
  {
   "cell_type": "code",
   "execution_count": 27,
   "metadata": {},
   "outputs": [
    {
     "data": {
      "text/html": [
       "<table><thead><tr><th><i>index</i></th><th>Label</th><th>Score</th></tr></thead><tbody><tr><td>0</td><td>9988</td><td>10572.376</td></tr><tr><td>1</td><td>10698</td><td>11575.641</td></tr><tr><td>2</td><td>19699</td><td>20869.21</td></tr><tr><td>3</td><td>6529</td><td>7426.263</td></tr><tr><td>4</td><td>17075</td><td>16525.73</td></tr></tbody></table>"
      ]
     },
     "execution_count": 27,
     "metadata": {},
     "output_type": "execute_result"
    }
   ],
   "source": [
    "class RegressionPrediction\n",
    "{\n",
    "    public Single Label { get; set; }\n",
    "\n",
    "    public Single Score { get; set; }\n",
    "}\n",
    "\n",
    "// Show some sample predictions\n",
    "var sampleData = context.Data.ShuffleRows(testData);\n",
    "var transformedSampleData = transformer.Transform(sampleData);\n",
    "\n",
    "var predictionEngine = context.Model.CreatePredictionEngine<AutosDataTransformed, RegressionPrediction>(cvResult.Model);\n",
    "\n",
    "context.Data.CreateEnumerable<AutosDataTransformed>(transformedSampleData, reuseRowObject: false)\n",
    "    .Take(5)\n",
    "    .Select(predictionEngine.Predict)"
   ]
  },
  {
   "cell_type": "code",
   "execution_count": null,
   "metadata": {},
   "outputs": [],
   "source": []
  }
 ],
 "metadata": {
  "kernelspec": {
   "display_name": ".NET (C#)",
   "language": "C#",
   "name": ".net-csharp"
  },
  "language_info": {
   "file_extension": ".cs",
   "mimetype": "text/x-csharp",
   "name": "C#",
   "pygments_lexer": "csharp",
   "version": "8.0"
  }
 },
 "nbformat": 4,
 "nbformat_minor": 4
}
