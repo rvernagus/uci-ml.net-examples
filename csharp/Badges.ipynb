{
 "cells": [
  {
   "cell_type": "code",
   "execution_count": 1,
   "metadata": {},
   "outputs": [
    {
     "data": {
      "text/html": [
       "Installed package Microsoft.ML version 1.4.0"
      ]
     },
     "metadata": {},
     "output_type": "display_data"
    },
    {
     "data": {
      "text/html": [
       "Installed package Microsoft.ML.LightGbm version 1.4.0"
      ]
     },
     "metadata": {},
     "output_type": "display_data"
    }
   ],
   "source": [
    "#r \"nuget: Microsoft.ML\"\n",
    "#r \"nuget: Microsoft.ML.LightGbm\"\n",
    "using System;\n",
    "using System.IO;\n",
    "using System.Linq;\n",
    "using System.Net;\n",
    "using Microsoft.ML;\n",
    "using Microsoft.ML.Data;\n",
    "using Microsoft.ML.Transforms;"
   ]
  },
  {
   "cell_type": "code",
   "execution_count": 2,
   "metadata": {},
   "outputs": [
    {
     "data": {
      "text/html": [
       "<table><thead><tr><th><i>index</i></th><th>value</th></tr></thead><tbody><tr><td>0</td><td></td></tr><tr><td>1</td><td>+ Naoki Abe</td></tr><tr><td>2</td><td>- Myriam Abramson</td></tr><tr><td>3</td><td>+ David W. Aha</td></tr><tr><td>4</td><td>+ Kamal M. Ali</td></tr></tbody></table>"
      ]
     },
     "execution_count": 2,
     "metadata": {},
     "output_type": "execute_result"
    }
   ],
   "source": [
    "if (!File.Exists(\"badges.data\"))\n",
    "{\n",
    "    using var client = new WebClient();\n",
    "    client.DownloadFile(\"https://archive.ics.uci.edu/ml/machine-learning-databases/badges/badges.data\", \"badges.data\");\n",
    "}\n",
    "\n",
    "File.ReadLines(\"badges.data\").Take(5)"
   ]
  },
  {
   "cell_type": "markdown",
   "metadata": {},
   "source": [
    "> # Data Set Information:\n",
    "\n",
    "> Part of the problem in using an automated program to discover the unknown target function is to decide how to encode names such that the program can be used. The data below are presented in the form of a +/- label followed by the person's name. It is up to the learning-system user to decide how to convert this data into something usable by the system (e.g., what attributes to use if your favorite learner requires feature-vector data)."
   ]
  },
  {
   "cell_type": "code",
   "execution_count": 3,
   "metadata": {},
   "outputs": [],
   "source": [
    "class ParsedRow\n",
    "{\n",
    "    public bool IsPlus { get; set; }\n",
    "    \n",
    "    public string FirstName { get; set; }\n",
    "    \n",
    "    public float[] FirstNameChars => FirstName.ToCharArray().Select(c => (float)c).ToArray();\n",
    "    \n",
    "    public string MiddleInitial { get; set; }\n",
    "    \n",
    "    public float[] MiddleInitialChars => MiddleInitial.ToCharArray().Select(c => (float)c).ToArray();\n",
    "    \n",
    "    public string LastName { get; set; }\n",
    "    \n",
    "    public float[] LastNameChars => LastName.ToCharArray().Select(c => (float)c).ToArray();\n",
    "}"
   ]
  },
  {
   "cell_type": "code",
   "execution_count": 4,
   "metadata": {},
   "outputs": [],
   "source": [
    "using System.Text.RegularExpressions;\n",
    "\n",
    "static bool IsPlus(string str) =>\n",
    "    str switch\n",
    "    {\n",
    "        null => false,\n",
    "        \"\"   => false,\n",
    "        _    => str[0] switch\n",
    "        {\n",
    "            '+' => true,\n",
    "            _  => false,\n",
    "        }\n",
    "    };\n",
    "\n",
    "static string GetMatch(string str, string pattern)\n",
    "{\n",
    "    var groups = Regex.Match(str, pattern).Groups;\n",
    "    return groups.Count switch\n",
    "    {\n",
    "        2 => groups[1].Value,\n",
    "        _ => \"\"\n",
    "    };\n",
    "}\n",
    "\n",
    "static string GetFirstName(string str) => GetMatch(str, @\"^. ([a-zA-Z]+) \");\n",
    "    \n",
    "static string GetMiddle(string str) => GetMatch(str, @\" ([a-zA-Z]{1})\\. \");\n",
    "\n",
    "static string GetLastName(string str) => GetMatch(str, @\" ([a-zA-Z]+)$\");"
   ]
  },
  {
   "cell_type": "code",
   "execution_count": 5,
   "metadata": {},
   "outputs": [
    {
     "data": {
      "text/html": [
       "False"
      ]
     },
     "execution_count": 5,
     "metadata": {},
     "output_type": "execute_result"
    }
   ],
   "source": [
    "IsPlus(\"- Ray Vernagus\")"
   ]
  },
  {
   "cell_type": "code",
   "execution_count": 6,
   "metadata": {},
   "outputs": [
    {
     "data": {
      "text/plain": [
       "Ray"
      ]
     },
     "execution_count": 6,
     "metadata": {},
     "output_type": "execute_result"
    }
   ],
   "source": [
    "GetFirstName(\"+ Ray Vernagus\")"
   ]
  },
  {
   "cell_type": "code",
   "execution_count": 7,
   "metadata": {},
   "outputs": [
    {
     "data": {
      "text/plain": [
       "W"
      ]
     },
     "execution_count": 7,
     "metadata": {},
     "output_type": "execute_result"
    }
   ],
   "source": [
    "GetMiddle(\"+ Ray W. Vernagus\")"
   ]
  },
  {
   "cell_type": "code",
   "execution_count": 8,
   "metadata": {},
   "outputs": [
    {
     "data": {
      "text/plain": [
       "Vernagus"
      ]
     },
     "execution_count": 8,
     "metadata": {},
     "output_type": "execute_result"
    }
   ],
   "source": [
    "GetLastName(\"+ Ray Vernagus\")"
   ]
  },
  {
   "cell_type": "code",
   "execution_count": 9,
   "metadata": {},
   "outputs": [
    {
     "data": {
      "text/html": [
       "<table><thead><tr><th><i>index</i></th><th>IsPlus</th><th>FirstName</th><th>FirstNameChars</th><th>MiddleInitial</th><th>MiddleInitialChars</th><th>LastName</th><th>LastNameChars</th></tr></thead><tbody><tr><td>0</td><td>True</td><td>Naoki</td><td>[ 78, 97, 111, 107, 105 ]</td><td></td><td>[  ]</td><td>Abe</td><td>[ 65, 98, 101 ]</td></tr><tr><td>1</td><td>False</td><td>Myriam</td><td>[ 77, 121, 114, 105, 97, 109 ]</td><td></td><td>[  ]</td><td>Abramson</td><td>[ 65, 98, 114, 97, 109, 115, 111, 110 ]</td></tr><tr><td>2</td><td>True</td><td>David</td><td>[ 68, 97, 118, 105, 100 ]</td><td>W</td><td>[ 87 ]</td><td>Aha</td><td>[ 65, 104, 97 ]</td></tr><tr><td>3</td><td>True</td><td>Kamal</td><td>[ 75, 97, 109, 97, 108 ]</td><td>M</td><td>[ 77 ]</td><td>Ali</td><td>[ 65, 108, 105 ]</td></tr><tr><td>4</td><td>False</td><td>Eric</td><td>[ 69, 114, 105, 99 ]</td><td></td><td>[  ]</td><td>Allender</td><td>[ 65, 108, 108, 101, 110, 100, 101, 114 ]</td></tr></tbody></table>"
      ]
     },
     "execution_count": 9,
     "metadata": {},
     "output_type": "execute_result"
    }
   ],
   "source": [
    "File.ReadLines(\"badges.data\")\n",
    "    .Skip(1)\n",
    "    .Take(5)\n",
    "    .Select(line =>\n",
    "        new ParsedRow\n",
    "        {\n",
    "            IsPlus = IsPlus(line),\n",
    "            FirstName = GetFirstName(line),\n",
    "            MiddleInitial = GetMiddle(line),\n",
    "            LastName = GetLastName(line)\n",
    "        })"
   ]
  },
  {
   "cell_type": "code",
   "execution_count": 10,
   "metadata": {},
   "outputs": [],
   "source": [
    "var rows = File.ReadLines(\"badges.data\")\n",
    "    .Skip(1)\n",
    "    .Select(line =>\n",
    "        new ParsedRow\n",
    "        {\n",
    "            IsPlus = IsPlus(line),\n",
    "            FirstName = GetFirstName(line),\n",
    "            MiddleInitial = GetMiddle(line),\n",
    "            LastName = GetLastName(line)\n",
    "        })\n",
    "    .ToList();"
   ]
  },
  {
   "cell_type": "code",
   "execution_count": 11,
   "metadata": {},
   "outputs": [
    {
     "data": {
      "text/html": [
       "9"
      ]
     },
     "execution_count": 11,
     "metadata": {},
     "output_type": "execute_result"
    }
   ],
   "source": [
    "rows.Max(r => r.FirstName.Length)"
   ]
  },
  {
   "cell_type": "code",
   "execution_count": 12,
   "metadata": {},
   "outputs": [
    {
     "data": {
      "text/html": [
       "16"
      ]
     },
     "execution_count": 12,
     "metadata": {},
     "output_type": "execute_result"
    }
   ],
   "source": [
    "rows.Max(r => r.LastName.Length)"
   ]
  },
  {
   "cell_type": "code",
   "execution_count": 13,
   "metadata": {},
   "outputs": [
    {
     "data": {
      "text/html": [
       "<table><thead><tr><th><i>index</i></th><th>value</th></tr></thead><tbody><tr><td>0</td><td>78</td></tr><tr><td>1</td><td>97</td></tr><tr><td>2</td><td>111</td></tr><tr><td>3</td><td>107</td></tr><tr><td>4</td><td>105</td></tr></tbody></table>"
      ]
     },
     "execution_count": 13,
     "metadata": {},
     "output_type": "execute_result"
    }
   ],
   "source": [
    "rows.First().FirstNameChars"
   ]
  },
  {
   "cell_type": "code",
   "execution_count": 14,
   "metadata": {},
   "outputs": [],
   "source": [
    "class BadgesData\n",
    "{\n",
    "    [VectorType(9)]\n",
    "    public float[] FirstName { get; set; }\n",
    "    \n",
    "    [VectorType(1)]\n",
    "    public float[] MiddleInitial { get; set; }\n",
    "    \n",
    "    [VectorType(16)]\n",
    "    public float[] LastName { get; set; }\n",
    "    \n",
    "    [ColumnName(\"Label\")]\n",
    "    public bool IsPlus { get; set; }\n",
    "}"
   ]
  },
  {
   "cell_type": "code",
   "execution_count": 15,
   "metadata": {},
   "outputs": [],
   "source": [
    "var data = rows.Select(x =>\n",
    "{\n",
    "    var fnChars = x.FirstNameChars;\n",
    "    Array.Resize(ref fnChars, 9);\n",
    "    var mnChars = x.MiddleInitialChars;\n",
    "    Array.Resize(ref mnChars, 1);\n",
    "    var lnChars = x.LastNameChars;\n",
    "    Array.Resize(ref lnChars, 16);\n",
    "    \n",
    "    return new BadgesData\n",
    "    {\n",
    "        FirstName = fnChars,\n",
    "        MiddleInitial = mnChars,\n",
    "        LastName = lnChars,\n",
    "        IsPlus = x.IsPlus,\n",
    "    };\n",
    "});\n",
    "\n",
    "var context = new MLContext();\n",
    "var allData = context.Data.LoadFromEnumerable<BadgesData>(data);\n",
    "allData = context.Data.ShuffleRows(allData);"
   ]
  },
  {
   "cell_type": "code",
   "execution_count": 16,
   "metadata": {},
   "outputs": [],
   "source": [
    "var splitData = context.Data.TrainTestSplit(allData, testFraction: 0.2);\n",
    "var (trainData, testData) = (splitData.TrainSet, splitData.TestSet);"
   ]
  },
  {
   "cell_type": "code",
   "execution_count": 17,
   "metadata": {},
   "outputs": [],
   "source": [
    "var featureColumns = new[]\n",
    "{\n",
    "    nameof(BadgesData.FirstName), nameof(BadgesData.MiddleInitial), nameof(BadgesData.LastName)\n",
    "};"
   ]
  },
  {
   "cell_type": "code",
   "execution_count": 18,
   "metadata": {},
   "outputs": [],
   "source": [
    "var pipeline = context\n",
    "    .Transforms.Concatenate(\"Features\", featureColumns);"
   ]
  },
  {
   "cell_type": "code",
   "execution_count": 19,
   "metadata": {},
   "outputs": [],
   "source": [
    "var transformer = pipeline.Fit(trainData);"
   ]
  },
  {
   "cell_type": "code",
   "execution_count": 22,
   "metadata": {},
   "outputs": [],
   "source": [
    "class BadgesDataTransformed\n",
    "{\n",
    "    [VectorType(26)]\n",
    "    public float[] Features { get; set; }\n",
    "    \n",
    "    [ColumnName(\"Label\")]\n",
    "    public bool IsPlus { get; set; }\n",
    "}"
   ]
  },
  {
   "cell_type": "code",
   "execution_count": 23,
   "metadata": {},
   "outputs": [
    {
     "data": {
      "text/html": [
       "<table><thead><tr><th><i>index</i></th><th>Features</th><th>IsPlus</th></tr></thead><tbody><tr><td>0</td><td>[ 83, 104, 97, 105, 0, 0, 0, 0, 0, 0 ... (16 more) ]</td><td>False</td></tr><tr><td>1</td><td>[ 77, 97, 114, 116, 105, 110, 99, 104, 0, 0 ... (16 more) ]</td><td>True</td></tr><tr><td>2</td><td>[ 87, 101, 101, 0, 0, 0, 0, 0, 0, 0 ... (16 more) ]</td><td>True</td></tr><tr><td>3</td><td>[ 77, 105, 99, 104, 97, 101, 108, 0, 0, 0 ... (16 more) ]</td><td>True</td></tr><tr><td>4</td><td>[ 69, 114, 105, 99, 0, 0, 0, 0, 0, 0 ... (16 more) ]</td><td>False</td></tr></tbody></table>"
      ]
     },
     "execution_count": 23,
     "metadata": {},
     "output_type": "execute_result"
    }
   ],
   "source": [
    "var transformedData = transformer.Transform(trainData);\n",
    "context.Data\n",
    "    .CreateEnumerable<BadgesDataTransformed>(transformedData, reuseRowObject: false)\n",
    "    .Take(5)"
   ]
  },
  {
   "cell_type": "code",
   "execution_count": 24,
   "metadata": {},
   "outputs": [],
   "source": [
    "var estimator = context.BinaryClassification.Trainers.LightGbm(featureColumnName: \"Features\", learningRate: 0.1);"
   ]
  },
  {
   "cell_type": "code",
   "execution_count": 25,
   "metadata": {},
   "outputs": [],
   "source": [
    "var transformedTrainData = transformer.Transform(trainData);\n",
    "var cvResults = context.BinaryClassification.CrossValidate(transformedTrainData, estimator, numberOfFolds: 3);\n",
    "var cvResult = cvResults\n",
    "    .OrderByDescending(x => x.Metrics.Accuracy)\n",
    "    .First();"
   ]
  },
  {
   "cell_type": "code",
   "execution_count": 26,
   "metadata": {},
   "outputs": [
    {
     "data": {
      "text/html": [
       "<table><thead><tr><th><i>key</i></th><th>value</th></tr></thead><tbody><tr><td>Accuracy</td><td>0.8612867610157583</td></tr><tr><td>Area Under Roc Curve</td><td>0.9242610920646902</td></tr><tr><td>F1 Score</td><td>0.9014086404472623</td></tr></tbody></table>"
      ]
     },
     "execution_count": 26,
     "metadata": {},
     "output_type": "execute_result"
    }
   ],
   "source": [
    "new Dictionary<string, double>\n",
    "{\n",
    "    [\"Accuracy\"] = cvResults.Average(x => x.Metrics.Accuracy),\n",
    "    [\"Area Under Roc Curve\"] = cvResults.Average(x => x.Metrics.AreaUnderRocCurve),\n",
    "    [\"F1 Score\"] = cvResults.Average(x => x.Metrics.F1Score),\n",
    "}"
   ]
  },
  {
   "cell_type": "code",
   "execution_count": 27,
   "metadata": {},
   "outputs": [
    {
     "data": {
      "text/html": [
       "<table><thead><tr><th>LogLoss</th><th>LogLossReduction</th><th>Entropy</th><th>AreaUnderRocCurve</th><th>Accuracy</th><th>PositivePrecision</th><th>PositiveRecall</th><th>NegativePrecision</th><th>NegativeRecall</th><th>F1Score</th><th>AreaUnderPrecisionRecallCurve</th><th>ConfusionMatrix</th></tr></thead><tbody><tr><td>0.4874411375003971</td><td>0.2915590130277461</td><td>0.6880476235340796</td><td>0.9166666666666666</td><td>0.8163265306122449</td><td>0.9696969696969697</td><td>0.8</td><td>0.5</td><td>0.8888888888888888</td><td>0.8767123287671234</td><td>0.9818756998615734</td><td>{ Microsoft.ML.Data.ConfusionMatrix: PerClassPrecision: [ 0.9696969696969697, 0.5 ], PerClassRecall: [ 0.8, 0.8888888888888888 ], Counts: [ [ 32, 8 ], [ 1, 8 ] ], NumberOfClasses: 2 }</td></tr></tbody></table>"
      ]
     },
     "execution_count": 27,
     "metadata": {},
     "output_type": "execute_result"
    }
   ],
   "source": [
    "var transformedTestData = transformer.Transform(testData);\n",
    "var predictions = cvResult.Model.Transform(transformedTestData);\n",
    "var metrics = context.BinaryClassification.Evaluate(predictions);\n",
    "metrics"
   ]
  },
  {
   "cell_type": "code",
   "execution_count": 28,
   "metadata": {},
   "outputs": [
    {
     "data": {
      "text/plain": [
       "TEST POSITIVE RATIO:\t0.8163 (40.0/(40.0+9.0))\r\n",
       "Confusion table\r\n",
       "          ||======================\r\n",
       "PREDICTED || positive | negative | Recall\r\n",
       "TRUTH     ||======================\r\n",
       " positive ||       32 |        8 | 0.8000\r\n",
       " negative ||        1 |        8 | 0.8889\r\n",
       "          ||======================\r\n",
       "Precision ||   0.9697 |   0.5000 |\r\n"
      ]
     },
     "execution_count": 28,
     "metadata": {},
     "output_type": "execute_result"
    }
   ],
   "source": [
    "metrics.ConfusionMatrix.GetFormattedConfusionTable()"
   ]
  },
  {
   "cell_type": "code",
   "execution_count": 41,
   "metadata": {},
   "outputs": [
    {
     "data": {
      "text/html": [
       "<table><thead><tr><th><i>index</i></th><th>Label</th><th>Probability</th><th>PredictedLabel</th></tr></thead><tbody><tr><td>0</td><td>False</td><td>0.033191886</td><td>False</td></tr><tr><td>1</td><td>True</td><td>0.99590755</td><td>True</td></tr><tr><td>2</td><td>True</td><td>0.97195894</td><td>True</td></tr><tr><td>3</td><td>True</td><td>0.8905027</td><td>True</td></tr><tr><td>4</td><td>False</td><td>0.08796865</td><td>False</td></tr></tbody></table>"
      ]
     },
     "execution_count": 41,
     "metadata": {},
     "output_type": "execute_result"
    }
   ],
   "source": [
    "class BinaryClassificationPrediction\n",
    "{\n",
    "    public bool Label { get; set; }\n",
    "\n",
    "    public float Probability { get; set; }\n",
    "\n",
    "    public bool PredictedLabel { get; set; }\n",
    "}\n",
    "\n",
    "var sampleData = context.Data.ShuffleRows(testData);\n",
    "var transformedSampleData = transformer.Transform(sampleData);\n",
    "\n",
    "var predictionEngine = context.Model.CreatePredictionEngine<BadgesDataTransformed, BinaryClassificationPrediction>(cvResult.Model);\n",
    "\n",
    "context.Data.CreateEnumerable<BadgesDataTransformed>(transformedSampleData, reuseRowObject: false)\n",
    "    .Take(5)\n",
    "    .Select(predictionEngine.Predict)"
   ]
  },
  {
   "cell_type": "code",
   "execution_count": null,
   "metadata": {},
   "outputs": [],
   "source": []
  }
 ],
 "metadata": {
  "kernelspec": {
   "display_name": ".NET (C#)",
   "language": "C#",
   "name": ".net-csharp"
  },
  "language_info": {
   "file_extension": ".cs",
   "mimetype": "text/x-csharp",
   "name": "C#",
   "pygments_lexer": "csharp",
   "version": "8.0"
  }
 },
 "nbformat": 4,
 "nbformat_minor": 4
}
