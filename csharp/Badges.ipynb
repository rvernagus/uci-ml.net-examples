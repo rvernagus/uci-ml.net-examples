{
 "cells": [
  {
   "cell_type": "code",
   "execution_count": 1,
   "metadata": {},
   "outputs": [
    {
     "data": {
      "text/html": [
       "Installed package Microsoft.ML version 1.4.0"
      ]
     },
     "metadata": {},
     "output_type": "display_data"
    }
   ],
   "source": [
    "#r \"nuget: Microsoft.ML\"\n",
    "using System;\n",
    "using System.IO;\n",
    "using System.Linq;\n",
    "using System.Net;\n",
    "using Microsoft.ML;\n",
    "using Microsoft.ML.Data;\n",
    "using Microsoft.ML.Transforms;"
   ]
  },
  {
   "cell_type": "code",
   "execution_count": 2,
   "metadata": {},
   "outputs": [
    {
     "data": {
      "text/html": [
       "<table><thead><tr><th><i>index</i></th><th>value</th></tr></thead><tbody><tr><td>0</td><td></td></tr><tr><td>1</td><td>+ Naoki Abe</td></tr><tr><td>2</td><td>- Myriam Abramson</td></tr><tr><td>3</td><td>+ David W. Aha</td></tr><tr><td>4</td><td>+ Kamal M. Ali</td></tr></tbody></table>"
      ]
     },
     "execution_count": 2,
     "metadata": {},
     "output_type": "execute_result"
    }
   ],
   "source": [
    "if (!File.Exists(\"badges.data\"))\n",
    "{\n",
    "    using var client = new WebClient();\n",
    "    client.DownloadFile(\"https://archive.ics.uci.edu/ml/machine-learning-databases/badges/badges.data\", \"badges.data\");\n",
    "}\n",
    "\n",
    "File.ReadLines(\"badges.data\").Take(5)"
   ]
  },
  {
   "cell_type": "markdown",
   "metadata": {},
   "source": [
    "> # Data Set Information:\n",
    "\n",
    "> Part of the problem in using an automated program to discover the unknown target function is to decide how to encode names such that the program can be used. The data below are presented in the form of a +/- label followed by the person's name. It is up to the learning-system user to decide how to convert this data into something usable by the system (e.g., what attributes to use if your favorite learner requires feature-vector data)."
   ]
  },
  {
   "cell_type": "code",
   "execution_count": 49,
   "metadata": {},
   "outputs": [],
   "source": [
    "class ParsedRow\n",
    "{\n",
    "    public bool IsPlus { get; set; }\n",
    "    \n",
    "    public string FirstName { get; set; }\n",
    "    \n",
    "    public string MiddleInitial { get; set; }\n",
    "    \n",
    "    public string LastName { get; set; }\n",
    "}"
   ]
  },
  {
   "cell_type": "code",
   "execution_count": 57,
   "metadata": {},
   "outputs": [],
   "source": [
    "using System.Text.RegularExpressions;\n",
    "\n",
    "static bool IsPlus(string str) =>\n",
    "    str switch\n",
    "    {\n",
    "        null => false,\n",
    "        \"\"   => false,\n",
    "        _    => str[0] switch\n",
    "        {\n",
    "            '+' => true,\n",
    "            _  => false,\n",
    "        }\n",
    "    };\n",
    "\n",
    "static string GetMatch(string str, string pattern)\n",
    "{\n",
    "    var groups = Regex.Match(str, pattern).Groups;\n",
    "    return groups.Count switch\n",
    "    {\n",
    "        2 => groups[1].Value,\n",
    "        _ => \"\"\n",
    "    };\n",
    "}\n",
    "\n",
    "static string GetFirstName(string str) => GetMatch(str, @\"^. ([a-zA-Z]+) \");\n",
    "    \n",
    "static string GetMiddle(string str) => GetMatch(str, @\" ([a-zA-Z]{1})\\. \");\n",
    "\n",
    "static string GetLastName(string str) => GetMatch(str, @\" ([a-zA-Z]+)$\");"
   ]
  },
  {
   "cell_type": "code",
   "execution_count": 58,
   "metadata": {},
   "outputs": [
    {
     "data": {
      "text/html": [
       "False"
      ]
     },
     "execution_count": 58,
     "metadata": {},
     "output_type": "execute_result"
    }
   ],
   "source": [
    "IsPlus(\"- Ray Vernagus\")"
   ]
  },
  {
   "cell_type": "code",
   "execution_count": 59,
   "metadata": {},
   "outputs": [
    {
     "data": {
      "text/plain": [
       "Ray"
      ]
     },
     "execution_count": 59,
     "metadata": {},
     "output_type": "execute_result"
    }
   ],
   "source": [
    "GetFirstName(\"+ Ray Vernagus\")"
   ]
  },
  {
   "cell_type": "code",
   "execution_count": 60,
   "metadata": {},
   "outputs": [
    {
     "data": {
      "text/plain": [
       "W"
      ]
     },
     "execution_count": 60,
     "metadata": {},
     "output_type": "execute_result"
    }
   ],
   "source": [
    "GetMiddle(\"+ Ray W. Vernagus\")"
   ]
  },
  {
   "cell_type": "code",
   "execution_count": 61,
   "metadata": {},
   "outputs": [
    {
     "data": {
      "text/plain": [
       "Vernagus"
      ]
     },
     "execution_count": 61,
     "metadata": {},
     "output_type": "execute_result"
    }
   ],
   "source": [
    "GetLastName(\"+ Ray Vernagus\")"
   ]
  },
  {
   "cell_type": "code",
   "execution_count": 62,
   "metadata": {},
   "outputs": [
    {
     "data": {
      "text/html": [
       "<table><thead><tr><th><i>index</i></th><th>IsPlus</th><th>FirstName</th><th>MiddleInitial</th><th>LastName</th></tr></thead><tbody><tr><td>0</td><td>True</td><td>Naoki</td><td></td><td>Abe</td></tr><tr><td>1</td><td>False</td><td>Myriam</td><td></td><td>Abramson</td></tr><tr><td>2</td><td>True</td><td>David</td><td>W</td><td>Aha</td></tr><tr><td>3</td><td>True</td><td>Kamal</td><td>M</td><td>Ali</td></tr><tr><td>4</td><td>False</td><td>Eric</td><td></td><td>Allender</td></tr></tbody></table>"
      ]
     },
     "execution_count": 62,
     "metadata": {},
     "output_type": "execute_result"
    }
   ],
   "source": [
    "File.ReadLines(\"badges.data\")\n",
    "    .Skip(1)\n",
    "    .Take(5)\n",
    "    .Select(line =>\n",
    "        new ParsedRow\n",
    "        {\n",
    "            IsPlus = IsPlus(line),\n",
    "            FirstName = GetFirstName(line),\n",
    "            MiddleInitial = GetMiddle(line),\n",
    "            LastName = GetLastName(line)\n",
    "        })"
   ]
  },
  {
   "cell_type": "code",
   "execution_count": 66,
   "metadata": {},
   "outputs": [],
   "source": [
    "var data = File.ReadLines(\"badges.data\")\n",
    "    .Skip(1)\n",
    "    .Select(line =>\n",
    "        new ParsedRow\n",
    "        {\n",
    "            IsPlus = IsPlus(line),\n",
    "            FirstName = GetFirstName(line),\n",
    "            MiddleInitial = GetMiddle(line),\n",
    "            LastName = GetLastName(line)\n",
    "        })\n",
    "    .ToList();"
   ]
  },
  {
   "cell_type": "code",
   "execution_count": 68,
   "metadata": {},
   "outputs": [
    {
     "data": {
      "text/html": [
       "<table><thead><tr><th><i>index</i></th><th>value</th></tr></thead><tbody><tr><td>0</td><td>N</td></tr><tr><td>1</td><td>a</td></tr><tr><td>2</td><td>o</td></tr><tr><td>3</td><td>k</td></tr><tr><td>4</td><td>i</td></tr></tbody></table>"
      ]
     },
     "execution_count": 68,
     "metadata": {},
     "output_type": "execute_result"
    }
   ],
   "source": [
    "data.First().FirstName.ToCharArray()"
   ]
  },
  {
   "cell_type": "code",
   "execution_count": null,
   "metadata": {},
   "outputs": [],
   "source": []
  }
 ],
 "metadata": {
  "kernelspec": {
   "display_name": ".NET (C#)",
   "language": "C#",
   "name": ".net-csharp"
  },
  "language_info": {
   "file_extension": ".cs",
   "mimetype": "text/x-csharp",
   "name": "C#",
   "pygments_lexer": "csharp",
   "version": "8.0"
  }
 },
 "nbformat": 4,
 "nbformat_minor": 4
}
