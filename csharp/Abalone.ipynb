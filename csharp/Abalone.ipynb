{
 "cells": [
  {
   "cell_type": "code",
   "execution_count": 1,
   "metadata": {},
   "outputs": [
    {
     "data": {
      "text/html": [
       "Installed package Microsoft.ML version 1.4.0"
      ]
     },
     "metadata": {},
     "output_type": "display_data"
    }
   ],
   "source": [
    "#r \"nuget: Microsoft.ML\"\n",
    "using System;\n",
    "using System.IO;\n",
    "using System.Linq;\n",
    "using System.Net;\n",
    "using Microsoft.ML;\n",
    "using Microsoft.ML.Data;"
   ]
  },
  {
   "cell_type": "code",
   "execution_count": 2,
   "metadata": {},
   "outputs": [
    {
     "data": {
      "text/html": [
       "<table><thead><tr><th><i>index</i></th><th>value</th></tr></thead><tbody><tr><td>0</td><td>M,0.455,0.365,0.095,0.514,0.2245,0.101,0.15,15</td></tr><tr><td>1</td><td>M,0.35,0.265,0.09,0.2255,0.0995,0.0485,0.07,7</td></tr><tr><td>2</td><td>F,0.53,0.42,0.135,0.677,0.2565,0.1415,0.21,9</td></tr><tr><td>3</td><td>M,0.44,0.365,0.125,0.516,0.2155,0.114,0.155,10</td></tr><tr><td>4</td><td>I,0.33,0.255,0.08,0.205,0.0895,0.0395,0.055,7</td></tr></tbody></table>"
      ]
     },
     "execution_count": 2,
     "metadata": {},
     "output_type": "execute_result"
    }
   ],
   "source": [
    "if (!File.Exists(\"abalone.data\"))\n",
    "{\n",
    "    using var client = new WebClient();\n",
    "    client.DownloadFile(\"https://archive.ics.uci.edu/ml/machine-learning-databases/abalone/abalone.data\", \"abalone.data\");\n",
    "}\n",
    "\n",
    "File.ReadLines(\"abalone.data\").Take(5)"
   ]
  },
  {
   "cell_type": "code",
   "execution_count": 3,
   "metadata": {},
   "outputs": [],
   "source": [
    "var context = new MLContext();"
   ]
  },
  {
   "cell_type": "code",
   "execution_count": 4,
   "metadata": {},
   "outputs": [],
   "source": [
    "class AbaloneData\n",
    "{\n",
    "    [LoadColumn(0)]\n",
    "    public string Sex { get; set; }\n",
    "\n",
    "    [LoadColumn(1)]\n",
    "    public float Length { get; set; }\n",
    "\n",
    "    [LoadColumn(2)]\n",
    "    public float Diameter { get; set; }\n",
    "\n",
    "    [LoadColumn(3)]\n",
    "    public float Height { get; set; }\n",
    "\n",
    "    [LoadColumn(4)]\n",
    "    public float WholeWeight { get; set; }\n",
    "\n",
    "    [LoadColumn(5)]\n",
    "    public float ShuckedWeight { get; set; }\n",
    "\n",
    "    [LoadColumn(6)]\n",
    "    public float VisceraWeight { get; set; }\n",
    "\n",
    "    [LoadColumn(7)]\n",
    "    public float ShellWeight { get; set; }\n",
    "\n",
    "    [LoadColumn(8)]\n",
    "    [ColumnName(\"Label\")]\n",
    "    public Single Rings { get; set; }\n",
    "\n",
    "    public override string ToString() =>\n",
    "        $\"{{ Sex: {Sex}\\n  Length: {Length}\\n  Diameter: {Diameter}\\n  Height: {Height}\\n  WholeWeight: {WholeWeight}\\n  ShuckedWeight: {ShuckedWeight}\\n  VisceralWeight: {VisceraWeight}\\n  ShellWeight: {ShellWeight}\\n  Rings: {Rings} }}\";\n",
    "\n",
    "}\n"
   ]
  },
  {
   "cell_type": "code",
   "execution_count": 5,
   "metadata": {},
   "outputs": [],
   "source": [
    "var allData = context.Data.LoadFromTextFile<AbaloneData>(\"abalone.data\", hasHeader: false, separatorChar: ',');\n",
    "allData = context.Data.ShuffleRows(allData);"
   ]
  },
  {
   "cell_type": "code",
   "execution_count": 6,
   "metadata": {},
   "outputs": [],
   "source": [
    "var splitData = context.Data.TrainTestSplit(allData, testFraction: 0.2);\n",
    "var (trainData, testData) = (splitData.TrainSet, splitData.TestSet);"
   ]
  },
  {
   "cell_type": "code",
   "execution_count": 7,
   "metadata": {},
   "outputs": [],
   "source": [
    "var featureColumns = new[]\n",
    "{\n",
    "    nameof(AbaloneData.Sex), nameof(AbaloneData.Length), nameof(AbaloneData.Diameter), nameof(AbaloneData.Height),\n",
    "    nameof(AbaloneData.WholeWeight), nameof(AbaloneData.ShuckedWeight), nameof(AbaloneData.VisceraWeight),\n",
    "    nameof(AbaloneData.ShellWeight)\n",
    "};"
   ]
  },
  {
   "cell_type": "code",
   "execution_count": 8,
   "metadata": {},
   "outputs": [],
   "source": [
    "var pipeline = context\n",
    "    .Transforms.Categorical.OneHotEncoding(nameof(AbaloneData.Sex))\n",
    "    .Append(context.Transforms.Concatenate(\"Features\", featureColumns))\n",
    "    .Append(context.Transforms.NormalizeLpNorm(\"FeaturesNorm\", \"Features\"));"
   ]
  },
  {
   "cell_type": "code",
   "execution_count": 9,
   "metadata": {},
   "outputs": [],
   "source": [
    "var transformer = pipeline.Fit(trainData);"
   ]
  },
  {
   "cell_type": "markdown",
   "metadata": {},
   "source": [
    "Print the data as it was loaded from the file:"
   ]
  },
  {
   "cell_type": "code",
   "execution_count": 10,
   "metadata": {},
   "outputs": [
    {
     "data": {
      "text/html": [
       "<table><thead><tr><th><i>index</i></th><th>Sex</th><th>Length</th><th>Diameter</th><th>Height</th><th>WholeWeight</th><th>ShuckedWeight</th><th>VisceraWeight</th><th>ShellWeight</th><th>Rings</th></tr></thead><tbody><tr><td>0</td><td>M</td><td>0.29</td><td>0.23</td><td>0.075</td><td>0.1165</td><td>0.043</td><td>0.0255</td><td>0.04</td><td>7</td></tr><tr><td>1</td><td>M</td><td>0.58</td><td>0.45</td><td>0.175</td><td>1.068</td><td>0.425</td><td>0.203</td><td>0.32</td><td>13</td></tr><tr><td>2</td><td>I</td><td>0.605</td><td>0.47</td><td>0.14</td><td>0.939</td><td>0.3385</td><td>0.201</td><td>0.32</td><td>13</td></tr></tbody></table>"
      ]
     },
     "execution_count": 10,
     "metadata": {},
     "output_type": "execute_result"
    }
   ],
   "source": [
    "var sourceItems = context.Data\n",
    "    .CreateEnumerable<AbaloneData>(trainData, reuseRowObject: false)\n",
    "    .Take(3);\n",
    "sourceItems"
   ]
  },
  {
   "cell_type": "markdown",
   "metadata": {},
   "source": [
    "Compare that to the data as transformed by the pipeline. First, we one-hot encoded the `Sex` column. Then we concatenated all of the feature columns into a single new vector column, `Features`. Lastly, we normalized the values and put them into a new vector column, `FeaturesNorm`. Notice that the first three values of `Features` are the one-hot encoded values of `Sex`."
   ]
  },
  {
   "cell_type": "code",
   "execution_count": 11,
   "metadata": {},
   "outputs": [
    {
     "name": "stdout",
     "output_type": "stream",
     "text": [
      "------------------\n",
      "Transformed Data\n",
      "------------------\n"
     ]
    },
    {
     "data": {
      "text/html": [
       "<table><thead><tr><th><i>index</i></th><th>Rings</th><th>Features</th><th>FeaturesNorm</th></tr></thead><tbody><tr><td>0</td><td>7</td><td>[ 1, 0, 0, 0.29, 0.23, 0.075, 0.1165, 0.043, 0.0255, 0.04 ]</td><td>[ 0.928358, 0, 0, 0.2692238, 0.21352234, 0.06962685, 0.10815371, 0.039919395, 0.023673128, 0.03713432 ]</td></tr><tr><td>1</td><td>13</td><td>[ 1, 0, 0, 0.58, 0.45, 0.175, 1.068, 0.425, 0.203, 0.32 ]</td><td>[ 0.5740699, 0, 0, 0.33296055, 0.25833145, 0.100462236, 0.61310667, 0.24397972, 0.11653619, 0.18370236 ]</td></tr><tr><td>2</td><td>13</td><td>[ 0, 1, 0, 0.605, 0.47, 0.14, 0.939, 0.3385, 0.201, 0.32 ]</td><td>[ 0, 0.60350245, 0, 0.36511898, 0.28364617, 0.084490344, 0.56668884, 0.20428558, 0.121304, 0.19312078 ]</td></tr></tbody></table>"
      ]
     },
     "execution_count": 11,
     "metadata": {},
     "output_type": "execute_result"
    }
   ],
   "source": [
    "class AbaloneDataTransformed\n",
    "{\n",
    "    [ColumnName(\"Label\")]\n",
    "    public float Rings { get; set; }\n",
    "\n",
    "    [VectorType(10)]\n",
    "    public float[] Features { get; set; }\n",
    "\n",
    "    [VectorType(10)]\n",
    "    public float[] FeaturesNorm { get; set; }\n",
    "\n",
    "    public override string ToString() =>\n",
    "        $\"{{ Rings: {Rings}\\n  Features: {string.Join(\",\", Features)}\\n  FeaturesNorm: {string.Join(\",\", FeaturesNorm)} }}\";\n",
    "}\n",
    "\n",
    "Console.WriteLine(\"------------------\\nTransformed Data\\n------------------\");\n",
    "var transformedData = transformer.Transform(trainData);\n",
    "var transformedItems = context.Data\n",
    "    .CreateEnumerable<AbaloneDataTransformed>(transformedData, reuseRowObject: false)\n",
    "    .Take(3);\n",
    "transformedItems"
   ]
  },
  {
   "cell_type": "markdown",
   "metadata": {},
   "source": [
    "Create an estimator:"
   ]
  },
  {
   "cell_type": "code",
   "execution_count": 12,
   "metadata": {},
   "outputs": [],
   "source": [
    "var estimator = context.Regression.Trainers.LbfgsPoissonRegression(featureColumnName: \"FeaturesNorm\");"
   ]
  },
  {
   "cell_type": "markdown",
   "metadata": {},
   "source": [
    "Now, we use cross-validation to select the best performing model."
   ]
  },
  {
   "cell_type": "code",
   "execution_count": 13,
   "metadata": {},
   "outputs": [],
   "source": [
    "var transformedTrainData = transformer.Transform(trainData);\n",
    "var cvResults = context.Regression.CrossValidate(transformedTrainData, estimator, numberOfFolds: 3);\n",
    "var cvResult = cvResults\n",
    "    .OrderByDescending(x => x.Metrics.RSquared)\n",
    "    .First();"
   ]
  },
  {
   "cell_type": "markdown",
   "metadata": {},
   "source": [
    "Here are the metrics of the model that we selected:"
   ]
  },
  {
   "cell_type": "code",
   "execution_count": 14,
   "metadata": {},
   "outputs": [
    {
     "data": {
      "text/html": [
       "<table><thead><tr><th><i>key</i></th><th>value</th></tr></thead><tbody><tr><td>Mean Absolute Error</td><td>1.529807120300549</td></tr><tr><td>Mean Squared Error</td><td>4.576383122660482</td></tr><tr><td>Root Mean Squared Error</td><td>2.1389691768988564</td></tr><tr><td>R-squared</td><td>0.548731899412541</td></tr></tbody></table>"
      ]
     },
     "execution_count": 14,
     "metadata": {},
     "output_type": "execute_result"
    }
   ],
   "source": [
    "new Dictionary<string, double>\n",
    "{\n",
    "    [\"Mean Absolute Error\"] = cvResults.Average(x => x.Metrics.MeanAbsoluteError),\n",
    "    [\"Mean Squared Error\"] = cvResults.Average(x => x.Metrics.MeanSquaredError),\n",
    "    [\"Root Mean Squared Error\"] = cvResults.Average(x => x.Metrics.RootMeanSquaredError),\n",
    "    [\"R-squared\"] = cvResults.Average(x => x.Metrics.RSquared),\n",
    "}"
   ]
  },
  {
   "cell_type": "markdown",
   "metadata": {},
   "source": [
    "Now we can evaluate our model against the test data."
   ]
  },
  {
   "cell_type": "code",
   "execution_count": 15,
   "metadata": {},
   "outputs": [],
   "source": [
    "var transformedTestData = transformer.Transform(testData);\n",
    "var predictions = cvResult.Model.Transform(transformedTestData);\n",
    "var metrics = context.Regression.Evaluate(predictions);"
   ]
  },
  {
   "cell_type": "markdown",
   "metadata": {},
   "source": [
    "Here are the metrics for our test data:"
   ]
  },
  {
   "cell_type": "code",
   "execution_count": 16,
   "metadata": {},
   "outputs": [
    {
     "data": {
      "text/html": [
       "<table><thead><tr><th><i>key</i></th><th>value</th></tr></thead><tbody><tr><td>Mean Absolute Error</td><td>1.5834955890743718</td></tr><tr><td>Mean Squared Error</td><td>4.7985268699886605</td></tr><tr><td>Root Mean Squared Error</td><td>2.1905540098314535</td></tr><tr><td>R-squared</td><td>0.5734000540741993</td></tr></tbody></table>"
      ]
     },
     "execution_count": 16,
     "metadata": {},
     "output_type": "execute_result"
    }
   ],
   "source": [
    "new Dictionary<string, double>\n",
    "{\n",
    "    [\"Mean Absolute Error\"] = metrics.MeanAbsoluteError,\n",
    "    [\"Mean Squared Error\"] = metrics.MeanSquaredError,\n",
    "    [\"Root Mean Squared Error\"] = metrics.RootMeanSquaredError,\n",
    "    [\"R-squared\"] = metrics.RSquared,\n",
    "}"
   ]
  },
  {
   "cell_type": "markdown",
   "metadata": {},
   "source": [
    "Now let's pretend we have new data (for convenience we are just randomly re-sampling the test data) to see what predictions our model makes. You will see two values:\n",
    "- `Label`: the actual number of rings from the example being predicted. Our model never sees this value but we show it below so that you can see how close the predicted number of rings are to the actual.\n",
    "- `Score`: the predicted number of rings made by the model. The closer this is to the Label, the more accurate is the prediction.\n",
    "\n",
    "You can run this cell multiple times to get new random samples and their predictions!"
   ]
  },
  {
   "cell_type": "code",
   "execution_count": 17,
   "metadata": {},
   "outputs": [
    {
     "data": {
      "text/html": [
       "<table><thead><tr><th><i>index</i></th><th>Label</th><th>Score</th></tr></thead><tbody><tr><td>0</td><td>7</td><td>7.6620455</td></tr><tr><td>1</td><td>14</td><td>11.842239</td></tr><tr><td>2</td><td>8</td><td>9.775085</td></tr><tr><td>3</td><td>11</td><td>11.689067</td></tr><tr><td>4</td><td>6</td><td>6.720557</td></tr></tbody></table>"
      ]
     },
     "execution_count": 17,
     "metadata": {},
     "output_type": "execute_result"
    }
   ],
   "source": [
    "class RegressionPrediction\n",
    "{\n",
    "    public Single Label { get; set; }\n",
    "\n",
    "    public Single Score { get; set; }\n",
    "\n",
    "    public override string ToString() =>\n",
    "        $\"Label: {Label}, Score: {Score}\";\n",
    "}\n",
    "\n",
    "// Show some sample predictions\n",
    "var sampleData = context.Data.ShuffleRows(testData);\n",
    "var transformedSampleData = transformer.Transform(sampleData);\n",
    "\n",
    "var predictionEngine = context.Model.CreatePredictionEngine<AbaloneDataTransformed, RegressionPrediction>(cvResult.Model);\n",
    "\n",
    "context.Data.CreateEnumerable<AbaloneDataTransformed>(transformedSampleData, reuseRowObject: false)\n",
    "    .Take(5)\n",
    "    .Select(predictionEngine.Predict)"
   ]
  },
  {
   "cell_type": "code",
   "execution_count": null,
   "metadata": {},
   "outputs": [],
   "source": []
  }
 ],
 "metadata": {
  "kernelspec": {
   "display_name": ".NET (C#)",
   "language": "C#",
   "name": ".net-csharp"
  },
  "language_info": {
   "file_extension": ".cs",
   "mimetype": "text/x-csharp",
   "name": "C#",
   "pygments_lexer": "csharp",
   "version": "8.0"
  }
 },
 "nbformat": 4,
 "nbformat_minor": 4
}
