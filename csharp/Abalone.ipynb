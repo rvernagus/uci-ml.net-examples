{
 "cells": [
  {
   "cell_type": "code",
   "execution_count": 1,
   "metadata": {},
   "outputs": [
    {
     "data": {
      "text/html": [
       "Installed package Microsoft.ML version 1.4.0"
      ]
     },
     "metadata": {},
     "output_type": "display_data"
    }
   ],
   "source": [
    "#r \"nuget: Microsoft.ML\"\n",
    "using System;\n",
    "using System.IO;\n",
    "using System.Linq;\n",
    "using System.Net;\n",
    "using Microsoft.ML;\n",
    "using Microsoft.ML.Data;"
   ]
  },
  {
   "cell_type": "markdown",
   "metadata": {},
   "source": [
    "Download data from [UCI Machine Learning Repository](https://archive.ics.uci.edu/ml/machine-learning-databases/abalone):"
   ]
  },
  {
   "cell_type": "code",
   "execution_count": 2,
   "metadata": {},
   "outputs": [
    {
     "data": {
      "text/html": [
       "<table><thead><tr><th><i>index</i></th><th>value</th></tr></thead><tbody><tr><td>0</td><td>M,0.455,0.365,0.095,0.514,0.2245,0.101,0.15,15</td></tr><tr><td>1</td><td>M,0.35,0.265,0.09,0.2255,0.0995,0.0485,0.07,7</td></tr><tr><td>2</td><td>F,0.53,0.42,0.135,0.677,0.2565,0.1415,0.21,9</td></tr><tr><td>3</td><td>M,0.44,0.365,0.125,0.516,0.2155,0.114,0.155,10</td></tr><tr><td>4</td><td>I,0.33,0.255,0.08,0.205,0.0895,0.0395,0.055,7</td></tr></tbody></table>"
      ]
     },
     "execution_count": 2,
     "metadata": {},
     "output_type": "execute_result"
    }
   ],
   "source": [
    "if (!File.Exists(\"abalone.data\"))\n",
    "{\n",
    "    using var client = new WebClient();\n",
    "    client.DownloadFile(\"https://archive.ics.uci.edu/ml/machine-learning-databases/abalone/abalone.data\", \"abalone.data\");\n",
    "}\n",
    "\n",
    "File.ReadLines(\"abalone.data\").Take(5)"
   ]
  },
  {
   "cell_type": "markdown",
   "metadata": {},
   "source": [
    "Create a new `MLContext`. `MLContext` is the workhorse of machine learning in .NET."
   ]
  },
  {
   "cell_type": "code",
   "execution_count": 3,
   "metadata": {},
   "outputs": [],
   "source": [
    "var context = new MLContext();"
   ]
  },
  {
   "cell_type": "markdown",
   "metadata": {},
   "source": [
    "Create a class to represent the data in our file:"
   ]
  },
  {
   "cell_type": "code",
   "execution_count": 4,
   "metadata": {},
   "outputs": [],
   "source": [
    "class AbaloneData\n",
    "{\n",
    "    [LoadColumn(0)]\n",
    "    public string Sex { get; set; }\n",
    "\n",
    "    [LoadColumn(1)]\n",
    "    public float Length { get; set; }\n",
    "\n",
    "    [LoadColumn(2)]\n",
    "    public float Diameter { get; set; }\n",
    "\n",
    "    [LoadColumn(3)]\n",
    "    public float Height { get; set; }\n",
    "\n",
    "    [LoadColumn(4)]\n",
    "    public float WholeWeight { get; set; }\n",
    "\n",
    "    [LoadColumn(5)]\n",
    "    public float ShuckedWeight { get; set; }\n",
    "\n",
    "    [LoadColumn(6)]\n",
    "    public float VisceraWeight { get; set; }\n",
    "\n",
    "    [LoadColumn(7)]\n",
    "    public float ShellWeight { get; set; }\n",
    "\n",
    "    [LoadColumn(8)]\n",
    "    [ColumnName(\"Label\")]\n",
    "    public Single Rings { get; set; }\n",
    "}\n"
   ]
  },
  {
   "cell_type": "markdown",
   "metadata": {},
   "source": [
    "Now that we have an `MLContext` and a class to represent our data, we can load the file into a `DataView`. It is a good practice to shuffle the data after loading. Many datasets come ordered by some columns of values or even worse by the label. For training a model we want our data to be in a random order:"
   ]
  },
  {
   "cell_type": "code",
   "execution_count": 5,
   "metadata": {},
   "outputs": [],
   "source": [
    "var allData = context.Data.LoadFromTextFile<AbaloneData>(\"abalone.data\", hasHeader: false, separatorChar: ',');\n",
    "allData = context.Data.ShuffleRows(allData);"
   ]
  },
  {
   "cell_type": "markdown",
   "metadata": {},
   "source": [
    "Since we are only given one file of data, we need to split it into training and test sub-datasets:"
   ]
  },
  {
   "cell_type": "code",
   "execution_count": 6,
   "metadata": {},
   "outputs": [],
   "source": [
    "var splitData = context.Data.TrainTestSplit(allData, testFraction: 0.2);\n",
    "var (trainData, testData) = (splitData.TrainSet, splitData.TestSet);"
   ]
  },
  {
   "cell_type": "markdown",
   "metadata": {},
   "source": [
    "Now we declare the features of the dataset that we will train our model on:"
   ]
  },
  {
   "cell_type": "code",
   "execution_count": 7,
   "metadata": {},
   "outputs": [],
   "source": [
    "var featureColumns = new[]\n",
    "{\n",
    "    nameof(AbaloneData.Sex), nameof(AbaloneData.Length), nameof(AbaloneData.Diameter), nameof(AbaloneData.Height),\n",
    "    nameof(AbaloneData.WholeWeight), nameof(AbaloneData.ShuckedWeight), nameof(AbaloneData.VisceraWeight),\n",
    "    nameof(AbaloneData.ShellWeight)\n",
    "};"
   ]
  },
  {
   "cell_type": "markdown",
   "metadata": {},
   "source": [
    "Create a pipeline that will one-hot encode the `Sex` feature, concatenate all of the features into a single new column, and, finally, normalize the values to make them better suited for machine learning models."
   ]
  },
  {
   "cell_type": "code",
   "execution_count": 8,
   "metadata": {},
   "outputs": [],
   "source": [
    "var pipeline = context\n",
    "    .Transforms.Categorical.OneHotEncoding(nameof(AbaloneData.Sex))\n",
    "    .Append(context.Transforms.Concatenate(\"Features\", featureColumns))\n",
    "    .Append(context.Transforms.NormalizeLpNorm(\"FeaturesNorm\", \"Features\"));"
   ]
  },
  {
   "cell_type": "markdown",
   "metadata": {},
   "source": [
    "Now, we fit the pipeline to our training data:"
   ]
  },
  {
   "cell_type": "code",
   "execution_count": 9,
   "metadata": {},
   "outputs": [],
   "source": [
    "var transformer = pipeline.Fit(trainData);"
   ]
  },
  {
   "cell_type": "markdown",
   "metadata": {},
   "source": [
    "Print the data as it was loaded from the file:"
   ]
  },
  {
   "cell_type": "code",
   "execution_count": 10,
   "metadata": {},
   "outputs": [
    {
     "data": {
      "text/html": [
       "<table><thead><tr><th><i>index</i></th><th>Sex</th><th>Length</th><th>Diameter</th><th>Height</th><th>WholeWeight</th><th>ShuckedWeight</th><th>VisceraWeight</th><th>ShellWeight</th><th>Rings</th></tr></thead><tbody><tr><td>0</td><td>F</td><td>0.55</td><td>0.43</td><td>0.14</td><td>0.8105</td><td>0.368</td><td>0.161</td><td>0.275</td><td>9</td></tr><tr><td>1</td><td>M</td><td>0.62</td><td>0.505</td><td>0.185</td><td>1.5275</td><td>0.69</td><td>0.368</td><td>0.35</td><td>13</td></tr><tr><td>2</td><td>F</td><td>0.445</td><td>0.355</td><td>0.15</td><td>0.485</td><td>0.181</td><td>0.125</td><td>0.155</td><td>11</td></tr></tbody></table>"
      ]
     },
     "execution_count": 10,
     "metadata": {},
     "output_type": "execute_result"
    }
   ],
   "source": [
    "var sourceItems = context.Data\n",
    "    .CreateEnumerable<AbaloneData>(trainData, reuseRowObject: false)\n",
    "    .Take(5);\n",
    "sourceItems"
   ]
  },
  {
   "cell_type": "markdown",
   "metadata": {},
   "source": [
    "Compare that to the data as transformed by the pipeline. First, we one-hot encoded the `Sex` column. Then we concatenated all of the feature columns into a single new vector column, `Features`. Lastly, we normalized the values and put them into a new vector column, `FeaturesNorm`. Notice that the first three values of `Features` are the one-hot encoded values of `Sex`."
   ]
  },
  {
   "cell_type": "code",
   "execution_count": 12,
   "metadata": {},
   "outputs": [
    {
     "data": {
      "text/html": [
       "<table><thead><tr><th><i>index</i></th><th>Rings</th><th>Features</th><th>FeaturesNorm</th></tr></thead><tbody><tr><td>0</td><td>9</td><td>[ 1, 0, 0, 0.55, 0.43, 0.14, 0.8105, 0.368, 0.161, 0.275 ]</td><td>[ 0.6453789, 0, 0, 0.3549584, 0.27751294, 0.09035304, 0.52307963, 0.23749943, 0.103906, 0.1774792 ]</td></tr><tr><td>1</td><td>13</td><td>[ 0, 1, 0, 0.62, 0.505, 0.185, 1.5275, 0.69, 0.368, 0.35 ]</td><td>[ 0, 0.45927015, 0, 0.28474748, 0.23193142, 0.084964976, 0.70153517, 0.3168964, 0.16901141, 0.16074455 ]</td></tr><tr><td>2</td><td>11</td><td>[ 1, 0, 0, 0.445, 0.355, 0.15, 0.485, 0.181, 0.125, 0.155 ]</td><td>[ 0.7775134, 0, 0, 0.34599346, 0.27601725, 0.116627015, 0.377094, 0.14072992, 0.09718917, 0.12051458 ]</td></tr></tbody></table>"
      ]
     },
     "execution_count": 12,
     "metadata": {},
     "output_type": "execute_result"
    }
   ],
   "source": [
    "class AbaloneDataTransformed\n",
    "{\n",
    "    [ColumnName(\"Label\")]\n",
    "    public float Rings { get; set; }\n",
    "\n",
    "    [VectorType(10)]\n",
    "    public float[] Features { get; set; }\n",
    "\n",
    "    [VectorType(10)]\n",
    "    public float[] FeaturesNorm { get; set; }\n",
    "}\n",
    "\n",
    "var transformedData = transformer.Transform(trainData);\n",
    "context.Data\n",
    "    .CreateEnumerable<AbaloneDataTransformed>(transformedData, reuseRowObject: false)\n",
    "    .Take(5)"
   ]
  },
  {
   "cell_type": "markdown",
   "metadata": {},
   "source": [
    "Create an estimator:"
   ]
  },
  {
   "cell_type": "code",
   "execution_count": 13,
   "metadata": {},
   "outputs": [],
   "source": [
    "var estimator = context.Regression.Trainers.LbfgsPoissonRegression(featureColumnName: \"FeaturesNorm\");"
   ]
  },
  {
   "cell_type": "markdown",
   "metadata": {},
   "source": [
    "Now, we use cross-validation to select the best performing model."
   ]
  },
  {
   "cell_type": "code",
   "execution_count": 14,
   "metadata": {},
   "outputs": [],
   "source": [
    "var transformedTrainData = transformer.Transform(trainData);\n",
    "var cvResults = context.Regression.CrossValidate(transformedTrainData, estimator, numberOfFolds: 3);\n",
    "var cvResult = cvResults\n",
    "    .OrderByDescending(x => x.Metrics.RSquared)\n",
    "    .First();"
   ]
  },
  {
   "cell_type": "markdown",
   "metadata": {},
   "source": [
    "Here are the metrics for our model. Since `cvResults` contains the model from each cross-validation, we will average across them all the get a measure of performance:"
   ]
  },
  {
   "cell_type": "code",
   "execution_count": 15,
   "metadata": {},
   "outputs": [
    {
     "data": {
      "text/html": [
       "<table><thead><tr><th><i>key</i></th><th>value</th></tr></thead><tbody><tr><td>Mean Absolute Error</td><td>1.543131147471789</td></tr><tr><td>Mean Squared Error</td><td>4.613514083469288</td></tr><tr><td>Root Mean Squared Error</td><td>2.1478242992314946</td></tr><tr><td>R-squared</td><td>0.5541130709539995</td></tr></tbody></table>"
      ]
     },
     "execution_count": 15,
     "metadata": {},
     "output_type": "execute_result"
    }
   ],
   "source": [
    "new Dictionary<string, double>\n",
    "{\n",
    "    [\"Mean Absolute Error\"] = cvResults.Average(x => x.Metrics.MeanAbsoluteError),\n",
    "    [\"Mean Squared Error\"] = cvResults.Average(x => x.Metrics.MeanSquaredError),\n",
    "    [\"Root Mean Squared Error\"] = cvResults.Average(x => x.Metrics.RootMeanSquaredError),\n",
    "    [\"R-squared\"] = cvResults.Average(x => x.Metrics.RSquared),\n",
    "}"
   ]
  },
  {
   "cell_type": "markdown",
   "metadata": {},
   "source": [
    "Now we can evaluate our model against the test data."
   ]
  },
  {
   "cell_type": "code",
   "execution_count": 16,
   "metadata": {},
   "outputs": [],
   "source": [
    "var transformedTestData = transformer.Transform(testData);\n",
    "var predictions = cvResult.Model.Transform(transformedTestData);\n",
    "var metrics = context.Regression.Evaluate(predictions);"
   ]
  },
  {
   "cell_type": "markdown",
   "metadata": {},
   "source": [
    "Here are the metrics for our test data:"
   ]
  },
  {
   "cell_type": "code",
   "execution_count": 17,
   "metadata": {},
   "outputs": [
    {
     "data": {
      "text/html": [
       "<table><thead><tr><th>MeanAbsoluteError</th><th>MeanSquaredError</th><th>RootMeanSquaredError</th><th>LossFunction</th><th>RSquared</th></tr></thead><tbody><tr><td>1.503159322490582</td><td>4.44769552322018</td><td>2.108956026857881</td><td>4.4476955180904</td><td>0.575775018998866</td></tr></tbody></table>"
      ]
     },
     "execution_count": 17,
     "metadata": {},
     "output_type": "execute_result"
    }
   ],
   "source": [
    "metrics"
   ]
  },
  {
   "cell_type": "markdown",
   "metadata": {},
   "source": [
    "Now let's pretend we have new data (for convenience we are just randomly re-sampling the test data) to see what predictions our model makes. You will see two values:\n",
    "- `Label`: the actual number of rings from the example being predicted. Our model never sees this value but we show it below so that you can see how close the predicted number of rings are to the actual.\n",
    "- `Score`: the predicted number of rings made by the model. The closer this is to the Label, the more accurate is the prediction.\n",
    "\n",
    "You can run this cell multiple times to get new random samples and their predictions!"
   ]
  },
  {
   "cell_type": "code",
   "execution_count": 18,
   "metadata": {},
   "outputs": [
    {
     "data": {
      "text/html": [
       "<table><thead><tr><th><i>index</i></th><th>Label</th><th>Score</th></tr></thead><tbody><tr><td>0</td><td>10</td><td>11.753112</td></tr><tr><td>1</td><td>8</td><td>8.1793375</td></tr><tr><td>2</td><td>11</td><td>10.811496</td></tr><tr><td>3</td><td>12</td><td>12.0632515</td></tr><tr><td>4</td><td>5</td><td>5.9146023</td></tr></tbody></table>"
      ]
     },
     "execution_count": 18,
     "metadata": {},
     "output_type": "execute_result"
    }
   ],
   "source": [
    "class RegressionPrediction\n",
    "{\n",
    "    public Single Label { get; set; }\n",
    "\n",
    "    public Single Score { get; set; }\n",
    "}\n",
    "\n",
    "// Show some sample predictions\n",
    "var sampleData = context.Data.ShuffleRows(testData);\n",
    "var transformedSampleData = transformer.Transform(sampleData);\n",
    "\n",
    "var predictionEngine = context.Model.CreatePredictionEngine<AbaloneDataTransformed, RegressionPrediction>(cvResult.Model);\n",
    "\n",
    "context.Data.CreateEnumerable<AbaloneDataTransformed>(transformedSampleData, reuseRowObject: false)\n",
    "    .Take(5)\n",
    "    .Select(predictionEngine.Predict)"
   ]
  },
  {
   "cell_type": "code",
   "execution_count": null,
   "metadata": {},
   "outputs": [],
   "source": []
  }
 ],
 "metadata": {
  "kernelspec": {
   "display_name": ".NET (C#)",
   "language": "C#",
   "name": ".net-csharp"
  },
  "language_info": {
   "file_extension": ".cs",
   "mimetype": "text/x-csharp",
   "name": "C#",
   "pygments_lexer": "csharp",
   "version": "8.0"
  }
 },
 "nbformat": 4,
 "nbformat_minor": 4
}
