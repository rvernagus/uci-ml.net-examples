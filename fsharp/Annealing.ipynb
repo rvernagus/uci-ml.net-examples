{
 "cells": [
  {
   "cell_type": "code",
   "execution_count": 1,
   "metadata": {},
   "outputs": [
    {
     "data": {
      "text/html": [
       "Installed package Microsoft.ML version *"
      ]
     },
     "metadata": {},
     "output_type": "display_data"
    }
   ],
   "source": [
    "#r \"nuget: Microsoft.ML\"\n",
    "#load \"./Modules/MLWrapper.fs\"\n",
    "open Microsoft.ML\n",
    "open Microsoft.ML.Data\n",
    "open System.IO\n",
    "open System.Net\n",
    "open FunctionalMl"
   ]
  },
  {
   "cell_type": "markdown",
   "metadata": {},
   "source": [
    "Download data from [UCI Machine Learning Repository](https://archive.ics.uci.edu/ml/machine-learning-databases/annealing):"
   ]
  },
  {
   "cell_type": "code",
   "execution_count": 2,
   "metadata": {},
   "outputs": [
    {
     "name": "stdout",
     "output_type": "stream",
     "text": [
      "Train data file has 798 lines\n"
     ]
    },
    {
     "data": {
      "text/html": [
       "<table><thead><tr><th><i>index</i></th><th>value</th></tr></thead><tbody><tr><td>0</td><td>?,C,A,08,00,?,S,?,000,?,?,G,?,?,?,?,?,?,?,?,?,?,?,?,?,?,?,?,?,?,?,COIL,0.700,0610.0,0000,?,0000,?,3</td></tr><tr><td>1</td><td>?,C,R,00,00,?,S,2,000,?,?,E,?,?,?,?,?,?,?,?,?,?,?,?,?,?,?,Y,?,?,?,COIL,3.200,0610.0,0000,?,0000,?,3</td></tr><tr><td>2</td><td>?,C,R,00,00,?,S,2,000,?,?,E,?,?,Y,?,B,?,?,?,?,?,?,?,?,?,?,?,?,?,?,SHEET,0.700,1300.0,0762,?,0000,?,3</td></tr><tr><td>3</td><td>?,C,A,00,60,T,?,?,000,?,?,G,?,?,?,?,M,?,?,?,?,?,?,?,?,?,?,?,?,?,?,COIL,2.801,0385.1,0000,?,0000,?,3</td></tr><tr><td>4</td><td>?,C,A,00,60,T,?,?,000,?,?,G,?,?,?,?,B,Y,?,?,?,Y,?,?,?,?,?,?,?,?,?,SHEET,0.801,0255.0,0269,?,0000,?,3</td></tr></tbody></table>"
      ]
     },
     "execution_count": 2,
     "metadata": {},
     "output_type": "execute_result"
    }
   ],
   "source": [
    "if not <| File.Exists(\"anneal.data\") then\n",
    "    use client = new WebClient()\n",
    "    client.DownloadFile(\"https://archive.ics.uci.edu/ml/machine-learning-databases/annealing/anneal.data\", \"anneal.data\")\n",
    "    \n",
    "printfn \"Train data file has %d lines\" <| File.ReadLines(\"anneal.data\").Count()\n",
    "File.ReadLines(\"anneal.data\")\n",
    "|> Seq.take 5"
   ]
  },
  {
   "cell_type": "markdown",
   "metadata": {},
   "source": [
    "Some datasets from the UCI Machine Learning Repository have two files, one for training data and one for test data. Notice how the .test dataset has a line of descriptive text at the start of the file. We don't want to load this line--you will see how to deal with that below."
   ]
  },
  {
   "cell_type": "code",
   "execution_count": 3,
   "metadata": {},
   "outputs": [
    {
     "name": "stdout",
     "output_type": "stream",
     "text": [
      "Train data file has 100 lines\n"
     ]
    },
    {
     "data": {
      "text/html": [
       "<table><thead><tr><th><i>index</i></th><th>value</th></tr></thead><tbody><tr><td>0</td><td>?,C,A,00,45,?,S,?,000,?,?,D,?,?,?,?,?,?,?,?,?,?,?,?,?,?,?,?,?,?,?,COIL,1.600,0610.0,0000,?,0000,?,3</td></tr><tr><td>1</td><td>?,C,A,00,00,?,S,3,000,N,?,E,?,?,?,?,?,?,?,?,?,?,?,?,?,?,?,Y,?,?,?,COIL,0.699,0609.9,0000,?,0000,?,3</td></tr><tr><td>2</td><td>ZS,C,A,00,85,T,?,?,000,?,?,E,?,?,?,Y,?,?,?,?,?,?,?,?,?,?,?,?,?,?,?,SHEET,0.400,0610.0,0762,?,0000,?,U</td></tr><tr><td>3</td><td>ZS,C,A,00,50,T,?,?,000,?,?,E,?,?,?,?,?,?,?,?,?,?,?,?,?,?,?,?,?,?,?,COIL,0.400,0610.0,0000,?,0000,?,3</td></tr><tr><td>4</td><td>?,C,A,00,00,?,S,2,000,?,?,E,?,?,Y,?,?,?,?,?,?,?,?,?,?,?,?,?,?,?,?,COIL,0.699,1320.0,0000,?,0000,?,3</td></tr></tbody></table>"
      ]
     },
     "execution_count": 3,
     "metadata": {},
     "output_type": "execute_result"
    }
   ],
   "source": [
    "if not <| File.Exists(\"anneal.test\") then\n",
    "    use client = new WebClient()\n",
    "    client.DownloadFile(\"https://archive.ics.uci.edu/ml/machine-learning-databases/annealing/anneal.test\", \"anneal.test\")\n",
    "\n",
    "printfn \"Train data file has %d lines\" <| File.ReadLines(\"anneal.test\").Count()\n",
    "File.ReadLines(\"anneal.test\")\n",
    "|> Seq.take 5"
   ]
  },
  {
   "cell_type": "markdown",
   "metadata": {},
   "source": [
    "Notice all of the `?` values--these stand for \"missing\" data and we will take care of them in our pipeline below. Next, we need to declare a type that defines the shape of our data. It's rather long so be patient:"
   ]
  },
  {
   "cell_type": "code",
   "execution_count": 4,
   "metadata": {},
   "outputs": [],
   "source": [
    "[<CLIMutable>]\n",
    "type AnnealingData =\n",
    "    {\n",
    "        [<LoadColumn(0)>]\n",
    "        Family : string\n",
    "\n",
    "        [<LoadColumn(1)>]\n",
    "        ProductType : string\n",
    "\n",
    "        [<LoadColumn(2)>]\n",
    "        Steel : string\n",
    "\n",
    "        [<LoadColumn(3)>]\n",
    "        Carbon : float32\n",
    "\n",
    "        [<LoadColumn(4)>]\n",
    "        Hardness : float32\n",
    "\n",
    "        [<LoadColumn(5)>]\n",
    "        TemperRolling : string\n",
    "\n",
    "        [<LoadColumn(6)>]\n",
    "        Condition : string\n",
    "\n",
    "        [<LoadColumn(7)>]\n",
    "        Formability : string\n",
    "\n",
    "        [<LoadColumn(8)>]\n",
    "        Strength : float32\n",
    "\n",
    "        [<LoadColumn(9)>]\n",
    "        NonAgeing : string\n",
    "\n",
    "        [<LoadColumn(10)>]\n",
    "        SurfaceFinish : string\n",
    "\n",
    "        [<LoadColumn(11)>]\n",
    "        SurfaceQuality : string\n",
    "\n",
    "        [<LoadColumn(12)>]\n",
    "        Enamelability : string\n",
    "\n",
    "        [<LoadColumn(13)>]\n",
    "        Bc : string\n",
    "\n",
    "        [<LoadColumn(14)>]\n",
    "        Bf : string\n",
    "\n",
    "        [<LoadColumn(15)>]\n",
    "        Bt : string\n",
    "\n",
    "        [<LoadColumn(16)>]\n",
    "        BwMe : string\n",
    "\n",
    "        [<LoadColumn(17)>]\n",
    "        Bl : string\n",
    "\n",
    "        [<LoadColumn(18)>]\n",
    "        M : string\n",
    "\n",
    "        [<LoadColumn(19)>]\n",
    "        Chrom : string\n",
    "\n",
    "        [<LoadColumn(20)>]\n",
    "        Phos : string\n",
    "\n",
    "        [<LoadColumn(21)>]\n",
    "        Cbond : string\n",
    "\n",
    "        [<LoadColumn(22)>]\n",
    "        Marvi : string\n",
    "\n",
    "        [<LoadColumn(23)>]\n",
    "        Exptl : string\n",
    "\n",
    "        [<LoadColumn(24)>]\n",
    "        Ferro : string\n",
    "\n",
    "        [<LoadColumn(25)>]\n",
    "        Corr : string\n",
    "\n",
    "        [<LoadColumn(26)>]\n",
    "        BlueBrightVarnClean : string\n",
    "\n",
    "        [<LoadColumn(27)>]\n",
    "        Lustre : string\n",
    "\n",
    "        [<LoadColumn(28)>]\n",
    "        Jurofm : string\n",
    "\n",
    "        [<LoadColumn(29)>]\n",
    "        S : string\n",
    "\n",
    "        [<LoadColumn(30)>]\n",
    "        P : string\n",
    "\n",
    "        [<LoadColumn(31)>]\n",
    "        Shape : string\n",
    "\n",
    "        [<LoadColumn(32)>]\n",
    "        Thick : float32\n",
    "\n",
    "        [<LoadColumn(33)>]\n",
    "        Width : float32\n",
    "\n",
    "        [<LoadColumn(34)>]\n",
    "        Len : float32\n",
    "\n",
    "        [<LoadColumn(35)>]\n",
    "        Oil : string\n",
    "\n",
    "        [<LoadColumn(36)>]\n",
    "        Bore : string\n",
    "\n",
    "        [<LoadColumn(37)>]\n",
    "        Packing : string\n",
    "\n",
    "        [<LoadColumn(38)>]\n",
    "        [<ColumnName(\"Label\")>]\n",
    "        Classes : string\n",
    "    }"
   ]
  },
  {
   "cell_type": "markdown",
   "metadata": {},
   "source": [
    "Now that we have an `MLContext` (created by the FunctionalML module we loaded above) and a class to represent our data, we can load the file into a `DataView`. It is a good practice to shuffle the data after loading. Many datasets come ordered by some columns of values or even worse by the label. For training a model we want our data to be in a random order:"
   ]
  },
  {
   "cell_type": "code",
   "execution_count": 5,
   "metadata": {},
   "outputs": [],
   "source": [
    "let trainData =\n",
    "    ML.context.Data.LoadFromTextFile<AnnealingData>(\"anneal.data\", hasHeader = false, separatorChar = ',')\n",
    "    |> ML.shuffle"
   ]
  },
  {
   "cell_type": "markdown",
   "metadata": {},
   "source": [
    "Next we will load the test data."
   ]
  },
  {
   "cell_type": "code",
   "execution_count": 6,
   "metadata": {},
   "outputs": [],
   "source": [
    "let testData =\n",
    "    ML.context.Data.LoadFromTextFile<AnnealingData>(\"anneal.test\", hasHeader = false, separatorChar = ',')\n",
    "    |> ML.shuffle"
   ]
  },
  {
   "cell_type": "markdown",
   "metadata": {},
   "source": [
    "Now we declare the features of the dataset that we will train our model on:"
   ]
  },
  {
   "cell_type": "code",
   "execution_count": 7,
   "metadata": {},
   "outputs": [],
   "source": [
    "let featureColumns =\n",
    "    [|\n",
    "        \"Family\"; \"ProductType\"; \"Steel\"; \"Carbon\"; \"Hardness\"; \"TemperRolling\"; \"Condition\"; \"Formability\"; \"Strength\";\n",
    "        \"NonAgeing\"; \"SurfaceFinish\"; \"SurfaceQuality\"; \"Enamelability\"; \"Bc\"; \"Bf\"; \"Bt\"; \"BwMe\"; \"Bl\"; \"M\"; \"Chrom\";\n",
    "        \"Phos\"; \"Cbond\"; \"Marvi\"; \"Exptl\"; \"Ferro\"; \"Corr\"; \"BlueBrightVarnClean\"; \"Lustre\"; \"Jurofm\"; \"S\"; \"P\"; \"Shape\";\n",
    "        \"Thick\"; \"Width\"; \"Len\"; \"Oil\"; \"Bore\"; \"Packing\"\n",
    "    |]"
   ]
  },
  {
   "cell_type": "markdown",
   "metadata": {},
   "source": [
    "There are a number of categorical columns (string values that reprsent discrete values) in the data. We will need to encode those columns so we declare which columns are categorical here:"
   ]
  },
  {
   "cell_type": "code",
   "execution_count": 8,
   "metadata": {},
   "outputs": [],
   "source": [
    "let categoricalColumns =\n",
    "    [|\n",
    "        \"Family\"; \"ProductType\"; \"Steel\"; \"TemperRolling\"; \"Condition\"; \"Formability\"; \"NonAgeing\"; \"SurfaceFinish\";\n",
    "        \"SurfaceQuality\"; \"Enamelability\"; \"Bc\"; \"Bf\"; \"Bt\"; \"BwMe\"; \"Bl\"; \"M\"; \"Chrom\"; \"Phos\"; \"Cbond\"; \"Marvi\";\n",
    "        \"Exptl\"; \"Ferro\"; \"Corr\"; \"BlueBrightVarnClean\"; \"Lustre\"; \"Jurofm\"; \"S\"; \"P\"; \"Shape\"; \"Oil\"; \"Bore\"; \"Packing\"\n",
    "    |]"
   ]
  },
  {
   "cell_type": "markdown",
   "metadata": {},
   "source": [
    "What are we trying to predict with this data? The column called `Classes` which we have identified as the `Label` in our type is the value that we will try to predict. In order to determine whether this is a regression or a classification problem, we need to look at the values that Classes can take on--are they continuous or are they categorical?"
   ]
  },
  {
   "cell_type": "code",
   "execution_count": 9,
   "metadata": {},
   "outputs": [
    {
     "data": {
      "text/html": [
       "<table><thead><tr><th><i>index</i></th><th>value</th></tr></thead><tbody><tr><td>0</td><td>3</td></tr><tr><td>1</td><td>U</td></tr><tr><td>2</td><td>2</td></tr><tr><td>3</td><td>1</td></tr><tr><td>4</td><td>5</td></tr></tbody></table>"
      ]
     },
     "execution_count": 9,
     "metadata": {},
     "output_type": "execute_result"
    }
   ],
   "source": [
    "trainData.GetColumn<string>(\"Label\")\n",
    "|> Seq.distinct"
   ]
  },
  {
   "cell_type": "markdown",
   "metadata": {},
   "source": [
    "So all but one of `Classes` are numeric. Because of this, we will treat this as a classification problem which means that we need to treat `Classes` as a categorical variable. In our pipeline, we will map the value of our `Label` (i.e., `Classes`) column to a Key (see below). The first step in the pipeline will one-hot encode all of the categorical columns. We will also concatenate all of the feature columns into a single new column, `Features`. Finally, we map the original `Label` column to a new column, `LabelValue`, just for purposes of displaying later on."
   ]
  },
  {
   "cell_type": "code",
   "execution_count": 10,
   "metadata": {},
   "outputs": [],
   "source": [
    "let pipeline =\n",
    "    categoricalColumns\n",
    "    |> Seq.map ML.onehot // Create a one-hot encoder for each categorical column\n",
    "    |> Seq.fold ML.append (EstimatorChain()) // Add the encoders to a new EstimatorChain\n",
    "    |> ML.append <| ML.mapValueToKey \"Label\" \"Label\" // Map labels keys\n",
    "    |> ML.append <| ML.concatenate \"Features\" featureColumns // Concatenate feature columns into a single new column\n",
    "    |> ML.append <| ML.mapKeyToValue \"Label\" \"LabelValue\""
   ]
  },
  {
   "cell_type": "markdown",
   "metadata": {},
   "source": [
    "Fit the pipeline to our training data:"
   ]
  },
  {
   "cell_type": "code",
   "execution_count": 11,
   "metadata": {},
   "outputs": [],
   "source": [
    "let transformer =\n",
    "    pipeline\n",
    "    |> ML.fit trainData"
   ]
  },
  {
   "cell_type": "markdown",
   "metadata": {},
   "source": [
    "Let's first view the data as it was loaded from the downloaded file:"
   ]
  },
  {
   "cell_type": "code",
   "execution_count": 12,
   "metadata": {},
   "outputs": [
    {
     "data": {
      "text/html": [
       "<table><thead><tr><th><i>index</i></th><th>Family</th><th>ProductType</th><th>Steel</th><th>Carbon</th><th>Hardness</th><th>TemperRolling</th><th>Condition</th><th>Formability</th><th>Strength</th><th>NonAgeing</th><th>SurfaceFinish</th><th>SurfaceQuality</th><th>Enamelability</th><th>Bc</th><th>Bf</th><th>Bt</th><th>BwMe</th><th>Bl</th><th>M</th><th>Chrom</th><th>Phos</th><th>Cbond</th><th>Marvi</th><th>Exptl</th><th>Ferro</th><th>Corr</th><th>BlueBrightVarnClean</th><th>Lustre</th><th>Jurofm</th><th>S</th><th>P</th><th>Shape</th><th>Thick</th><th>Width</th><th>Len</th><th>Oil</th><th>Bore</th><th>Packing</th><th>Classes</th></tr></thead><tbody><tr><td>0</td><td>?</td><td>C</td><td>W</td><td>0</td><td>0</td><td>?</td><td>?</td><td>?</td><td>310</td><td>?</td><td>?</td><td>G</td><td>?</td><td>?</td><td>?</td><td>?</td><td>?</td><td>?</td><td>?</td><td>?</td><td>?</td><td>?</td><td>?</td><td>?</td><td>?</td><td>?</td><td>?</td><td>?</td><td>?</td><td>?</td><td>?</td><td>SHEET</td><td>1.599</td><td>1275</td><td>762</td><td>?</td><td>0000</td><td>?</td><td>3</td></tr><tr><td>1</td><td>?</td><td>C</td><td>R</td><td>0</td><td>0</td><td>?</td><td>S</td><td>2</td><td>0</td><td>?</td><td>?</td><td>E</td><td>?</td><td>?</td><td>Y</td><td>?</td><td>?</td><td>Y</td><td>?</td><td>?</td><td>?</td><td>?</td><td>?</td><td>?</td><td>?</td><td>?</td><td>?</td><td>?</td><td>?</td><td>?</td><td>?</td><td>SHEET</td><td>0.699</td><td>1320</td><td>4880</td><td>Y</td><td>0000</td><td>?</td><td>3</td></tr><tr><td>2</td><td>?</td><td>C</td><td>R</td><td>0</td><td>0</td><td>?</td><td>S</td><td>3</td><td>0</td><td>?</td><td>?</td><td>E</td><td>?</td><td>?</td><td>?</td><td>?</td><td>?</td><td>?</td><td>?</td><td>?</td><td>?</td><td>?</td><td>?</td><td>?</td><td>?</td><td>?</td><td>?</td><td>?</td><td>?</td><td>?</td><td>?</td><td>SHEET</td><td>0.6</td><td>610</td><td>4880</td><td>?</td><td>0000</td><td>?</td><td>3</td></tr><tr><td>3</td><td>?</td><td>C</td><td>K</td><td>65</td><td>0</td><td>?</td><td>?</td><td>?</td><td>0</td><td>?</td><td>?</td><td>?</td><td>?</td><td>?</td><td>?</td><td>?</td><td>?</td><td>?</td><td>?</td><td>?</td><td>?</td><td>?</td><td>?</td><td>?</td><td>?</td><td>?</td><td>?</td><td>?</td><td>?</td><td>?</td><td>?</td><td>COIL</td><td>1.09</td><td>610</td><td>0</td><td>?</td><td>0000</td><td>?</td><td>3</td></tr><tr><td>4</td><td>?</td><td>C</td><td>A</td><td>0</td><td>85</td><td>T</td><td>?</td><td>?</td><td>0</td><td>?</td><td>?</td><td>G</td><td>?</td><td>?</td><td>?</td><td>?</td><td>?</td><td>?</td><td>?</td><td>?</td><td>?</td><td>?</td><td>?</td><td>?</td><td>?</td><td>?</td><td>?</td><td>?</td><td>?</td><td>?</td><td>?</td><td>COIL</td><td>3.2</td><td>610</td><td>0</td><td>Y</td><td>0000</td><td>?</td><td>U</td></tr></tbody></table>"
      ]
     },
     "execution_count": 12,
     "metadata": {},
     "output_type": "execute_result"
    }
   ],
   "source": [
    "ML.context.Data.CreateEnumerable<AnnealingData>(trainData, reuseRowObject = false)\n",
    "|> Seq.take 5"
   ]
  },
  {
   "cell_type": "markdown",
   "metadata": {},
   "source": [
    "Now let's see what the data looks like after it has been transformed by our pipeline:"
   ]
  },
  {
   "cell_type": "code",
   "execution_count": 13,
   "metadata": {},
   "outputs": [
    {
     "data": {
      "text/html": [
       "<table><thead><tr><th><i>index</i></th><th>Classes</th><th>Features</th></tr></thead><tbody><tr><td>0</td><td>3</td><td>[ 1, 0, 0, 1, 1, 0, 0, 0, 0, 0 ... (74 more) ]</td></tr><tr><td>1</td><td>3</td><td>[ 1, 0, 0, 1, 0, 1, 0, 0, 0, 0 ... (74 more) ]</td></tr><tr><td>2</td><td>3</td><td>[ 1, 0, 0, 1, 0, 1, 0, 0, 0, 0 ... (74 more) ]</td></tr></tbody></table>"
      ]
     },
     "execution_count": 13,
     "metadata": {},
     "output_type": "execute_result"
    }
   ],
   "source": [
    "[<CLIMutable>]\n",
    "type AnnealingDataTransformed =\n",
    "    {\n",
    "        [<ColumnName(\"LabelValue\")>]\n",
    "        Classes : string\n",
    "\n",
    "        [<VectorType(84)>]\n",
    "        Features : single[]\n",
    "    }\n",
    "\n",
    "let transformedData =\n",
    "    trainData\n",
    "    |> ML.transform transformer\n",
    "\n",
    "ML.context.Data.CreateEnumerable<AnnealingDataTransformed>(transformedData, reuseRowObject = false)\n",
    "|> Seq.take 3"
   ]
  },
  {
   "cell_type": "markdown",
   "metadata": {},
   "source": [
    "Woah! Notice how there are 80+ columns after running the data through the pipeline! This is due to one-hot encoding which creates a new column for each discrete value in our categorical columns. Don't worry though, this is no problem for ML.NET which can deal with hundreds, even thousands of features in a dataset."
   ]
  },
  {
   "cell_type": "markdown",
   "metadata": {},
   "source": [
    "Now we will create a multiclass classification estimator. You can try different estimators to see how their accuracy differs."
   ]
  },
  {
   "cell_type": "code",
   "execution_count": 14,
   "metadata": {},
   "outputs": [],
   "source": [
    "let estimator =\n",
    "    ML.context.MulticlassClassification.Trainers.LbfgsMaximumEntropy(featureColumnName = \"Features\")\n",
    "    |> ML.downcastEstimator"
   ]
  },
  {
   "cell_type": "markdown",
   "metadata": {},
   "source": [
    "Use cross-validation to select the best performing model. Along the way we will print the metrics for our model."
   ]
  },
  {
   "cell_type": "code",
   "execution_count": 15,
   "metadata": {},
   "outputs": [
    {
     "name": "stdout",
     "output_type": "stream",
     "text": [
      "------------------\n",
      "Cross Validation Metrics\n",
      "------------------\n",
      "Accuracy: 0.885410\n",
      "Log Loss: 0.175310\n"
     ]
    }
   ],
   "source": [
    "let model =\n",
    "    trainData // Begin with the training data\n",
    "    |> ML.transform transformer // Transform using the transformer built above\n",
    "    |> ML.crossValidateMulticlassClassification estimator 3 // 3-fold cross-validation\n",
    "    |> ML.printMulticlassClassificationCvMetrics // Print cross-fold metrics\n",
    "    |> Seq.maxBy (fun cvResult -> cvResult.Metrics.MacroAccuracy) // Select the best model by Accuracy\n",
    "    |> fun cvResult -> cvResult.Model"
   ]
  },
  {
   "cell_type": "markdown",
   "metadata": {},
   "source": [
    "OK, now we can use our best model on the test data."
   ]
  },
  {
   "cell_type": "code",
   "execution_count": 16,
   "metadata": {},
   "outputs": [
    {
     "name": "stdout",
     "output_type": "stream",
     "text": [
      "------------------\n",
      "Test Metrics\n",
      "------------------\n",
      "Accuracy: 0.951754\n",
      "Log Loss: 0.160146\n",
      "Confusion Matrix:\n",
      "\n",
      "Confusion table\n",
      "          ||========================================\n",
      "PREDICTED ||     3 |     U |     2 |     1 |     5 | Recall\n",
      "TRUTH     ||========================================\n",
      "        3 ||    74 |     0 |     2 |     0 |     0 | 0.9737\n",
      "        U ||     1 |     5 |     0 |     0 |     0 | 0.8333\n",
      "        2 ||     0 |     0 |    11 |     0 |     0 | 1.0000\n",
      "        1 ||     0 |     0 |     0 |     0 |     0 | 0.0000\n",
      "        5 ||     0 |     0 |     0 |     0 |     7 | 1.0000\n",
      "          ||========================================\n",
      "Precision ||0.9867 |1.0000 |0.8462 |0.0000 |1.0000 |\n",
      "\n"
     ]
    },
    {
     "data": {
      "text/html": [
       "<null>"
      ]
     },
     "execution_count": 16,
     "metadata": {},
     "output_type": "execute_result"
    }
   ],
   "source": [
    "model\n",
    "|> ML.transform <| ML.transform transformer testData // Transform the test data and get predictions\n",
    "|> ML.context.MulticlassClassification.Evaluate // Get test metrics\n",
    "|> ML.printMulticlassClassificationMetrics"
   ]
  },
  {
   "cell_type": "markdown",
   "metadata": {},
   "source": [
    "Now let's pretend we have new data (for convenience we are just randomly re-sampling the test data) to see what predictions our model makes. You will see three properties to each prediction:\n",
    "- `LabelValue`: this is the actual `Label` value we are trying to predict. Our model doesn't know what the actual value is--it is shown here for comparison. Since our `Label` column is mapped to a key value, we need to map it to another column in order to actually see the human-readable key.\n",
    "- `Score`: an array of probabilties per class.\n",
    "- `PredictedLabelValue`: this is the actual prediction made by the model. Again, since our `PredictedLabel` is a Key value, we need to map it to a new, human-readable column in order to view it.\n",
    "\n",
    "You can run this cell multiple times to get new random samples and their predictions!"
   ]
  },
  {
   "cell_type": "code",
   "execution_count": 17,
   "metadata": {},
   "outputs": [
    {
     "data": {
      "text/html": [
       "<table><thead><tr><th><i>index</i></th><th>LabelValue</th><th>Score</th><th>PredictedLabelValue</th></tr></thead><tbody><tr><td>0</td><td>3</td><td>[ 0.9847105, 0.015290131, 3.50356E-24, 5.8728496E-15, 3.3196028E-21 ]</td><td>3</td></tr><tr><td>1</td><td>3</td><td>[ 0.99201024, 0.00021785192, 0.0059491727, 0.0008131322, 0.0010096285 ]</td><td>3</td></tr><tr><td>2</td><td>3</td><td>[ 0.90346605, 0.0006509572, 0.08337129, 0, 0.012506964 ]</td><td>3</td></tr><tr><td>3</td><td>2</td><td>[ 0.37503505, 0, 0.62496334, 0, 0 ]</td><td>2</td></tr><tr><td>4</td><td>3</td><td>[ 0.7016915, 0, 0.04904273, 0.24926533, 0 ]</td><td>3</td></tr></tbody></table>"
      ]
     },
     "execution_count": 17,
     "metadata": {},
     "output_type": "execute_result"
    }
   ],
   "source": [
    "[<CLIMutable>]\n",
    "type MulticlassClassificationPrediction = { LabelValue: string; Score : single[]; PredictedLabelValue : string }\n",
    "\n",
    "let sampleData =\n",
    "    testData\n",
    "    |> ML.shuffle\n",
    "    |> ML.transform transformer\n",
    "    |> ML.transform model\n",
    "\n",
    "let mapValues =\n",
    "    EstimatorChain()\n",
    "    |> ML.append <| ML.mapKeyToValue \"PredictedLabel\" \"PredictedLabelValue\"\n",
    "    |> ML.append <| ML.mapKeyToValue \"Label\" \"LabelValue\"\n",
    "    |> ML.fit sampleData\n",
    "\n",
    "let samplePredictions = mapValues.Transform(sampleData)\n",
    "ML.context.Data.CreateEnumerable<MulticlassClassificationPrediction>(samplePredictions, reuseRowObject = false)\n",
    "|> Seq.take 5"
   ]
  },
  {
   "cell_type": "code",
   "execution_count": null,
   "metadata": {},
   "outputs": [],
   "source": []
  }
 ],
 "metadata": {
  "kernelspec": {
   "display_name": ".NET (F#)",
   "language": "F#",
   "name": ".net-fsharp"
  },
  "language_info": {
   "file_extension": ".fs",
   "mimetype": "text/x-fsharp",
   "name": "C#",
   "pygments_lexer": "fsharp",
   "version": "4.5"
  }
 },
 "nbformat": 4,
 "nbformat_minor": 4
}
