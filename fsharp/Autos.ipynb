{
 "cells": [
  {
   "cell_type": "code",
   "execution_count": 1,
   "metadata": {},
   "outputs": [
    {
     "data": {
      "text/html": [
       "Installed package Microsoft.ML version *"
      ]
     },
     "metadata": {},
     "output_type": "display_data"
    }
   ],
   "source": [
    "#r \"nuget: Microsoft.ML\"\n",
    "#load \"./Modules/MLWrapper.fs\"\n",
    "open Microsoft.ML\n",
    "open Microsoft.ML.Data\n",
    "open System.IO\n",
    "open System.Net\n",
    "open FunctionalMl"
   ]
  },
  {
   "cell_type": "code",
   "execution_count": 2,
   "metadata": {},
   "outputs": [
    {
     "name": "stdout",
     "output_type": "stream",
     "text": [
      "Data file has 205 lines\n"
     ]
    },
    {
     "data": {
      "text/html": [
       "<table><thead><tr><th><i>index</i></th><th>value</th></tr></thead><tbody><tr><td>0</td><td>3,?,alfa-romero,gas,std,two,convertible,rwd,front,88.60,168.80,64.10,48.80,2548,dohc,four,130,mpfi,3.47,2.68,9.00,111,5000,21,27,13495</td></tr><tr><td>1</td><td>3,?,alfa-romero,gas,std,two,convertible,rwd,front,88.60,168.80,64.10,48.80,2548,dohc,four,130,mpfi,3.47,2.68,9.00,111,5000,21,27,16500</td></tr><tr><td>2</td><td>1,?,alfa-romero,gas,std,two,hatchback,rwd,front,94.50,171.20,65.50,52.40,2823,ohcv,six,152,mpfi,2.68,3.47,9.00,154,5000,19,26,16500</td></tr><tr><td>3</td><td>2,164,audi,gas,std,four,sedan,fwd,front,99.80,176.60,66.20,54.30,2337,ohc,four,109,mpfi,3.19,3.40,10.00,102,5500,24,30,13950</td></tr><tr><td>4</td><td>2,164,audi,gas,std,four,sedan,4wd,front,99.40,176.60,66.40,54.30,2824,ohc,five,136,mpfi,3.19,3.40,8.00,115,5500,18,22,17450</td></tr></tbody></table>"
      ]
     },
     "execution_count": 2,
     "metadata": {},
     "output_type": "execute_result"
    }
   ],
   "source": [
    "if not <| File.Exists(\"imports-85.data\") then\n",
    "    use client = new WebClient()\n",
    "    client.DownloadFile(\"https://archive.ics.uci.edu/ml/machine-learning-databases/autos/imports-85.data\", \"imports-85.data\")\n",
    "\n",
    "printfn \"Data file has %d lines\" <| File.ReadLines(\"imports-85.data\").Count()\n",
    "File.ReadLines(\"imports-85.data\")\n",
    "|> Seq.take 5"
   ]
  },
  {
   "cell_type": "code",
   "execution_count": 3,
   "metadata": {},
   "outputs": [],
   "source": [
    "[<CLIMutable>]\n",
    "type AutosData =\n",
    "    {\n",
    "        [<LoadColumn(0)>]\n",
    "        Symboling : string\n",
    "        \n",
    "        [<LoadColumn(1)>] \n",
    "        NormLosses : float32\n",
    "        \n",
    "        [<LoadColumn(2)>]\n",
    "        Make : string\n",
    "        \n",
    "        [<LoadColumn(3)>]\n",
    "        FuelType : string\n",
    "        \n",
    "        [<LoadColumn(4)>]\n",
    "        Aspiration : string\n",
    "        \n",
    "        [<LoadColumn(5)>]\n",
    "        NumDoors : string\n",
    "        \n",
    "        [<LoadColumn(6)>]\n",
    "        BodyStyle : string\n",
    "        \n",
    "        [<LoadColumn(7)>]\n",
    "        DriveWheels : string\n",
    "        \n",
    "        [<LoadColumn(8)>]\n",
    "        EngineLoc : string\n",
    "        \n",
    "        [<LoadColumn(9)>]\n",
    "        WheelBase : float32\n",
    "        \n",
    "        [<LoadColumn(10)>]\n",
    "        Length : float32\n",
    "        \n",
    "        [<LoadColumn(11)>]\n",
    "        Width : float32\n",
    "        \n",
    "        [<LoadColumn(12)>]\n",
    "        Height : float32\n",
    "        \n",
    "        [<LoadColumn(13)>]\n",
    "        CurbWeight : float32\n",
    "        \n",
    "        [<LoadColumn(14)>]\n",
    "        EngineType : string\n",
    "        \n",
    "        [<LoadColumn(15)>]\n",
    "        NumCylinders : string\n",
    "        \n",
    "        [<LoadColumn(16)>]\n",
    "        EngineSize : float32\n",
    "        \n",
    "        [<LoadColumn(17)>]\n",
    "        FuelSystem : string\n",
    "        \n",
    "        [<LoadColumn(18)>]\n",
    "        Bore : float32\n",
    "        \n",
    "        [<LoadColumn(19)>]\n",
    "        Stroke : float32\n",
    "        \n",
    "        [<LoadColumn(20)>]\n",
    "        CompressionRatio : float32\n",
    "        \n",
    "        [<LoadColumn(21)>]\n",
    "        Horsepower : float32\n",
    "        \n",
    "        [<LoadColumn(22)>]\n",
    "        PeakRpm : float32\n",
    "        \n",
    "        [<LoadColumn(23)>]\n",
    "        CityMpg : float32\n",
    "        \n",
    "        [<LoadColumn(24)>]\n",
    "        HighwayMpg : float32\n",
    "        \n",
    "        [<LoadColumn(25)>]\n",
    "        [<ColumnName(\"Label\")>]\n",
    "        Price : float32\n",
    "    }\n",
    "\n",
    "let allData = ML.context.Data.LoadFromTextFile<AutosData>(\"imports-85.data\", hasHeader = false, separatorChar = ',')"
   ]
  },
  {
   "cell_type": "code",
   "execution_count": 4,
   "metadata": {},
   "outputs": [],
   "source": [
    "let trainData, testData =\n",
    "    ML.shuffle allData\n",
    "    |> ML.split 0.2"
   ]
  },
  {
   "cell_type": "code",
   "execution_count": 5,
   "metadata": {},
   "outputs": [],
   "source": [
    "let featureColumns =\n",
    "    [|\n",
    "        \"Symboling\"; \"NormLosses\"; \"Make\"; \"FuelType\"; \"Aspiration\"; \"NumDoors\"; \"BodyStyle\"; \"DriveWheels\"; \"EngineLoc\";\n",
    "        \"WheelBase\"; \"Length\"; \"Width\"; \"Height\"; \"CurbWeight\"; \"EngineType\"; \"NumCylinders\"; \"EngineSize\"; \"FuelSystem\";\n",
    "        \"Bore\"; \"Stroke\"; \"CompressionRatio\"; \"Horsepower\"; \"PeakRpm\"; \"CityMpg\"; \"HighwayMpg\"\n",
    "    |]\n",
    "\n",
    "let categoricalColumns =\n",
    "    [|\n",
    "        \"Symboling\"; \"Make\"; \"FuelType\"; \"Aspiration\"; \"NumDoors\"; \"BodyStyle\"; \"DriveWheels\"; \"EngineLoc\"; \"EngineType\";\n",
    "        \"NumCylinders\"; \"FuelSystem\"\n",
    "    |]"
   ]
  },
  {
   "cell_type": "code",
   "execution_count": 61,
   "metadata": {},
   "outputs": [],
   "source": [
    "let pipeline =\n",
    "    categoricalColumns\n",
    "    |> Seq.map ML.onehot\n",
    "    |> Seq.fold ML.append (EstimatorChain())\n",
    "    |> ML.append <| ML.concatenate \"Features\" featureColumns\n",
    "    |> ML.append <| ML.replaceMissingWithDefault \"Features\" \"Features\"\n",
    "    |> ML.append <| ML.normalizeMinMax \"Features\" \"FeaturesNorm\""
   ]
  },
  {
   "cell_type": "code",
   "execution_count": 62,
   "metadata": {},
   "outputs": [],
   "source": [
    "let transformer =\n",
    "    pipeline\n",
    "    |> ML.fit trainData // Fit our pipeline on the training data"
   ]
  },
  {
   "cell_type": "code",
   "execution_count": 63,
   "metadata": {},
   "outputs": [],
   "source": [
    "let transformedData =\n",
    "    trainData\n",
    "    |> ML.transform transformer"
   ]
  },
  {
   "cell_type": "code",
   "execution_count": 64,
   "metadata": {},
   "outputs": [
    {
     "data": {
      "text/html": [
       "<table><thead><tr><th><i>index</i></th><th>Symboling</th><th>NormLosses</th><th>Make</th><th>FuelType</th><th>Aspiration</th><th>NumDoors</th><th>BodyStyle</th><th>DriveWheels</th><th>EngineLoc</th><th>WheelBase</th><th>Length</th><th>Width</th><th>Height</th><th>CurbWeight</th><th>EngineType</th><th>NumCylinders</th><th>EngineSize</th><th>FuelSystem</th><th>Bore</th><th>Stroke</th><th>CompressionRatio</th><th>Horsepower</th><th>PeakRpm</th><th>CityMpg</th><th>HighwayMpg</th><th>Price</th></tr></thead><tbody><tr><td>0</td><td>1</td><td>107</td><td>honda</td><td>gas</td><td>std</td><td>two</td><td>sedan</td><td>fwd</td><td>front</td><td>96.5</td><td>169.1</td><td>66</td><td>51</td><td>2293</td><td>ohc</td><td>four</td><td>110</td><td>2bbl</td><td>3.15</td><td>3.58</td><td>9.1</td><td>100</td><td>5500</td><td>25</td><td>31</td><td>10345</td></tr><tr><td>1</td><td>3</td><td>194</td><td>nissan</td><td>gas</td><td>turbo</td><td>two</td><td>hatchback</td><td>rwd</td><td>front</td><td>91.3</td><td>170.7</td><td>67.9</td><td>49.7</td><td>3139</td><td>ohcv</td><td>six</td><td>181</td><td>mpfi</td><td>3.43</td><td>3.27</td><td>7.8</td><td>200</td><td>5200</td><td>17</td><td>23</td><td>19699</td></tr><tr><td>2</td><td>2</td><td>161</td><td>mitsubishi</td><td>gas</td><td>std</td><td>two</td><td>hatchback</td><td>fwd</td><td>front</td><td>93.7</td><td>157.3</td><td>64.4</td><td>50.8</td><td>1918</td><td>ohc</td><td>four</td><td>92</td><td>2bbl</td><td>2.97</td><td>3.23</td><td>9.4</td><td>68</td><td>5500</td><td>37</td><td>41</td><td>5389</td></tr><tr><td>3</td><td>1</td><td>74</td><td>toyota</td><td>gas</td><td>std</td><td>four</td><td>hatchback</td><td>fwd</td><td>front</td><td>95.7</td><td>158.7</td><td>63.6</td><td>54.5</td><td>2015</td><td>ohc</td><td>four</td><td>92</td><td>2bbl</td><td>3.05</td><td>3.03</td><td>9</td><td>62</td><td>4800</td><td>31</td><td>38</td><td>6488</td></tr><tr><td>4</td><td>-2</td><td>103</td><td>volvo</td><td>gas</td><td>turbo</td><td>four</td><td>sedan</td><td>rwd</td><td>front</td><td>104.3</td><td>188.8</td><td>67.2</td><td>56.2</td><td>3045</td><td>ohc</td><td>four</td><td>130</td><td>mpfi</td><td>3.62</td><td>3.15</td><td>7.5</td><td>162</td><td>5100</td><td>17</td><td>22</td><td>18420</td></tr></tbody></table>"
      ]
     },
     "execution_count": 64,
     "metadata": {},
     "output_type": "execute_result"
    }
   ],
   "source": [
    "ML.context.Data.CreateEnumerable<AutosData>(trainData, reuseRowObject = false)\n",
    "|> Seq.take 5"
   ]
  },
  {
   "cell_type": "code",
   "execution_count": 65,
   "metadata": {},
   "outputs": [
    {
     "data": {
      "text/html": [
       "<table><thead><tr><th><i>index</i></th><th>Price</th><th>Features</th><th>FeaturesNorm</th></tr></thead><tbody><tr><td>0</td><td>10345</td><td>[ 1, 0, 0, 0, 0, 0, 107, 1, 0, 0 ... (71 more) ]</td><td>[ 1, 0, 0, 0, 0, 0, 0.41796875, 1, 0, 0 ... (71 more) ]</td></tr><tr><td>1</td><td>19699</td><td>[ 0, 1, 0, 0, 0, 0, 194, 0, 1, 0 ... (71 more) ]</td><td>[ 0, 1, 0, 0, 0, 0, 0.7578125, 0, 1, 0 ... (71 more) ]</td></tr><tr><td>2</td><td>5389</td><td>[ 0, 0, 1, 0, 0, 0, 161, 0, 0, 1 ... (71 more) ]</td><td>[ 0, 0, 1, 0, 0, 0, 0.62890625, 0, 0, 1 ... (71 more) ]</td></tr><tr><td>3</td><td>6488</td><td>[ 1, 0, 0, 0, 0, 0, 74, 0, 0, 0 ... (71 more) ]</td><td>[ 1, 0, 0, 0, 0, 0, 0.2890625, 0, 0, 0 ... (71 more) ]</td></tr><tr><td>4</td><td>18420</td><td>[ 0, 0, 0, 1, 0, 0, 103, 0, 0, 0 ... (71 more) ]</td><td>[ 0, 0, 0, 1, 0, 0, 0.40234375, 0, 0, 0 ... (71 more) ]</td></tr></tbody></table>"
      ]
     },
     "execution_count": 65,
     "metadata": {},
     "output_type": "execute_result"
    }
   ],
   "source": [
    "[<CLIMutable>]\n",
    "type AutosDataTransformed =\n",
    "    {\n",
    "        [<ColumnName(\"Label\")>]\n",
    "        Price : single\n",
    "\n",
    "        [<VectorType(81)>]\n",
    "        Features : single[]\n",
    "\n",
    "        [<VectorType(81)>]\n",
    "        FeaturesNorm : single[]\n",
    "    }\n",
    "\n",
    "ML.context.Data.CreateEnumerable<AutosDataTransformed>(transformedData, reuseRowObject = false)\n",
    "|> Seq.take 5"
   ]
  },
  {
   "cell_type": "code",
   "execution_count": 66,
   "metadata": {},
   "outputs": [],
   "source": [
    "let estimator = \n",
    "    ML.context.Regression.Trainers.Sdca(featureColumnName = \"FeaturesNorm\")\n",
    "    |> ML.downcastEstimator"
   ]
  },
  {
   "cell_type": "code",
   "execution_count": 67,
   "metadata": {},
   "outputs": [
    {
     "name": "stdout",
     "output_type": "stream",
     "text": [
      "------------------\n",
      "Cross Validation Metrics\n",
      "------------------\n",
      "Mean Absolute Error: 1848.617544\n",
      "Mean Squared Error: 7583718.191189\n",
      "Root Mean Squared Error: 2715.370039\n",
      "R-squared: 0.876045\n"
     ]
    }
   ],
   "source": [
    "let model =\n",
    "    trainData // Begin with the training data\n",
    "    |> ML.transform transformer // Transform using the transformer built above\n",
    "    |> ML.crossValidateRegression estimator 3 // 3-fold cross-validation\n",
    "    |> ML.printRegressionCvMetrics // Print cross-fold metrics\n",
    "    |> Seq.maxBy (fun cvResult -> cvResult.Metrics.RSquared) // Select the best model by R-squared\n",
    "    |> fun cvResult -> cvResult.Model"
   ]
  },
  {
   "cell_type": "code",
   "execution_count": 68,
   "metadata": {},
   "outputs": [
    {
     "name": "stdout",
     "output_type": "stream",
     "text": [
      "------------------\n",
      "Test Metrics\n",
      "------------------\n",
      "Mean Absolute Error: 2315.846842\n",
      "Mean Squared Error: 9834880.631863\n",
      "Root Mean Squared Error: 3136.061325\n",
      "R-squared: 0.876683\n"
     ]
    },
    {
     "data": {
      "text/html": [
       "<null>"
      ]
     },
     "execution_count": 68,
     "metadata": {},
     "output_type": "execute_result"
    }
   ],
   "source": [
    "model\n",
    "|> ML.transform <| ML.transform transformer testData // Transform the test data and get predictions\n",
    "|> ML.context.Regression.Evaluate // Get test metrics\n",
    "|> ML.printRegressionMetrics"
   ]
  },
  {
   "cell_type": "code",
   "execution_count": 69,
   "metadata": {},
   "outputs": [
    {
     "data": {
      "text/html": [
       "<table><thead><tr><th><i>index</i></th><th>Label</th><th>Score</th></tr></thead><tbody><tr><td>0</td><td>6529</td><td>7454.089</td></tr><tr><td>1</td><td>22625</td><td>18196.076</td></tr><tr><td>2</td><td>5195</td><td>7084.148</td></tr><tr><td>3</td><td>16900</td><td>16245.451</td></tr><tr><td>4</td><td>16845</td><td>15856.457</td></tr></tbody></table>"
      ]
     },
     "execution_count": 69,
     "metadata": {},
     "output_type": "execute_result"
    }
   ],
   "source": [
    "[<CLIMutable>]\n",
    "type RegressionPrediction = { Label : single; Score : single }\n",
    "\n",
    "// Show some sample predictions\n",
    "let sampleData =\n",
    "    testData\n",
    "    |> ML.shuffle \n",
    "    |> ML.transform transformer\n",
    "\n",
    "let predictionEngine = ML.context.Model.CreatePredictionEngine<AutosDataTransformed, RegressionPrediction>(model)\n",
    "\n",
    "ML.context.Data.CreateEnumerable<AutosDataTransformed>(sampleData, reuseRowObject = false)\n",
    "|> Seq.take 5\n",
    "|> Seq.map predictionEngine.Predict"
   ]
  },
  {
   "cell_type": "code",
   "execution_count": null,
   "metadata": {},
   "outputs": [],
   "source": []
  }
 ],
 "metadata": {
  "kernelspec": {
   "display_name": ".NET (F#)",
   "language": "F#",
   "name": ".net-fsharp"
  },
  "language_info": {
   "file_extension": ".fs",
   "mimetype": "text/x-fsharp",
   "name": "C#",
   "pygments_lexer": "fsharp",
   "version": "4.5"
  }
 },
 "nbformat": 4,
 "nbformat_minor": 4
}
