{
 "cells": [
  {
   "cell_type": "code",
   "execution_count": 2,
   "metadata": {},
   "outputs": [],
   "source": [
    "#r \"nuget: Microsoft.ML\"\n",
    "#load \"./Modules/MLWrapper.fs\"\n",
    "open Microsoft.ML\n",
    "open Microsoft.ML.Data\n",
    "open System.IO\n",
    "open System.Net\n",
    "open FunctionalMl"
   ]
  },
  {
   "cell_type": "code",
   "execution_count": 3,
   "metadata": {},
   "outputs": [
    {
     "data": {
      "text/html": [
       "<table><thead><tr><th><i>index</i></th><th>value</th></tr></thead><tbody><tr><td>0</td><td>M,0.455,0.365,0.095,0.514,0.2245,0.101,0.15,15</td></tr><tr><td>1</td><td>M,0.35,0.265,0.09,0.2255,0.0995,0.0485,0.07,7</td></tr><tr><td>2</td><td>F,0.53,0.42,0.135,0.677,0.2565,0.1415,0.21,9</td></tr><tr><td>3</td><td>M,0.44,0.365,0.125,0.516,0.2155,0.114,0.155,10</td></tr><tr><td>4</td><td>I,0.33,0.255,0.08,0.205,0.0895,0.0395,0.055,7</td></tr></tbody></table>"
      ]
     },
     "execution_count": 3,
     "metadata": {},
     "output_type": "execute_result"
    }
   ],
   "source": [
    "if not <| File.Exists(\"abalone.data\") then\n",
    "    use client = new WebClient()\n",
    "    client.DownloadFile(\"http://archive.ics.uci.edu/ml/machine-learning-databases/abalone/abalone.data\", \"abalone.data\")\n",
    "\n",
    "File.ReadLines(\"abalone.data\")\n",
    "|> Seq.take 5"
   ]
  },
  {
   "cell_type": "code",
   "execution_count": 4,
   "metadata": {},
   "outputs": [],
   "source": [
    "[<CLIMutable>]\n",
    "type AbaloneData =\n",
    "    {\n",
    "        [<LoadColumn(0)>]\n",
    "        Sex : string\n",
    "\n",
    "        [<LoadColumn(1)>]\n",
    "        Length : float32\n",
    "\n",
    "        [<LoadColumn(2)>]\n",
    "        Diameter : float32\n",
    "\n",
    "        [<LoadColumn(3)>]\n",
    "        Height : float32\n",
    "\n",
    "        [<LoadColumn(4)>]\n",
    "        WholeWeight : float32\n",
    "\n",
    "        [<LoadColumn(5)>]\n",
    "        ShuckedWeight : float32\n",
    "\n",
    "        [<LoadColumn(6)>]\n",
    "        VisceraWeight : float32\n",
    "\n",
    "        [<LoadColumn(7)>]\n",
    "        ShellWeight : float32\n",
    "\n",
    "        [<LoadColumn(8)>]\n",
    "        [<ColumnName(\"Label\")>]\n",
    "        Rings : single\n",
    "    }\n",
    "\n",
    "let allData = ML.context.Data.LoadFromTextFile<AbaloneData>(\"abalone.data\", hasHeader = false, separatorChar = ',')"
   ]
  },
  {
   "cell_type": "code",
   "execution_count": 5,
   "metadata": {},
   "outputs": [],
   "source": [
    "let trainData, testData =\n",
    "    ML.shuffle allData\n",
    "    |> ML.split 0.2"
   ]
  },
  {
   "cell_type": "code",
   "execution_count": 6,
   "metadata": {},
   "outputs": [],
   "source": [
    "let featureColumns = [| \"Sex\"; \"Length\"; \"Diameter\"; \"Height\"; \"WholeWeight\"; \"ShuckedWeight\"; \"VisceraWeight\"; \"ShellWeight\" |]"
   ]
  },
  {
   "cell_type": "code",
   "execution_count": 7,
   "metadata": {},
   "outputs": [],
   "source": [
    "let pipeline = \n",
    "    EstimatorChain()\n",
    "    |> ML.append <| ML.onehot \"Sex\" // one-hot encode the Sex feature\n",
    "    |> ML.append <| ML.concatenate \"Features\" featureColumns // Concatenate feature columns into a single new column\n",
    "    |> ML.append <| ML.normalizeLp \"Features\" \"FeaturesNorm\" // Normalize features into a new column, FeaturesNorm"
   ]
  },
  {
   "cell_type": "code",
   "execution_count": 8,
   "metadata": {},
   "outputs": [],
   "source": [
    "let transformer =\n",
    "    pipeline\n",
    "    |> ML.fit trainData // Fit our pipeline on the training data"
   ]
  },
  {
   "cell_type": "code",
   "execution_count": 10,
   "metadata": {},
   "outputs": [],
   "source": [
    "let transformedData =\n",
    "    trainData\n",
    "    |> ML.transform transformer"
   ]
  },
  {
   "cell_type": "markdown",
   "metadata": {},
   "source": [
    "Print the data as it was loaded from the file:"
   ]
  },
  {
   "cell_type": "code",
   "execution_count": 11,
   "metadata": {},
   "outputs": [
    {
     "data": {
      "text/html": [
       "<table><thead><tr><th><i>index</i></th><th>Sex</th><th>Length</th><th>Diameter</th><th>Height</th><th>WholeWeight</th><th>ShuckedWeight</th><th>VisceraWeight</th><th>ShellWeight</th><th>Rings</th></tr></thead><tbody><tr><td>0</td><td>F</td><td>0.49</td><td>0.38</td><td>0.125</td><td>0.549</td><td>0.245</td><td>0.1075</td><td>0.174</td><td>10</td></tr><tr><td>1</td><td>M</td><td>0.685</td><td>0.52</td><td>0.15</td><td>1.343</td><td>0.4635</td><td>0.292</td><td>0.4</td><td>13</td></tr><tr><td>2</td><td>M</td><td>0.645</td><td>0.485</td><td>0.215</td><td>1.514</td><td>0.546</td><td>0.2615</td><td>0.635</td><td>16</td></tr></tbody></table>"
      ]
     },
     "execution_count": 11,
     "metadata": {},
     "output_type": "execute_result"
    }
   ],
   "source": [
    "ML.context.Data.CreateEnumerable<AbaloneData>(trainData, reuseRowObject = false)\n",
    "|> Seq.take 3"
   ]
  },
  {
   "cell_type": "markdown",
   "metadata": {},
   "source": [
    "Compare that to the data as transformed by the pipeline. First, we one-hot encoded the `Sex` column. Then we concatenated all of the feature columns into a single new vector column, `Features`. Lastly, we normalized the values and put them into a new vector column, `FeaturesNorm`. Notice that the first three values of `Features` are the one-hot encoded values of `Sex`."
   ]
  },
  {
   "cell_type": "code",
   "execution_count": 12,
   "metadata": {},
   "outputs": [
    {
     "data": {
      "text/html": [
       "<table><thead><tr><th><i>index</i></th><th>Rings</th><th>Features</th><th>FeaturesNorm</th></tr></thead><tbody><tr><td>0</td><td>10</td><td>[ 1, 0, 0, 0.49, 0.38, 0.125, 0.549, 0.245, 0.1075, 0.174 ]</td><td>[ 0.74465656, 0, 0, 0.36488172, 0.2829695, 0.09308207, 0.40881646, 0.18244086, 0.08005058, 0.12957023 ]</td></tr><tr><td>1</td><td>13</td><td>[ 0, 1, 0, 0.685, 0.52, 0.15, 1.343, 0.4635, 0.292, 0.4 ]</td><td>[ 0, 0.4983909, 0, 0.34139776, 0.25916326, 0.07475864, 0.669339, 0.23100418, 0.14553015, 0.19935636 ]</td></tr><tr><td>2</td><td>16</td><td>[ 0, 1, 0, 0.645, 0.485, 0.215, 1.514, 0.546, 0.2615, 0.635 ]</td><td>[ 0, 0.4583784, 0, 0.29565406, 0.22231354, 0.098551355, 0.6939849, 0.2502746, 0.119865954, 0.29107028 ]</td></tr></tbody></table>"
      ]
     },
     "execution_count": 12,
     "metadata": {},
     "output_type": "execute_result"
    }
   ],
   "source": [
    "[<CLIMutable>]\n",
    "type AbaloneDataTransformed =\n",
    "    {\n",
    "        [<ColumnName(\"Label\")>]\n",
    "        Rings : single\n",
    "\n",
    "        [<VectorType(10)>]\n",
    "        Features : single[]\n",
    "\n",
    "        [<VectorType(10)>]\n",
    "        FeaturesNorm : single[]\n",
    "    }\n",
    "\n",
    "ML.context.Data.CreateEnumerable<AbaloneDataTransformed>(transformedData, reuseRowObject = false)\n",
    "|> Seq.take 3"
   ]
  },
  {
   "cell_type": "markdown",
   "metadata": {},
   "source": [
    "Create an estimator:"
   ]
  },
  {
   "cell_type": "code",
   "execution_count": 14,
   "metadata": {},
   "outputs": [],
   "source": [
    "let estimator = \n",
    "    ML.context.Regression.Trainers.LbfgsPoissonRegression(featureColumnName = \"FeaturesNorm\")\n",
    "    |> ML.downcastEstimator"
   ]
  },
  {
   "cell_type": "markdown",
   "metadata": {},
   "source": [
    "Now, we use cross-validation to select the best performing model."
   ]
  },
  {
   "cell_type": "code",
   "execution_count": 15,
   "metadata": {},
   "outputs": [
    {
     "name": "stdout",
     "output_type": "stream",
     "text": [
      "------------------\n",
      "Cross Validation Metrics\n",
      "------------------\n",
      "Mean Absolute Error: 1.550251\n",
      "Mean Squared Error: 4.711480\n",
      "Root Mean Squared Error: 2.170481\n",
      "R-squared: 0.560272\n"
     ]
    }
   ],
   "source": [
    "let model =\n",
    "    trainData // Begin with the training data\n",
    "    |> ML.transform transformer // Transform using the transformer built above\n",
    "    |> ML.crossValidateRegression estimator 3 // 3-fold cross-validation\n",
    "    |> ML.printRegressionCvMetrics // Print cross-fold metrics\n",
    "    |> Seq.maxBy (fun cvResult -> cvResult.Metrics.RSquared) // Select the best model by R-squared\n",
    "    |> fun cvResult -> cvResult.Model"
   ]
  },
  {
   "cell_type": "markdown",
   "metadata": {},
   "source": [
    "Now we can evaluate our model against the test data."
   ]
  },
  {
   "cell_type": "code",
   "execution_count": 16,
   "metadata": {},
   "outputs": [
    {
     "name": "stdout",
     "output_type": "stream",
     "text": [
      "------------------\n",
      "Test Metrics\n",
      "------------------\n",
      "Mean Absolute Error: 1.477898\n",
      "Mean Squared Error: 4.036597\n",
      "Root Mean Squared Error: 2.009128\n",
      "R-squared: 0.552453\n"
     ]
    },
    {
     "data": {
      "text/html": [
       "<null>"
      ]
     },
     "execution_count": 16,
     "metadata": {},
     "output_type": "execute_result"
    }
   ],
   "source": [
    "model\n",
    "|> ML.transform <| ML.transform transformer testData // Transform the test data and get predictions\n",
    "|> ML.context.Regression.Evaluate // Get test metrics\n",
    "|> ML.printRegressionMetrics"
   ]
  },
  {
   "cell_type": "markdown",
   "metadata": {},
   "source": [
    "Now let's pretend we have new data (for convenience we are just randomly re-sampling the test data) to see what predictions our model makes. You will see two values:\n",
    "- `Label`: the actual number of rings from the example being predicted. Our model never sees this value but we show it below so that you can see how close the predicted number of rings are to the actual.\n",
    "- `Score`: the predicted number of rings made by the model. The closer this is to the Label, the more accurate is the prediction.\n",
    "\n",
    "You can run this cell multiple times to get new random samples and their predictions!"
   ]
  },
  {
   "cell_type": "code",
   "execution_count": 18,
   "metadata": {},
   "outputs": [
    {
     "data": {
      "text/html": [
       "<table><thead><tr><th><i>index</i></th><th>Label</th><th>Score</th></tr></thead><tbody><tr><td>0</td><td>11</td><td>8.895894</td></tr><tr><td>1</td><td>8</td><td>10.011565</td></tr><tr><td>2</td><td>7</td><td>6.0247774</td></tr><tr><td>3</td><td>9</td><td>7.9776998</td></tr><tr><td>4</td><td>11</td><td>10.351429</td></tr></tbody></table>"
      ]
     },
     "execution_count": 18,
     "metadata": {},
     "output_type": "execute_result"
    }
   ],
   "source": [
    "[<CLIMutable>]\n",
    "type RegressionPrediction = { Label : single; Score : single }\n",
    "\n",
    "// Show some sample predictions\n",
    "let sampleData =\n",
    "    testData\n",
    "    |> ML.shuffle \n",
    "    |> ML.transform transformer\n",
    "\n",
    "let predictionEngine = ML.context.Model.CreatePredictionEngine<AbaloneDataTransformed, RegressionPrediction>(model)\n",
    "\n",
    "ML.context.Data.CreateEnumerable<AbaloneDataTransformed>(sampleData, reuseRowObject = false)\n",
    "|> Seq.take 5\n",
    "|> Seq.map predictionEngine.Predict"
   ]
  },
  {
   "cell_type": "code",
   "execution_count": null,
   "metadata": {},
   "outputs": [],
   "source": []
  }
 ],
 "metadata": {
  "kernelspec": {
   "display_name": ".NET (F#)",
   "language": "F#",
   "name": ".net-fsharp"
  },
  "language_info": {
   "file_extension": ".fs",
   "mimetype": "text/x-fsharp",
   "name": "C#",
   "pygments_lexer": "fsharp",
   "version": "4.5"
  }
 },
 "nbformat": 4,
 "nbformat_minor": 4
}
