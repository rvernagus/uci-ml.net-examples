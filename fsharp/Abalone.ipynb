{
 "cells": [
  {
   "cell_type": "code",
   "execution_count": 1,
   "metadata": {},
   "outputs": [
    {
     "data": {
      "text/html": [
       "Installing package Microsoft.ML.failed!"
      ]
     },
     "metadata": {},
     "output_type": "display_data"
    },
    {
     "ename": "Unhandled exception",
     "evalue": "C:\\Users\\rwvernag\\Projects\\github\\uci-ml.net-examples\\fsharp\\Modules\\MLWrapper.fs (2,16)-(2,18) typecheck error The namespace 'ML' is not defined.\nC:\\Users\\rwvernag\\Projects\\github\\uci-ml.net-examples\\fsharp\\Modules\\MLWrapper.fs (3,16)-(3,18) typecheck error The namespace 'ML' is not defined.\nC:\\Users\\rwvernag\\Projects\\github\\uci-ml.net-examples\\fsharp\\Modules\\MLWrapper.fs (7,19)-(7,28) typecheck error The value or constructor 'MLContext' is not defined. Maybe you want one of the following:\r\n   AppContext\nC:\\Users\\rwvernag\\Projects\\github\\uci-ml.net-examples\\fsharp\\Modules\\MLWrapper.fs (9,25)-(9,39) typecheck error The type 'EstimatorChain' is not defined.\nC:\\Users\\rwvernag\\Projects\\github\\uci-ml.net-examples\\fsharp\\Modules\\MLWrapper.fs (10,9)-(10,32) typecheck error A unique overload for method 'Append' could not be determined based on type information prior to this program point. A type annotation may be needed. Candidates: (extension).Append<'TTag when 'TTag :> Tag>([<ParamArray>] contents: IHtmlContent []) : 'TTag, (extension).Append<'TTag when 'TTag :> Tag>([<ParamArray>] contents: IHtmlContent []) : 'TTag, (extension).Append<'TTag when 'TTag :> Tag>(content: IHtmlContent) : 'TTag\nC:\\Users\\rwvernag\\Projects\\github\\uci-ml.net-examples\\fsharp\\Modules\\MLWrapper.fs (13,9)-(13,39) typecheck error Lookup on object of indeterminate type based on information prior to this program point. A type annotation may be needed prior to this program point to constrain the type of the object. This may allow the lookup to be resolved.\nC:\\Users\\rwvernag\\Projects\\github\\uci-ml.net-examples\\fsharp\\Modules\\MLWrapper.fs (16,9)-(16,41) typecheck error Lookup on object of indeterminate type based on information prior to this program point. A type annotation may be needed prior to this program point to constrain the type of the object. This may allow the lookup to be resolved.\nC:\\Users\\rwvernag\\Projects\\github\\uci-ml.net-examples\\fsharp\\Modules\\MLWrapper.fs (19,9)-(19,51) typecheck error Lookup on object of indeterminate type based on information prior to this program point. A type annotation may be needed prior to this program point to constrain the type of the object. This may allow the lookup to be resolved.\nC:\\Users\\rwvernag\\Projects\\github\\uci-ml.net-examples\\fsharp\\Modules\\MLWrapper.fs (22,9)-(22,55) typecheck error Lookup on object of indeterminate type based on information prior to this program point. A type annotation may be needed prior to this program point to constrain the type of the object. This may allow the lookup to be resolved.\nC:\\Users\\rwvernag\\Projects\\github\\uci-ml.net-examples\\fsharp\\Modules\\MLWrapper.fs (24,32)-(24,42) typecheck error The type 'IEstimator' is not defined. Maybe you want one of the following:\r\n   IEnumerator\nC:\\Users\\rwvernag\\Projects\\github\\uci-ml.net-examples\\fsharp\\Modules\\MLWrapper.fs (26,14)-(26,24) typecheck error The type 'IEstimator' is not defined. Maybe you want one of the following:\r\n   IEnumerator\nC:\\Users\\rwvernag\\Projects\\github\\uci-ml.net-examples\\fsharp\\Modules\\MLWrapper.fs (26,11)-(26,38) typecheck error This runtime coercion or type test from type\n    'a    \n to \n    'b    \ninvolves an indeterminate type based on information prior to this program point. Runtime type tests are not allowed on some types. Further type annotations are needed.\nC:\\Users\\rwvernag\\Projects\\github\\uci-ml.net-examples\\fsharp\\Modules\\MLWrapper.fs (29,27)-(29,39) typecheck error The type 'ITransformer' is not defined.\nC:\\Users\\rwvernag\\Projects\\github\\uci-ml.net-examples\\fsharp\\Modules\\MLWrapper.fs (29,83)-(29,97) typecheck error The type 'EstimatorChain' is not defined.\nC:\\Users\\rwvernag\\Projects\\github\\uci-ml.net-examples\\fsharp\\Modules\\MLWrapper.fs (30,9)-(30,21) typecheck error Lookup on object of indeterminate type based on information prior to this program point. A type annotation may be needed prior to this program point to constrain the type of the object. This may allow the lookup to be resolved.\nC:\\Users\\rwvernag\\Projects\\github\\uci-ml.net-examples\\fsharp\\Modules\\MLWrapper.fs (33,9)-(33,47) typecheck error Lookup on object of indeterminate type based on information prior to this program point. A type annotation may be needed prior to this program point to constrain the type of the object. This may allow the lookup to be resolved.\nC:\\Users\\rwvernag\\Projects\\github\\uci-ml.net-examples\\fsharp\\Modules\\MLWrapper.fs (36,9)-(36,52) typecheck error Lookup on object of indeterminate type based on information prior to this program point. A type annotation may be needed prior to this program point to constrain the type of the object. This may allow the lookup to be resolved.\nC:\\Users\\rwvernag\\Projects\\github\\uci-ml.net-examples\\fsharp\\Modules\\MLWrapper.fs (39,9)-(39,52) typecheck error Lookup on object of indeterminate type based on information prior to this program point. A type annotation may be needed prior to this program point to constrain the type of the object. This may allow the lookup to be resolved.\nC:\\Users\\rwvernag\\Projects\\github\\uci-ml.net-examples\\fsharp\\Modules\\MLWrapper.fs (42,9)-(42,43) typecheck error Lookup on object of indeterminate type based on information prior to this program point. A type annotation may be needed prior to this program point to constrain the type of the object. This may allow the lookup to be resolved.\nC:\\Users\\rwvernag\\Projects\\github\\uci-ml.net-examples\\fsharp\\Modules\\MLWrapper.fs (45,9)-(45,43) typecheck error Lookup on object of indeterminate type based on information prior to this program point. A type annotation may be needed prior to this program point to constrain the type of the object. This may allow the lookup to be resolved.\nC:\\Users\\rwvernag\\Projects\\github\\uci-ml.net-examples\\fsharp\\Modules\\MLWrapper.fs (48,9)-(48,54) typecheck error Lookup on object of indeterminate type based on information prior to this program point. A type annotation may be needed prior to this program point to constrain the type of the object. This may allow the lookup to be resolved.\nC:\\Users\\rwvernag\\Projects\\github\\uci-ml.net-examples\\fsharp\\Modules\\MLWrapper.fs (51,9)-(51,33) typecheck error Lookup on object of indeterminate type based on information prior to this program point. A type annotation may be needed prior to this program point to constrain the type of the object. This may allow the lookup to be resolved.\nC:\\Users\\rwvernag\\Projects\\github\\uci-ml.net-examples\\fsharp\\Modules\\MLWrapper.fs (54,25)-(54,52) typecheck error Lookup on object of indeterminate type based on information prior to this program point. A type annotation may be needed prior to this program point to constrain the type of the object. This may allow the lookup to be resolved.\nC:\\Users\\rwvernag\\Projects\\github\\uci-ml.net-examples\\fsharp\\Modules\\MLWrapper.fs (55,9)-(55,27) typecheck error Lookup on object of indeterminate type based on information prior to this program point. A type annotation may be needed prior to this program point to constrain the type of the object. This may allow the lookup to be resolved.\nC:\\Users\\rwvernag\\Projects\\github\\uci-ml.net-examples\\fsharp\\Modules\\MLWrapper.fs (55,29)-(55,46) typecheck error Lookup on object of indeterminate type based on information prior to this program point. A type annotation may be needed prior to this program point to constrain the type of the object. This may allow the lookup to be resolved.\nC:\\Users\\rwvernag\\Projects\\github\\uci-ml.net-examples\\fsharp\\Modules\\MLWrapper.fs (57,34)-(57,46) typecheck error The type 'ITransformer' is not defined.\nC:\\Users\\rwvernag\\Projects\\github\\uci-ml.net-examples\\fsharp\\Modules\\MLWrapper.fs (58,9)-(58,30) typecheck error Lookup on object of indeterminate type based on information prior to this program point. A type annotation may be needed prior to this program point to constrain the type of the object. This may allow the lookup to be resolved.\nC:\\Users\\rwvernag\\Projects\\github\\uci-ml.net-examples\\fsharp\\Modules\\MLWrapper.fs (60,43)-(60,60) typecheck error The type 'RegressionMetrics' is not defined.\nC:\\Users\\rwvernag\\Projects\\github\\uci-ml.net-examples\\fsharp\\Modules\\MLWrapper.fs (62,43)-(62,68) typecheck error Lookup on object of indeterminate type based on information prior to this program point. A type annotation may be needed prior to this program point to constrain the type of the object. This may allow the lookup to be resolved.\nC:\\Users\\rwvernag\\Projects\\github\\uci-ml.net-examples\\fsharp\\Modules\\MLWrapper.fs (63,42)-(63,66) typecheck error Lookup on object of indeterminate type based on information prior to this program point. A type annotation may be needed prior to this program point to constrain the type of the object. This may allow the lookup to be resolved.\nC:\\Users\\rwvernag\\Projects\\github\\uci-ml.net-examples\\fsharp\\Modules\\MLWrapper.fs (64,47)-(64,75) typecheck error Lookup on object of indeterminate type based on information prior to this program point. A type annotation may be needed prior to this program point to constrain the type of the object. This may allow the lookup to be resolved.\nC:\\Users\\rwvernag\\Projects\\github\\uci-ml.net-examples\\fsharp\\Modules\\MLWrapper.fs (65,33)-(65,49) typecheck error Lookup on object of indeterminate type based on information prior to this program point. A type annotation may be needed prior to this program point to constrain the type of the object. This may allow the lookup to be resolved.\nC:\\Users\\rwvernag\\Projects\\github\\uci-ml.net-examples\\fsharp\\Modules\\MLWrapper.fs (67,53)-(67,90) typecheck error The type 'CalibratedBinaryClassificationMetrics' is not defined.\nC:\\Users\\rwvernag\\Projects\\github\\uci-ml.net-examples\\fsharp\\Modules\\MLWrapper.fs (69,32)-(69,48) typecheck error Lookup on object of indeterminate type based on information prior to this program point. A type annotation may be needed prior to this program point to constrain the type of the object. This may allow the lookup to be resolved.\nC:\\Users\\rwvernag\\Projects\\github\\uci-ml.net-examples\\fsharp\\Modules\\MLWrapper.fs (70,32)-(70,47) typecheck error Lookup on object of indeterminate type based on information prior to this program point. A type annotation may be needed prior to this program point to constrain the type of the object. This may allow the lookup to be resolved.\nC:\\Users\\rwvernag\\Projects\\github\\uci-ml.net-examples\\fsharp\\Modules\\MLWrapper.fs (71,44)-(71,69) typecheck error Lookup on object of indeterminate type based on information prior to this program point. A type annotation may be needed prior to this program point to constrain the type of the object. This may allow the lookup to be resolved.\nC:\\Users\\rwvernag\\Projects\\github\\uci-ml.net-examples\\fsharp\\Modules\\MLWrapper.fs (72,32)-(72,47) typecheck error Lookup on object of indeterminate type based on information prior to this program point. A type annotation may be needed prior to this program point to constrain the type of the object. This may allow the lookup to be resolved.\nC:\\Users\\rwvernag\\Projects\\github\\uci-ml.net-examples\\fsharp\\Modules\\MLWrapper.fs (74,57)-(74,88) typecheck error The type 'MulticlassClassificationMetrics' is not defined. Maybe you want one of the following:\r\n   MulticastNotSupportedException\nC:\\Users\\rwvernag\\Projects\\github\\uci-ml.net-examples\\fsharp\\Modules\\MLWrapper.fs (76,32)-(76,53) typecheck error Lookup on object of indeterminate type based on information prior to this program point. A type annotation may be needed prior to this program point to constrain the type of the object. This may allow the lookup to be resolved.\nC:\\Users\\rwvernag\\Projects\\github\\uci-ml.net-examples\\fsharp\\Modules\\MLWrapper.fs (77,32)-(77,47) typecheck error Lookup on object of indeterminate type based on information prior to this program point. A type annotation may be needed prior to this program point to constrain the type of the object. This may allow the lookup to be resolved.\nC:\\Users\\rwvernag\\Projects\\github\\uci-ml.net-examples\\fsharp\\Modules\\MLWrapper.fs (79,25)-(79,75) typecheck error Lookup on object of indeterminate type based on information prior to this program point. A type annotation may be needed prior to this program point to constrain the type of the object. This may allow the lookup to be resolved.\nC:\\Users\\rwvernag\\Projects\\github\\uci-ml.net-examples\\fsharp\\Modules\\MLWrapper.fs (81,47)-(81,63) typecheck error The namespace or module 'TrainCatalogBase' is not defined.\nC:\\Users\\rwvernag\\Projects\\github\\uci-ml.net-examples\\fsharp\\Modules\\MLWrapper.fs (84,37)-(84,71) typecheck error Lookup on object of indeterminate type based on information prior to this program point. A type annotation may be needed prior to this program point to constrain the type of the object. This may allow the lookup to be resolved.\nC:\\Users\\rwvernag\\Projects\\github\\uci-ml.net-examples\\fsharp\\Modules\\MLWrapper.fs (87,37)-(87,70) typecheck error Lookup on object of indeterminate type based on information prior to this program point. A type annotation may be needed prior to this program point to constrain the type of the object. This may allow the lookup to be resolved.\nC:\\Users\\rwvernag\\Projects\\github\\uci-ml.net-examples\\fsharp\\Modules\\MLWrapper.fs (90,37)-(90,74) typecheck error Lookup on object of indeterminate type based on information prior to this program point. A type annotation may be needed prior to this program point to constrain the type of the object. This may allow the lookup to be resolved.\nC:\\Users\\rwvernag\\Projects\\github\\uci-ml.net-examples\\fsharp\\Modules\\MLWrapper.fs (93,37)-(93,62) typecheck error Lookup on object of indeterminate type based on information prior to this program point. A type annotation may be needed prior to this program point to constrain the type of the object. This may allow the lookup to be resolved.\nC:\\Users\\rwvernag\\Projects\\github\\uci-ml.net-examples\\fsharp\\Modules\\MLWrapper.fs (99,56)-(99,72) typecheck error The namespace or module 'TrainCatalogBase' is not defined.\nC:\\Users\\rwvernag\\Projects\\github\\uci-ml.net-examples\\fsharp\\Modules\\MLWrapper.fs (102,37)-(102,62) typecheck error Lookup on object of indeterminate type based on information prior to this program point. A type annotation may be needed prior to this program point to constrain the type of the object. This may allow the lookup to be resolved.\nC:\\Users\\rwvernag\\Projects\\github\\uci-ml.net-examples\\fsharp\\Modules\\MLWrapper.fs (105,37)-(105,71) typecheck error Lookup on object of indeterminate type based on information prior to this program point. A type annotation may be needed prior to this program point to constrain the type of the object. This may allow the lookup to be resolved.\nC:\\Users\\rwvernag\\Projects\\github\\uci-ml.net-examples\\fsharp\\Modules\\MLWrapper.fs (108,37)-(108,61) typecheck error Lookup on object of indeterminate type based on information prior to this program point. A type annotation may be needed prior to this program point to constrain the type of the object. This may allow the lookup to be resolved.\nC:\\Users\\rwvernag\\Projects\\github\\uci-ml.net-examples\\fsharp\\Modules\\MLWrapper.fs (114,59)-(114,75) typecheck error The namespace or module 'TrainCatalogBase' is not defined.\nC:\\Users\\rwvernag\\Projects\\github\\uci-ml.net-examples\\fsharp\\Modules\\MLWrapper.fs (117,37)-(117,67) typecheck error Lookup on object of indeterminate type based on information prior to this program point. A type annotation may be needed prior to this program point to constrain the type of the object. This may allow the lookup to be resolved.\nC:\\Users\\rwvernag\\Projects\\github\\uci-ml.net-examples\\fsharp\\Modules\\MLWrapper.fs (120,37)-(120,61) typecheck error Lookup on object of indeterminate type based on information prior to this program point. A type annotation may be needed prior to this program point to constrain the type of the object. This may allow the lookup to be resolved.",
     "output_type": "error",
     "traceback": [
      "C:\\Users\\rwvernag\\Projects\\github\\uci-ml.net-examples\\fsharp\\Modules\\MLWrapper.fs (2,16)-(2,18) typecheck error The namespace 'ML' is not defined.\nC:\\Users\\rwvernag\\Projects\\github\\uci-ml.net-examples\\fsharp\\Modules\\MLWrapper.fs (3,16)-(3,18) typecheck error The namespace 'ML' is not defined.\nC:\\Users\\rwvernag\\Projects\\github\\uci-ml.net-examples\\fsharp\\Modules\\MLWrapper.fs (7,19)-(7,28) typecheck error The value or constructor 'MLContext' is not defined. Maybe you want one of the following:\r\n   AppContext\nC:\\Users\\rwvernag\\Projects\\github\\uci-ml.net-examples\\fsharp\\Modules\\MLWrapper.fs (9,25)-(9,39) typecheck error The type 'EstimatorChain' is not defined.\nC:\\Users\\rwvernag\\Projects\\github\\uci-ml.net-examples\\fsharp\\Modules\\MLWrapper.fs (10,9)-(10,32) typecheck error A unique overload for method 'Append' could not be determined based on type information prior to this program point. A type annotation may be needed. Candidates: (extension).Append<'TTag when 'TTag :> Tag>([<ParamArray>] contents: IHtmlContent []) : 'TTag, (extension).Append<'TTag when 'TTag :> Tag>([<ParamArray>] contents: IHtmlContent []) : 'TTag, (extension).Append<'TTag when 'TTag :> Tag>(content: IHtmlContent) : 'TTag\nC:\\Users\\rwvernag\\Projects\\github\\uci-ml.net-examples\\fsharp\\Modules\\MLWrapper.fs (13,9)-(13,39) typecheck error Lookup on object of indeterminate type based on information prior to this program point. A type annotation may be needed prior to this program point to constrain the type of the object. This may allow the lookup to be resolved.\nC:\\Users\\rwvernag\\Projects\\github\\uci-ml.net-examples\\fsharp\\Modules\\MLWrapper.fs (16,9)-(16,41) typecheck error Lookup on object of indeterminate type based on information prior to this program point. A type annotation may be needed prior to this program point to constrain the type of the object. This may allow the lookup to be resolved.\nC:\\Users\\rwvernag\\Projects\\github\\uci-ml.net-examples\\fsharp\\Modules\\MLWrapper.fs (19,9)-(19,51) typecheck error Lookup on object of indeterminate type based on information prior to this program point. A type annotation may be needed prior to this program point to constrain the type of the object. This may allow the lookup to be resolved.\nC:\\Users\\rwvernag\\Projects\\github\\uci-ml.net-examples\\fsharp\\Modules\\MLWrapper.fs (22,9)-(22,55) typecheck error Lookup on object of indeterminate type based on information prior to this program point. A type annotation may be needed prior to this program point to constrain the type of the object. This may allow the lookup to be resolved.\nC:\\Users\\rwvernag\\Projects\\github\\uci-ml.net-examples\\fsharp\\Modules\\MLWrapper.fs (24,32)-(24,42) typecheck error The type 'IEstimator' is not defined. Maybe you want one of the following:\r\n   IEnumerator\nC:\\Users\\rwvernag\\Projects\\github\\uci-ml.net-examples\\fsharp\\Modules\\MLWrapper.fs (26,14)-(26,24) typecheck error The type 'IEstimator' is not defined. Maybe you want one of the following:\r\n   IEnumerator\nC:\\Users\\rwvernag\\Projects\\github\\uci-ml.net-examples\\fsharp\\Modules\\MLWrapper.fs (26,11)-(26,38) typecheck error This runtime coercion or type test from type\n    'a    \n to \n    'b    \ninvolves an indeterminate type based on information prior to this program point. Runtime type tests are not allowed on some types. Further type annotations are needed.\nC:\\Users\\rwvernag\\Projects\\github\\uci-ml.net-examples\\fsharp\\Modules\\MLWrapper.fs (29,27)-(29,39) typecheck error The type 'ITransformer' is not defined.\nC:\\Users\\rwvernag\\Projects\\github\\uci-ml.net-examples\\fsharp\\Modules\\MLWrapper.fs (29,83)-(29,97) typecheck error The type 'EstimatorChain' is not defined.\nC:\\Users\\rwvernag\\Projects\\github\\uci-ml.net-examples\\fsharp\\Modules\\MLWrapper.fs (30,9)-(30,21) typecheck error Lookup on object of indeterminate type based on information prior to this program point. A type annotation may be needed prior to this program point to constrain the type of the object. This may allow the lookup to be resolved.\nC:\\Users\\rwvernag\\Projects\\github\\uci-ml.net-examples\\fsharp\\Modules\\MLWrapper.fs (33,9)-(33,47) typecheck error Lookup on object of indeterminate type based on information prior to this program point. A type annotation may be needed prior to this program point to constrain the type of the object. This may allow the lookup to be resolved.\nC:\\Users\\rwvernag\\Projects\\github\\uci-ml.net-examples\\fsharp\\Modules\\MLWrapper.fs (36,9)-(36,52) typecheck error Lookup on object of indeterminate type based on information prior to this program point. A type annotation may be needed prior to this program point to constrain the type of the object. This may allow the lookup to be resolved.\nC:\\Users\\rwvernag\\Projects\\github\\uci-ml.net-examples\\fsharp\\Modules\\MLWrapper.fs (39,9)-(39,52) typecheck error Lookup on object of indeterminate type based on information prior to this program point. A type annotation may be needed prior to this program point to constrain the type of the object. This may allow the lookup to be resolved.\nC:\\Users\\rwvernag\\Projects\\github\\uci-ml.net-examples\\fsharp\\Modules\\MLWrapper.fs (42,9)-(42,43) typecheck error Lookup on object of indeterminate type based on information prior to this program point. A type annotation may be needed prior to this program point to constrain the type of the object. This may allow the lookup to be resolved.\nC:\\Users\\rwvernag\\Projects\\github\\uci-ml.net-examples\\fsharp\\Modules\\MLWrapper.fs (45,9)-(45,43) typecheck error Lookup on object of indeterminate type based on information prior to this program point. A type annotation may be needed prior to this program point to constrain the type of the object. This may allow the lookup to be resolved.\nC:\\Users\\rwvernag\\Projects\\github\\uci-ml.net-examples\\fsharp\\Modules\\MLWrapper.fs (48,9)-(48,54) typecheck error Lookup on object of indeterminate type based on information prior to this program point. A type annotation may be needed prior to this program point to constrain the type of the object. This may allow the lookup to be resolved.\nC:\\Users\\rwvernag\\Projects\\github\\uci-ml.net-examples\\fsharp\\Modules\\MLWrapper.fs (51,9)-(51,33) typecheck error Lookup on object of indeterminate type based on information prior to this program point. A type annotation may be needed prior to this program point to constrain the type of the object. This may allow the lookup to be resolved.\nC:\\Users\\rwvernag\\Projects\\github\\uci-ml.net-examples\\fsharp\\Modules\\MLWrapper.fs (54,25)-(54,52) typecheck error Lookup on object of indeterminate type based on information prior to this program point. A type annotation may be needed prior to this program point to constrain the type of the object. This may allow the lookup to be resolved.\nC:\\Users\\rwvernag\\Projects\\github\\uci-ml.net-examples\\fsharp\\Modules\\MLWrapper.fs (55,9)-(55,27) typecheck error Lookup on object of indeterminate type based on information prior to this program point. A type annotation may be needed prior to this program point to constrain the type of the object. This may allow the lookup to be resolved.\nC:\\Users\\rwvernag\\Projects\\github\\uci-ml.net-examples\\fsharp\\Modules\\MLWrapper.fs (55,29)-(55,46) typecheck error Lookup on object of indeterminate type based on information prior to this program point. A type annotation may be needed prior to this program point to constrain the type of the object. This may allow the lookup to be resolved.\nC:\\Users\\rwvernag\\Projects\\github\\uci-ml.net-examples\\fsharp\\Modules\\MLWrapper.fs (57,34)-(57,46) typecheck error The type 'ITransformer' is not defined.\nC:\\Users\\rwvernag\\Projects\\github\\uci-ml.net-examples\\fsharp\\Modules\\MLWrapper.fs (58,9)-(58,30) typecheck error Lookup on object of indeterminate type based on information prior to this program point. A type annotation may be needed prior to this program point to constrain the type of the object. This may allow the lookup to be resolved.\nC:\\Users\\rwvernag\\Projects\\github\\uci-ml.net-examples\\fsharp\\Modules\\MLWrapper.fs (60,43)-(60,60) typecheck error The type 'RegressionMetrics' is not defined.\nC:\\Users\\rwvernag\\Projects\\github\\uci-ml.net-examples\\fsharp\\Modules\\MLWrapper.fs (62,43)-(62,68) typecheck error Lookup on object of indeterminate type based on information prior to this program point. A type annotation may be needed prior to this program point to constrain the type of the object. This may allow the lookup to be resolved.\nC:\\Users\\rwvernag\\Projects\\github\\uci-ml.net-examples\\fsharp\\Modules\\MLWrapper.fs (63,42)-(63,66) typecheck error Lookup on object of indeterminate type based on information prior to this program point. A type annotation may be needed prior to this program point to constrain the type of the object. This may allow the lookup to be resolved.\nC:\\Users\\rwvernag\\Projects\\github\\uci-ml.net-examples\\fsharp\\Modules\\MLWrapper.fs (64,47)-(64,75) typecheck error Lookup on object of indeterminate type based on information prior to this program point. A type annotation may be needed prior to this program point to constrain the type of the object. This may allow the lookup to be resolved.\nC:\\Users\\rwvernag\\Projects\\github\\uci-ml.net-examples\\fsharp\\Modules\\MLWrapper.fs (65,33)-(65,49) typecheck error Lookup on object of indeterminate type based on information prior to this program point. A type annotation may be needed prior to this program point to constrain the type of the object. This may allow the lookup to be resolved.\nC:\\Users\\rwvernag\\Projects\\github\\uci-ml.net-examples\\fsharp\\Modules\\MLWrapper.fs (67,53)-(67,90) typecheck error The type 'CalibratedBinaryClassificationMetrics' is not defined.\nC:\\Users\\rwvernag\\Projects\\github\\uci-ml.net-examples\\fsharp\\Modules\\MLWrapper.fs (69,32)-(69,48) typecheck error Lookup on object of indeterminate type based on information prior to this program point. A type annotation may be needed prior to this program point to constrain the type of the object. This may allow the lookup to be resolved.\nC:\\Users\\rwvernag\\Projects\\github\\uci-ml.net-examples\\fsharp\\Modules\\MLWrapper.fs (70,32)-(70,47) typecheck error Lookup on object of indeterminate type based on information prior to this program point. A type annotation may be needed prior to this program point to constrain the type of the object. This may allow the lookup to be resolved.\nC:\\Users\\rwvernag\\Projects\\github\\uci-ml.net-examples\\fsharp\\Modules\\MLWrapper.fs (71,44)-(71,69) typecheck error Lookup on object of indeterminate type based on information prior to this program point. A type annotation may be needed prior to this program point to constrain the type of the object. This may allow the lookup to be resolved.\nC:\\Users\\rwvernag\\Projects\\github\\uci-ml.net-examples\\fsharp\\Modules\\MLWrapper.fs (72,32)-(72,47) typecheck error Lookup on object of indeterminate type based on information prior to this program point. A type annotation may be needed prior to this program point to constrain the type of the object. This may allow the lookup to be resolved.\nC:\\Users\\rwvernag\\Projects\\github\\uci-ml.net-examples\\fsharp\\Modules\\MLWrapper.fs (74,57)-(74,88) typecheck error The type 'MulticlassClassificationMetrics' is not defined. Maybe you want one of the following:\r\n   MulticastNotSupportedException\nC:\\Users\\rwvernag\\Projects\\github\\uci-ml.net-examples\\fsharp\\Modules\\MLWrapper.fs (76,32)-(76,53) typecheck error Lookup on object of indeterminate type based on information prior to this program point. A type annotation may be needed prior to this program point to constrain the type of the object. This may allow the lookup to be resolved.\nC:\\Users\\rwvernag\\Projects\\github\\uci-ml.net-examples\\fsharp\\Modules\\MLWrapper.fs (77,32)-(77,47) typecheck error Lookup on object of indeterminate type based on information prior to this program point. A type annotation may be needed prior to this program point to constrain the type of the object. This may allow the lookup to be resolved.\nC:\\Users\\rwvernag\\Projects\\github\\uci-ml.net-examples\\fsharp\\Modules\\MLWrapper.fs (79,25)-(79,75) typecheck error Lookup on object of indeterminate type based on information prior to this program point. A type annotation may be needed prior to this program point to constrain the type of the object. This may allow the lookup to be resolved.\nC:\\Users\\rwvernag\\Projects\\github\\uci-ml.net-examples\\fsharp\\Modules\\MLWrapper.fs (81,47)-(81,63) typecheck error The namespace or module 'TrainCatalogBase' is not defined.\nC:\\Users\\rwvernag\\Projects\\github\\uci-ml.net-examples\\fsharp\\Modules\\MLWrapper.fs (84,37)-(84,71) typecheck error Lookup on object of indeterminate type based on information prior to this program point. A type annotation may be needed prior to this program point to constrain the type of the object. This may allow the lookup to be resolved.\nC:\\Users\\rwvernag\\Projects\\github\\uci-ml.net-examples\\fsharp\\Modules\\MLWrapper.fs (87,37)-(87,70) typecheck error Lookup on object of indeterminate type based on information prior to this program point. A type annotation may be needed prior to this program point to constrain the type of the object. This may allow the lookup to be resolved.\nC:\\Users\\rwvernag\\Projects\\github\\uci-ml.net-examples\\fsharp\\Modules\\MLWrapper.fs (90,37)-(90,74) typecheck error Lookup on object of indeterminate type based on information prior to this program point. A type annotation may be needed prior to this program point to constrain the type of the object. This may allow the lookup to be resolved.\nC:\\Users\\rwvernag\\Projects\\github\\uci-ml.net-examples\\fsharp\\Modules\\MLWrapper.fs (93,37)-(93,62) typecheck error Lookup on object of indeterminate type based on information prior to this program point. A type annotation may be needed prior to this program point to constrain the type of the object. This may allow the lookup to be resolved.\nC:\\Users\\rwvernag\\Projects\\github\\uci-ml.net-examples\\fsharp\\Modules\\MLWrapper.fs (99,56)-(99,72) typecheck error The namespace or module 'TrainCatalogBase' is not defined.\nC:\\Users\\rwvernag\\Projects\\github\\uci-ml.net-examples\\fsharp\\Modules\\MLWrapper.fs (102,37)-(102,62) typecheck error Lookup on object of indeterminate type based on information prior to this program point. A type annotation may be needed prior to this program point to constrain the type of the object. This may allow the lookup to be resolved.\nC:\\Users\\rwvernag\\Projects\\github\\uci-ml.net-examples\\fsharp\\Modules\\MLWrapper.fs (105,37)-(105,71) typecheck error Lookup on object of indeterminate type based on information prior to this program point. A type annotation may be needed prior to this program point to constrain the type of the object. This may allow the lookup to be resolved.\nC:\\Users\\rwvernag\\Projects\\github\\uci-ml.net-examples\\fsharp\\Modules\\MLWrapper.fs (108,37)-(108,61) typecheck error Lookup on object of indeterminate type based on information prior to this program point. A type annotation may be needed prior to this program point to constrain the type of the object. This may allow the lookup to be resolved.\nC:\\Users\\rwvernag\\Projects\\github\\uci-ml.net-examples\\fsharp\\Modules\\MLWrapper.fs (114,59)-(114,75) typecheck error The namespace or module 'TrainCatalogBase' is not defined.\nC:\\Users\\rwvernag\\Projects\\github\\uci-ml.net-examples\\fsharp\\Modules\\MLWrapper.fs (117,37)-(117,67) typecheck error Lookup on object of indeterminate type based on information prior to this program point. A type annotation may be needed prior to this program point to constrain the type of the object. This may allow the lookup to be resolved.\nC:\\Users\\rwvernag\\Projects\\github\\uci-ml.net-examples\\fsharp\\Modules\\MLWrapper.fs (120,37)-(120,61) typecheck error Lookup on object of indeterminate type based on information prior to this program point. A type annotation may be needed prior to this program point to constrain the type of the object. This may allow the lookup to be resolved."
     ]
    }
   ],
   "source": [
    "#r \"nuget: Microsoft.ML\"\n",
    "#load \"./Modules/MLWrapper.fs\"\n",
    "open Microsoft.ML\n",
    "open Microsoft.ML.Data\n",
    "open System.IO\n",
    "open System.Net\n",
    "open FunctionalMl"
   ]
  },
  {
   "cell_type": "code",
   "execution_count": 2,
   "metadata": {},
   "outputs": [
    {
     "ename": "Unhandled exception",
     "evalue": "input.fsx (1,11)-(1,15) typecheck error The value, namespace, type or module 'File' is not defined. Maybe you want one of the following:\r\n   Failure\ninput.fsx (2,22)-(2,31) typecheck error The type 'WebClient' is not defined.\ninput.fsx (3,5)-(3,24) typecheck error Lookup on object of indeterminate type based on information prior to this program point. A type annotation may be needed prior to this program point to constrain the type of the object. This may allow the lookup to be resolved.\ninput.fsx (5,1)-(5,5) typecheck error The value, namespace, type or module 'File' is not defined. Maybe you want one of the following:\r\n   Failure",
     "output_type": "error",
     "traceback": [
      "input.fsx (1,11)-(1,15) typecheck error The value, namespace, type or module 'File' is not defined. Maybe you want one of the following:\r\n   Failure\ninput.fsx (2,22)-(2,31) typecheck error The type 'WebClient' is not defined.\ninput.fsx (3,5)-(3,24) typecheck error Lookup on object of indeterminate type based on information prior to this program point. A type annotation may be needed prior to this program point to constrain the type of the object. This may allow the lookup to be resolved.\ninput.fsx (5,1)-(5,5) typecheck error The value, namespace, type or module 'File' is not defined. Maybe you want one of the following:\r\n   Failure"
     ]
    }
   ],
   "source": [
    "if not <| File.Exists(\"abalone.data\") then\n",
    "    use client = new WebClient()\n",
    "    client.DownloadFile(\"http://archive.ics.uci.edu/ml/machine-learning-databases/abalone/abalone.data\", \"abalone.data\")\n",
    "\n",
    "File.ReadLines(\"abalone.data\")\n",
    "|> Seq.take 5"
   ]
  },
  {
   "cell_type": "code",
   "execution_count": 22,
   "metadata": {},
   "outputs": [],
   "source": [
    "[<CLIMutable>]\n",
    "type AbaloneData =\n",
    "    {\n",
    "        [<LoadColumn(0)>]\n",
    "        Sex : string\n",
    "\n",
    "        [<LoadColumn(1)>]\n",
    "        Length : float32\n",
    "\n",
    "        [<LoadColumn(2)>]\n",
    "        Diameter : float32\n",
    "\n",
    "        [<LoadColumn(3)>]\n",
    "        Height : float32\n",
    "\n",
    "        [<LoadColumn(4)>]\n",
    "        WholeWeight : float32\n",
    "\n",
    "        [<LoadColumn(5)>]\n",
    "        ShuckedWeight : float32\n",
    "\n",
    "        [<LoadColumn(6)>]\n",
    "        VisceraWeight : float32\n",
    "\n",
    "        [<LoadColumn(7)>]\n",
    "        ShellWeight : float32\n",
    "\n",
    "        [<LoadColumn(8)>]\n",
    "        [<ColumnName(\"Label\")>]\n",
    "        Rings : single\n",
    "    }\n",
    "\n",
    "let allData = ML.context.Data.LoadFromTextFile<AbaloneData>(\"abalone.data\", hasHeader = false, separatorChar = ',')"
   ]
  },
  {
   "cell_type": "code",
   "execution_count": 24,
   "metadata": {},
   "outputs": [],
   "source": [
    "let trainData, testData =\n",
    "    ML.shuffle allData\n",
    "    |> ML.split 0.2"
   ]
  },
  {
   "cell_type": "code",
   "execution_count": 25,
   "metadata": {},
   "outputs": [],
   "source": [
    "let featureColumns = [| \"Sex\"; \"Length\"; \"Diameter\"; \"Height\"; \"WholeWeight\"; \"ShuckedWeight\"; \"VisceraWeight\"; \"ShellWeight\" |]"
   ]
  },
  {
   "cell_type": "code",
   "execution_count": 26,
   "metadata": {},
   "outputs": [],
   "source": [
    "let pipeline = \n",
    "    EstimatorChain()\n",
    "    |> ML.append <| ML.onehot \"Sex\" // one-hot encode the Sex feature\n",
    "    |> ML.append <| ML.concatenate \"Features\" featureColumns // Concatenate feature columns into a single new column\n",
    "    |> ML.append <| ML.normalizeLp \"Features\" \"FeaturesNorm\" // Normalize features into a new column, FeaturesNorm"
   ]
  },
  {
   "cell_type": "code",
   "execution_count": 27,
   "metadata": {},
   "outputs": [],
   "source": [
    "let transformer =\n",
    "    pipeline\n",
    "    |> ML.fit trainData // Fit our pipeline on the training data"
   ]
  },
  {
   "cell_type": "code",
   "execution_count": 29,
   "metadata": {},
   "outputs": [],
   "source": [
    "let transformedData =\n",
    "    trainData\n",
    "    |> ml.Transform transformer"
   ]
  },
  {
   "cell_type": "markdown",
   "metadata": {},
   "source": [
    "Print the data as it was loaded from the file:"
   ]
  },
  {
   "cell_type": "code",
   "execution_count": 31,
   "metadata": {},
   "outputs": [
    {
     "data": {
      "text/html": [
       "<table><thead><tr><th><i>index</i></th><th>Sex</th><th>Length</th><th>Diameter</th><th>Height</th><th>WholeWeight</th><th>ShuckedWeight</th><th>VisceraWeight</th><th>ShellWeight</th><th>Rings</th></tr></thead><tbody><tr><td>0</td><td>I</td><td>0.4</td><td>0.3</td><td>0.11</td><td>0.315</td><td>0.109</td><td>0.067</td><td>0.12</td><td>9</td></tr><tr><td>1</td><td>I</td><td>0.325</td><td>0.25</td><td>0.08</td><td>0.1735</td><td>0.0765</td><td>0.0345</td><td>0.049</td><td>7</td></tr><tr><td>2</td><td>F</td><td>0.46</td><td>0.355</td><td>0.13</td><td>0.517</td><td>0.2205</td><td>0.114</td><td>0.165</td><td>9</td></tr></tbody></table>"
      ]
     },
     "execution_count": 31,
     "metadata": {},
     "output_type": "execute_result"
    }
   ],
   "source": [
    "ML.context.Data.CreateEnumerable<AbaloneData>(trainData, reuseRowObject = false)\n",
    "|> Seq.take 3"
   ]
  },
  {
   "cell_type": "markdown",
   "metadata": {},
   "source": [
    "Compare that to the data as transformed by the pipeline. First, we one-hot encoded the `Sex` column. Then we concatenated all of the feature columns into a single new vector column, `Features`. Lastly, we normalized the values and put them into a new vector column, `FeaturesNorm`. Notice that the first three values of `Features` are the one-hot encoded values of `Sex`."
   ]
  },
  {
   "cell_type": "code",
   "execution_count": 36,
   "metadata": {},
   "outputs": [
    {
     "data": {
      "text/html": [
       "<table><thead><tr><th><i>index</i></th><th>Rings</th><th>Features</th><th>FeaturesNorm</th></tr></thead><tbody><tr><td>0</td><td>9</td><td>[ 1, 0, 0, 0.4, 0.3, 0.11, 0.315, 0.109, 0.067, 0.12 ]</td><td>[ 0.84755045, 0, 0, 0.3390202, 0.25426516, 0.093230546, 0.26697838, 0.092383, 0.05678588, 0.10170605 ]</td></tr><tr><td>1</td><td>7</td><td>[ 1, 0, 0, 0.325, 0.25, 0.08, 0.1735, 0.0765, 0.0345, 0.049 ]</td><td>[ 0.90756553, 0, 0, 0.2949588, 0.22689138, 0.072605245, 0.15746263, 0.069428764, 0.03131101, 0.04447071 ]</td></tr><tr><td>2</td><td>9</td><td>[ 0, 1, 0, 0.46, 0.355, 0.13, 0.517, 0.2205, 0.114, 0.165 ]</td><td>[ 0, 0.7645726, 0, 0.3517034, 0.27142328, 0.09939444, 0.39528406, 0.16858827, 0.08716128, 0.12615448 ]</td></tr></tbody></table>"
      ]
     },
     "execution_count": 36,
     "metadata": {},
     "output_type": "execute_result"
    }
   ],
   "source": [
    "[<CLIMutable>]\n",
    "type AbaloneDataTransformed =\n",
    "    {\n",
    "        [<ColumnName(\"Label\")>]\n",
    "        Rings : single\n",
    "\n",
    "        [<VectorType(10)>]\n",
    "        Features : single[]\n",
    "\n",
    "        [<VectorType(10)>]\n",
    "        FeaturesNorm : single[]\n",
    "    }\n",
    "\n",
    "ML.context.Data.CreateEnumerable<AbaloneDataTransformed>(transformedData, reuseRowObject = false)\n",
    "|> Seq.take 3"
   ]
  },
  {
   "cell_type": "markdown",
   "metadata": {},
   "source": [
    "Create an estimator:"
   ]
  },
  {
   "cell_type": "code",
   "execution_count": 35,
   "metadata": {},
   "outputs": [],
   "source": [
    "let estimator = \n",
    "    ML.context.Regression.Trainers.LbfgsPoissonRegression(featureColumnName = \"FeaturesNorm\")\n",
    "    |> ml.DowncastEstimator"
   ]
  },
  {
   "cell_type": "markdown",
   "metadata": {},
   "source": [
    "Now, we use cross-validation to select the best performing model."
   ]
  },
  {
   "cell_type": "code",
   "execution_count": 38,
   "metadata": {},
   "outputs": [
    {
     "name": "stdout",
     "output_type": "stream",
     "text": [
      "------------------\n",
      "Cross Validation Metrics\n",
      "------------------\n",
      "Mean Absolute Error: 1.545188\n",
      "Mean Squared Error: 4.630495\n",
      "Root Mean Squared Error: 2.151663\n",
      "R-squared: 0.558769\n"
     ]
    }
   ],
   "source": [
    "let model =\n",
    "    trainData // Begin with the training data\n",
    "    |> ML.transform transformer // Transform using the transformer built above\n",
    "    |> ML.crossValidateRegression estimator 3 // 3-fold cross-validation\n",
    "    |> ML.printRegressionCvMetrics // Print cross-fold metrics\n",
    "    |> Seq.maxBy (fun cvResult -> cvResult.Metrics.RSquared) // Select the best model by R-squared\n",
    "    |> fun cvResult -> cvResult.Model"
   ]
  },
  {
   "cell_type": "markdown",
   "metadata": {},
   "source": [
    "Now we can evaluate our model against the test data."
   ]
  },
  {
   "cell_type": "code",
   "execution_count": 39,
   "metadata": {},
   "outputs": [
    {
     "name": "stdout",
     "output_type": "stream",
     "text": [
      "------------------\n",
      "Test Metrics\n",
      "------------------\n",
      "Mean Absolute Error: 1.500183\n",
      "Mean Squared Error: 4.187195\n",
      "Root Mean Squared Error: 2.046264\n",
      "R-squared: 0.575770\n"
     ]
    },
    {
     "data": {
      "text/html": [
       "<null>"
      ]
     },
     "execution_count": 39,
     "metadata": {},
     "output_type": "execute_result"
    }
   ],
   "source": [
    "model\n",
    "|> ML.transform <| ML.transform transformer testData // Transform the test data and get predictions\n",
    "|> ML.context.Regression.Evaluate // Get test metrics\n",
    "|> ML.printRegressionMetrics"
   ]
  },
  {
   "cell_type": "markdown",
   "metadata": {},
   "source": [
    "Now let's pretend we have new data (for convenience we are just randomly re-sampling the test data) to see what predictions our model makes. You will see two values:\n",
    "- `Label`: the actual number of rings from the example being predicted. Our model never sees this value but we show it below so that you can see how close the predicted number of rings are to the actual.\n",
    "- `Score`: the predicted number of rings made by the model. The closer this is to the Label, the more accurate is the prediction.\n",
    "\n",
    "You can run this cell multiple times to get new random samples and their predictions!"
   ]
  },
  {
   "cell_type": "code",
   "execution_count": 46,
   "metadata": {},
   "outputs": [
    {
     "data": {
      "text/html": [
       "<table><thead><tr><th><i>index</i></th><th>Label</th><th>Score</th></tr></thead><tbody><tr><td>0</td><td>12</td><td>11.201082</td></tr><tr><td>1</td><td>10</td><td>9.523389</td></tr><tr><td>2</td><td>11</td><td>11.18794</td></tr><tr><td>3</td><td>6</td><td>6.242352</td></tr><tr><td>4</td><td>7</td><td>8.6737995</td></tr></tbody></table>"
      ]
     },
     "execution_count": 46,
     "metadata": {},
     "output_type": "execute_result"
    }
   ],
   "source": [
    "[<CLIMutable>]\n",
    "type RegressionPrediction = { Label : single; Score : single }\n",
    "\n",
    "// Show some sample predictions\n",
    "let sampleData =\n",
    "    testData\n",
    "    |> ml.Shuffle \n",
    "    |> ml.Transform transformer\n",
    "\n",
    "let predictionEngine = ML.context.Model.CreatePredictionEngine<AbaloneDataTransformed, RegressionPrediction>(model)\n",
    "\n",
    "ML.context.Data.CreateEnumerable<AbaloneDataTransformed>(sampleData, reuseRowObject = false)\n",
    "|> Seq.take 5\n",
    "|> Seq.map predictionEngine.Predict"
   ]
  },
  {
   "cell_type": "code",
   "execution_count": null,
   "metadata": {},
   "outputs": [],
   "source": []
  }
 ],
 "metadata": {
  "kernelspec": {
   "display_name": ".NET (F#)",
   "language": "F#",
   "name": ".net-fsharp"
  },
  "language_info": {
   "file_extension": ".fs",
   "mimetype": "text/x-fsharp",
   "name": "C#",
   "pygments_lexer": "fsharp",
   "version": "4.5"
  }
 },
 "nbformat": 4,
 "nbformat_minor": 4
}
