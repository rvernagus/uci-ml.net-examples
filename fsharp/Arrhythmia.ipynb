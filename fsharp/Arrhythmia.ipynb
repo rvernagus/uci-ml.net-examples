{
 "cells": [
  {
   "cell_type": "code",
   "execution_count": 1,
   "metadata": {},
   "outputs": [
    {
     "data": {
      "text/html": [
       "Installed package Microsoft.ML version *"
      ]
     },
     "metadata": {},
     "output_type": "display_data"
    },
    {
     "data": {
      "text/html": [
       "Installed package Microsoft.ML.LightGbm version *"
      ]
     },
     "metadata": {},
     "output_type": "display_data"
    }
   ],
   "source": [
    "#r \"nuget: Microsoft.ML\"\n",
    "#r \"nuget: Microsoft.ML.LightGbm\"\n",
    "#load \"./Modules/MLWrapper.fs\"\n",
    "open System.IO\n",
    "open System.Net\n",
    "open Microsoft.ML\n",
    "open Microsoft.ML.Data\n",
    "open Microsoft.ML.Transforms\n",
    "open FunctionalMl"
   ]
  },
  {
   "cell_type": "code",
   "execution_count": 2,
   "metadata": {},
   "outputs": [
    {
     "name": "stdout",
     "output_type": "stream",
     "text": [
      "Data file has 452 lines\n"
     ]
    },
    {
     "data": {
      "text/html": [
       "<table><thead><tr><th><i>index</i></th><th>value</th></tr></thead><tbody><tr><td>0</td><td>75,0,190,80,91,193,371,174,121,-16,13,64,-2,?,63,0,52,44,0,0,32,0,0,0,0,0,0,0,44,20,36,0,28,0,0,0,0,0,0,52,40,0,0,0,60,0,0,0,0,0,0,52,0,0,0,0,0,0,0,0,0,0,0,0,56,36,0,0,32,0,0,0,0,0,0,48,32,0,0,0,56,0,0,0,0,0,0,80,0,0,0,0,0,0,0,0,0,0,0,0,40,52,0,0,28,0,0,0,0,0,0,0,48,48,0,0,32,0,0,0,0,0,0,0,52,52,0,0,36,0,0,0,0,0,0,0,52,48,0,0,32,0,0,0,0,0,0,0,56,44,0,0,32,0,0,0,0,0,0,-0.2,0.0,6.1,-1.0,0.0,0.0,0.6,2.1,13.6,30.8,0.0,0.0,1.7,-1.0,0.6,0.0,1.3,1.5,3.7,14.5,0.1,-5.2,1.4,0.0,0.0,0.0,0.8,-0.6,-10.7,-15.6,0.4,-3.9,0.0,0.0,0.0,0.0,-0.8,-1.7,-10.1,-22.0,0.0,0.0,5.7,-1.0,0.0,0.0,-0.1,1.2,14.1,22.5,0.0,-2.5,0.8,0.0,0.0,0.0,1.0,0.4,-4.8,-2.7,0.1,-6.0,0.0,0.0,0.0,0.0,-0.8,-0.6,-24.0,-29.7,0.0,0.0,2.0,-6.4,0.0,0.0,0.2,2.9,-12.6,15.2,-0.1,0.0,8.4,-10.0,0.0,0.0,0.6,5.9,-3.9,52.7,-0.3,0.0,15.2,-8.4,0.0,0.0,0.9,5.1,17.7,70.7,-0.4,0.0,13.5,-4.0,0.0,0.0,0.9,3.9,25.5,62.9,-0.3,0.0,9.0,-0.9,0.0,0.0,0.9,2.9,23.3,49.4,8</td></tr><tr><td>1</td><td>56,1,165,64,81,174,401,149,39,25,37,-17,31,?,53,0,48,0,0,0,24,0,0,0,0,0,0,0,64,0,0,0,24,0,0,0,0,0,0,32,24,0,0,0,40,0,0,0,0,0,0,48,0,0,0,0,0,0,0,0,0,0,0,0,44,20,0,0,24,0,0,0,0,0,0,0,60,0,0,0,20,0,0,0,0,0,0,0,24,52,0,0,16,0,0,0,0,0,0,0,32,52,0,0,20,0,0,0,0,0,0,0,44,48,0,0,32,0,0,0,0,0,0,0,48,44,0,0,32,0,0,0,0,0,0,0,48,40,0,0,28,0,0,0,0,0,0,0,48,0,0,0,28,0,0,0,0,0,0,-0.6,0.0,7.2,0.0,0.0,0.0,0.4,1.5,17.2,26.5,0.0,0.0,5.5,0.0,0.0,0.0,0.1,1.7,17.6,29.5,0.3,-1.6,0.9,0.0,0.0,0.0,-0.3,0.4,-1.5,1.3,0.1,-6.4,0.0,0.0,0.0,0.0,-0.3,-1.6,-15.3,-25.5,-0.3,0.0,4.2,-0.9,0.0,0.0,0.4,0.7,8.3,12.3,0.2,0.0,2.2,0.0,0.0,0.0,-0.2,0.8,6.6,11.7,0.4,0.0,1.0,-8.8,0.0,0.0,0.5,-0.6,-21.6,-26.8,0.4,0.0,2.6,-7.9,0.0,0.0,0.8,2.0,-16.4,1.2,0.0,0.0,5.8,-7.7,0.0,0.0,0.9,3.8,-5.7,27.7,-0.2,0.0,9.5,-5.0,0.0,0.0,0.5,2.6,11.8,34.6,-0.4,0.0,11.0,-2.4,0.0,0.0,0.4,2.6,21.6,43.4,-0.5,0.0,8.5,0.0,0.0,0.0,0.2,2.1,20.4,38.8,6</td></tr><tr><td>2</td><td>54,0,172,95,138,163,386,185,102,96,34,70,66,23,75,0,40,80,0,0,24,0,0,0,0,0,0,20,56,52,0,0,40,0,0,0,0,0,0,28,116,0,0,0,52,0,0,0,0,0,0,52,64,0,0,0,88,0,0,0,0,0,0,0,36,92,0,0,24,0,0,0,0,0,0,0,128,0,0,0,24,0,1,0,0,0,0,0,24,36,76,0,100,0,0,0,0,0,0,0,40,28,60,0,96,0,0,0,0,0,0,0,48,20,56,24,32,0,0,0,0,0,0,0,44,88,0,0,28,0,0,0,0,0,0,0,44,76,0,0,28,0,0,0,0,0,0,0,44,72,0,0,24,0,0,0,0,0,0,1.0,0.0,4.5,-2.8,0.0,0.0,0.3,2.5,-2.2,19.8,0.8,-0.4,6.4,-1.3,0.0,0.0,0.7,2.7,14.2,37.9,-0.2,-0.6,4.4,0.0,0.0,0.0,0.5,0.2,24.7,26.2,-1.0,-5.3,1.8,0.0,0.0,0.0,-0.5,-2.5,-8.0,-28.5,0.5,0.0,1.7,-2.7,0.0,0.0,-0.2,1.0,-9.4,-1.2,0.4,0.0,4.9,0.0,0.0,0.0,0.6,1.4,31.3,42.7,-0.8,0.0,0.7,-3.8,6.5,0.0,0.3,-3.3,18.7,-13.6,-0.9,0.0,2.2,-4.1,7.4,0.0,0.5,-2.4,20.9,-2.6,0.0,0.0,5.8,-4.1,4.0,-0.5,0.4,0.3,20.4,23.3,0.7,0.0,10.0,-5.7,0.0,0.0,0.5,2.2,-3.0,20.7,1.3,0.0,11.1,-3.4,0.0,0.0,0.4,3.4,11.5,48.2,0.9,0.0,9.5,-2.4,0.0,0.0,0.3,3.4,12.3,49.0,10</td></tr><tr><td>3</td><td>55,0,175,94,100,202,380,179,143,28,11,-5,20,?,71,0,72,20,0,0,48,0,0,0,0,0,0,0,64,36,0,0,36,0,0,0,0,0,0,20,52,48,0,0,56,0,0,0,0,0,0,64,32,0,0,0,72,0,0,0,0,0,0,0,60,12,0,0,44,0,0,0,0,0,0,0,60,44,0,0,32,0,0,0,0,0,0,56,0,0,0,0,0,0,0,0,0,0,0,0,40,44,0,0,20,0,0,0,0,0,0,0,52,40,0,0,32,0,0,0,0,0,0,0,56,48,0,0,36,0,0,0,0,0,0,0,60,48,0,0,36,0,0,0,0,0,0,0,64,40,0,0,40,0,0,0,0,0,0,0.9,0.0,7.8,-0.7,0.0,0.0,1.1,1.9,27.3,45.1,0.1,0.0,9.1,-2.6,0.0,0.0,0.4,1.5,24.5,36.8,-0.4,-0.4,1.6,-2.2,0.0,0.0,-1.0,-0.9,-1.5,-9.2,-0.4,-8.2,1.8,0.0,0.0,0.0,-0.7,-1.7,-23.4,-35.6,0.9,0.0,3.2,-0.4,0.0,0.0,0.7,1.2,9.4,18.0,-0.1,0.0,5.1,-2.5,0.0,0.0,0.3,0.6,9.8,12.6,1.6,-6.5,0.0,0.0,0.0,0.0,-0.4,-0.4,-18.2,-22.4,2.1,0.0,1.2,-6.9,0.0,0.0,-0.5,2.9,-12.7,18.0,0.7,0.0,9.0,-7.9,0.0,0.0,0.1,4.1,7.6,51.0,0.4,0.0,15.0,-5.5,0.0,0.0,0.1,3.3,28.8,63.1,0.1,0.0,15.2,-3.7,0.0,0.0,0.6,3.0,36.8,68.0,0.1,0.0,12.2,-2.2,0.0,0.0,0.4,2.6,34.6,61.6,1</td></tr><tr><td>4</td><td>75,0,190,80,88,181,360,177,103,-16,13,61,3,?,?,0,48,40,0,0,28,0,0,0,0,0,0,0,40,24,0,0,24,0,0,0,0,0,0,52,36,0,0,0,60,0,0,0,0,0,0,48,28,0,0,0,56,0,0,0,0,0,0,0,48,36,0,0,28,0,0,0,0,0,0,44,0,0,0,0,0,0,0,0,0,0,0,88,0,0,0,0,0,0,0,0,0,0,0,0,40,52,0,0,28,0,0,0,0,0,0,0,48,48,0,0,32,0,0,0,0,0,0,0,48,52,0,0,32,0,0,0,0,0,0,0,52,44,0,0,28,0,0,0,0,0,0,0,52,48,0,0,32,0,0,0,0,0,0,0.0,0.0,5.2,-1.4,0.0,0.0,0.9,2.3,9.6,31.6,0.1,0.0,1.6,-0.5,0.0,0.0,1.9,1.7,2.6,18.9,0.2,-3.8,1.2,0.0,0.0,0.0,1.0,-0.6,-7.7,-13.4,-0.1,-3.4,0.8,0.0,0.0,0.0,-1.4,-1.5,-7.0,-17.8,-0.1,0.0,4.4,-1.3,0.0,0.0,-0.1,1.1,8.2,16.5,0.6,-1.6,0.0,0.0,0.0,0.0,1.4,0.3,-3.5,-1.9,0.0,-5.7,0.0,0.0,0.0,0.0,-0.4,-0.5,-25.0,-30.0,-0.2,0.0,1.6,-6.0,0.0,0.0,-0.7,2.1,-12.4,8.6,-0.5,0.0,8.5,-10.2,0.0,0.0,-1.0,4.7,-4.0,43.0,-0.2,0.0,15.2,-7.8,0.0,0.0,-0.1,4.9,16.2,63.2,-0.2,0.0,9.1,-0.9,0.0,0.0,-0.2,2.9,21.7,48.9,-0.4,0.0,13.1,-3.6,0.0,0.0,-0.1,3.9,25.4,62.8,7</td></tr></tbody></table>"
      ]
     },
     "execution_count": 2,
     "metadata": {},
     "output_type": "execute_result"
    }
   ],
   "source": [
    "if not <| File.Exists(\"arrhythmia.data\") then\n",
    "    use client = new WebClient()\n",
    "    client.DownloadFile(\"https://archive.ics.uci.edu/ml/machine-learning-databases/arrhythmia/arrhythmia.data\", \"arrhythmia.data\")\n",
    "\n",
    "printfn \"Data file has %d lines\" <| File.ReadLines(\"arrhythmia.data\").Count()\n",
    "File.ReadLines(\"arrhythmia.data\")\n",
    "|> Seq.take 5"
   ]
  },
  {
   "cell_type": "code",
   "execution_count": 3,
   "metadata": {},
   "outputs": [],
   "source": [
    "let singleColumn index =\n",
    "    new TextLoader.Column(string index, DataKind.Single, index)\n",
    "\n",
    "let columns =\n",
    "    seq { 0..278 }\n",
    "    |> Seq.map singleColumn\n",
    "    |> Seq.append [ new TextLoader.Column(\"Label\", DataKind.Int32, 279) ]\n",
    "    |> Seq.toArray"
   ]
  },
  {
   "cell_type": "code",
   "execution_count": 4,
   "metadata": {},
   "outputs": [],
   "source": [
    "let featureColumns =\n",
    "    seq { 0..278 }\n",
    "    |> Seq.map string\n",
    "    |> Seq.toArray"
   ]
  },
  {
   "cell_type": "code",
   "execution_count": 5,
   "metadata": {},
   "outputs": [],
   "source": [
    "let textLoader = ML.context.Data.CreateTextLoader(columns, hasHeader = false, separatorChar = ',')"
   ]
  },
  {
   "cell_type": "code",
   "execution_count": 6,
   "metadata": {},
   "outputs": [],
   "source": [
    "let allData = textLoader.Load(\"arrhythmia.data\")"
   ]
  },
  {
   "cell_type": "code",
   "execution_count": 7,
   "metadata": {},
   "outputs": [],
   "source": [
    "let trainData, testData =\n",
    "    ML.shuffle allData\n",
    "    |> ML.split 0.2"
   ]
  },
  {
   "cell_type": "code",
   "execution_count": 8,
   "metadata": {},
   "outputs": [
    {
     "data": {
      "text/html": [
       "<table><thead><tr><th><i>index</i></th><th>value</th></tr></thead><tbody><tr><td>0</td><td>1</td></tr><tr><td>1</td><td>14</td></tr><tr><td>2</td><td>10</td></tr><tr><td>3</td><td>2</td></tr><tr><td>4</td><td>4</td></tr><tr><td>5</td><td>5</td></tr><tr><td>6</td><td>16</td></tr><tr><td>7</td><td>6</td></tr><tr><td>8</td><td>3</td></tr><tr><td>9</td><td>9</td></tr><tr><td>10</td><td>15</td></tr><tr><td>11</td><td>8</td></tr><tr><td>12</td><td>7</td></tr></tbody></table>"
      ]
     },
     "execution_count": 8,
     "metadata": {},
     "output_type": "execute_result"
    }
   ],
   "source": [
    "trainData.GetColumn<int>(\"Label\")\n",
    "|> Seq.distinct"
   ]
  },
  {
   "cell_type": "code",
   "execution_count": 9,
   "metadata": {},
   "outputs": [
    {
     "data": {
      "text/html": [
       "<table><thead><tr><th><i>index</i></th><th>Count</th><th>Label</th></tr></thead><tbody><tr><td>0</td><td>190</td><td>1</td></tr><tr><td>1</td><td>39</td><td>2</td></tr><tr><td>2</td><td>13</td><td>3</td></tr><tr><td>3</td><td>15</td><td>4</td></tr><tr><td>4</td><td>11</td><td>5</td></tr><tr><td>5</td><td>20</td><td>6</td></tr><tr><td>6</td><td>3</td><td>7</td></tr><tr><td>7</td><td>2</td><td>8</td></tr><tr><td>8</td><td>8</td><td>9</td></tr><tr><td>9</td><td>38</td><td>10</td></tr><tr><td>10</td><td>4</td><td>14</td></tr><tr><td>11</td><td>5</td><td>15</td></tr><tr><td>12</td><td>17</td><td>16</td></tr></tbody></table>"
      ]
     },
     "execution_count": 9,
     "metadata": {},
     "output_type": "execute_result"
    }
   ],
   "source": [
    "trainData.GetColumn<int>(\"Label\")\n",
    "|> Seq.countBy id\n",
    "|> Seq.map (fun (x, y) -> {| Label=x; Count=y |})\n",
    "|> Seq.sortBy (fun x -> x.Label)"
   ]
  },
  {
   "cell_type": "code",
   "execution_count": 10,
   "metadata": {},
   "outputs": [],
   "source": [
    "let pipeline =\n",
    "    EstimatorChain()\n",
    "    |> ML.append <| ML.mapValueToKey \"Label\" \"Label\"\n",
    "    |> ML.append <| ML.concatenate \"Features\" featureColumns\n",
    "    |> ML.append <| ML.replaceMissingWithMean \"Features\" \"Features\"\n",
    "    |> ML.append <| ML.normalizeMinMax \"Features\" \"FeaturesNorm\""
   ]
  },
  {
   "cell_type": "code",
   "execution_count": 11,
   "metadata": {},
   "outputs": [],
   "source": [
    "let transformer =\n",
    "    pipeline\n",
    "    |> ML.fit trainData // Fit our pipeline on the training data"
   ]
  },
  {
   "cell_type": "code",
   "execution_count": 12,
   "metadata": {},
   "outputs": [],
   "source": [
    "let transformedData =\n",
    "    trainData\n",
    "    |> ML.transform transformer"
   ]
  },
  {
   "cell_type": "code",
   "execution_count": 13,
   "metadata": {},
   "outputs": [
    {
     "data": {
      "text/html": [
       "<table><thead><tr><th><i>index</i></th><th>Values</th></tr></thead><tbody><tr><td>0</td><td>[ Label: 1, 0: 48, 1: 0, 2: 162, 3: 84, 4: 80, 5: 154, 6: 354, 7: 171, 8: 85 ... (271 more) ]</td></tr><tr><td>1</td><td>[ Label: 1, 0: 34, 1: 1, 2: 155, 3: 54, 4: 86, 5: 127, 6: 369, 7: 157, 8: 78 ... (271 more) ]</td></tr><tr><td>2</td><td>[ Label: 1, 0: 46, 1: 1, 2: 158, 3: 58, 4: 70, 5: 120, 6: 353, 7: 122, 8: 52 ... (271 more) ]</td></tr><tr><td>3</td><td>[ Label: 14, 0: 22, 1: 1, 2: 165, 3: 52, 4: 108, 5: 184, 6: 406, 7: 218, 8: 114 ... (271 more) ]</td></tr><tr><td>4</td><td>[ Label: 10, 0: 18, 1: 0, 2: 175, 3: 60, 4: 102, 5: 135, 6: 379, 7: 167, 8: 73 ... (271 more) ]</td></tr></tbody></table>"
      ]
     },
     "execution_count": 13,
     "metadata": {},
     "output_type": "execute_result"
    }
   ],
   "source": [
    "trainData.Preview().RowView\n",
    "|> Seq.take 5"
   ]
  },
  {
   "cell_type": "code",
   "execution_count": 14,
   "metadata": {},
   "outputs": [
    {
     "data": {
      "text/html": [
       "<table><thead><tr><th><i>index</i></th><th></th></tr></thead><tbody><tr><td>0</td><td>[ 0.57831323, 0, 0.8526316, 0.47727275, 0.4255319, 0.48125002, 0.69548136, 0.4488189, 0.4166667, 0.22674419 ... (269 more) ]</td></tr><tr><td>1</td><td>[ 0.26506025, 1, 0.8684211, 0.29545456, 0.5744681, 0.575, 0.79764247, 0.5721785, 0.5588235, 0.13953489 ... (273 more) ]</td></tr><tr><td>2</td><td>[ 0.26506025, 1, 0.8684211, 0.29545456, 0.5744681, 0.575, 0.79764247, 0.5721785, 0.5588235, 0.13953489 ... (269 more) ]</td></tr><tr><td>3</td><td>[ 0.26506025, 1, 0.8684211, 0.29545456, 0.5744681, 0.575, 0.79764247, 0.5721785, 0.5588235, 0.13953489 ... (269 more) ]</td></tr><tr><td>4</td><td>[ 0.21686746, 0, 0.9210527, 0.3409091, 0.5425532, 0.421875, 0.74459726, 0.43832022, 0.35784316, 0.5290698 ... (269 more) ]</td></tr></tbody></table>"
      ]
     },
     "execution_count": 14,
     "metadata": {},
     "output_type": "execute_result"
    }
   ],
   "source": [
    "transformedData.GetColumn<VBuffer<single>>(\"FeaturesNorm\")\n",
    "|> Seq.take 5\n",
    "|> Seq.map (fun vec -> vec.DenseValues())"
   ]
  },
  {
   "cell_type": "code",
   "execution_count": 15,
   "metadata": {},
   "outputs": [],
   "source": [
    "let estimator = \n",
    "    ML.context.MulticlassClassification.Trainers.LightGbm(featureColumnName = \"FeaturesNorm\", learningRate = Nullable<float>(0.1))\n",
    "    |> ML.downcastEstimator"
   ]
  },
  {
   "cell_type": "code",
   "execution_count": 16,
   "metadata": {},
   "outputs": [
    {
     "name": "stdout",
     "output_type": "stream",
     "text": [
      "------------------\n",
      "Cross Validation Metrics\n",
      "------------------\n",
      "Accuracy: 0.429219\n",
      "Log Loss: 1.223530\n"
     ]
    }
   ],
   "source": [
    "let model =\n",
    "    trainData // Begin with the training data\n",
    "    |> ML.transform transformer // Transform using the transformer built above\n",
    "    |> ML.crossValidateMulticlassClassification estimator 3 // 3-fold cross-validation\n",
    "    |> ML.printMulticlassClassificationCvMetrics // Print cross-fold metrics\n",
    "    |> Seq.maxBy (fun cvResult -> cvResult.Metrics.MicroAccuracy)\n",
    "    |> fun cvResult -> cvResult.Model"
   ]
  },
  {
   "cell_type": "code",
   "execution_count": 17,
   "metadata": {},
   "outputs": [
    {
     "name": "stdout",
     "output_type": "stream",
     "text": [
      "------------------\n",
      "Test Metrics\n",
      "------------------\n",
      "Accuracy: 0.648485\n",
      "Log Loss: 0.795972\n",
      "Confusion Matrix:\n",
      "\n",
      "Confusion table\n",
      "          ||========================================================================================================\n",
      "PREDICTED ||     0 |     1 |     2 |     3 |     4 |     5 |     6 |     7 |     8 |     9 |    10 |    11 |    12 | Recall\n",
      "TRUTH     ||========================================================================================================\n",
      "        0 ||    47 |     0 |     2 |     1 |     0 |     2 |     3 |     0 |     0 |     0 |     0 |     0 |     0 | 0.8545\n",
      "        1 ||     0 |     0 |     0 |     0 |     0 |     0 |     0 |     0 |     0 |     0 |     0 |     0 |     0 | 0.0000\n",
      "        2 ||     1 |     0 |    10 |     0 |     1 |     0 |     0 |     0 |     0 |     0 |     0 |     0 |     0 | 0.8333\n",
      "        3 ||     3 |     0 |     0 |     2 |     0 |     0 |     0 |     0 |     0 |     0 |     0 |     0 |     0 | 0.4000\n",
      "        4 ||     0 |     0 |     0 |     0 |     0 |     0 |     0 |     0 |     0 |     0 |     0 |     0 |     0 | 0.0000\n",
      "        5 ||     0 |     0 |     0 |     0 |     0 |     2 |     0 |     0 |     0 |     0 |     0 |     0 |     0 | 1.0000\n",
      "        6 ||     3 |     0 |     0 |     0 |     0 |     0 |     0 |     1 |     1 |     0 |     0 |     0 |     0 | 0.0000\n",
      "        7 ||     2 |     0 |     0 |     0 |     0 |     0 |     0 |     3 |     0 |     0 |     0 |     0 |     0 | 0.6000\n",
      "        8 ||     1 |     0 |     0 |     0 |     0 |     0 |     0 |     0 |     1 |     0 |     0 |     0 |     0 | 0.5000\n",
      "        9 ||     0 |     0 |     0 |     0 |     0 |     0 |     0 |     0 |     0 |     1 |     0 |     0 |     0 | 1.0000\n",
      "       10 ||     0 |     0 |     0 |     0 |     0 |     0 |     0 |     0 |     0 |     0 |     0 |     0 |     0 | 0.0000\n",
      "       11 ||     0 |     0 |     0 |     0 |     0 |     0 |     0 |     0 |     0 |     0 |     0 |     0 |     0 | 0.0000\n",
      "       12 ||     0 |     0 |     0 |     0 |     0 |     0 |     0 |     0 |     0 |     0 |     0 |     0 |     0 | 0.0000\n",
      "          ||========================================================================================================\n",
      "Precision ||0.8246 |0.0000 |0.8333 |0.6667 |0.0000 |0.5000 |0.0000 |0.7500 |0.5000 |1.0000 |0.0000 |0.0000 |0.0000 |\n",
      "\n"
     ]
    },
    {
     "data": {
      "text/html": [
       "<null>"
      ]
     },
     "execution_count": 17,
     "metadata": {},
     "output_type": "execute_result"
    }
   ],
   "source": [
    "model\n",
    "|> ML.transform <| ML.transform transformer testData // Transform the test data and get predictions\n",
    "|> ML.context.MulticlassClassification.Evaluate // Get test metrics\n",
    "|> ML.printMulticlassClassificationMetrics"
   ]
  },
  {
   "cell_type": "code",
   "execution_count": 18,
   "metadata": {},
   "outputs": [
    {
     "data": {
      "text/html": [
       "<table><thead><tr><th><i>index</i></th><th>LabelValue</th><th>Score</th><th>PredictedLabelValue</th></tr></thead><tbody><tr><td>0</td><td>1</td><td>[ 0.97704, 0.0011728159, 0.0008744632, 0.0014531577, 0.00060047733, 0.0019211222, 0.010387571, 0.0002906195, 0.001139807, 0.0016155671 ... (3 more) ]</td><td>1</td></tr><tr><td>1</td><td>10</td><td>[ 0.061290126, 0.0018989801, 0.92797506, 0.00032050128, 0.00041107112, 0.0015196834, 0.0012822984, 0.00055546727, 0.0007636303, 0.0010276618 ... (3 more) ]</td><td>10</td></tr><tr><td>2</td><td>9</td><td>[ 0.013076769, 0.00077391264, 0.0011445633, 0.27049413, 0.00057964656, 0.0003855137, 0.052401487, 0.0035830052, 0.028297214, 0.6226301 ... (3 more) ]</td><td>9</td></tr><tr><td>3</td><td>1</td><td>[ 0.98464394, 0.0009561922, 0.00071388966, 0.000275566, 0.00088409294, 0.0039644614, 0.0005799404, 0.0011390178, 0.0008004672, 0.0011510475 ... (3 more) ]</td><td>1</td></tr><tr><td>4</td><td>1</td><td>[ 0.9322044, 0.0016002799, 0.0016179279, 0.010951799, 0.0018904129, 0.0008404474, 0.0066934773, 0.03589578, 0.0015749462, 0.0023853008 ... (3 more) ]</td><td>1</td></tr></tbody></table>"
      ]
     },
     "execution_count": 18,
     "metadata": {},
     "output_type": "execute_result"
    }
   ],
   "source": [
    "[<CLIMutable>]\n",
    "type MulticlassClassificationPrediction = { LabelValue: int; Score : single[]; PredictedLabelValue : int }\n",
    "\n",
    "let sampleData =\n",
    "    testData\n",
    "    |> ML.shuffle\n",
    "    |> ML.transform transformer\n",
    "    |> ML.transform model\n",
    "\n",
    "let mapValues =\n",
    "    EstimatorChain()\n",
    "    |> ML.append <| ML.mapKeyToValue \"PredictedLabel\" \"PredictedLabelValue\"\n",
    "    |> ML.append <| ML.mapKeyToValue \"Label\" \"LabelValue\"\n",
    "    |> ML.fit sampleData\n",
    "\n",
    "let samplePredictions = mapValues.Transform(sampleData)\n",
    "ML.context.Data.CreateEnumerable<MulticlassClassificationPrediction>(samplePredictions, reuseRowObject = false)\n",
    "|> Seq.take 5"
   ]
  },
  {
   "cell_type": "code",
   "execution_count": null,
   "metadata": {},
   "outputs": [],
   "source": []
  }
 ],
 "metadata": {
  "kernelspec": {
   "display_name": ".NET (F#)",
   "language": "F#",
   "name": ".net-fsharp"
  },
  "language_info": {
   "file_extension": ".fs",
   "mimetype": "text/x-fsharp",
   "name": "C#",
   "pygments_lexer": "fsharp",
   "version": "4.5"
  }
 },
 "nbformat": 4,
 "nbformat_minor": 4
}
