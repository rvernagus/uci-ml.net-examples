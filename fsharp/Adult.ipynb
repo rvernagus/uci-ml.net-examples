{
 "cells": [
  {
   "cell_type": "code",
   "execution_count": 1,
   "metadata": {},
   "outputs": [
    {
     "data": {
      "text/html": [
       "Installed package Microsoft.ML version *"
      ]
     },
     "metadata": {},
     "output_type": "display_data"
    }
   ],
   "source": [
    "#r \"nuget: Microsoft.ML\"\n",
    "#load \"./Modules/MLWrapper.fs\"\n",
    "open Microsoft.ML\n",
    "open Microsoft.ML.Data\n",
    "open Microsoft.ML.Transforms\n",
    "open System.Collections.Generic\n",
    "open System.IO\n",
    "open System.Net\n",
    "open FunctionalMl"
   ]
  },
  {
   "cell_type": "markdown",
   "metadata": {},
   "source": [
    "Download data from [UCI Machine Learning Repository](https://archive.ics.uci.edu/ml/machine-learning-databases/adult):"
   ]
  },
  {
   "cell_type": "code",
   "execution_count": 2,
   "metadata": {},
   "outputs": [
    {
     "name": "stdout",
     "output_type": "stream",
     "text": [
      "Train data file has 32562 lines\n"
     ]
    },
    {
     "data": {
      "text/html": [
       "<table><thead><tr><th><i>index</i></th><th>value</th></tr></thead><tbody><tr><td>0</td><td>39, State-gov, 77516, Bachelors, 13, Never-married, Adm-clerical, Not-in-family, White, Male, 2174, 0, 40, United-States, &lt;=50K</td></tr><tr><td>1</td><td>50, Self-emp-not-inc, 83311, Bachelors, 13, Married-civ-spouse, Exec-managerial, Husband, White, Male, 0, 0, 13, United-States, &lt;=50K</td></tr><tr><td>2</td><td>38, Private, 215646, HS-grad, 9, Divorced, Handlers-cleaners, Not-in-family, White, Male, 0, 0, 40, United-States, &lt;=50K</td></tr><tr><td>3</td><td>53, Private, 234721, 11th, 7, Married-civ-spouse, Handlers-cleaners, Husband, Black, Male, 0, 0, 40, United-States, &lt;=50K</td></tr><tr><td>4</td><td>28, Private, 338409, Bachelors, 13, Married-civ-spouse, Prof-specialty, Wife, Black, Female, 0, 0, 40, Cuba, &lt;=50K</td></tr></tbody></table>"
      ]
     },
     "execution_count": 2,
     "metadata": {},
     "output_type": "execute_result"
    }
   ],
   "source": [
    "if not <| File.Exists(\"adult.data\") then\n",
    "    use client = new WebClient()\n",
    "    client.DownloadFile(\"http://archive.ics.uci.edu/ml/machine-learning-databases/adult/adult.data\", \"adult.data\")\n",
    "\n",
    "printfn \"Train data file has %d lines\" <| File.ReadLines(\"adult.data\").Count()\n",
    "File.ReadLines(\"adult.data\")\n",
    "|> Seq.take 5"
   ]
  },
  {
   "cell_type": "markdown",
   "metadata": {},
   "source": [
    "Some datasets from the UCI Machine Learning Repository have two files, one for training data and one for test data. Notice how the .test dataset has a line of descriptive text at the start of the file. We don't want to load this line--you will see how to deal with that below."
   ]
  },
  {
   "cell_type": "code",
   "execution_count": 3,
   "metadata": {},
   "outputs": [
    {
     "name": "stdout",
     "output_type": "stream",
     "text": [
      "Train data file has 16283 lines\n"
     ]
    },
    {
     "data": {
      "text/html": [
       "<table><thead><tr><th><i>index</i></th><th>value</th></tr></thead><tbody><tr><td>0</td><td>|1x3 Cross validator</td></tr><tr><td>1</td><td>25, Private, 226802, 11th, 7, Never-married, Machine-op-inspct, Own-child, Black, Male, 0, 0, 40, United-States, &lt;=50K.</td></tr><tr><td>2</td><td>38, Private, 89814, HS-grad, 9, Married-civ-spouse, Farming-fishing, Husband, White, Male, 0, 0, 50, United-States, &lt;=50K.</td></tr><tr><td>3</td><td>28, Local-gov, 336951, Assoc-acdm, 12, Married-civ-spouse, Protective-serv, Husband, White, Male, 0, 0, 40, United-States, &gt;50K.</td></tr><tr><td>4</td><td>44, Private, 160323, Some-college, 10, Married-civ-spouse, Machine-op-inspct, Husband, Black, Male, 7688, 0, 40, United-States, &gt;50K.</td></tr></tbody></table>"
      ]
     },
     "execution_count": 3,
     "metadata": {},
     "output_type": "execute_result"
    }
   ],
   "source": [
    "if not <| File.Exists(\"adult.test\") then\n",
    "    use client = new WebClient()\n",
    "    client.DownloadFile(\"http://archive.ics.uci.edu/ml/machine-learning-databases/adult/adult.test\", \"adult.test\")\n",
    "\n",
    "printfn \"Train data file has %d lines\" <| File.ReadLines(\"adult.test\").Count()\n",
    "File.ReadLines(\"adult.test\")\n",
    "|> Seq.take 5"
   ]
  },
  {
   "cell_type": "markdown",
   "metadata": {},
   "source": [
    "Create a class to represent the data in our file:"
   ]
  },
  {
   "cell_type": "code",
   "execution_count": 4,
   "metadata": {},
   "outputs": [],
   "source": [
    "[<CLIMutable>]\n",
    "type AdultData =\n",
    "    {\n",
    "        [<LoadColumn(0)>]\n",
    "        Age : float32\n",
    "\n",
    "        [<LoadColumn(1)>]\n",
    "        WorkClass : string\n",
    "\n",
    "        [<LoadColumn(2)>]\n",
    "        Fnlwgt : float32\n",
    "\n",
    "        [<LoadColumn(3)>]\n",
    "        Education : string\n",
    "\n",
    "        [<LoadColumn(4)>]\n",
    "        EducationNum : float32\n",
    "\n",
    "        [<LoadColumn(5)>]\n",
    "        MaritalStatus : float32\n",
    "\n",
    "        [<LoadColumn(6)>]\n",
    "        Occupation : float32\n",
    "\n",
    "        [<LoadColumn(7)>]\n",
    "        Relationship : float32\n",
    "\n",
    "        [<LoadColumn(8)>]\n",
    "        Race : string\n",
    "\n",
    "        [<LoadColumn(9)>]\n",
    "        Sex : string\n",
    "\n",
    "        [<LoadColumn(10)>]\n",
    "        CapitalGain : float32\n",
    "\n",
    "        [<LoadColumn(11)>]\n",
    "        CapitalLoss : float32\n",
    "\n",
    "        [<LoadColumn(12)>]\n",
    "        HoursPerWeek : float32\n",
    "\n",
    "        [<LoadColumn(13)>]\n",
    "        NativeCountry : string\n",
    "\n",
    "        [<LoadColumn(14)>]\n",
    "        [<ColumnName(\"Label\")>]\n",
    "        Target : string\n",
    "    }"
   ]
  },
  {
   "cell_type": "markdown",
   "metadata": {},
   "source": [
    "Now that we have an `MLContext` and a class to represent our data, we can load the file into a `DataView`. It is a good practice to shuffle the data after loading. Many datasets come ordered by some columns of values or even worse by the label. For training a model we want our data to be in a random order:"
   ]
  },
  {
   "cell_type": "code",
   "execution_count": 5,
   "metadata": {},
   "outputs": [],
   "source": [
    "let trainData =\n",
    "    ML.context.Data.LoadFromTextFile<AdultData>(\"adult.data\", hasHeader = false, separatorChar = ',')\n",
    "    |> ML.shuffle"
   ]
  },
  {
   "cell_type": "markdown",
   "metadata": {},
   "source": [
    "Remember that we noted earlier that our file of test data has \"garbage\" text on the first line? The `LoadFromTextFile` method does not have a way to skip lines in a file so we will use the `hasHeader` parameter to serve that purpose. We are lucky here that there is only one line that we need to skip, otherwise, we would need to find another way to deal with \"garbage\" lines."
   ]
  },
  {
   "cell_type": "code",
   "execution_count": 6,
   "metadata": {},
   "outputs": [],
   "source": [
    "let testData =\n",
    "    ML.context.Data.LoadFromTextFile<AdultData>(\"adult.test\", hasHeader = true, separatorChar = ',')\n",
    "    |> ML.shuffle"
   ]
  },
  {
   "cell_type": "markdown",
   "metadata": {},
   "source": [
    "Now we declare the features of the dataset that we will train our model on:"
   ]
  },
  {
   "cell_type": "code",
   "execution_count": 7,
   "metadata": {},
   "outputs": [],
   "source": [
    "let featureColumns = [| \"Age\"; \"WorkClass\"; \"Fnlwgt\"; \"Education\"; \"EducationNum\"; \"MaritalStatus\"; \"Occupation\"; \"Relationship\"; \"Race\"; \"Sex\"; \"CapitalGain\";\n",
    "                        \"CapitalLoss\"; \"HoursPerWeek\"; \"NativeCountry\" |]"
   ]
  },
  {
   "cell_type": "markdown",
   "metadata": {},
   "source": [
    "There are a number of categorical columns (string values that reprsent discrete values) in the data. We will need to encode those columns so we declare which columns are categorical here:"
   ]
  },
  {
   "cell_type": "code",
   "execution_count": 8,
   "metadata": {},
   "outputs": [],
   "source": [
    "let categoricalColumns = [| \"WorkClass\"; \"Education\"; \"MaritalStatus\"; \"Occupation\"; \"Relationship\"; \"Race\"; \"Sex\"; \"NativeCountry\" |]"
   ]
  },
  {
   "cell_type": "markdown",
   "metadata": {},
   "source": [
    "The \"target\" or \"label\" for this example can take on two values. Thus, we will be creating a binary classification model. You may have noticed above that the labels in the test file differ from the labels in the training file--they have periods only in the test file! No problem, we can create a mapping such that label `<=50K` is treated the same as the label `<=50K.`. Simply create a `Dictionary` that maps the string value to our binary label of `true` or `false`:"
   ]
  },
  {
   "cell_type": "code",
   "execution_count": 9,
   "metadata": {},
   "outputs": [],
   "source": [
    "let labelLookup =\n",
    "    [|\n",
    "        KeyValuePair(\"<=50K\", false)\n",
    "        KeyValuePair(\"<=50K.\", false)\n",
    "        KeyValuePair(\">50K\", true)\n",
    "        KeyValuePair(\">50K.\", true)\n",
    "    |]"
   ]
  },
  {
   "cell_type": "markdown",
   "metadata": {},
   "source": [
    "Create a pipeline with the following transforms:\n",
    "- One-hot encode each of the categorical columns.\n",
    "- Map our label column to `true` or `false`.\n",
    "- Concatenate all of the feature columns into a single new column.\n",
    "- Normalize the feature values."
   ]
  },
  {
   "cell_type": "code",
   "execution_count": 10,
   "metadata": {},
   "outputs": [],
   "source": [
    "let pipeline =\n",
    "    categoricalColumns\n",
    "    |> Seq.map ML.onehot // Create a one-hot encoder for each categorical column\n",
    "    |> Seq.fold ML.append (EstimatorChain()) // Add the encoders to a new EstimatorChain\n",
    "    |> ML.append <| ML.mapValue \"Label\" labelLookup \"Label\" // Map labels to either true or false\n",
    "    |> ML.append <| ML.concatenate \"Features\" featureColumns // Concatenate feature columns into a single new column\n",
    "    |> ML.append <| ML.normalizeMinMax \"Features\" \"FeaturesNorm\" // Normalize features into a new column, FeaturesNorm"
   ]
  },
  {
   "cell_type": "markdown",
   "metadata": {},
   "source": [
    "Fit the pipeline to our training data:"
   ]
  },
  {
   "cell_type": "code",
   "execution_count": 11,
   "metadata": {},
   "outputs": [],
   "source": [
    "let transformer =\n",
    "    pipeline\n",
    "    |> ML.fit trainData // Fit our pipeline on the training data"
   ]
  },
  {
   "cell_type": "markdown",
   "metadata": {},
   "source": [
    "Let's first view the data as it was loaded from the downloaded file:"
   ]
  },
  {
   "cell_type": "code",
   "execution_count": 12,
   "metadata": {},
   "outputs": [
    {
     "data": {
      "text/html": [
       "<table><thead><tr><th><i>index</i></th><th>Age</th><th>WorkClass</th><th>Fnlwgt</th><th>Education</th><th>EducationNum</th><th>MaritalStatus</th><th>Occupation</th><th>Relationship</th><th>Race</th><th>Sex</th><th>CapitalGain</th><th>CapitalLoss</th><th>HoursPerWeek</th><th>NativeCountry</th><th>Target</th></tr></thead><tbody><tr><td>0</td><td>24</td><td>Private</td><td>278130</td><td>HS-grad</td><td>9</td><td>NaN</td><td>NaN</td><td>NaN</td><td>White</td><td>Male</td><td>0</td><td>0</td><td>40</td><td>United-States</td><td>&lt;=50K</td></tr><tr><td>1</td><td>33</td><td>Self-emp-inc</td><td>155781</td><td>Some-college</td><td>10</td><td>NaN</td><td>NaN</td><td>NaN</td><td>White</td><td>Male</td><td>0</td><td>0</td><td>60</td><td>?</td><td>&lt;=50K</td></tr><tr><td>2</td><td>23</td><td>Private</td><td>204653</td><td>HS-grad</td><td>9</td><td>NaN</td><td>NaN</td><td>NaN</td><td>White</td><td>Male</td><td>0</td><td>0</td><td>72</td><td>Dominican-Republic</td><td>&lt;=50K</td></tr></tbody></table>"
      ]
     },
     "execution_count": 12,
     "metadata": {},
     "output_type": "execute_result"
    }
   ],
   "source": [
    "ML.context.Data.CreateEnumerable<AdultData>(trainData, reuseRowObject = false)\n",
    "|> Seq.take 3"
   ]
  },
  {
   "cell_type": "markdown",
   "metadata": {},
   "source": [
    "Now let's see what the data looks like after it has been transformed by our pipeline:"
   ]
  },
  {
   "cell_type": "code",
   "execution_count": 13,
   "metadata": {},
   "outputs": [
    {
     "data": {
      "text/html": [
       "<table><thead><tr><th><i>index</i></th><th>Target</th><th>Features</th><th>FeaturesNorm</th></tr></thead><tbody><tr><td>0</td><td>False</td><td>[ 24, 1, 0, 0, 0, 0, 0, 0, 0, 0 ... (73 more) ]</td><td>[ 0.26666668, 1, 0, 0, 0, 0, 0, 0, 0, 0 ... (73 more) ]</td></tr><tr><td>1</td><td>False</td><td>[ 33, 0, 1, 0, 0, 0, 0, 0, 0, 0 ... (73 more) ]</td><td>[ 0.36666667, 0, 1, 0, 0, 0, 0, 0, 0, 0 ... (73 more) ]</td></tr><tr><td>2</td><td>False</td><td>[ 23, 1, 0, 0, 0, 0, 0, 0, 0, 0 ... (73 more) ]</td><td>[ 0.25555557, 1, 0, 0, 0, 0, 0, 0, 0, 0 ... (73 more) ]</td></tr></tbody></table>"
      ]
     },
     "execution_count": 13,
     "metadata": {},
     "output_type": "execute_result"
    }
   ],
   "source": [
    "[<CLIMutable>]\n",
    "type AdultDataTransformed =\n",
    "    {\n",
    "        [<ColumnName(\"Label\")>]\n",
    "        Target : bool\n",
    "\n",
    "        [<VectorType(83)>]\n",
    "        Features : single[]\n",
    "\n",
    "        [<VectorType(83)>]\n",
    "        FeaturesNorm : single[]\n",
    "    }\n",
    "\n",
    "let transformedData =\n",
    "    trainData\n",
    "    |> ML.transform transformer\n",
    "\n",
    "ML.context.Data.CreateEnumerable<AdultDataTransformed>(transformedData, reuseRowObject = false)\n",
    "|> Seq.take 3"
   ]
  },
  {
   "cell_type": "markdown",
   "metadata": {},
   "source": [
    "Woah! Notice how there are 80+ columns after running the data through the pipeline! This is due to one-hot encoding which creates a new column for each discrete value in our categorical columns. Don't worry though, this is no problem for ML.NET which can deal with hundreds, even thousands of features in a dataset."
   ]
  },
  {
   "cell_type": "markdown",
   "metadata": {},
   "source": [
    "Now we will create a binary classification estimator. You can try different estimators to see how their accuracy differs."
   ]
  },
  {
   "cell_type": "code",
   "execution_count": 14,
   "metadata": {},
   "outputs": [],
   "source": [
    "let estimator =\n",
    "    ML.context.BinaryClassification.Trainers.SdcaLogisticRegression(featureColumnName = \"FeaturesNorm\")\n",
    "    |> ML.downcastEstimator"
   ]
  },
  {
   "cell_type": "markdown",
   "metadata": {},
   "source": [
    "Use cross-validation to select the best performing model. Along the way we will print the metrics for our model."
   ]
  },
  {
   "cell_type": "code",
   "execution_count": 15,
   "metadata": {},
   "outputs": [
    {
     "name": "stdout",
     "output_type": "stream",
     "text": [
      "------------------\n",
      "Cross Validation Metrics\n",
      "------------------\n",
      "Accuracy: 0.823474\n",
      "Area Under Roc Curve: 0.846644\n",
      "F1 Score: 0.561248\n"
     ]
    }
   ],
   "source": [
    "let model =\n",
    "    trainData // Begin with the training data\n",
    "    |> ML.transform transformer // Transform using the transformer built above\n",
    "    |> ML.crossValidateBinaryClassification estimator 3 // 3-fold cross-validation\n",
    "    |> ML.printBinaryClassificationCvMetrics // Print cross-fold metrics\n",
    "    |> Seq.maxBy (fun cvResult -> cvResult.Metrics.Accuracy) // Select the best model by Accuracy\n",
    "    |> fun cvResult -> cvResult.Model"
   ]
  },
  {
   "cell_type": "markdown",
   "metadata": {},
   "source": [
    "OK, now we can use our best model on the test data."
   ]
  },
  {
   "cell_type": "code",
   "execution_count": 16,
   "metadata": {},
   "outputs": [
    {
     "data": {
      "text/html": [
       "<table><thead><tr><th>LogLoss</th><th>LogLossReduction</th><th>Entropy</th><th>AreaUnderRocCurve</th><th>Accuracy</th><th>PositivePrecision</th><th>PositiveRecall</th><th>NegativePrecision</th><th>NegativeRecall</th><th>F1Score</th><th>AreaUnderPrecisionRecallCurve</th><th>ConfusionMatrix</th></tr></thead><tbody><tr><td>0.5666477233935161</td><td>0.28154958427367155</td><td>0.7887081849909641</td><td>0.8447904767819181</td><td>0.8220011055831952</td><td>0.6692857142857143</td><td>0.4872594903796152</td><td>0.8537200504413619</td><td>0.9255327704061118</td><td>0.563948239542582</td><td>0.6634202107906937</td><td>{ Microsoft.ML.Data.ConfusionMatrix: PerClassPrecision: [ 0.6692857142857143, 0.8537200504413619 ], PerClassRecall: [ 0.4872594903796152, 0.9255327704061118 ], Counts: [ [ 1874, 1972 ], [ 926, 11509 ] ], NumberOfClasses: 2 }</td></tr></tbody></table>"
      ]
     },
     "execution_count": 16,
     "metadata": {},
     "output_type": "execute_result"
    }
   ],
   "source": [
    "model\n",
    "|> ML.transform <| ML.transform transformer testData // Transform the test data and get predictions\n",
    "|> ML.context.BinaryClassification.Evaluate // Get test metrics"
   ]
  },
  {
   "cell_type": "markdown",
   "metadata": {},
   "source": [
    "Now let's pretend we have new data (for convenience we are just randomly re-sampling the test data) to see what predictions our model makes. You will see three properties for each prediction:\n",
    "- `Label`: the actual label (<=50K, >50K) from the example being predicted. Our model never sees this value but we show it below so that you can see how close the predicted number of rings are to the actual.\n",
    "- `Probability`: the probability that the model assigns to the predicted label. 0 would be the most probable `false` label while 1 would be the most probable `true` label.\n",
    "- `PredictedLabel`: this is the actual prediction made by the model.\n",
    "\n",
    "You can run this cell multiple times to get new random samples and their predictions!"
   ]
  },
  {
   "cell_type": "code",
   "execution_count": 17,
   "metadata": {},
   "outputs": [
    {
     "data": {
      "text/html": [
       "<table><thead><tr><th><i>index</i></th><th>Label</th><th>Probability</th><th>PredictedLabel</th></tr></thead><tbody><tr><td>0</td><td>True</td><td>0.0677757</td><td>False</td></tr><tr><td>1</td><td>False</td><td>0.04996717</td><td>False</td></tr><tr><td>2</td><td>False</td><td>0.06952896</td><td>False</td></tr><tr><td>3</td><td>False</td><td>0.02013277</td><td>False</td></tr><tr><td>4</td><td>False</td><td>0.2534104</td><td>False</td></tr></tbody></table>"
      ]
     },
     "execution_count": 17,
     "metadata": {},
     "output_type": "execute_result"
    }
   ],
   "source": [
    "[<CLIMutable>]\n",
    "type BinaryClassificationPrediction = { Label : bool; Probability : single; PredictedLabel : bool }\n",
    "\n",
    "let sampleData =\n",
    "    testData\n",
    "    |> ML.shuffle\n",
    "    |> ML.transform transformer\n",
    "\n",
    "let predictionEngine = ML.context.Model.CreatePredictionEngine<AdultDataTransformed, BinaryClassificationPrediction>(model)\n",
    "\n",
    "ML.context.Data.CreateEnumerable<AdultDataTransformed>(sampleData, reuseRowObject = false)\n",
    "|> Seq.take 5\n",
    "|> Seq.map predictionEngine.Predict"
   ]
  },
  {
   "cell_type": "code",
   "execution_count": null,
   "metadata": {},
   "outputs": [],
   "source": []
  }
 ],
 "metadata": {
  "kernelspec": {
   "display_name": ".NET (F#)",
   "language": "F#",
   "name": ".net-fsharp"
  },
  "language_info": {
   "file_extension": ".fs",
   "mimetype": "text/x-fsharp",
   "name": "C#",
   "pygments_lexer": "fsharp",
   "version": "4.5"
  }
 },
 "nbformat": 4,
 "nbformat_minor": 4
}
